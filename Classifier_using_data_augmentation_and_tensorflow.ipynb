{
  "nbformat": 4,
  "nbformat_minor": 0,
  "metadata": {
    "colab": {
      "name": "Classifier using data augmentation and tensorflow.ipynb",
      "provenance": [],
      "collapsed_sections": [],
      "toc_visible": true,
      "mount_file_id": "1OHGjFk3GGl9cPyfb0j5S9Tnshz2nwhy9",
      "authorship_tag": "ABX9TyOiXvo6TRNbJK15qekeiEcJ",
      "include_colab_link": true
    },
    "kernelspec": {
      "name": "python3",
      "display_name": "Python 3"
    },
    "accelerator": "TPU"
  },
  "cells": [
    {
      "cell_type": "markdown",
      "metadata": {
        "id": "view-in-github",
        "colab_type": "text"
      },
      "source": [
        "<a href=\"https://colab.research.google.com/github/Sagu12/all-projects/blob/master/Classifier_using_data_augmentation_and_tensorflow.ipynb\" target=\"_parent\"><img src=\"https://colab.research.google.com/assets/colab-badge.svg\" alt=\"Open In Colab\"/></a>"
      ]
    },
    {
      "cell_type": "code",
      "metadata": {
        "id": "hsTZ6Zg0qwpC",
        "colab_type": "code",
        "colab": {
          "base_uri": "https://localhost:8080/",
          "height": 34
        },
        "outputId": "0fee15ca-b208-459a-8e50-f58b4150cecc"
      },
      "source": [
        "!pip install pyforest"
      ],
      "execution_count": 5,
      "outputs": [
        {
          "output_type": "stream",
          "text": [
            "Requirement already satisfied: pyforest in /usr/local/lib/python3.6/dist-packages (1.0.3)\n"
          ],
          "name": "stdout"
        }
      ]
    },
    {
      "cell_type": "markdown",
      "metadata": {
        "id": "-UoH53GaAfhX",
        "colab_type": "text"
      },
      "source": [
        "#DATA PREPROCESSING\n",
        "\n",
        "1. READ THE PICTURE FILES\n",
        "\n",
        "2. DECODE THE JPEG IMAGES TO RGB COLOR CHANNELS\n",
        "\n",
        "3. CONVERT THESE INTO FLOATING POINT TENSORS\n",
        "\n",
        "4. RESCALE THE PIXEL VALUES OF THESE COLOR CHANNELS BETWEEN 0 AND 1 FROM 0 TO 255"
      ]
    },
    {
      "cell_type": "code",
      "metadata": {
        "id": "uIp2XXDM9yf6",
        "colab_type": "code",
        "colab": {}
      },
      "source": [
        "from pyforest import *"
      ],
      "execution_count": 6,
      "outputs": []
    },
    {
      "cell_type": "code",
      "metadata": {
        "id": "msalJUnC9yjf",
        "colab_type": "code",
        "colab": {}
      },
      "source": [
        "import tensorflow as tf\n",
        "\n",
        "from tensorflow import keras"
      ],
      "execution_count": 7,
      "outputs": []
    },
    {
      "cell_type": "code",
      "metadata": {
        "id": "7GRk86Ar9yqt",
        "colab_type": "code",
        "colab": {}
      },
      "source": [
        "train_dir= \"/content/drive/My Drive/train\"\n",
        "\n",
        "test_dir= \"/content/drive/My Drive/test\"\n",
        "\n",
        "validartion_dir= \"/content/drive/My Drive/validation\""
      ],
      "execution_count": 8,
      "outputs": []
    },
    {
      "cell_type": "code",
      "metadata": {
        "id": "NycVBK2L9ywg",
        "colab_type": "code",
        "colab": {
          "base_uri": "https://localhost:8080/",
          "height": 34
        },
        "outputId": "a8eeafa8-1119-49b9-e82c-11edca07c868"
      },
      "source": [
        "from keras.preprocessing.image import ImageDataGenerator"
      ],
      "execution_count": 9,
      "outputs": [
        {
          "output_type": "stream",
          "text": [
            "Using TensorFlow backend.\n"
          ],
          "name": "stderr"
        }
      ]
    },
    {
      "cell_type": "code",
      "metadata": {
        "id": "AnWGweeR9y0h",
        "colab_type": "code",
        "colab": {}
      },
      "source": [
        "#generating batches of tensor image data"
      ],
      "execution_count": null,
      "outputs": []
    },
    {
      "cell_type": "code",
      "metadata": {
        "id": "3WzP_haX9yuH",
        "colab_type": "code",
        "colab": {
          "base_uri": "https://localhost:8080/",
          "height": 51
        },
        "outputId": "4304e169-d0ec-48f7-c6d3-1976d70951cc"
      },
      "source": [
        "train_datagen= ImageDataGenerator(rescale= 1./255,shear_range= 0.2,zoom_range= 0.2,horizontal_flip= True)\n",
        "\n",
        "test_datagen= ImageDataGenerator(rescale= 1./255)\n",
        "\n",
        "train_generator= train_datagen.flow_from_directory(train_dir, target_size=(150,150), batch_size=20, class_mode=\"binary\")\n",
        "\n",
        "validation_generator= test_datagen.flow_from_directory(test_dir, target_size= (150,150),batch_size=20, class_mode=\"binary\")"
      ],
      "execution_count": 10,
      "outputs": [
        {
          "output_type": "stream",
          "text": [
            "Found 2000 images belonging to 2 classes.\n",
            "Found 1000 images belonging to 2 classes.\n"
          ],
          "name": "stdout"
        }
      ]
    },
    {
      "cell_type": "code",
      "metadata": {
        "id": "4-uFxrlr9ynz",
        "colab_type": "code",
        "colab": {}
      },
      "source": [
        "from keras.models import Sequential\n",
        "\n",
        "from keras.layers import Dense, MaxPooling2D, Flatten, Conv2D, Dropout"
      ],
      "execution_count": 11,
      "outputs": []
    },
    {
      "cell_type": "code",
      "metadata": {
        "id": "ou2AUSPaEL56",
        "colab_type": "code",
        "colab": {}
      },
      "source": [
        "input_shape=(150,150,3)\n",
        "model= Sequential()\n",
        "model.add(Conv2D(32, (3,3), activation=\"relu\", input_shape=input_shape))\n",
        "model.add(MaxPooling2D(2,2))\n",
        "\n",
        "model.add(Conv2D(64,(3,3), activation=\"relu\"))\n",
        "model.add(MaxPooling2D(2,2))\n",
        "\n",
        "model.add(Conv2D(128, (3,3), activation=\"relu\"))\n",
        "model.add(MaxPooling2D(2,2))\n",
        "\n",
        "model.add(Flatten())\n",
        "\n",
        "model.add(Dense(512, activation=\"relu\"))\n",
        "model.add(Dropout(0.3))\n",
        "\n",
        "model.add(Dense(1, activation=\"sigmoid\"))"
      ],
      "execution_count": 12,
      "outputs": []
    },
    {
      "cell_type": "code",
      "metadata": {
        "id": "Pk-uQgNkEMAL",
        "colab_type": "code",
        "colab": {
          "base_uri": "https://localhost:8080/",
          "height": 493
        },
        "outputId": "fd89db64-dab3-4202-bcfd-87b708c88ad7"
      },
      "source": [
        "model.summary()"
      ],
      "execution_count": 9,
      "outputs": [
        {
          "output_type": "stream",
          "text": [
            "Model: \"sequential_1\"\n",
            "_________________________________________________________________\n",
            "Layer (type)                 Output Shape              Param #   \n",
            "=================================================================\n",
            "conv2d_1 (Conv2D)            (None, 148, 148, 32)      896       \n",
            "_________________________________________________________________\n",
            "max_pooling2d_1 (MaxPooling2 (None, 74, 74, 32)        0         \n",
            "_________________________________________________________________\n",
            "conv2d_2 (Conv2D)            (None, 72, 72, 64)        18496     \n",
            "_________________________________________________________________\n",
            "max_pooling2d_2 (MaxPooling2 (None, 36, 36, 64)        0         \n",
            "_________________________________________________________________\n",
            "conv2d_3 (Conv2D)            (None, 34, 34, 128)       73856     \n",
            "_________________________________________________________________\n",
            "max_pooling2d_3 (MaxPooling2 (None, 17, 17, 128)       0         \n",
            "_________________________________________________________________\n",
            "flatten_1 (Flatten)          (None, 36992)             0         \n",
            "_________________________________________________________________\n",
            "dense_1 (Dense)              (None, 512)               18940416  \n",
            "_________________________________________________________________\n",
            "dropout_1 (Dropout)          (None, 512)               0         \n",
            "_________________________________________________________________\n",
            "dense_2 (Dense)              (None, 1)                 513       \n",
            "=================================================================\n",
            "Total params: 19,034,177\n",
            "Trainable params: 19,034,177\n",
            "Non-trainable params: 0\n",
            "_________________________________________________________________\n"
          ],
          "name": "stdout"
        }
      ]
    },
    {
      "cell_type": "code",
      "metadata": {
        "id": "RkIS9ulXEMKV",
        "colab_type": "code",
        "colab": {}
      },
      "source": [
        "model.compile(optimizer=\"adam\", loss=\"binary_crossentropy\", metrics=[\"acc\"])"
      ],
      "execution_count": 13,
      "outputs": []
    },
    {
      "cell_type": "code",
      "metadata": {
        "id": "GN_I5EDFuCXy",
        "colab_type": "code",
        "colab": {
          "base_uri": "https://localhost:8080/",
          "height": 34
        },
        "outputId": "e61af8c6-e601-415a-bcc5-0b0cad98c74e"
      },
      "source": [
        "import os \n",
        "\n",
        "if 'COLAB_TPU_ADDR' not in os.environ: \n",
        "  print('Not connected to TPU') \n",
        "else: \n",
        "  print(\"Connected to TPU\")\n"
      ],
      "execution_count": 14,
      "outputs": [
        {
          "output_type": "stream",
          "text": [
            "Connected to TPU\n"
          ],
          "name": "stdout"
        }
      ]
    },
    {
      "cell_type": "markdown",
      "metadata": {
        "id": "jcjgzlm3IWaa",
        "colab_type": "text"
      },
      "source": [
        "your image size should decrease in each conv layer and feature map size should increase and also double the filters in each conv layer"
      ]
    },
    {
      "cell_type": "code",
      "metadata": {
        "id": "8C2CBJJkEMIU",
        "colab_type": "code",
        "colab": {
          "base_uri": "https://localhost:8080/",
          "height": 714
        },
        "outputId": "e485c145-a81b-46a4-d85b-54cdbbb600b6"
      },
      "source": [
        "model.fit_generator(train_generator, steps_per_epoch=100, epochs=20, \n",
        "                    validation_data=validation_generator, validation_steps=50)"
      ],
      "execution_count": 15,
      "outputs": [
        {
          "output_type": "stream",
          "text": [
            "Epoch 1/20\n",
            "100/100 [==============================] - 878s 9s/step - loss: 0.7300 - acc: 0.5415 - val_loss: 0.6905 - val_acc: 0.5770\n",
            "Epoch 2/20\n",
            "100/100 [==============================] - 123s 1s/step - loss: 0.6588 - acc: 0.6400 - val_loss: 0.6864 - val_acc: 0.6110\n",
            "Epoch 3/20\n",
            "100/100 [==============================] - 122s 1s/step - loss: 0.6359 - acc: 0.6400 - val_loss: 0.7389 - val_acc: 0.6120\n",
            "Epoch 4/20\n",
            "100/100 [==============================] - 122s 1s/step - loss: 0.5887 - acc: 0.6935 - val_loss: 0.7523 - val_acc: 0.6690\n",
            "Epoch 5/20\n",
            "100/100 [==============================] - 122s 1s/step - loss: 0.5786 - acc: 0.6985 - val_loss: 0.8233 - val_acc: 0.6880\n",
            "Epoch 6/20\n",
            "100/100 [==============================] - 122s 1s/step - loss: 0.5490 - acc: 0.7270 - val_loss: 0.7333 - val_acc: 0.6650\n",
            "Epoch 7/20\n",
            "100/100 [==============================] - 122s 1s/step - loss: 0.5340 - acc: 0.7335 - val_loss: 0.5154 - val_acc: 0.7320\n",
            "Epoch 8/20\n",
            "100/100 [==============================] - 122s 1s/step - loss: 0.5178 - acc: 0.7485 - val_loss: 0.4810 - val_acc: 0.7380\n",
            "Epoch 9/20\n",
            "100/100 [==============================] - 122s 1s/step - loss: 0.4931 - acc: 0.7750 - val_loss: 0.5964 - val_acc: 0.7230\n",
            "Epoch 10/20\n",
            "100/100 [==============================] - 122s 1s/step - loss: 0.4727 - acc: 0.7735 - val_loss: 0.5451 - val_acc: 0.7380\n",
            "Epoch 11/20\n",
            "100/100 [==============================] - 123s 1s/step - loss: 0.4570 - acc: 0.7835 - val_loss: 0.3669 - val_acc: 0.7290\n",
            "Epoch 12/20\n",
            "100/100 [==============================] - 122s 1s/step - loss: 0.4253 - acc: 0.8065 - val_loss: 0.6229 - val_acc: 0.7560\n",
            "Epoch 13/20\n",
            "100/100 [==============================] - 123s 1s/step - loss: 0.4204 - acc: 0.8065 - val_loss: 0.7262 - val_acc: 0.7660\n",
            "Epoch 14/20\n",
            "100/100 [==============================] - 123s 1s/step - loss: 0.3899 - acc: 0.8275 - val_loss: 0.4560 - val_acc: 0.7590\n",
            "Epoch 15/20\n",
            "100/100 [==============================] - 123s 1s/step - loss: 0.3720 - acc: 0.8290 - val_loss: 0.7101 - val_acc: 0.7520\n",
            "Epoch 16/20\n",
            "100/100 [==============================] - 122s 1s/step - loss: 0.3579 - acc: 0.8340 - val_loss: 0.6257 - val_acc: 0.7710\n",
            "Epoch 17/20\n",
            "100/100 [==============================] - 121s 1s/step - loss: 0.3193 - acc: 0.8675 - val_loss: 0.3404 - val_acc: 0.7600\n",
            "Epoch 18/20\n",
            "100/100 [==============================] - 121s 1s/step - loss: 0.3130 - acc: 0.8645 - val_loss: 0.6244 - val_acc: 0.7780\n",
            "Epoch 19/20\n",
            "100/100 [==============================] - 122s 1s/step - loss: 0.3002 - acc: 0.8650 - val_loss: 0.6955 - val_acc: 0.7730\n",
            "Epoch 20/20\n",
            "100/100 [==============================] - 122s 1s/step - loss: 0.2666 - acc: 0.8825 - val_loss: 0.6445 - val_acc: 0.7710\n"
          ],
          "name": "stdout"
        },
        {
          "output_type": "execute_result",
          "data": {
            "text/plain": [
              "<keras.callbacks.callbacks.History at 0x7fe8fc773f28>"
            ]
          },
          "metadata": {
            "tags": []
          },
          "execution_count": 15
        }
      ]
    },
    {
      "cell_type": "code",
      "metadata": {
        "id": "KYmEY6ZhEMFc",
        "colab_type": "code",
        "colab": {}
      },
      "source": [
        "model.save(\"model.h5\")"
      ],
      "execution_count": 16,
      "outputs": []
    },
    {
      "cell_type": "markdown",
      "metadata": {
        "id": "rd01-z98zE17",
        "colab_type": "text"
      },
      "source": [
        "#https://www.geeksforgeeks.org/ml-swish-function-by-google-in-keras/?ref=rp"
      ]
    },
    {
      "cell_type": "code",
      "metadata": {
        "id": "cCe9UMhFaeyd",
        "colab_type": "code",
        "colab": {
          "base_uri": "https://localhost:8080/",
          "height": 34
        },
        "outputId": "f3ae975c-37b0-4c3a-a935-c8d0f1dadb12"
      },
      "source": [
        "val_loss,val_acc= model.evaluate(validation_generator)"
      ],
      "execution_count": 17,
      "outputs": [
        {
          "output_type": "stream",
          "text": [
            "50/50 [==============================] - 13s 269ms/step\n"
          ],
          "name": "stdout"
        }
      ]
    },
    {
      "cell_type": "code",
      "metadata": {
        "id": "68KBow707F_d",
        "colab_type": "code",
        "colab": {
          "base_uri": "https://localhost:8080/",
          "height": 34
        },
        "outputId": "28d668af-d38f-4ac4-a899-63622fedb9e0"
      },
      "source": [
        "val_acc, val_loss"
      ],
      "execution_count": 18,
      "outputs": [
        {
          "output_type": "execute_result",
          "data": {
            "text/plain": [
              "(0.7710000276565552, 0.4535302221775055)"
            ]
          },
          "metadata": {
            "tags": []
          },
          "execution_count": 18
        }
      ]
    }
  ]
}