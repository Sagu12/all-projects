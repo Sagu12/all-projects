{
  "nbformat": 4,
  "nbformat_minor": 0,
  "metadata": {
    "colab": {
      "name": "Functions_positional_and_keyword_arguments.ipynb",
      "provenance": [],
      "collapsed_sections": [],
      "authorship_tag": "ABX9TyMWbjTVFZPuI6gK2K6Jez9U",
      "include_colab_link": true
    },
    "kernelspec": {
      "name": "python3",
      "display_name": "Python 3"
    }
  },
  "cells": [
    {
      "cell_type": "markdown",
      "metadata": {
        "id": "view-in-github",
        "colab_type": "text"
      },
      "source": [
        "<a href=\"https://colab.research.google.com/github/Sagu12/all-projects/blob/master/Functions_positional_and_keyword_arguments.ipynb\" target=\"_parent\"><img src=\"https://colab.research.google.com/assets/colab-badge.svg\" alt=\"Open In Colab\"/></a>"
      ]
    },
    {
      "cell_type": "code",
      "metadata": {
        "id": "ao3fqEYarKwN",
        "colab_type": "code",
        "colab": {}
      },
      "source": [
        ""
      ],
      "execution_count": null,
      "outputs": []
    },
    {
      "cell_type": "markdown",
      "metadata": {
        "id": "kSrmVFhRIOHf",
        "colab_type": "text"
      },
      "source": [
        "#What is a function?\n",
        "\n",
        "A function is a method to write python code in such a manner that it becomes reusable by others when they want to execute a certain code using the function.\n",
        "for eg: print is a function that is used by each and every python developer to get the desired output.\n",
        "\n",
        "#Difference between print and return?\n",
        "\n",
        "the major difference between print and return is that print doesn't returns anything when the function is executed and then contained in a variable. for eg: if a function is created say\n",
        "\n",
        "def sum(num1,num2):\n",
        "\n",
        "    print (num1 + num2)\n",
        "\n",
        "val= sum(24,32)\n",
        "\n",
        "then here it will return none if we will try to print the value of val\n",
        "\n",
        "but if did the same thing using return statement then it would have returned the sum of the numbers.\n",
        "\n",
        "So, it can be concluded that print only gives output for a function execution  whereas return makes the function executional in different ways by assigning different variables."
      ]
    },
    {
      "cell_type": "code",
      "metadata": {
        "id": "FbHmA1QXKB3a",
        "colab_type": "code",
        "colab": {}
      },
      "source": [
        ""
      ],
      "execution_count": null,
      "outputs": []
    },
    {
      "cell_type": "markdown",
      "metadata": {
        "id": "U2NVr-hGLDjd",
        "colab_type": "text"
      },
      "source": [
        "#What is positional argument and keyword argument?\n",
        "\n",
        "An example is listed below to get a better understanding of the two"
      ]
    },
    {
      "cell_type": "code",
      "metadata": {
        "id": "Rb9fm8uaLNmG",
        "colab_type": "code",
        "colab": {}
      },
      "source": [
        "def hello(name,age=25):\n",
        "  print(\"my name is {} and my age is {}\".format(name,age))\n",
        "\n",
        "  "
      ],
      "execution_count": 2,
      "outputs": []
    },
    {
      "cell_type": "code",
      "metadata": {
        "id": "JauXRTDZMHol",
        "colab_type": "code",
        "colab": {
          "base_uri": "https://localhost:8080/",
          "height": 34
        },
        "outputId": "a4056b7c-f133-4203-a5ca-1182312d58b1"
      },
      "source": [
        "hello(\"sagnik\")"
      ],
      "execution_count": 3,
      "outputs": [
        {
          "output_type": "stream",
          "text": [
            "my name is sagnik and my age is 25\n"
          ],
          "name": "stdout"
        }
      ]
    },
    {
      "cell_type": "code",
      "metadata": {
        "id": "Ghfvx6u6ML1S",
        "colab_type": "code",
        "colab": {}
      },
      "source": [
        "#so here we can see that name becomes the positional argument as we need to specify its value to our function but age is a keyword argument because it is in the form of key value pair and if we not specify our custom value then it will take the age as 25 by default"
      ],
      "execution_count": 4,
      "outputs": []
    },
    {
      "cell_type": "code",
      "metadata": {
        "id": "7evdTuiuMjEq",
        "colab_type": "code",
        "colab": {}
      },
      "source": [
        "def hello(*args,**kwargs):\n",
        "  print(args)\n",
        "  print(kwargs)"
      ],
      "execution_count": 5,
      "outputs": []
    },
    {
      "cell_type": "code",
      "metadata": {
        "id": "GdifGU_8NURn",
        "colab_type": "code",
        "colab": {
          "base_uri": "https://localhost:8080/",
          "height": 51
        },
        "outputId": "d31dd566-a3a0-429a-ed61-4198664c9fca"
      },
      "source": [
        "hello(\"Sagnik\",\"Banerjee\", age=25,dob=1995)"
      ],
      "execution_count": 6,
      "outputs": [
        {
          "output_type": "stream",
          "text": [
            "('Sagnik', 'Banerjee')\n",
            "{'age': 25, 'dob': 1995}\n"
          ],
          "name": "stdout"
        }
      ]
    },
    {
      "cell_type": "code",
      "metadata": {
        "id": "VgbUWLQoOFa5",
        "colab_type": "code",
        "colab": {}
      },
      "source": [
        "#another way of doing the same thing above"
      ],
      "execution_count": null,
      "outputs": []
    },
    {
      "cell_type": "code",
      "metadata": {
        "id": "3iKChCR9Nfhq",
        "colab_type": "code",
        "colab": {
          "base_uri": "https://localhost:8080/",
          "height": 51
        },
        "outputId": "aa3622b7-895a-4de0-c8b2-359929ab9b90"
      },
      "source": [
        "hello(*[\"Sagnik\",\"Banerjee\"], **{\"age\":25,\"dob\":1995})"
      ],
      "execution_count": 10,
      "outputs": [
        {
          "output_type": "stream",
          "text": [
            "('Sagnik', 'Banerjee')\n",
            "{'age': 25, 'dob': 1995}\n"
          ],
          "name": "stdout"
        }
      ]
    },
    {
      "cell_type": "code",
      "metadata": {
        "id": "vOvxPG0AOJsO",
        "colab_type": "code",
        "colab": {}
      },
      "source": [
        ""
      ],
      "execution_count": null,
      "outputs": []
    },
    {
      "cell_type": "code",
      "metadata": {
        "id": "e65iwtixOoiO",
        "colab_type": "code",
        "colab": {}
      },
      "source": [
        "lst=[1,2,3,4,5,6,7,8,9]"
      ],
      "execution_count": 11,
      "outputs": []
    },
    {
      "cell_type": "code",
      "metadata": {
        "id": "_U1hdFRSOsTE",
        "colab_type": "code",
        "colab": {}
      },
      "source": [
        "def evenoddsum(lst):\n",
        "  even_sum=0\n",
        "  odd_sum=0\n",
        "\n",
        "  for i in lst:\n",
        "    if i%2==0:\n",
        "\n",
        "      even_sum= even_sum + i\n",
        "\n",
        "    else:\n",
        "\n",
        "      odd_sum= odd_sum + i\n",
        "\n",
        "  return even_sum, odd_sum\n",
        "\n",
        "    "
      ],
      "execution_count": 13,
      "outputs": []
    },
    {
      "cell_type": "code",
      "metadata": {
        "id": "vYpFk6gNQldQ",
        "colab_type": "code",
        "colab": {
          "base_uri": "https://localhost:8080/",
          "height": 34
        },
        "outputId": "45c91a79-3692-4842-c283-202bb154c408"
      },
      "source": [
        "evenoddsum(lst)"
      ],
      "execution_count": 14,
      "outputs": [
        {
          "output_type": "execute_result",
          "data": {
            "text/plain": [
              "(20, 25)"
            ]
          },
          "metadata": {
            "tags": []
          },
          "execution_count": 14
        }
      ]
    },
    {
      "cell_type": "code",
      "metadata": {
        "id": "vRhIvBFRQPLI",
        "colab_type": "code",
        "colab": {}
      },
      "source": [
        ""
      ],
      "execution_count": null,
      "outputs": []
    }
  ]
}