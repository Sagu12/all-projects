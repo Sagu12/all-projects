{
  "nbformat": 4,
  "nbformat_minor": 0,
  "metadata": {
    "colab": {
      "name": "GEOCODER AND PAFFY.ipynb",
      "provenance": [],
      "collapsed_sections": [],
      "authorship_tag": "ABX9TyP7qmiz5UWKw7OAYq0Se050",
      "include_colab_link": true
    },
    "kernelspec": {
      "name": "python3",
      "display_name": "Python 3"
    }
  },
  "cells": [
    {
      "cell_type": "markdown",
      "metadata": {
        "id": "view-in-github",
        "colab_type": "text"
      },
      "source": [
        "<a href=\"https://colab.research.google.com/github/Sagu12/all-projects/blob/master/GEOCODER_AND_PAFFY.ipynb\" target=\"_parent\"><img src=\"https://colab.research.google.com/assets/colab-badge.svg\" alt=\"Open In Colab\"/></a>"
      ]
    },
    {
      "cell_type": "code",
      "metadata": {
        "id": "bL32tquWXfMK",
        "colab_type": "code",
        "colab": {}
      },
      "source": [
        "import geocoder"
      ],
      "execution_count": 0,
      "outputs": []
    },
    {
      "cell_type": "code",
      "metadata": {
        "id": "AmohsOjEXweX",
        "colab_type": "code",
        "colab": {}
      },
      "source": [
        "!pip install geocoder"
      ],
      "execution_count": 0,
      "outputs": []
    },
    {
      "cell_type": "code",
      "metadata": {
        "id": "8oe5FOEkX4lH",
        "colab_type": "code",
        "colab": {
          "base_uri": "https://localhost:8080/",
          "height": 34
        },
        "outputId": "42edc5a2-3fc8-4b72-c079-3759ad86bee9"
      },
      "source": [
        "ipadress= geocoder.ip(location=\"\")\n",
        "print(ipadress)"
      ],
      "execution_count": 19,
      "outputs": [
        {
          "output_type": "stream",
          "text": [
            "<[OK] Ipinfo - Geocode [New York City, New York, US]>\n"
          ],
          "name": "stdout"
        }
      ]
    },
    {
      "cell_type": "code",
      "metadata": {
        "id": "ygMXg-RuZ2qY",
        "colab_type": "code",
        "colab": {}
      },
      "source": [
        ""
      ],
      "execution_count": 0,
      "outputs": []
    },
    {
      "cell_type": "code",
      "metadata": {
        "id": "Suw3KFMybIq-",
        "colab_type": "code",
        "colab": {}
      },
      "source": [
        "#used to youtube description of videos"
      ],
      "execution_count": 0,
      "outputs": []
    },
    {
      "cell_type": "code",
      "metadata": {
        "id": "DIk2C7HabtIi",
        "colab_type": "code",
        "colab": {}
      },
      "source": [
        "import pafy"
      ],
      "execution_count": 0,
      "outputs": []
    },
    {
      "cell_type": "code",
      "metadata": {
        "id": "DOHOQCiyaccG",
        "colab_type": "code",
        "colab": {}
      },
      "source": [
        "url= \"https://www.youtube.com/watch?v=xneE-H2W4eQ&list=PL4uwvcIXUcy2vYDwP-7g2W5r4Ha_Wqobj&index=54\"\n",
        "\n",
        "video= pafy.new(url)\n",
        "\n",
        "print(video.title)\n",
        "\n",
        "print(video.viewcount)\n",
        "\n",
        "print(video.author)\n",
        "\n",
        "print(video.duration)\n",
        "\n",
        "print(video.likes)\n",
        "\n",
        "print(video.description)"
      ],
      "execution_count": 0,
      "outputs": []
    },
    {
      "cell_type": "code",
      "metadata": {
        "id": "3f8fQWV9YWwf",
        "colab_type": "code",
        "colab": {}
      },
      "source": [
        ""
      ],
      "execution_count": 0,
      "outputs": []
    }
  ]
}