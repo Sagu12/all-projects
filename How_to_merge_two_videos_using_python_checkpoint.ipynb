{
  "nbformat": 4,
  "nbformat_minor": 0,
  "metadata": {
    "colab": {
      "name": "How to merge two videos using python-checkpoint.ipynb",
      "provenance": [],
      "include_colab_link": true
    },
    "kernelspec": {
      "name": "python3",
      "display_name": "Python 3"
    }
  },
  "cells": [
    {
      "cell_type": "markdown",
      "metadata": {
        "id": "view-in-github",
        "colab_type": "text"
      },
      "source": [
        "<a href=\"https://colab.research.google.com/github/Sagu12/all-projects/blob/master/How_to_merge_two_videos_using_python_checkpoint.ipynb\" target=\"_parent\"><img src=\"https://colab.research.google.com/assets/colab-badge.svg\" alt=\"Open In Colab\"/></a>"
      ]
    },
    {
      "cell_type": "code",
      "metadata": {
        "id": "jij5knNuEVK3",
        "colab_type": "code",
        "colab": {}
      },
      "source": [
        "from moviepy.editor import VideoFileClip, concatenate_videoclips, CompositeVideoClipClip"
      ],
      "execution_count": null,
      "outputs": []
    },
    {
      "cell_type": "code",
      "metadata": {
        "id": "y9crAWflEX09",
        "colab_type": "code",
        "colab": {}
      },
      "source": [
        "#loading videos\n",
        "\n",
        "clip1= VideoFileClip(\"1.mp4\")\n",
        "clip2= VideoFileClip(\"2.mp4\")\n",
        "\n"
      ],
      "execution_count": null,
      "outputs": []
    },
    {
      "cell_type": "code",
      "metadata": {
        "id": "S7kiGK9yEaUK",
        "colab_type": "code",
        "colab": {}
      },
      "source": [
        "#write and save the final merged videos\n",
        "\n",
        "final_clip= concatenate_videoclips([clip1,clip2])\n",
        "\n",
        "final_clip.write_videofile(\"new.mp4\")"
      ],
      "execution_count": null,
      "outputs": []
    }
  ]
}