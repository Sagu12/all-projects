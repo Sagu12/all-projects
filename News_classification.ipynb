{
  "nbformat": 4,
  "nbformat_minor": 0,
  "metadata": {
    "colab": {
      "name": "News_classification.ipynb",
      "provenance": [],
      "collapsed_sections": [],
      "mount_file_id": "1DSV0LIhMewsziH6_OTHt7WPGwS8nQ9yI",
      "authorship_tag": "ABX9TyPS5cRRtDIZvA9dt0XZuyd4",
      "include_colab_link": true
    },
    "kernelspec": {
      "name": "python3",
      "display_name": "Python 3"
    }
  },
  "cells": [
    {
      "cell_type": "markdown",
      "metadata": {
        "id": "view-in-github",
        "colab_type": "text"
      },
      "source": [
        "<a href=\"https://colab.research.google.com/github/Sagu12/all-projects/blob/master/News_classification.ipynb\" target=\"_parent\"><img src=\"https://colab.research.google.com/assets/colab-badge.svg\" alt=\"Open In Colab\"/></a>"
      ]
    },
    {
      "cell_type": "code",
      "metadata": {
        "id": "fvMxKShn2amD"
      },
      "source": [
        "df= pd.read_json(\"/content/drive/MyDrive/enhanceduserdatabeta1.json\", lines=True)"
      ],
      "execution_count": 2,
      "outputs": []
    },
    {
      "cell_type": "code",
      "metadata": {
        "colab": {
          "base_uri": "https://localhost:8080/",
          "height": 105
        },
        "id": "t7318Ama2aqC",
        "outputId": "617ebd47-f12b-4346-ad32-989058e0fa4d"
      },
      "source": [
        "df.head(2)"
      ],
      "execution_count": 3,
      "outputs": [
        {
          "output_type": "execute_result",
          "data": {
            "text/html": [
              "<div>\n",
              "<style scoped>\n",
              "    .dataframe tbody tr th:only-of-type {\n",
              "        vertical-align: middle;\n",
              "    }\n",
              "\n",
              "    .dataframe tbody tr th {\n",
              "        vertical-align: top;\n",
              "    }\n",
              "\n",
              "    .dataframe thead th {\n",
              "        text-align: right;\n",
              "    }\n",
              "</style>\n",
              "<table border=\"1\" class=\"dataframe\">\n",
              "  <thead>\n",
              "    <tr style=\"text-align: right;\">\n",
              "      <th></th>\n",
              "      <th>_index</th>\n",
              "      <th>_type</th>\n",
              "      <th>_id</th>\n",
              "      <th>_score</th>\n",
              "      <th>_source</th>\n",
              "    </tr>\n",
              "  </thead>\n",
              "  <tbody>\n",
              "    <tr>\n",
              "      <th>0</th>\n",
              "      <td>enhanceduserdatabeta1</td>\n",
              "      <td>core2</td>\n",
              "      <td>AXGicw8zutugd-ZqVCZf</td>\n",
              "      <td>1</td>\n",
              "      <td>{'publisher_id': '49491', 'date': '2020-04-22'...</td>\n",
              "    </tr>\n",
              "    <tr>\n",
              "      <th>1</th>\n",
              "      <td>enhanceduserdatabeta1</td>\n",
              "      <td>core2</td>\n",
              "      <td>AXGidE5mCFpND4aqB9Bq</td>\n",
              "      <td>1</td>\n",
              "      <td>{'publisher_id': '49491', 'date': '2020-04-22'...</td>\n",
              "    </tr>\n",
              "  </tbody>\n",
              "</table>\n",
              "</div>"
            ],
            "text/plain": [
              "                  _index  ...                                            _source\n",
              "0  enhanceduserdatabeta1  ...  {'publisher_id': '49491', 'date': '2020-04-22'...\n",
              "1  enhanceduserdatabeta1  ...  {'publisher_id': '49491', 'date': '2020-04-22'...\n",
              "\n",
              "[2 rows x 5 columns]"
            ]
          },
          "metadata": {
            "tags": []
          },
          "execution_count": 3
        }
      ]
    },
    {
      "cell_type": "code",
      "metadata": {
        "id": "dG1C5FYA2auF"
      },
      "source": [
        "source=pd.json_normalize(df._source)"
      ],
      "execution_count": 4,
      "outputs": []
    },
    {
      "cell_type": "code",
      "metadata": {
        "id": "_AAw358t2axV"
      },
      "source": [
        "con= pd.concat([df, source], axis=1)"
      ],
      "execution_count": 5,
      "outputs": []
    },
    {
      "cell_type": "code",
      "metadata": {
        "id": "u6kWEuGi2a0y"
      },
      "source": [
        "con= con.drop(\"_source\", axis=1)"
      ],
      "execution_count": 6,
      "outputs": []
    },
    {
      "cell_type": "code",
      "metadata": {
        "id": "x7f_xv1d2a4I"
      },
      "source": [
        "con[\"refcurrentoriginal\"]= con[\"refcurrentoriginal\"].astype(\"str\")"
      ],
      "execution_count": 7,
      "outputs": []
    },
    {
      "cell_type": "code",
      "metadata": {
        "id": "he7Z1Gzn2bJi"
      },
      "source": [
        "con['result'] = con['refcurrentoriginal'].map(lambda x: x.lstrip('https://m. www').rstrip('aAbBcC'))"
      ],
      "execution_count": 8,
      "outputs": []
    },
    {
      "cell_type": "code",
      "metadata": {
        "id": "Z2qAC6_d2bMm"
      },
      "source": [
        "ps= WordNetLemmatizer()\r\n",
        "corpus=[]\r\n",
        "for i in range(0,len(con)):\r\n",
        "  print(i)\r\n",
        "  review= re.sub(\"[^a-zA-Z]\", \" \", con[\"result\"][i])\r\n",
        "  review= review.lower()\r\n",
        "  review= review.split()\r\n",
        "  review= [ps.lemmatize(word) for word in review if not word in stopwords.words(\"english\")]\r\n",
        "  review= \" \".join(review)\r\n",
        "  corpus.append(review)"
      ],
      "execution_count": null,
      "outputs": []
    },
    {
      "cell_type": "code",
      "metadata": {
        "id": "DUbLVD_92bQB"
      },
      "source": [
        "con[\"actual_news\"]= corpus\r\n",
        "\r\n",
        "con.drop([\"result\", \"refcurrentoriginal\"], axis=1, inplace=True)"
      ],
      "execution_count": 10,
      "outputs": []
    },
    {
      "cell_type": "code",
      "metadata": {
        "id": "jA1zQp1S4xjU"
      },
      "source": [
        "con_updated= con[[\"ip\",\"engagementTime\",\"gender\",\"visitor_id\",\"actual_news\",\"audience_segment\"]]"
      ],
      "execution_count": 11,
      "outputs": []
    },
    {
      "cell_type": "code",
      "metadata": {
        "colab": {
          "base_uri": "https://localhost:8080/",
          "height": 121
        },
        "id": "BcVnteYH4xo0",
        "outputId": "2dbf451e-50db-4cb5-f3b1-d8e1c1e23881"
      },
      "source": [
        "con_updated.head(2)"
      ],
      "execution_count": 12,
      "outputs": [
        {
          "output_type": "execute_result",
          "data": {
            "text/html": [
              "<div>\n",
              "<style scoped>\n",
              "    .dataframe tbody tr th:only-of-type {\n",
              "        vertical-align: middle;\n",
              "    }\n",
              "\n",
              "    .dataframe tbody tr th {\n",
              "        vertical-align: top;\n",
              "    }\n",
              "\n",
              "    .dataframe thead th {\n",
              "        text-align: right;\n",
              "    }\n",
              "</style>\n",
              "<table border=\"1\" class=\"dataframe\">\n",
              "  <thead>\n",
              "    <tr style=\"text-align: right;\">\n",
              "      <th></th>\n",
              "      <th>ip</th>\n",
              "      <th>engagementTime</th>\n",
              "      <th>gender</th>\n",
              "      <th>visitor_id</th>\n",
              "      <th>actual_news</th>\n",
              "      <th>audience_segment</th>\n",
              "    </tr>\n",
              "  </thead>\n",
              "  <tbody>\n",
              "    <tr>\n",
              "      <th>0</th>\n",
              "      <td>2409:4052:887:1836:1d8f:8a33:34b5:f29d, 64.233...</td>\n",
              "      <td>6.0</td>\n",
              "      <td>female</td>\n",
              "      <td>e9b7951d-f0fd-4c1b-88b3-4289eda2fb78</td>\n",
              "      <td>aajtak khabare ab tak story caste based census...</td>\n",
              "      <td></td>\n",
              "    </tr>\n",
              "    <tr>\n",
              "      <th>1</th>\n",
              "      <td>2405:204:1299:b635:7e57:1081:c615:95d9, 64.233...</td>\n",
              "      <td>1.0</td>\n",
              "      <td>male</td>\n",
              "      <td>754cc585-b30e-4b62-9288-9fedfdc42684</td>\n",
              "      <td>aajtak karyakrams da tak video crime woman stop</td>\n",
              "      <td></td>\n",
              "    </tr>\n",
              "  </tbody>\n",
              "</table>\n",
              "</div>"
            ],
            "text/plain": [
              "                                                  ip  ...  audience_segment\n",
              "0  2409:4052:887:1836:1d8f:8a33:34b5:f29d, 64.233...  ...                  \n",
              "1  2405:204:1299:b635:7e57:1081:c615:95d9, 64.233...  ...                  \n",
              "\n",
              "[2 rows x 6 columns]"
            ]
          },
          "metadata": {
            "tags": []
          },
          "execution_count": 12
        }
      ]
    },
    {
      "cell_type": "code",
      "metadata": {
        "colab": {
          "base_uri": "https://localhost:8080/"
        },
        "id": "3FlF_nba4xs7",
        "outputId": "07e53e62-35d4-4163-de57-4a70588fcb11"
      },
      "source": [
        "con_updated.isnull().sum()"
      ],
      "execution_count": 13,
      "outputs": [
        {
          "output_type": "execute_result",
          "data": {
            "text/plain": [
              "ip                     0\n",
              "engagementTime      8116\n",
              "gender              8129\n",
              "visitor_id             0\n",
              "actual_news            0\n",
              "audience_segment       0\n",
              "dtype: int64"
            ]
          },
          "metadata": {
            "tags": []
          },
          "execution_count": 13
        }
      ]
    },
    {
      "cell_type": "code",
      "metadata": {
        "id": "9-rC0age6CZQ"
      },
      "source": [
        "con_updated= con_updated[con_updated.actual_news != \"nan\"]"
      ],
      "execution_count": 14,
      "outputs": []
    },
    {
      "cell_type": "code",
      "metadata": {
        "colab": {
          "base_uri": "https://localhost:8080/"
        },
        "id": "-WDHpW-t6Cls",
        "outputId": "50b7865e-db81-4174-ef8b-6d76c1aea995"
      },
      "source": [
        "con_updated.shape"
      ],
      "execution_count": 15,
      "outputs": [
        {
          "output_type": "execute_result",
          "data": {
            "text/plain": [
              "(99471, 6)"
            ]
          },
          "metadata": {
            "tags": []
          },
          "execution_count": 15
        }
      ]
    },
    {
      "cell_type": "code",
      "metadata": {
        "id": "qYdu4b4w6Ct0"
      },
      "source": [
        "from sklearn.feature_extraction.text import CountVectorizer\r\n",
        "vectorizer = CountVectorizer()\r\n",
        "vectornews = vectorizer.fit_transform(con_updated[\"actual_news\"])"
      ],
      "execution_count": 16,
      "outputs": []
    },
    {
      "cell_type": "code",
      "metadata": {
        "id": "nyWja-8s4xwx"
      },
      "source": [
        "from sklearn.decomposition import LatentDirichletAllocation"
      ],
      "execution_count": 17,
      "outputs": []
    },
    {
      "cell_type": "code",
      "metadata": {
        "id": "XGwfZUMZ676E"
      },
      "source": [
        "LDA = LatentDirichletAllocation(n_components=23, random_state=42)"
      ],
      "execution_count": 18,
      "outputs": []
    },
    {
      "cell_type": "code",
      "metadata": {
        "id": "sHBWY2HJ67_f"
      },
      "source": [
        "topic_values = LDA.fit_transform(vectornews)"
      ],
      "execution_count": 19,
      "outputs": []
    },
    {
      "cell_type": "code",
      "metadata": {
        "id": "n2b2b8fp68DJ"
      },
      "source": [
        "con_updated['audience_segment_updated'] = topic_values.argmax(axis=1)"
      ],
      "execution_count": 20,
      "outputs": []
    },
    {
      "cell_type": "code",
      "metadata": {
        "colab": {
          "base_uri": "https://localhost:8080/",
          "height": 137
        },
        "id": "gVxfqexG7kKS",
        "outputId": "41b8e50f-2382-48de-b0d0-be264488df34"
      },
      "source": [
        "con_updated.head(2)"
      ],
      "execution_count": 21,
      "outputs": [
        {
          "output_type": "execute_result",
          "data": {
            "text/html": [
              "<div>\n",
              "<style scoped>\n",
              "    .dataframe tbody tr th:only-of-type {\n",
              "        vertical-align: middle;\n",
              "    }\n",
              "\n",
              "    .dataframe tbody tr th {\n",
              "        vertical-align: top;\n",
              "    }\n",
              "\n",
              "    .dataframe thead th {\n",
              "        text-align: right;\n",
              "    }\n",
              "</style>\n",
              "<table border=\"1\" class=\"dataframe\">\n",
              "  <thead>\n",
              "    <tr style=\"text-align: right;\">\n",
              "      <th></th>\n",
              "      <th>ip</th>\n",
              "      <th>engagementTime</th>\n",
              "      <th>gender</th>\n",
              "      <th>visitor_id</th>\n",
              "      <th>actual_news</th>\n",
              "      <th>audience_segment</th>\n",
              "      <th>audience_segment_updated</th>\n",
              "    </tr>\n",
              "  </thead>\n",
              "  <tbody>\n",
              "    <tr>\n",
              "      <th>0</th>\n",
              "      <td>2409:4052:887:1836:1d8f:8a33:34b5:f29d, 64.233...</td>\n",
              "      <td>6.0</td>\n",
              "      <td>female</td>\n",
              "      <td>e9b7951d-f0fd-4c1b-88b3-4289eda2fb78</td>\n",
              "      <td>aajtak khabare ab tak story caste based census...</td>\n",
              "      <td></td>\n",
              "      <td>21</td>\n",
              "    </tr>\n",
              "    <tr>\n",
              "      <th>1</th>\n",
              "      <td>2405:204:1299:b635:7e57:1081:c615:95d9, 64.233...</td>\n",
              "      <td>1.0</td>\n",
              "      <td>male</td>\n",
              "      <td>754cc585-b30e-4b62-9288-9fedfdc42684</td>\n",
              "      <td>aajtak karyakrams da tak video crime woman stop</td>\n",
              "      <td></td>\n",
              "      <td>21</td>\n",
              "    </tr>\n",
              "  </tbody>\n",
              "</table>\n",
              "</div>"
            ],
            "text/plain": [
              "                                                  ip  ...  audience_segment_updated\n",
              "0  2409:4052:887:1836:1d8f:8a33:34b5:f29d, 64.233...  ...                        21\n",
              "1  2405:204:1299:b635:7e57:1081:c615:95d9, 64.233...  ...                        21\n",
              "\n",
              "[2 rows x 7 columns]"
            ]
          },
          "metadata": {
            "tags": []
          },
          "execution_count": 21
        }
      ]
    },
    {
      "cell_type": "code",
      "metadata": {
        "colab": {
          "base_uri": "https://localhost:8080/"
        },
        "id": "AO62BDrO8CzE",
        "outputId": "36c788cc-6b0d-4bc1-d6f1-9903f31a66fe"
      },
      "source": [
        "con_updated.shape"
      ],
      "execution_count": 23,
      "outputs": [
        {
          "output_type": "execute_result",
          "data": {
            "text/plain": [
              "(99471, 7)"
            ]
          },
          "metadata": {
            "tags": []
          },
          "execution_count": 23
        }
      ]
    },
    {
      "cell_type": "code",
      "metadata": {
        "colab": {
          "base_uri": "https://localhost:8080/"
        },
        "id": "v3eFFGRj7kPM",
        "outputId": "87455705-5b87-4ce0-f309-1df045019655"
      },
      "source": [
        "con_updated['actual_news'].apply(lambda x: len(x.split(' '))).sum()\r\n"
      ],
      "execution_count": 22,
      "outputs": [
        {
          "output_type": "execute_result",
          "data": {
            "text/plain": [
              "1000361"
            ]
          },
          "metadata": {
            "tags": []
          },
          "execution_count": 22
        }
      ]
    },
    {
      "cell_type": "markdown",
      "metadata": {
        "id": "Q7ncmDyh8JUO"
      },
      "source": [
        "# <i> Using Different Machine Learning models to see the best fit model out of them. Basically, here we will be classifying the news based on the topic modelling we created.  So, whenever a new news article will be fed to the machine learning model then it will be classified based on the new segments that we have created."
      ]
    },
    {
      "cell_type": "code",
      "metadata": {
        "id": "xDYDKiff7kT3"
      },
      "source": [
        "new_df= con_updated[[\"actual_news\",\"audience_segment_updated\"]]"
      ],
      "execution_count": 24,
      "outputs": []
    },
    {
      "cell_type": "code",
      "metadata": {
        "colab": {
          "base_uri": "https://localhost:8080/",
          "height": 910
        },
        "id": "ntJ78ES78GNZ",
        "outputId": "0670e92c-1479-4241-94a1-669d9b92ca77"
      },
      "source": [
        "new_df.head(30)"
      ],
      "execution_count": 52,
      "outputs": [
        {
          "output_type": "execute_result",
          "data": {
            "text/html": [
              "<div>\n",
              "<style scoped>\n",
              "    .dataframe tbody tr th:only-of-type {\n",
              "        vertical-align: middle;\n",
              "    }\n",
              "\n",
              "    .dataframe tbody tr th {\n",
              "        vertical-align: top;\n",
              "    }\n",
              "\n",
              "    .dataframe thead th {\n",
              "        text-align: right;\n",
              "    }\n",
              "</style>\n",
              "<table border=\"1\" class=\"dataframe\">\n",
              "  <thead>\n",
              "    <tr style=\"text-align: right;\">\n",
              "      <th></th>\n",
              "      <th>actual_news</th>\n",
              "      <th>audience_segment_updated</th>\n",
              "    </tr>\n",
              "  </thead>\n",
              "  <tbody>\n",
              "    <tr>\n",
              "      <th>0</th>\n",
              "      <td>aajtak khabare ab tak story caste based census...</td>\n",
              "      <td>21</td>\n",
              "    </tr>\n",
              "    <tr>\n",
              "      <th>1</th>\n",
              "      <td>aajtak karyakrams da tak video crime woman stop</td>\n",
              "      <td>21</td>\n",
              "    </tr>\n",
              "    <tr>\n",
              "      <th>2</th>\n",
              "      <td>aajtak national video sapna chaudhary dance sh...</td>\n",
              "      <td>13</td>\n",
              "    </tr>\n",
              "    <tr>\n",
              "      <th>3</th>\n",
              "      <td>aajtak movie masala news film story shahid kap...</td>\n",
              "      <td>6</td>\n",
              "    </tr>\n",
              "    <tr>\n",
              "      <th>4</th>\n",
              "      <td>aajtak karyakrams kismat konnection video kism...</td>\n",
              "      <td>2</td>\n",
              "    </tr>\n",
              "    <tr>\n",
              "      <th>5</th>\n",
              "      <td>aajtak movie masala news film story pulkit sam...</td>\n",
              "      <td>6</td>\n",
              "    </tr>\n",
              "    <tr>\n",
              "      <th>6</th>\n",
              "      <td>aajtak movie masala news film story shah rukh ...</td>\n",
              "      <td>6</td>\n",
              "    </tr>\n",
              "    <tr>\n",
              "      <th>7</th>\n",
              "      <td>aajtak aajtak special ayodhya case verdict sto...</td>\n",
              "      <td>21</td>\n",
              "    </tr>\n",
              "    <tr>\n",
              "      <th>8</th>\n",
              "      <td>aajtak movie masala viral video story pawan si...</td>\n",
              "      <td>6</td>\n",
              "    </tr>\n",
              "    <tr>\n",
              "      <th>9</th>\n",
              "      <td>aajtak movie masala news film story vidyut jam...</td>\n",
              "      <td>13</td>\n",
              "    </tr>\n",
              "    <tr>\n",
              "      <th>10</th>\n",
              "      <td>aajtak karyakrams halla bol video halla bol sa...</td>\n",
              "      <td>21</td>\n",
              "    </tr>\n",
              "    <tr>\n",
              "      <th>11</th>\n",
              "      <td>aajtak dharma vrat katha hindi story story beh...</td>\n",
              "      <td>2</td>\n",
              "    </tr>\n",
              "    <tr>\n",
              "      <th>12</th>\n",
              "      <td>aajtak state news maharashtra news story woman...</td>\n",
              "      <td>13</td>\n",
              "    </tr>\n",
              "    <tr>\n",
              "      <th>13</th>\n",
              "      <td>aajtak topic sbi loan lockdown</td>\n",
              "      <td>22</td>\n",
              "    </tr>\n",
              "    <tr>\n",
              "      <th>14</th>\n",
              "      <td>aajtak crime crime news story jammu kashmir ds...</td>\n",
              "      <td>0</td>\n",
              "    </tr>\n",
              "    <tr>\n",
              "      <th>15</th>\n",
              "      <td>aajtak gadget mobile story xiaomi redmi lite l...</td>\n",
              "      <td>4</td>\n",
              "    </tr>\n",
              "    <tr>\n",
              "      <th>16</th>\n",
              "      <td>aajtak news national story bgr ayurvedic medic...</td>\n",
              "      <td>4</td>\n",
              "    </tr>\n",
              "    <tr>\n",
              "      <th>17</th>\n",
              "      <td>aajtak national video ayodhya case hearing end...</td>\n",
              "      <td>15</td>\n",
              "    </tr>\n",
              "    <tr>\n",
              "      <th>18</th>\n",
              "      <td>aajtak crime crime news story delhi violence j...</td>\n",
              "      <td>15</td>\n",
              "    </tr>\n",
              "    <tr>\n",
              "      <th>19</th>\n",
              "      <td>aajtak coronavirus gallery pm modi appeal cont...</td>\n",
              "      <td>18</td>\n",
              "    </tr>\n",
              "    <tr>\n",
              "      <th>20</th>\n",
              "      <td>aajtak movie masala news film story mira rajpu...</td>\n",
              "      <td>6</td>\n",
              "    </tr>\n",
              "    <tr>\n",
              "      <th>21</th>\n",
              "      <td>aajtak general knowledge hindi history general...</td>\n",
              "      <td>7</td>\n",
              "    </tr>\n",
              "    <tr>\n",
              "      <th>22</th>\n",
              "      <td>aajtak national video rail ministry want give ...</td>\n",
              "      <td>13</td>\n",
              "    </tr>\n",
              "    <tr>\n",
              "      <th>23</th>\n",
              "      <td>aajtak education career job news education new...</td>\n",
              "      <td>7</td>\n",
              "    </tr>\n",
              "    <tr>\n",
              "      <th>24</th>\n",
              "      <td>aajtak general knowledge hindi history general...</td>\n",
              "      <td>7</td>\n",
              "    </tr>\n",
              "    <tr>\n",
              "      <th>25</th>\n",
              "      <td>aajtak style lifestyle story story india today...</td>\n",
              "      <td>16</td>\n",
              "    </tr>\n",
              "    <tr>\n",
              "      <th>26</th>\n",
              "      <td>aajtak intoday story lakshmi narayan puja vidh...</td>\n",
              "      <td>2</td>\n",
              "    </tr>\n",
              "    <tr>\n",
              "      <th>27</th>\n",
              "      <td>aajtak dharma gallery daily horoscope dainik r...</td>\n",
              "      <td>2</td>\n",
              "    </tr>\n",
              "    <tr>\n",
              "      <th>28</th>\n",
              "      <td>aajtak state news haryana news story haryana h...</td>\n",
              "      <td>15</td>\n",
              "    </tr>\n",
              "    <tr>\n",
              "      <th>29</th>\n",
              "      <td>aajtak topic congress</td>\n",
              "      <td>11</td>\n",
              "    </tr>\n",
              "  </tbody>\n",
              "</table>\n",
              "</div>"
            ],
            "text/plain": [
              "                                          actual_news  audience_segment_updated\n",
              "0   aajtak khabare ab tak story caste based census...                        21\n",
              "1     aajtak karyakrams da tak video crime woman stop                        21\n",
              "2   aajtak national video sapna chaudhary dance sh...                        13\n",
              "3   aajtak movie masala news film story shahid kap...                         6\n",
              "4   aajtak karyakrams kismat konnection video kism...                         2\n",
              "5   aajtak movie masala news film story pulkit sam...                         6\n",
              "6   aajtak movie masala news film story shah rukh ...                         6\n",
              "7   aajtak aajtak special ayodhya case verdict sto...                        21\n",
              "8   aajtak movie masala viral video story pawan si...                         6\n",
              "9   aajtak movie masala news film story vidyut jam...                        13\n",
              "10  aajtak karyakrams halla bol video halla bol sa...                        21\n",
              "11  aajtak dharma vrat katha hindi story story beh...                         2\n",
              "12  aajtak state news maharashtra news story woman...                        13\n",
              "13                     aajtak topic sbi loan lockdown                        22\n",
              "14  aajtak crime crime news story jammu kashmir ds...                         0\n",
              "15  aajtak gadget mobile story xiaomi redmi lite l...                         4\n",
              "16  aajtak news national story bgr ayurvedic medic...                         4\n",
              "17  aajtak national video ayodhya case hearing end...                        15\n",
              "18  aajtak crime crime news story delhi violence j...                        15\n",
              "19  aajtak coronavirus gallery pm modi appeal cont...                        18\n",
              "20  aajtak movie masala news film story mira rajpu...                         6\n",
              "21  aajtak general knowledge hindi history general...                         7\n",
              "22  aajtak national video rail ministry want give ...                        13\n",
              "23  aajtak education career job news education new...                         7\n",
              "24  aajtak general knowledge hindi history general...                         7\n",
              "25  aajtak style lifestyle story story india today...                        16\n",
              "26  aajtak intoday story lakshmi narayan puja vidh...                         2\n",
              "27  aajtak dharma gallery daily horoscope dainik r...                         2\n",
              "28  aajtak state news haryana news story haryana h...                        15\n",
              "29                              aajtak topic congress                        11"
            ]
          },
          "metadata": {
            "tags": []
          },
          "execution_count": 52
        }
      ]
    },
    {
      "cell_type": "code",
      "metadata": {
        "colab": {
          "base_uri": "https://localhost:8080/"
        },
        "id": "JlhM2CKYG_LQ",
        "outputId": "2c776bb5-3b6e-44cb-8073-3b8ced719f1a"
      },
      "source": [
        "new_df.iloc[25]"
      ],
      "execution_count": 57,
      "outputs": [
        {
          "output_type": "execute_result",
          "data": {
            "text/plain": [
              "actual_news                 aajtak style lifestyle story story india today...\n",
              "audience_segment_updated                                                   16\n",
              "Name: 25, dtype: object"
            ]
          },
          "metadata": {
            "tags": []
          },
          "execution_count": 57
        }
      ]
    },
    {
      "cell_type": "markdown",
      "metadata": {
        "id": "XyeQe7OcBbTd"
      },
      "source": [
        "# <i> Splitting the data into train and test for our machine learning model"
      ]
    },
    {
      "cell_type": "code",
      "metadata": {
        "id": "UAXIhbwN8GSC"
      },
      "source": [
        "X= new_df.actual_news\r\n",
        "y= new_df.audience_segment_updated"
      ],
      "execution_count": 38,
      "outputs": []
    },
    {
      "cell_type": "code",
      "metadata": {
        "id": "-EZHhZRl8GYV"
      },
      "source": [
        "from sklearn.model_selection import train_test_split"
      ],
      "execution_count": 39,
      "outputs": []
    },
    {
      "cell_type": "code",
      "metadata": {
        "colab": {
          "base_uri": "https://localhost:8080/"
        },
        "id": "iQ7g11xR68JZ",
        "outputId": "6003d3cf-c6ce-41f5-a39d-c1aeee08013f"
      },
      "source": [
        "X_train, X_test, y_train, y_test = train_test_split(X, y, random_state=0)\r\n",
        "X_train.shape, X_test.shape, y_train.shape, y_test.shape"
      ],
      "execution_count": 40,
      "outputs": [
        {
          "output_type": "execute_result",
          "data": {
            "text/plain": [
              "((74603,), (24868,), (74603,), (24868,))"
            ]
          },
          "metadata": {
            "tags": []
          },
          "execution_count": 40
        }
      ]
    },
    {
      "cell_type": "code",
      "metadata": {
        "id": "rc1izqfZB0pW"
      },
      "source": [
        "from sklearn.pipeline import Pipeline\r\n",
        "from sklearn.base import TransformerMixin, BaseEstimator\r\n",
        "from sklearn.feature_extraction.text import TfidfVectorizer, TfidfTransformer\r\n",
        "from sklearn.model_selection import cross_validate, cross_val_score, KFold, GridSearchCV\r\n",
        "from sklearn.metrics import classification_report, accuracy_score"
      ],
      "execution_count": 41,
      "outputs": []
    },
    {
      "cell_type": "code",
      "metadata": {
        "id": "AGv8zUeKEdbj"
      },
      "source": [
        "from sklearn.svm import LinearSVC, SVC\r\n",
        "from sklearn.tree import DecisionTreeClassifier\r\n",
        "from sklearn.naive_bayes import GaussianNB, MultinomialNB\r\n",
        "from sklearn.linear_model import LogisticRegression, SGDClassifier\r\n",
        "from sklearn.ensemble import RandomForestClassifier"
      ],
      "execution_count": 42,
      "outputs": []
    },
    {
      "cell_type": "code",
      "metadata": {
        "id": "gXDmMKdxEOPB"
      },
      "source": [
        "# Creating Models\r\n",
        "models = [('Logistic Regression', LogisticRegression(max_iter=500)),('Random Forest', RandomForestClassifier()),\r\n",
        "          ('Linear SVC', LinearSVC()), ('Multinomial NaiveBayes', MultinomialNB()), ('SGD Classifier', SGDClassifier())]"
      ],
      "execution_count": 43,
      "outputs": []
    },
    {
      "cell_type": "code",
      "metadata": {
        "colab": {
          "base_uri": "https://localhost:8080/"
        },
        "id": "jgcprKp7B0wL",
        "outputId": "f181a23c-3af4-4cd1-8619-e178a23420ab"
      },
      "source": [
        "names = []\r\n",
        "results = []\r\n",
        "model = []\r\n",
        "for name, clf in models:\r\n",
        "    pipe = Pipeline([('vect', CountVectorizer(max_features=30000, ngram_range=(1, 2))),\r\n",
        "                    ('tfidf', TfidfTransformer()),\r\n",
        "                    (name, clf),\r\n",
        "                    ])\r\n",
        "    pipe.fit(X_train, y_train)\r\n",
        "    y_pred = pipe.predict(X_test)\r\n",
        "    accuracy = accuracy_score(y_pred, y_test)\r\n",
        "    \r\n",
        "    names.append(name)\r\n",
        "    results.append(accuracy)\r\n",
        "    model.append(pipe)\r\n",
        "    \r\n",
        "    msg = \"%s: %f\" % (name, accuracy)\r\n",
        "    print(msg)"
      ],
      "execution_count": 44,
      "outputs": [
        {
          "output_type": "stream",
          "text": [
            "Logistic Regression: 0.969358\n",
            "Random Forest: 0.969278\n",
            "Linear SVC: 0.975873\n",
            "Multinomial NaiveBayes: 0.960190\n",
            "SGD Classifier: 0.965458\n"
          ],
          "name": "stdout"
        }
      ]
    },
    {
      "cell_type": "markdown",
      "metadata": {
        "id": "JLtVi89cFdhD"
      },
      "source": [
        "# <i> Above we can see that Logistic Regression and Linear SVC have performed well out of the other models so we will be using these two models for our testing purpose"
      ]
    },
    {
      "cell_type": "code",
      "metadata": {
        "id": "L7jMU8xjGVOD"
      },
      "source": [
        "import pickle"
      ],
      "execution_count": 46,
      "outputs": []
    },
    {
      "cell_type": "code",
      "metadata": {
        "id": "7K8p-qQLD4sM"
      },
      "source": [
        "# Logistic Regression\r\n",
        "filename = 'model_lr.sav'\r\n",
        "pickle.dump(model[0], open(filename, 'wb'))\r\n",
        "\r\n",
        "# Linear SVC\r\n",
        "filename = 'model_lin_svc.sav'\r\n",
        "pickle.dump(model[2], open(filename, 'wb'))"
      ],
      "execution_count": 47,
      "outputs": []
    },
    {
      "cell_type": "code",
      "metadata": {
        "id": "0vVBNL4QD4zn"
      },
      "source": [
        "lr_model = pickle.load(open('model_lin_svc.sav', 'rb'))"
      ],
      "execution_count": 48,
      "outputs": []
    },
    {
      "cell_type": "code",
      "metadata": {
        "id": "HNhn3zIlB021"
      },
      "source": [
        "text1 = 'Could have been best all-rounder India ever produced in ODIs: Irfan Pathan'\r\n",
        "\r\n",
        "text2 = \"Ashwin Kkumar dances to Kamal Haasan's Annathe song on a treadmill. Actor is proud\""
      ],
      "execution_count": 60,
      "outputs": []
    },
    {
      "cell_type": "code",
      "metadata": {
        "colab": {
          "base_uri": "https://localhost:8080/"
        },
        "id": "7ULaTtJX2bVP",
        "outputId": "ca05140d-9586-4c0b-cccf-65fa0ef97110"
      },
      "source": [
        "print(lr_model.predict([text1, text2]))"
      ],
      "execution_count": 61,
      "outputs": [
        {
          "output_type": "stream",
          "text": [
            "[16  6]\n"
          ],
          "name": "stdout"
        }
      ]
    },
    {
      "cell_type": "markdown",
      "metadata": {
        "id": "jg3dlGzCHyPQ"
      },
      "source": [
        "# <i> Here above we can see that our model of linear SVC is doing pretty much good in terms of prediction and therefore this model can be used for news classification purposes."
      ]
    },
    {
      "cell_type": "markdown",
      "metadata": {
        "id": "TK53ZhDEItmD"
      },
      "source": [
        "# <i> Checking our model on some news posted in India Today's website"
      ]
    },
    {
      "cell_type": "code",
      "metadata": {
        "id": "M0mHiavLI3lU"
      },
      "source": [
        "t1= \"9-year-old girl plays synthesizer while undergoing brain surgery\"\r\n",
        "\r\n",
        "t2= \"Anand Mahindra is bowled over by Lucky Ali's O Sanam performance\"\r\n",
        "\r\n",
        "t3= \"J&K DDC polls: Phase-V ends with over 51% polling, says SEC Sharma\""
      ],
      "execution_count": 62,
      "outputs": []
    },
    {
      "cell_type": "code",
      "metadata": {
        "colab": {
          "base_uri": "https://localhost:8080/"
        },
        "id": "62sWP301I3ul",
        "outputId": "24ce2f98-f79c-4405-e1be-1503db6e03c8"
      },
      "source": [
        "print(lr_model.predict([t1, t2, t3]))"
      ],
      "execution_count": 63,
      "outputs": [
        {
          "output_type": "stream",
          "text": [
            "[21  4 13]\n"
          ],
          "name": "stdout"
        }
      ]
    }
  ]
}