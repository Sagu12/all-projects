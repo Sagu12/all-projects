{
  "nbformat": 4,
  "nbformat_minor": 0,
  "metadata": {
    "colab": {
      "name": "OBJECT ORIENTED PROGRAMMING.ipynb",
      "provenance": [],
      "collapsed_sections": [],
      "authorship_tag": "ABX9TyPSWk+Vfp86uu9eC4kRIC/i",
      "include_colab_link": true
    },
    "kernelspec": {
      "name": "python3",
      "display_name": "Python 3"
    }
  },
  "cells": [
    {
      "cell_type": "markdown",
      "metadata": {
        "id": "view-in-github",
        "colab_type": "text"
      },
      "source": [
        "<a href=\"https://colab.research.google.com/github/Sagu12/all-projects/blob/master/OBJECT_ORIENTED_PROGRAMMING.ipynb\" target=\"_parent\"><img src=\"https://colab.research.google.com/assets/colab-badge.svg\" alt=\"Open In Colab\"/></a>"
      ]
    },
    {
      "cell_type": "markdown",
      "metadata": {
        "id": "RJPQaJ0WStxv",
        "colab_type": "text"
      },
      "source": [
        "# What is object oriented programming?\n",
        "\n",
        "python is an object oriented programming language and everything is an object in python.\n",
        "\n",
        "oops allows programmers to create their own objects with methods and attributes.\n",
        "\n",
        "class is an object constructor, it is a blue print to create objects.\n",
        "\n",
        "so lets say there are three cars of different company like audi, bmw, and mercedes, here the different brands of cars are actually the objects and the car as a whole is the class as it is the parent that we are referring to.\n",
        "\n",
        "oops allows users to create code that is repeatable and well organized. we can use functioons also to create repeatable scripts but it is limited to smaller ones only. Reason why we use class to create large scripts that are repeatable in nature.\n"
      ]
    },
    {
      "cell_type": "code",
      "metadata": {
        "id": "GTkQWJ15Sy5S",
        "colab_type": "code",
        "colab": {}
      },
      "source": [
        "my_list= [1,2,3,4,5]"
      ],
      "execution_count": 1,
      "outputs": []
    },
    {
      "cell_type": "code",
      "metadata": {
        "id": "Rp-7HVJ32-bi",
        "colab_type": "code",
        "colab": {}
      },
      "source": [
        "my_list.append(8)\n",
        "\n",
        "# here we can see that this append is an attribute of the class list"
      ],
      "execution_count": 2,
      "outputs": []
    },
    {
      "cell_type": "code",
      "metadata": {
        "id": "ifpSghiM3njG",
        "colab_type": "code",
        "colab": {
          "base_uri": "https://localhost:8080/",
          "height": 34
        },
        "outputId": "ffa7a906-1408-4857-acf3-18b71ff5a63b"
      },
      "source": [
        "my_list"
      ],
      "execution_count": 3,
      "outputs": [
        {
          "output_type": "execute_result",
          "data": {
            "text/plain": [
              "[1, 2, 3, 4, 5, 8]"
            ]
          },
          "metadata": {
            "tags": []
          },
          "execution_count": 3
        }
      ]
    },
    {
      "cell_type": "code",
      "metadata": {
        "id": "r8-OCeSY30UN",
        "colab_type": "code",
        "colab": {
          "base_uri": "https://localhost:8080/",
          "height": 34
        },
        "outputId": "148a01a1-557b-4fb2-e048-d9c32699e12e"
      },
      "source": [
        "type(my_list)"
      ],
      "execution_count": 4,
      "outputs": [
        {
          "output_type": "execute_result",
          "data": {
            "text/plain": [
              "list"
            ]
          },
          "metadata": {
            "tags": []
          },
          "execution_count": 4
        }
      ]
    },
    {
      "cell_type": "code",
      "metadata": {
        "id": "tKc03dFL35Ax",
        "colab_type": "code",
        "colab": {}
      },
      "source": [
        "# here above list is the parent class of the list object that we have created"
      ],
      "execution_count": 5,
      "outputs": []
    },
    {
      "cell_type": "code",
      "metadata": {
        "id": "bcnSSOyP4OdV",
        "colab_type": "code",
        "colab": {}
      },
      "source": [
        "my_tuple= (1,2,3,4)"
      ],
      "execution_count": 6,
      "outputs": []
    },
    {
      "cell_type": "code",
      "metadata": {
        "id": "0gxA6nD44Y_H",
        "colab_type": "code",
        "colab": {
          "base_uri": "https://localhost:8080/",
          "height": 34
        },
        "outputId": "fdec1ba1-8673-41cd-a6cc-9aee3ad60d77"
      },
      "source": [
        "type(my_tuple)"
      ],
      "execution_count": 7,
      "outputs": [
        {
          "output_type": "execute_result",
          "data": {
            "text/plain": [
              "tuple"
            ]
          },
          "metadata": {
            "tags": []
          },
          "execution_count": 7
        }
      ]
    },
    {
      "cell_type": "code",
      "metadata": {
        "id": "Atz8wDGX4dXO",
        "colab_type": "code",
        "colab": {}
      },
      "source": [
        "# here above tuple is the parent class of the tuple object that we have created"
      ],
      "execution_count": 8,
      "outputs": []
    },
    {
      "cell_type": "code",
      "metadata": {
        "id": "k7oflnYb4dk1",
        "colab_type": "code",
        "colab": {}
      },
      "source": [
        "class Example():\n",
        "  pass"
      ],
      "execution_count": 9,
      "outputs": []
    },
    {
      "cell_type": "code",
      "metadata": {
        "id": "IML0TW986fnZ",
        "colab_type": "code",
        "colab": {}
      },
      "source": [
        "my_class= Example()\n",
        "\n",
        "# my_class is an object of the class"
      ],
      "execution_count": 10,
      "outputs": []
    },
    {
      "cell_type": "code",
      "metadata": {
        "id": "CXGOFlkI6QOs",
        "colab_type": "code",
        "colab": {
          "base_uri": "https://localhost:8080/",
          "height": 34
        },
        "outputId": "7b9e335c-920f-421f-d74c-2a097f0fd196"
      },
      "source": [
        "type(my_class)"
      ],
      "execution_count": 11,
      "outputs": [
        {
          "output_type": "execute_result",
          "data": {
            "text/plain": [
              "__main__.Example"
            ]
          },
          "metadata": {
            "tags": []
          },
          "execution_count": 11
        }
      ]
    },
    {
      "cell_type": "code",
      "metadata": {
        "id": "ydlVipLR6QYf",
        "colab_type": "code",
        "colab": {}
      },
      "source": [
        "class Person():\n",
        "  def __init__(self,name,age):\n",
        "    self.name= name\n",
        "    self.age= age\n",
        "\n",
        "# here init is a constructor that binds the class with the object\n",
        "\n",
        "# self is a method used to link the object with the attributes"
      ],
      "execution_count": 12,
      "outputs": []
    },
    {
      "cell_type": "markdown",
      "metadata": {
        "id": "ukpa3hwO-1tv",
        "colab_type": "text"
      },
      "source": [
        "# Difference between attribute and arguments/parameters\n",
        "\n",
        "Key Difference – Attribute vs Parameter\n",
        "The key difference between attribute and parameter is that an attribute is a variable of any type that is declared directly in a class while a parameter is a variable defined by the function that receives a value when it is called."
      ]
    },
    {
      "cell_type": "code",
      "metadata": {
        "id": "gSf9gho47WQw",
        "colab_type": "code",
        "colab": {}
      },
      "source": [
        "p1= Person(\"Sagnik\",25)"
      ],
      "execution_count": 13,
      "outputs": []
    },
    {
      "cell_type": "code",
      "metadata": {
        "id": "lEqY0tZl7doh",
        "colab_type": "code",
        "colab": {
          "base_uri": "https://localhost:8080/",
          "height": 34
        },
        "outputId": "8779723d-2c58-4dfe-91c2-70f7f2f3829f"
      },
      "source": [
        "p1"
      ],
      "execution_count": 14,
      "outputs": [
        {
          "output_type": "execute_result",
          "data": {
            "text/plain": [
              "<__main__.Person at 0x7f97b710fe80>"
            ]
          },
          "metadata": {
            "tags": []
          },
          "execution_count": 14
        }
      ]
    },
    {
      "cell_type": "code",
      "metadata": {
        "id": "u-qyXrJu7jdc",
        "colab_type": "code",
        "colab": {
          "base_uri": "https://localhost:8080/",
          "height": 34
        },
        "outputId": "e3605e5a-d769-4f71-f0e2-39965a28fac2"
      },
      "source": [
        "p1.age, p1.name"
      ],
      "execution_count": 15,
      "outputs": [
        {
          "output_type": "execute_result",
          "data": {
            "text/plain": [
              "(25, 'Sagnik')"
            ]
          },
          "metadata": {
            "tags": []
          },
          "execution_count": 15
        }
      ]
    },
    {
      "cell_type": "code",
      "metadata": {
        "id": "VDCPiAip7n6J",
        "colab_type": "code",
        "colab": {
          "base_uri": "https://localhost:8080/",
          "height": 34
        },
        "outputId": "00d25126-d00d-4bfa-d01e-4fa4258ba4d4"
      },
      "source": [
        "type(p1)"
      ],
      "execution_count": 16,
      "outputs": [
        {
          "output_type": "execute_result",
          "data": {
            "text/plain": [
              "__main__.Person"
            ]
          },
          "metadata": {
            "tags": []
          },
          "execution_count": 16
        }
      ]
    },
    {
      "cell_type": "code",
      "metadata": {
        "id": "blkn_qVS7n3A",
        "colab_type": "code",
        "colab": {}
      },
      "source": [
        "class Person():\n",
        "  home= \"Earth\" # class object attribute\n",
        "\n",
        "  def __init__(self,name,age):\n",
        "    self.name= name\n",
        "    self.age= age\n",
        "\n"
      ],
      "execution_count": 17,
      "outputs": []
    },
    {
      "cell_type": "code",
      "metadata": {
        "id": "7V1oi9Al7nzh",
        "colab_type": "code",
        "colab": {}
      },
      "source": [
        "p2= Person(\"Sara\", 23)"
      ],
      "execution_count": 18,
      "outputs": []
    },
    {
      "cell_type": "code",
      "metadata": {
        "id": "k7pSwUCg9sV-",
        "colab_type": "code",
        "colab": {
          "base_uri": "https://localhost:8080/",
          "height": 34
        },
        "outputId": "954dd0df-846d-4df4-d482-078320d12c83"
      },
      "source": [
        "p2.home, p2.name, p2.age"
      ],
      "execution_count": 19,
      "outputs": [
        {
          "output_type": "execute_result",
          "data": {
            "text/plain": [
              "('Earth', 'Sara', 23)"
            ]
          },
          "metadata": {
            "tags": []
          },
          "execution_count": 19
        }
      ]
    },
    {
      "cell_type": "markdown",
      "metadata": {
        "id": "Uam5AGXxBOAP",
        "colab_type": "text"
      },
      "source": [
        "# Difference between return and print\n",
        "\n",
        "Return statements end the execution of a function and if return is not given  by default it returns None.\n",
        "\n",
        "Print statement shows the human user a string representing what is going on inside the computer"
      ]
    },
    {
      "cell_type": "markdown",
      "metadata": {
        "id": "yO5TKR-9-bC-",
        "colab_type": "text"
      },
      "source": [
        "# what are methods?\n",
        "\n",
        "Methods are the function name that we specify inside the def under any class"
      ]
    },
    {
      "cell_type": "code",
      "metadata": {
        "id": "Y2S9IQN99sQh",
        "colab_type": "code",
        "colab": {}
      },
      "source": [
        "class Person():\n",
        "  home= \"Earth\"\n",
        "\n",
        "  def __init__(self,name,age):\n",
        "    self.name= name\n",
        "    self.age= age\n",
        "\n",
        "  def intro(self):\n",
        "    print(\"Good morning, my name is {} and I am {}\".format(self.name, self.age))\n",
        "\n",
        "  def learn(self,subject):\n",
        "    print(\"I am {} and my subject is {}\".format(self.name,subject))"
      ],
      "execution_count": 20,
      "outputs": []
    },
    {
      "cell_type": "code",
      "metadata": {
        "id": "Yu-q42c-Fskd",
        "colab_type": "code",
        "colab": {}
      },
      "source": [
        "p4= Person(\"Tom\",24)"
      ],
      "execution_count": 21,
      "outputs": []
    },
    {
      "cell_type": "code",
      "metadata": {
        "id": "Lc6hDpSpFzda",
        "colab_type": "code",
        "colab": {
          "base_uri": "https://localhost:8080/",
          "height": 35
        },
        "outputId": "1e7f6f0e-edba-486a-c2c8-cbf3bd7ff880"
      },
      "source": [
        "p4.name"
      ],
      "execution_count": 22,
      "outputs": [
        {
          "output_type": "execute_result",
          "data": {
            "application/vnd.google.colaboratory.intrinsic": {
              "type": "string"
            },
            "text/plain": [
              "'Tom'"
            ]
          },
          "metadata": {
            "tags": []
          },
          "execution_count": 22
        }
      ]
    },
    {
      "cell_type": "code",
      "metadata": {
        "id": "HNGk5AibF3JM",
        "colab_type": "code",
        "colab": {
          "base_uri": "https://localhost:8080/",
          "height": 34
        },
        "outputId": "d83de4b8-030b-4783-e000-99770cda27c5"
      },
      "source": [
        "p4.intro()"
      ],
      "execution_count": 23,
      "outputs": [
        {
          "output_type": "stream",
          "text": [
            "Good morning, my name is Tom and I am 24\n"
          ],
          "name": "stdout"
        }
      ]
    },
    {
      "cell_type": "code",
      "metadata": {
        "id": "OW55C-AkF3RB",
        "colab_type": "code",
        "colab": {
          "base_uri": "https://localhost:8080/",
          "height": 34
        },
        "outputId": "fe400541-347f-4381-db29-947f85545ec2"
      },
      "source": [
        "p4.learn(\"bio\")"
      ],
      "execution_count": 24,
      "outputs": [
        {
          "output_type": "stream",
          "text": [
            "I am Tom and my subject is bio\n"
          ],
          "name": "stdout"
        }
      ]
    },
    {
      "cell_type": "code",
      "metadata": {
        "id": "afhepHUgF3NF",
        "colab_type": "code",
        "colab": {}
      },
      "source": [
        ""
      ],
      "execution_count": 24,
      "outputs": []
    },
    {
      "cell_type": "code",
      "metadata": {
        "id": "4aSps6ffGqd6",
        "colab_type": "code",
        "colab": {}
      },
      "source": [
        "class Person2():\n",
        "  home= \"Earth\"\n",
        "\n",
        "  def __init__(self,name,age):\n",
        "    self.name= name\n",
        "    self.age= age\n",
        "\n",
        "  def intro(self):\n",
        "    return (\"Good morning, my name is {} and I am {}\".format(self.name, self.age))\n",
        "\n",
        "  def learn(self,subject):\n",
        "    return (\"I am {} and my subject is {}\".format(self.name,subject))"
      ],
      "execution_count": 25,
      "outputs": []
    },
    {
      "cell_type": "code",
      "metadata": {
        "id": "ZqgF9h10Gqay",
        "colab_type": "code",
        "colab": {}
      },
      "source": [
        "p6= Person2(\"sagnik\",25)"
      ],
      "execution_count": 26,
      "outputs": []
    },
    {
      "cell_type": "code",
      "metadata": {
        "id": "K_QmqsD9G9Ji",
        "colab_type": "code",
        "colab": {
          "base_uri": "https://localhost:8080/",
          "height": 35
        },
        "outputId": "d5aa363e-7dfa-49f9-81f9-acebb7e0cf55"
      },
      "source": [
        "p6.intro()"
      ],
      "execution_count": 27,
      "outputs": [
        {
          "output_type": "execute_result",
          "data": {
            "application/vnd.google.colaboratory.intrinsic": {
              "type": "string"
            },
            "text/plain": [
              "'Good morning, my name is sagnik and I am 25'"
            ]
          },
          "metadata": {
            "tags": []
          },
          "execution_count": 27
        }
      ]
    },
    {
      "cell_type": "code",
      "metadata": {
        "id": "Ln-AkL5lHJk7",
        "colab_type": "code",
        "colab": {
          "base_uri": "https://localhost:8080/",
          "height": 35
        },
        "outputId": "62718f3f-af70-4dc1-f15b-a26927000235"
      },
      "source": [
        "p6.learn(\"data science\")"
      ],
      "execution_count": 28,
      "outputs": [
        {
          "output_type": "execute_result",
          "data": {
            "application/vnd.google.colaboratory.intrinsic": {
              "type": "string"
            },
            "text/plain": [
              "'I am sagnik and my subject is data science'"
            ]
          },
          "metadata": {
            "tags": []
          },
          "execution_count": 28
        }
      ]
    },
    {
      "cell_type": "code",
      "metadata": {
        "id": "vFH1MA45HJzB",
        "colab_type": "code",
        "colab": {}
      },
      "source": [
        "#taking another example\n",
        "\n",
        "class Circle():\n",
        "  pi= 3.14 # class object attribute\n",
        "\n",
        "  def __init__(self,radius):\n",
        "\n",
        "    self.radius= radius\n",
        "    self.area= self.pi * radius * radius\n",
        "\n",
        "  def circum(self):\n",
        "    return 2 * self.pi * self.radius"
      ],
      "execution_count": 29,
      "outputs": []
    },
    {
      "cell_type": "code",
      "metadata": {
        "id": "a5HVwdH2tbbT",
        "colab_type": "code",
        "colab": {}
      },
      "source": [
        "my_circle= Circle(5)"
      ],
      "execution_count": 33,
      "outputs": []
    },
    {
      "cell_type": "code",
      "metadata": {
        "id": "KGGN8UCitkmU",
        "colab_type": "code",
        "colab": {
          "base_uri": "https://localhost:8080/",
          "height": 34
        },
        "outputId": "d7806984-36d6-43f5-fd77-5be5d2209f52"
      },
      "source": [
        "my_circle.area"
      ],
      "execution_count": 34,
      "outputs": [
        {
          "output_type": "execute_result",
          "data": {
            "text/plain": [
              "78.5"
            ]
          },
          "metadata": {
            "tags": []
          },
          "execution_count": 34
        }
      ]
    },
    {
      "cell_type": "code",
      "metadata": {
        "id": "OYuR6zz1tskU",
        "colab_type": "code",
        "colab": {
          "base_uri": "https://localhost:8080/",
          "height": 34
        },
        "outputId": "ed24e83d-37fb-490e-fda8-b997ebc977ae"
      },
      "source": [
        "my_circle.pi"
      ],
      "execution_count": 35,
      "outputs": [
        {
          "output_type": "execute_result",
          "data": {
            "text/plain": [
              "3.14"
            ]
          },
          "metadata": {
            "tags": []
          },
          "execution_count": 35
        }
      ]
    },
    {
      "cell_type": "code",
      "metadata": {
        "id": "mpzFeqPHt4DW",
        "colab_type": "code",
        "colab": {
          "base_uri": "https://localhost:8080/",
          "height": 34
        },
        "outputId": "25ebf3a1-a26e-4cfe-f592-8457e3384743"
      },
      "source": [
        "my_circle.circum()"
      ],
      "execution_count": 39,
      "outputs": [
        {
          "output_type": "execute_result",
          "data": {
            "text/plain": [
              "31.400000000000002"
            ]
          },
          "metadata": {
            "tags": []
          },
          "execution_count": 39
        }
      ]
    },
    {
      "cell_type": "markdown",
      "metadata": {
        "id": "fk3woNibuKKl",
        "colab_type": "text"
      },
      "source": [
        "# Inheritance"
      ]
    },
    {
      "cell_type": "code",
      "metadata": {
        "id": "-TDF8lSBt70s",
        "colab_type": "code",
        "colab": {}
      },
      "source": [
        "#this is the base class\n",
        "\n",
        "class Sports():\n",
        "  def __init__(self):\n",
        "    print(\"Enjoy the game\")\n",
        "  def healthy(self):\n",
        "    print(\"I am healthy\")\n",
        "  def excitement(self):\n",
        "    print(\"I am Excited\")"
      ],
      "execution_count": 40,
      "outputs": []
    },
    {
      "cell_type": "code",
      "metadata": {
        "id": "iGr3MMHnwTCF",
        "colab_type": "code",
        "colab": {
          "base_uri": "https://localhost:8080/",
          "height": 34
        },
        "outputId": "66992f69-42ef-49c1-f370-b6b14069fb27"
      },
      "source": [
        "my_sports= Sports()"
      ],
      "execution_count": 42,
      "outputs": [
        {
          "output_type": "stream",
          "text": [
            "Enjoy the game\n"
          ],
          "name": "stdout"
        }
      ]
    },
    {
      "cell_type": "code",
      "metadata": {
        "id": "E9MOhV7UwYe6",
        "colab_type": "code",
        "colab": {
          "base_uri": "https://localhost:8080/",
          "height": 34
        },
        "outputId": "5b2c474a-98dc-4e95-ed38-253c152badd5"
      },
      "source": [
        "my_sports.excitement()"
      ],
      "execution_count": 43,
      "outputs": [
        {
          "output_type": "stream",
          "text": [
            "I am Excited\n"
          ],
          "name": "stdout"
        }
      ]
    },
    {
      "cell_type": "code",
      "metadata": {
        "id": "wmDwVR2ywbrD",
        "colab_type": "code",
        "colab": {
          "base_uri": "https://localhost:8080/",
          "height": 34
        },
        "outputId": "e9bd767c-02aa-4a78-afc1-f36ee45ed095"
      },
      "source": [
        "my_sports.healthy()"
      ],
      "execution_count": 44,
      "outputs": [
        {
          "output_type": "stream",
          "text": [
            "I am healthy\n"
          ],
          "name": "stdout"
        }
      ]
    },
    {
      "cell_type": "code",
      "metadata": {
        "id": "gJro2SAGwfWp",
        "colab_type": "code",
        "colab": {}
      },
      "source": [
        "#this is the derived class which will inherit from base class\n",
        "\n",
        "class Football(Sports):\n",
        "  def __init__(self):\n",
        "    Sports.__init__(self) # this way we can create an object of the base class alongwith the derived class inside the derived class \n",
        "\n",
        "    \n",
        "\n"
      ],
      "execution_count": 45,
      "outputs": []
    },
    {
      "cell_type": "code",
      "metadata": {
        "id": "HiSiq_uqxcNw",
        "colab_type": "code",
        "colab": {
          "base_uri": "https://localhost:8080/",
          "height": 34
        },
        "outputId": "9cd2c407-ef86-4323-f46c-72a498d26633"
      },
      "source": [
        "my_football= Football()"
      ],
      "execution_count": 46,
      "outputs": [
        {
          "output_type": "stream",
          "text": [
            "Enjoy the game\n"
          ],
          "name": "stdout"
        }
      ]
    },
    {
      "cell_type": "code",
      "metadata": {
        "id": "zxL-MRKXxhkT",
        "colab_type": "code",
        "colab": {
          "base_uri": "https://localhost:8080/",
          "height": 34
        },
        "outputId": "f8761aa8-76b8-4ef8-96fb-e4bb25af747e"
      },
      "source": [
        "my_football.excitement()"
      ],
      "execution_count": 47,
      "outputs": [
        {
          "output_type": "stream",
          "text": [
            "I am Excited\n"
          ],
          "name": "stdout"
        }
      ]
    },
    {
      "cell_type": "code",
      "metadata": {
        "id": "DXDX5-PFxliH",
        "colab_type": "code",
        "colab": {
          "base_uri": "https://localhost:8080/",
          "height": 34
        },
        "outputId": "a25ed4b3-727d-4ecd-b032-7d8f71382336"
      },
      "source": [
        "my_football.healthy()"
      ],
      "execution_count": 48,
      "outputs": [
        {
          "output_type": "stream",
          "text": [
            "I am healthy\n"
          ],
          "name": "stdout"
        }
      ]
    },
    {
      "cell_type": "code",
      "metadata": {
        "id": "iPfD_0Xhxozg",
        "colab_type": "code",
        "colab": {}
      },
      "source": [
        "class Football(Sports):\n",
        "  def __init__(self):\n",
        "    Sports.__init__(self) # this way we can create an object of the base class alongwith the derived class inside the derived class \n",
        "  def health(self):\n",
        "    print(\"playing football is good for health\")\n",
        "\n",
        "  def world_cup(self):\n",
        "    print(\"every 4 years\")"
      ],
      "execution_count": 49,
      "outputs": []
    },
    {
      "cell_type": "code",
      "metadata": {
        "id": "Ovf6nrCFyPx2",
        "colab_type": "code",
        "colab": {
          "base_uri": "https://localhost:8080/",
          "height": 34
        },
        "outputId": "5fdf6073-7951-437d-8f7d-bbd084eb3a86"
      },
      "source": [
        "my_football= Football()"
      ],
      "execution_count": 50,
      "outputs": [
        {
          "output_type": "stream",
          "text": [
            "Enjoy the game\n"
          ],
          "name": "stdout"
        }
      ]
    },
    {
      "cell_type": "code",
      "metadata": {
        "id": "Vq42oGISxowu",
        "colab_type": "code",
        "colab": {
          "base_uri": "https://localhost:8080/",
          "height": 34
        },
        "outputId": "4b71dc6a-cefd-43f2-c56e-8130c7b9ee03"
      },
      "source": [
        "my_football.world_cup()"
      ],
      "execution_count": 51,
      "outputs": [
        {
          "output_type": "stream",
          "text": [
            "every 4 years\n"
          ],
          "name": "stdout"
        }
      ]
    },
    {
      "cell_type": "code",
      "metadata": {
        "id": "56KW2aJ3xotY",
        "colab_type": "code",
        "colab": {}
      },
      "source": [
        ""
      ],
      "execution_count": null,
      "outputs": []
    }
  ]
}