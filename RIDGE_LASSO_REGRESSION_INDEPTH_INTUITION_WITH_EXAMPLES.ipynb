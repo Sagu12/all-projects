{
  "nbformat": 4,
  "nbformat_minor": 0,
  "metadata": {
    "colab": {
      "name": "RIDGE_LASSO_REGRESSION_INDEPTH_INTUITION_WITH_EXAMPLES.ipynb",
      "provenance": [],
      "collapsed_sections": [],
      "authorship_tag": "ABX9TyMjK221NhD4cC33wKxzIlDX",
      "include_colab_link": true
    },
    "kernelspec": {
      "name": "python3",
      "display_name": "Python 3"
    }
  },
  "cells": [
    {
      "cell_type": "markdown",
      "metadata": {
        "id": "view-in-github",
        "colab_type": "text"
      },
      "source": [
        "<a href=\"https://colab.research.google.com/github/Sagu12/all-projects/blob/master/RIDGE_LASSO_REGRESSION_INDEPTH_INTUITION_WITH_EXAMPLES.ipynb\" target=\"_parent\"><img src=\"https://colab.research.google.com/assets/colab-badge.svg\" alt=\"Open In Colab\"/></a>"
      ]
    },
    {
      "cell_type": "code",
      "metadata": {
        "id": "seIPDybvMpxB",
        "colab_type": "code",
        "colab": {}
      },
      "source": [
        ""
      ],
      "execution_count": null,
      "outputs": []
    },
    {
      "cell_type": "markdown",
      "metadata": {
        "id": "88RiZ4s-v479",
        "colab_type": "text"
      },
      "source": [
        "#Ridge and Lasso Regression?\n",
        "\n",
        "We use Ridge and Lasso to basically convert the high bias and high variance into low bias and low variance so that our model could be called a generalized model which shows equal amount of accuracy in the training and test dataset.\n",
        "\n",
        "The basic concept on which this ridge and lasso works is giving priority in minimization of the cost function.\n",
        "\n",
        "#For Ridge Regression\n",
        "\n",
        "The formula for Ridge Regression is given as \n",
        "\n",
        "summation i=1 to n (y-y^)**2 + λ(slope)**2----> we basically try to reduce this equation value which is also called loss or cost function\n",
        "\n",
        "meaning of steep slope\n",
        "\n",
        "for a unit change in x direction there is a drastic change in the value of slope between two points.\n",
        "\n",
        "So whenever there is a steep slope the it leads to the condition of overfitting.\n",
        "\n",
        "The value of λ ranges from 0 to 1, bhut can be any finite number greater than zero.\n",
        "\n",
        "In ridge regression formula above we saw the additional parameter λ and slope, so it basically means that it overcomes the problem associated with a simple linear regression model. This is done mainly by choosing the best fit line where the summation of cost and λ function goes minimum rather than just choosing the cost function and minimzing it. So in this manner it helps in choosing the best fit line with a greater accuracy.\n",
        "\n",
        "Moreover we can say that we are just penalizing (features that have higher slopes) the point of higher slopes into lower ones so that we achieve the best fit line more accurately.\n",
        "\n",
        "The formula where we have written λ(slope)**2 is just for a single feature, if there are more features in our model then we can simply add the number of slopes here--> λ(slope1 +slope2 +++ slope)**2 \n",
        "\n",
        "This selection of the best fit line in ridge regression is not done instantly rather it goes through successful iterations as is done in gradient descent and then the best fit is selected.\n",
        "\n",
        "So finally when the best fit line is achieved then we can say that with the unit increase in x direction there will be less change in value for the slope i.e., a less steeper slope and minimization of overfitting problem.\n",
        "\n",
        "The selection of lambda in the equation is done through cross validation\n",
        "\n",
        "Also if the value of λ is high say 0.6 then the line will tend to approach to 0 giving rise to a straight line.\n",
        "\n",
        "#For Lasso Regression\n",
        "\n",
        "The formula for lasso is slightly different from ridge regression as:\n",
        "\n",
        "summation i=1 to n (y-y^)**2 + λ|slope|     --------> here || means magnitude of slope\n",
        "\n",
        "lasso regression not only helps in overcomibng the overfitting scenario but it also helps in feature selection.\n",
        "\n",
        "The way it helps in feature selection is, it basically removes those features whose slope value approaches to 0 as was not in the case of ridge regression because in ridge regression the value tends to approach closer to 0 but not converge to 0. But, here as we are not taking squares and just taking the value so the value will approach 0 and we will neglect those features. So, basically we can compare lasso regression with the dropout function in convolution neural network and ridge with the max pooling.\n",
        "\n",
        "\n",
        "\n"
      ]
    },
    {
      "cell_type": "code",
      "metadata": {
        "id": "SiLE4Xw4XLf8",
        "colab_type": "code",
        "colab": {
          "base_uri": "https://localhost:8080/",
          "height": 170
        },
        "outputId": "2112c23f-f516-4db6-f861-cd7bee1f76b7"
      },
      "source": [
        "!pip install pyforest"
      ],
      "execution_count": 1,
      "outputs": [
        {
          "output_type": "stream",
          "text": [
            "Collecting pyforest\n",
            "  Downloading https://files.pythonhosted.org/packages/8f/85/77a9d2d9ff240822039f3dfd7a3b374d0621a0df5feb5d270a2151f6bb6d/pyforest-1.0.3.tar.gz\n",
            "Building wheels for collected packages: pyforest\n",
            "  Building wheel for pyforest (setup.py) ... \u001b[?25l\u001b[?25hdone\n",
            "  Created wheel for pyforest: filename=pyforest-1.0.3-py2.py3-none-any.whl size=13715 sha256=57dd232c291ae9bc4e255054d5c74f07babe73722bfb69b856dee3a84ddc54e6\n",
            "  Stored in directory: /root/.cache/pip/wheels/af/0b/39/340a7f15fc8d4ff5ab50847b28789afea04452a9d51b9721b5\n",
            "Successfully built pyforest\n",
            "Installing collected packages: pyforest\n",
            "Successfully installed pyforest-1.0.3\n"
          ],
          "name": "stdout"
        }
      ]
    },
    {
      "cell_type": "code",
      "metadata": {
        "id": "VgAq3lntXP1v",
        "colab_type": "code",
        "colab": {}
      },
      "source": [
        "from pyforest import *"
      ],
      "execution_count": 2,
      "outputs": []
    },
    {
      "cell_type": "code",
      "metadata": {
        "id": "o7TgHLDaXVO8",
        "colab_type": "code",
        "colab": {}
      },
      "source": [
        "from sklearn.datasets import load_boston"
      ],
      "execution_count": 3,
      "outputs": []
    },
    {
      "cell_type": "code",
      "metadata": {
        "id": "nDonu3pbXbFl",
        "colab_type": "code",
        "colab": {}
      },
      "source": [
        "df= load_boston()"
      ],
      "execution_count": 4,
      "outputs": []
    },
    {
      "cell_type": "code",
      "metadata": {
        "id": "r4Hw1KaCXgKl",
        "colab_type": "code",
        "colab": {
          "base_uri": "https://localhost:8080/",
          "height": 51
        },
        "outputId": "358941c7-f6be-4461-a66e-7cff82f05d18"
      },
      "source": [
        "df.feature_names"
      ],
      "execution_count": 8,
      "outputs": [
        {
          "output_type": "execute_result",
          "data": {
            "text/plain": [
              "array(['CRIM', 'ZN', 'INDUS', 'CHAS', 'NOX', 'RM', 'AGE', 'DIS', 'RAD',\n",
              "       'TAX', 'PTRATIO', 'B', 'LSTAT'], dtype='<U7')"
            ]
          },
          "metadata": {
            "tags": []
          },
          "execution_count": 8
        }
      ]
    },
    {
      "cell_type": "code",
      "metadata": {
        "id": "0qcpB5RuXhIt",
        "colab_type": "code",
        "colab": {
          "base_uri": "https://localhost:8080/",
          "height": 17
        },
        "outputId": "22301d85-de6b-4bb1-d9c1-2d65ad187744"
      },
      "source": [
        "data= pd.DataFrame(df.data, columns=df.feature_names)"
      ],
      "execution_count": 9,
      "outputs": [
        {
          "output_type": "display_data",
          "data": {
            "application/javascript": [
              "\n",
              "        if (window._pyforest_update_imports_cell) { window._pyforest_update_imports_cell('import pydot\\nimport pandas as pd\\nimport plotly as py\\nimport pickle\\nimport spacy\\nimport statistics\\nimport sklearn\\nimport matplotlib.pyplot as plt\\nimport lightgbm as lgb\\nimport sys\\nfrom openpyxl import load_workbook\\nimport plotly.express as px'); }\n",
              "    "
            ],
            "text/plain": [
              "<IPython.core.display.Javascript object>"
            ]
          },
          "metadata": {
            "tags": []
          }
        }
      ]
    },
    {
      "cell_type": "code",
      "metadata": {
        "id": "wNgPjtB_X2v8",
        "colab_type": "code",
        "colab": {
          "base_uri": "https://localhost:8080/",
          "height": 204
        },
        "outputId": "3119bb93-9f10-4fd1-c204-6e886e8665f4"
      },
      "source": [
        "data.head()"
      ],
      "execution_count": 10,
      "outputs": [
        {
          "output_type": "execute_result",
          "data": {
            "text/html": [
              "<div>\n",
              "<style scoped>\n",
              "    .dataframe tbody tr th:only-of-type {\n",
              "        vertical-align: middle;\n",
              "    }\n",
              "\n",
              "    .dataframe tbody tr th {\n",
              "        vertical-align: top;\n",
              "    }\n",
              "\n",
              "    .dataframe thead th {\n",
              "        text-align: right;\n",
              "    }\n",
              "</style>\n",
              "<table border=\"1\" class=\"dataframe\">\n",
              "  <thead>\n",
              "    <tr style=\"text-align: right;\">\n",
              "      <th></th>\n",
              "      <th>CRIM</th>\n",
              "      <th>ZN</th>\n",
              "      <th>INDUS</th>\n",
              "      <th>CHAS</th>\n",
              "      <th>NOX</th>\n",
              "      <th>RM</th>\n",
              "      <th>AGE</th>\n",
              "      <th>DIS</th>\n",
              "      <th>RAD</th>\n",
              "      <th>TAX</th>\n",
              "      <th>PTRATIO</th>\n",
              "      <th>B</th>\n",
              "      <th>LSTAT</th>\n",
              "    </tr>\n",
              "  </thead>\n",
              "  <tbody>\n",
              "    <tr>\n",
              "      <th>0</th>\n",
              "      <td>0.00632</td>\n",
              "      <td>18.0</td>\n",
              "      <td>2.31</td>\n",
              "      <td>0.0</td>\n",
              "      <td>0.538</td>\n",
              "      <td>6.575</td>\n",
              "      <td>65.2</td>\n",
              "      <td>4.0900</td>\n",
              "      <td>1.0</td>\n",
              "      <td>296.0</td>\n",
              "      <td>15.3</td>\n",
              "      <td>396.90</td>\n",
              "      <td>4.98</td>\n",
              "    </tr>\n",
              "    <tr>\n",
              "      <th>1</th>\n",
              "      <td>0.02731</td>\n",
              "      <td>0.0</td>\n",
              "      <td>7.07</td>\n",
              "      <td>0.0</td>\n",
              "      <td>0.469</td>\n",
              "      <td>6.421</td>\n",
              "      <td>78.9</td>\n",
              "      <td>4.9671</td>\n",
              "      <td>2.0</td>\n",
              "      <td>242.0</td>\n",
              "      <td>17.8</td>\n",
              "      <td>396.90</td>\n",
              "      <td>9.14</td>\n",
              "    </tr>\n",
              "    <tr>\n",
              "      <th>2</th>\n",
              "      <td>0.02729</td>\n",
              "      <td>0.0</td>\n",
              "      <td>7.07</td>\n",
              "      <td>0.0</td>\n",
              "      <td>0.469</td>\n",
              "      <td>7.185</td>\n",
              "      <td>61.1</td>\n",
              "      <td>4.9671</td>\n",
              "      <td>2.0</td>\n",
              "      <td>242.0</td>\n",
              "      <td>17.8</td>\n",
              "      <td>392.83</td>\n",
              "      <td>4.03</td>\n",
              "    </tr>\n",
              "    <tr>\n",
              "      <th>3</th>\n",
              "      <td>0.03237</td>\n",
              "      <td>0.0</td>\n",
              "      <td>2.18</td>\n",
              "      <td>0.0</td>\n",
              "      <td>0.458</td>\n",
              "      <td>6.998</td>\n",
              "      <td>45.8</td>\n",
              "      <td>6.0622</td>\n",
              "      <td>3.0</td>\n",
              "      <td>222.0</td>\n",
              "      <td>18.7</td>\n",
              "      <td>394.63</td>\n",
              "      <td>2.94</td>\n",
              "    </tr>\n",
              "    <tr>\n",
              "      <th>4</th>\n",
              "      <td>0.06905</td>\n",
              "      <td>0.0</td>\n",
              "      <td>2.18</td>\n",
              "      <td>0.0</td>\n",
              "      <td>0.458</td>\n",
              "      <td>7.147</td>\n",
              "      <td>54.2</td>\n",
              "      <td>6.0622</td>\n",
              "      <td>3.0</td>\n",
              "      <td>222.0</td>\n",
              "      <td>18.7</td>\n",
              "      <td>396.90</td>\n",
              "      <td>5.33</td>\n",
              "    </tr>\n",
              "  </tbody>\n",
              "</table>\n",
              "</div>"
            ],
            "text/plain": [
              "      CRIM    ZN  INDUS  CHAS    NOX  ...  RAD    TAX  PTRATIO       B  LSTAT\n",
              "0  0.00632  18.0   2.31   0.0  0.538  ...  1.0  296.0     15.3  396.90   4.98\n",
              "1  0.02731   0.0   7.07   0.0  0.469  ...  2.0  242.0     17.8  396.90   9.14\n",
              "2  0.02729   0.0   7.07   0.0  0.469  ...  2.0  242.0     17.8  392.83   4.03\n",
              "3  0.03237   0.0   2.18   0.0  0.458  ...  3.0  222.0     18.7  394.63   2.94\n",
              "4  0.06905   0.0   2.18   0.0  0.458  ...  3.0  222.0     18.7  396.90   5.33\n",
              "\n",
              "[5 rows x 13 columns]"
            ]
          },
          "metadata": {
            "tags": []
          },
          "execution_count": 10
        }
      ]
    },
    {
      "cell_type": "code",
      "metadata": {
        "id": "H3vMS2jGX5cC",
        "colab_type": "code",
        "colab": {}
      },
      "source": [
        "data[\"Price\"]= df.target"
      ],
      "execution_count": 14,
      "outputs": []
    },
    {
      "cell_type": "code",
      "metadata": {
        "id": "8tzuhrDlX-hf",
        "colab_type": "code",
        "colab": {
          "base_uri": "https://localhost:8080/",
          "height": 204
        },
        "outputId": "d63583a2-139f-48aa-81a7-7131b02cf85f"
      },
      "source": [
        "data.head()"
      ],
      "execution_count": 15,
      "outputs": [
        {
          "output_type": "execute_result",
          "data": {
            "text/html": [
              "<div>\n",
              "<style scoped>\n",
              "    .dataframe tbody tr th:only-of-type {\n",
              "        vertical-align: middle;\n",
              "    }\n",
              "\n",
              "    .dataframe tbody tr th {\n",
              "        vertical-align: top;\n",
              "    }\n",
              "\n",
              "    .dataframe thead th {\n",
              "        text-align: right;\n",
              "    }\n",
              "</style>\n",
              "<table border=\"1\" class=\"dataframe\">\n",
              "  <thead>\n",
              "    <tr style=\"text-align: right;\">\n",
              "      <th></th>\n",
              "      <th>CRIM</th>\n",
              "      <th>ZN</th>\n",
              "      <th>INDUS</th>\n",
              "      <th>CHAS</th>\n",
              "      <th>NOX</th>\n",
              "      <th>RM</th>\n",
              "      <th>AGE</th>\n",
              "      <th>DIS</th>\n",
              "      <th>RAD</th>\n",
              "      <th>TAX</th>\n",
              "      <th>PTRATIO</th>\n",
              "      <th>B</th>\n",
              "      <th>LSTAT</th>\n",
              "      <th>targets</th>\n",
              "      <th>Price</th>\n",
              "    </tr>\n",
              "  </thead>\n",
              "  <tbody>\n",
              "    <tr>\n",
              "      <th>0</th>\n",
              "      <td>0.00632</td>\n",
              "      <td>18.0</td>\n",
              "      <td>2.31</td>\n",
              "      <td>0.0</td>\n",
              "      <td>0.538</td>\n",
              "      <td>6.575</td>\n",
              "      <td>65.2</td>\n",
              "      <td>4.0900</td>\n",
              "      <td>1.0</td>\n",
              "      <td>296.0</td>\n",
              "      <td>15.3</td>\n",
              "      <td>396.90</td>\n",
              "      <td>4.98</td>\n",
              "      <td>24.0</td>\n",
              "      <td>24.0</td>\n",
              "    </tr>\n",
              "    <tr>\n",
              "      <th>1</th>\n",
              "      <td>0.02731</td>\n",
              "      <td>0.0</td>\n",
              "      <td>7.07</td>\n",
              "      <td>0.0</td>\n",
              "      <td>0.469</td>\n",
              "      <td>6.421</td>\n",
              "      <td>78.9</td>\n",
              "      <td>4.9671</td>\n",
              "      <td>2.0</td>\n",
              "      <td>242.0</td>\n",
              "      <td>17.8</td>\n",
              "      <td>396.90</td>\n",
              "      <td>9.14</td>\n",
              "      <td>21.6</td>\n",
              "      <td>21.6</td>\n",
              "    </tr>\n",
              "    <tr>\n",
              "      <th>2</th>\n",
              "      <td>0.02729</td>\n",
              "      <td>0.0</td>\n",
              "      <td>7.07</td>\n",
              "      <td>0.0</td>\n",
              "      <td>0.469</td>\n",
              "      <td>7.185</td>\n",
              "      <td>61.1</td>\n",
              "      <td>4.9671</td>\n",
              "      <td>2.0</td>\n",
              "      <td>242.0</td>\n",
              "      <td>17.8</td>\n",
              "      <td>392.83</td>\n",
              "      <td>4.03</td>\n",
              "      <td>34.7</td>\n",
              "      <td>34.7</td>\n",
              "    </tr>\n",
              "    <tr>\n",
              "      <th>3</th>\n",
              "      <td>0.03237</td>\n",
              "      <td>0.0</td>\n",
              "      <td>2.18</td>\n",
              "      <td>0.0</td>\n",
              "      <td>0.458</td>\n",
              "      <td>6.998</td>\n",
              "      <td>45.8</td>\n",
              "      <td>6.0622</td>\n",
              "      <td>3.0</td>\n",
              "      <td>222.0</td>\n",
              "      <td>18.7</td>\n",
              "      <td>394.63</td>\n",
              "      <td>2.94</td>\n",
              "      <td>33.4</td>\n",
              "      <td>33.4</td>\n",
              "    </tr>\n",
              "    <tr>\n",
              "      <th>4</th>\n",
              "      <td>0.06905</td>\n",
              "      <td>0.0</td>\n",
              "      <td>2.18</td>\n",
              "      <td>0.0</td>\n",
              "      <td>0.458</td>\n",
              "      <td>7.147</td>\n",
              "      <td>54.2</td>\n",
              "      <td>6.0622</td>\n",
              "      <td>3.0</td>\n",
              "      <td>222.0</td>\n",
              "      <td>18.7</td>\n",
              "      <td>396.90</td>\n",
              "      <td>5.33</td>\n",
              "      <td>36.2</td>\n",
              "      <td>36.2</td>\n",
              "    </tr>\n",
              "  </tbody>\n",
              "</table>\n",
              "</div>"
            ],
            "text/plain": [
              "      CRIM    ZN  INDUS  CHAS    NOX  ...  PTRATIO       B  LSTAT  targets  Price\n",
              "0  0.00632  18.0   2.31   0.0  0.538  ...     15.3  396.90   4.98     24.0   24.0\n",
              "1  0.02731   0.0   7.07   0.0  0.469  ...     17.8  396.90   9.14     21.6   21.6\n",
              "2  0.02729   0.0   7.07   0.0  0.469  ...     17.8  392.83   4.03     34.7   34.7\n",
              "3  0.03237   0.0   2.18   0.0  0.458  ...     18.7  394.63   2.94     33.4   33.4\n",
              "4  0.06905   0.0   2.18   0.0  0.458  ...     18.7  396.90   5.33     36.2   36.2\n",
              "\n",
              "[5 rows x 15 columns]"
            ]
          },
          "metadata": {
            "tags": []
          },
          "execution_count": 15
        }
      ]
    },
    {
      "cell_type": "code",
      "metadata": {
        "id": "Xpiw7BsVcvZ6",
        "colab_type": "code",
        "colab": {}
      },
      "source": [
        "X= data.drop([\"targets\",\"Price\"], axis=1)"
      ],
      "execution_count": 25,
      "outputs": []
    },
    {
      "cell_type": "code",
      "metadata": {
        "id": "ZqEtbMhfc1wh",
        "colab_type": "code",
        "colab": {
          "base_uri": "https://localhost:8080/",
          "height": 204
        },
        "outputId": "50956d2d-60f6-4852-bfd5-cff3d9cc7797"
      },
      "source": [
        "X.head()"
      ],
      "execution_count": 26,
      "outputs": [
        {
          "output_type": "execute_result",
          "data": {
            "text/html": [
              "<div>\n",
              "<style scoped>\n",
              "    .dataframe tbody tr th:only-of-type {\n",
              "        vertical-align: middle;\n",
              "    }\n",
              "\n",
              "    .dataframe tbody tr th {\n",
              "        vertical-align: top;\n",
              "    }\n",
              "\n",
              "    .dataframe thead th {\n",
              "        text-align: right;\n",
              "    }\n",
              "</style>\n",
              "<table border=\"1\" class=\"dataframe\">\n",
              "  <thead>\n",
              "    <tr style=\"text-align: right;\">\n",
              "      <th></th>\n",
              "      <th>CRIM</th>\n",
              "      <th>ZN</th>\n",
              "      <th>INDUS</th>\n",
              "      <th>CHAS</th>\n",
              "      <th>NOX</th>\n",
              "      <th>RM</th>\n",
              "      <th>AGE</th>\n",
              "      <th>DIS</th>\n",
              "      <th>RAD</th>\n",
              "      <th>TAX</th>\n",
              "      <th>PTRATIO</th>\n",
              "      <th>B</th>\n",
              "      <th>LSTAT</th>\n",
              "    </tr>\n",
              "  </thead>\n",
              "  <tbody>\n",
              "    <tr>\n",
              "      <th>0</th>\n",
              "      <td>0.00632</td>\n",
              "      <td>18.0</td>\n",
              "      <td>2.31</td>\n",
              "      <td>0.0</td>\n",
              "      <td>0.538</td>\n",
              "      <td>6.575</td>\n",
              "      <td>65.2</td>\n",
              "      <td>4.0900</td>\n",
              "      <td>1.0</td>\n",
              "      <td>296.0</td>\n",
              "      <td>15.3</td>\n",
              "      <td>396.90</td>\n",
              "      <td>4.98</td>\n",
              "    </tr>\n",
              "    <tr>\n",
              "      <th>1</th>\n",
              "      <td>0.02731</td>\n",
              "      <td>0.0</td>\n",
              "      <td>7.07</td>\n",
              "      <td>0.0</td>\n",
              "      <td>0.469</td>\n",
              "      <td>6.421</td>\n",
              "      <td>78.9</td>\n",
              "      <td>4.9671</td>\n",
              "      <td>2.0</td>\n",
              "      <td>242.0</td>\n",
              "      <td>17.8</td>\n",
              "      <td>396.90</td>\n",
              "      <td>9.14</td>\n",
              "    </tr>\n",
              "    <tr>\n",
              "      <th>2</th>\n",
              "      <td>0.02729</td>\n",
              "      <td>0.0</td>\n",
              "      <td>7.07</td>\n",
              "      <td>0.0</td>\n",
              "      <td>0.469</td>\n",
              "      <td>7.185</td>\n",
              "      <td>61.1</td>\n",
              "      <td>4.9671</td>\n",
              "      <td>2.0</td>\n",
              "      <td>242.0</td>\n",
              "      <td>17.8</td>\n",
              "      <td>392.83</td>\n",
              "      <td>4.03</td>\n",
              "    </tr>\n",
              "    <tr>\n",
              "      <th>3</th>\n",
              "      <td>0.03237</td>\n",
              "      <td>0.0</td>\n",
              "      <td>2.18</td>\n",
              "      <td>0.0</td>\n",
              "      <td>0.458</td>\n",
              "      <td>6.998</td>\n",
              "      <td>45.8</td>\n",
              "      <td>6.0622</td>\n",
              "      <td>3.0</td>\n",
              "      <td>222.0</td>\n",
              "      <td>18.7</td>\n",
              "      <td>394.63</td>\n",
              "      <td>2.94</td>\n",
              "    </tr>\n",
              "    <tr>\n",
              "      <th>4</th>\n",
              "      <td>0.06905</td>\n",
              "      <td>0.0</td>\n",
              "      <td>2.18</td>\n",
              "      <td>0.0</td>\n",
              "      <td>0.458</td>\n",
              "      <td>7.147</td>\n",
              "      <td>54.2</td>\n",
              "      <td>6.0622</td>\n",
              "      <td>3.0</td>\n",
              "      <td>222.0</td>\n",
              "      <td>18.7</td>\n",
              "      <td>396.90</td>\n",
              "      <td>5.33</td>\n",
              "    </tr>\n",
              "  </tbody>\n",
              "</table>\n",
              "</div>"
            ],
            "text/plain": [
              "      CRIM    ZN  INDUS  CHAS    NOX  ...  RAD    TAX  PTRATIO       B  LSTAT\n",
              "0  0.00632  18.0   2.31   0.0  0.538  ...  1.0  296.0     15.3  396.90   4.98\n",
              "1  0.02731   0.0   7.07   0.0  0.469  ...  2.0  242.0     17.8  396.90   9.14\n",
              "2  0.02729   0.0   7.07   0.0  0.469  ...  2.0  242.0     17.8  392.83   4.03\n",
              "3  0.03237   0.0   2.18   0.0  0.458  ...  3.0  222.0     18.7  394.63   2.94\n",
              "4  0.06905   0.0   2.18   0.0  0.458  ...  3.0  222.0     18.7  396.90   5.33\n",
              "\n",
              "[5 rows x 13 columns]"
            ]
          },
          "metadata": {
            "tags": []
          },
          "execution_count": 26
        }
      ]
    },
    {
      "cell_type": "code",
      "metadata": {
        "id": "pZGDEfGHdMTK",
        "colab_type": "code",
        "colab": {}
      },
      "source": [
        "y= data.Price"
      ],
      "execution_count": 27,
      "outputs": []
    },
    {
      "cell_type": "code",
      "metadata": {
        "id": "KvZr2eXmdR3p",
        "colab_type": "code",
        "colab": {
          "base_uri": "https://localhost:8080/",
          "height": 119
        },
        "outputId": "3e7d78de-8fd8-4c41-e40e-e90f6fa2fe7d"
      },
      "source": [
        "y.head()"
      ],
      "execution_count": 28,
      "outputs": [
        {
          "output_type": "execute_result",
          "data": {
            "text/plain": [
              "0    24.0\n",
              "1    21.6\n",
              "2    34.7\n",
              "3    33.4\n",
              "4    36.2\n",
              "Name: Price, dtype: float64"
            ]
          },
          "metadata": {
            "tags": []
          },
          "execution_count": 28
        }
      ]
    },
    {
      "cell_type": "code",
      "metadata": {
        "id": "WyXBazfodThB",
        "colab_type": "code",
        "colab": {}
      },
      "source": [
        ""
      ],
      "execution_count": null,
      "outputs": []
    },
    {
      "cell_type": "code",
      "metadata": {
        "id": "hM-z2aK7YAIm",
        "colab_type": "code",
        "colab": {}
      },
      "source": [
        "#performing ridge regression and selecting the best value of alpha/lambda using hyperparameter tuning technique using grid search cv"
      ],
      "execution_count": 16,
      "outputs": []
    },
    {
      "cell_type": "code",
      "metadata": {
        "id": "c5xcI57fZg6I",
        "colab_type": "code",
        "colab": {}
      },
      "source": [
        "from sklearn.linear_model import LinearRegression, Ridge, Lasso"
      ],
      "execution_count": 17,
      "outputs": []
    },
    {
      "cell_type": "code",
      "metadata": {
        "id": "1g61JeAuatAr",
        "colab_type": "code",
        "colab": {}
      },
      "source": [
        "from sklearn.model_selection import GridSearchCV"
      ],
      "execution_count": 18,
      "outputs": []
    },
    {
      "cell_type": "code",
      "metadata": {
        "id": "4nyql3jMaxnc",
        "colab_type": "code",
        "colab": {}
      },
      "source": [
        "from sklearn.model_selection import cross_val_score"
      ],
      "execution_count": 19,
      "outputs": []
    },
    {
      "cell_type": "code",
      "metadata": {
        "id": "ajreNx2acOjS",
        "colab_type": "code",
        "colab": {}
      },
      "source": [
        "model= LinearRegression()"
      ],
      "execution_count": 20,
      "outputs": []
    },
    {
      "cell_type": "code",
      "metadata": {
        "id": "pjXG_7EIcmop",
        "colab_type": "code",
        "colab": {
          "base_uri": "https://localhost:8080/",
          "height": 34
        },
        "outputId": "73d23239-c1b3-4888-ae82-fa543d2dc1c7"
      },
      "source": [
        "mse= cross_val_score(model,X,y,scoring=\"neg_mean_squared_error\", cv=5)\n",
        "\n",
        "mean_mse= np.mean(mse)\n",
        "\n",
        "print(mean_mse)"
      ],
      "execution_count": 30,
      "outputs": [
        {
          "output_type": "display_data",
          "data": {
            "application/javascript": [
              "\n",
              "        if (window._pyforest_update_imports_cell) { window._pyforest_update_imports_cell('import numpy as np\\nimport pandas as pd\\nimport pydot\\nimport plotly as py\\nfrom sklearn import svm\\nimport nltk\\nimport re\\nfrom openpyxl import load_workbook\\nimport pickle\\nimport spacy\\nimport statistics\\nimport bokeh\\nimport matplotlib.pyplot as plt\\nimport altair as alt\\nimport sklearn\\nimport seaborn as sns\\nimport lightgbm as lgb\\nimport sys\\nimport matplotlib as mpl\\nimport plotly.express as px'); }\n",
              "    "
            ],
            "text/plain": [
              "<IPython.core.display.Javascript object>"
            ]
          },
          "metadata": {
            "tags": []
          }
        },
        {
          "output_type": "stream",
          "text": [
            "-37.13180746769886\n"
          ],
          "name": "stdout"
        }
      ]
    },
    {
      "cell_type": "code",
      "metadata": {
        "id": "BU6iXEKkd5wp",
        "colab_type": "code",
        "colab": {}
      },
      "source": [
        "ridge= Ridge()"
      ],
      "execution_count": 31,
      "outputs": []
    },
    {
      "cell_type": "code",
      "metadata": {
        "id": "C5CFwnfDpUwY",
        "colab_type": "code",
        "colab": {
          "base_uri": "https://localhost:8080/",
          "height": 170
        },
        "outputId": "0daddf14-593f-4234-e7c6-dbf58da9c509"
      },
      "source": [
        "parameters= {\"alpha\":[1e-15,1e-10,1e-8,1e-3,1e-2,1,5,10,20,30,40,50,60,70,80,90,100]}\n",
        "\n",
        "ridge_regressor= GridSearchCV(ridge,parameters,scoring=\"neg_mean_squared_error\", cv=10)\n",
        "\n",
        "ridge_regressor.fit(X,y)"
      ],
      "execution_count": 32,
      "outputs": [
        {
          "output_type": "execute_result",
          "data": {
            "text/plain": [
              "GridSearchCV(cv=10, error_score=nan,\n",
              "             estimator=Ridge(alpha=1.0, copy_X=True, fit_intercept=True,\n",
              "                             max_iter=None, normalize=False, random_state=None,\n",
              "                             solver='auto', tol=0.001),\n",
              "             iid='deprecated', n_jobs=None,\n",
              "             param_grid={'alpha': [1e-15, 1e-10, 1e-08, 0.001, 0.01, 1, 5, 10,\n",
              "                                   20, 30, 40, 50, 60, 70, 80, 90, 100]},\n",
              "             pre_dispatch='2*n_jobs', refit=True, return_train_score=False,\n",
              "             scoring='neg_mean_squared_error', verbose=0)"
            ]
          },
          "metadata": {
            "tags": []
          },
          "execution_count": 32
        }
      ]
    },
    {
      "cell_type": "code",
      "metadata": {
        "id": "M1vRIaYWq5Mn",
        "colab_type": "code",
        "colab": {
          "base_uri": "https://localhost:8080/",
          "height": 34
        },
        "outputId": "943070cc-d2d5-4a3e-86d6-6f7d9b35fc05"
      },
      "source": [
        "ridge_regressor.best_params_"
      ],
      "execution_count": 33,
      "outputs": [
        {
          "output_type": "execute_result",
          "data": {
            "text/plain": [
              "{'alpha': 100}"
            ]
          },
          "metadata": {
            "tags": []
          },
          "execution_count": 33
        }
      ]
    },
    {
      "cell_type": "code",
      "metadata": {
        "id": "fRq4ucrZrJdH",
        "colab_type": "code",
        "colab": {
          "base_uri": "https://localhost:8080/",
          "height": 187
        },
        "outputId": "5880ee4d-a45c-4861-bbee-d101d994a35e"
      },
      "source": [
        "ridge_regressor.best_score_, ridge_regressor.score"
      ],
      "execution_count": 49,
      "outputs": [
        {
          "output_type": "execute_result",
          "data": {
            "text/plain": [
              "(-29.61522009733512,\n",
              " <bound method BaseSearchCV.score of GridSearchCV(cv=10, error_score=nan,\n",
              "              estimator=Ridge(alpha=1.0, copy_X=True, fit_intercept=True,\n",
              "                              max_iter=None, normalize=False, random_state=None,\n",
              "                              solver='auto', tol=0.001),\n",
              "              iid='deprecated', n_jobs=None,\n",
              "              param_grid={'alpha': [1e-15, 1e-10, 1e-08, 0.001, 0.01, 1, 5, 10,\n",
              "                                    20, 30, 40, 50, 60, 70, 80, 90, 100]},\n",
              "              pre_dispatch='2*n_jobs', refit=True, return_train_score=False,\n",
              "              scoring='neg_mean_squared_error', verbose=0)>)"
            ]
          },
          "metadata": {
            "tags": []
          },
          "execution_count": 49
        }
      ]
    },
    {
      "cell_type": "code",
      "metadata": {
        "id": "WbT6ZduPxUg5",
        "colab_type": "code",
        "colab": {}
      },
      "source": [
        ""
      ],
      "execution_count": null,
      "outputs": []
    },
    {
      "cell_type": "code",
      "metadata": {
        "id": "oJZkEAADrOnX",
        "colab_type": "code",
        "colab": {
          "base_uri": "https://localhost:8080/",
          "height": 51
        },
        "outputId": "cb1024d4-6502-4ddb-dd15-830274bb00f4"
      },
      "source": [
        "ridge_regressor.best_estimator_"
      ],
      "execution_count": 35,
      "outputs": [
        {
          "output_type": "execute_result",
          "data": {
            "text/plain": [
              "Ridge(alpha=100, copy_X=True, fit_intercept=True, max_iter=None,\n",
              "      normalize=False, random_state=None, solver='auto', tol=0.001)"
            ]
          },
          "metadata": {
            "tags": []
          },
          "execution_count": 35
        }
      ]
    },
    {
      "cell_type": "code",
      "metadata": {
        "id": "jbvtQWTnrVaW",
        "colab_type": "code",
        "colab": {
          "base_uri": "https://localhost:8080/",
          "height": 1000
        },
        "outputId": "550edb8a-45c7-4c89-c6be-ea0d3766c7a2"
      },
      "source": [
        "ridge_regressor.cv_results_"
      ],
      "execution_count": 38,
      "outputs": [
        {
          "output_type": "execute_result",
          "data": {
            "text/plain": [
              "{'mean_fit_time': array([0.00264988, 0.00195441, 0.00183296, 0.00189421, 0.00189497,\n",
              "        0.00188582, 0.00188415, 0.00194638, 0.00185471, 0.00185597,\n",
              "        0.0018749 , 0.0019558 , 0.00216732, 0.00224824, 0.00203075,\n",
              "        0.00187466, 0.00196943]),\n",
              " 'mean_score_time': array([0.00098093, 0.0009506 , 0.00092509, 0.00093627, 0.00091834,\n",
              "        0.00093317, 0.00092363, 0.00093074, 0.00090477, 0.00091279,\n",
              "        0.00091102, 0.00093682, 0.00105159, 0.00109487, 0.00096939,\n",
              "        0.00093462, 0.00094209]),\n",
              " 'mean_test_score': array([-34.70525594, -34.70525594, -34.70525593, -34.70368109,\n",
              "        -34.68970177, -34.07824621, -33.55878726, -33.00581779,\n",
              "        -32.0894694 , -31.4090678 , -30.90175647, -30.51977513,\n",
              "        -30.22993781, -30.00900266, -29.84039921, -29.71209814,\n",
              "        -29.6152201 ]),\n",
              " 'param_alpha': masked_array(data=[1e-15, 1e-10, 1e-08, 0.001, 0.01, 1, 5, 10, 20, 30, 40,\n",
              "                    50, 60, 70, 80, 90, 100],\n",
              "              mask=[False, False, False, False, False, False, False, False,\n",
              "                    False, False, False, False, False, False, False, False,\n",
              "                    False],\n",
              "        fill_value='?',\n",
              "             dtype=object),\n",
              " 'params': [{'alpha': 1e-15},\n",
              "  {'alpha': 1e-10},\n",
              "  {'alpha': 1e-08},\n",
              "  {'alpha': 0.001},\n",
              "  {'alpha': 0.01},\n",
              "  {'alpha': 1},\n",
              "  {'alpha': 5},\n",
              "  {'alpha': 10},\n",
              "  {'alpha': 20},\n",
              "  {'alpha': 30},\n",
              "  {'alpha': 40},\n",
              "  {'alpha': 50},\n",
              "  {'alpha': 60},\n",
              "  {'alpha': 70},\n",
              "  {'alpha': 80},\n",
              "  {'alpha': 90},\n",
              "  {'alpha': 100}],\n",
              " 'rank_test_score': array([17, 16, 15, 14, 13, 12, 11, 10,  9,  8,  7,  6,  5,  4,  3,  2,  1],\n",
              "       dtype=int32),\n",
              " 'split0_test_score': array([ -9.28694671,  -9.28694671,  -9.2869467 ,  -9.28683401,\n",
              "         -9.28585077,  -9.31766315,  -9.54213569,  -9.67439935,\n",
              "         -9.83924836,  -9.96616636, -10.07472578, -10.17004543,\n",
              "        -10.25467037, -10.33034844, -10.39844862, -10.46009749,\n",
              "        -10.51624013]),\n",
              " 'split1_test_score': array([-14.15128316, -14.15128316, -14.15128313, -14.14835958,\n",
              "        -14.12227309, -12.60806897, -11.67430551, -11.67195551,\n",
              "        -11.99121293, -12.34922788, -12.68764549, -12.99974538,\n",
              "        -13.2864224 , -13.55005023, -13.79314413, -14.01802338,\n",
              "        -14.22673823]),\n",
              " 'split2_test_score': array([-14.07360615, -14.07360615, -14.07360607, -14.06495225,\n",
              "        -13.9881773 , -10.79859434,  -9.95382702,  -9.91945136,\n",
              "         -9.987773  , -10.1099027 , -10.2491002 , -10.38976329,\n",
              "        -10.52474562, -10.65084714, -10.76681458, -10.87238681,\n",
              "        -10.96781217]),\n",
              " 'split3_test_score': array([-35.20692433, -35.20692433, -35.20692435, -35.20889555,\n",
              "        -35.2265784 , -36.6093648 , -38.38147881, -39.21826218,\n",
              "        -40.33970424, -41.2739229 , -42.11112668, -42.8729778 ,\n",
              "        -43.57113632, -44.21424815, -44.8093589 , -45.36237281,\n",
              "        -45.87828954]),\n",
              " 'split4_test_score': array([-31.88511666, -31.88511666, -31.88511662, -31.88078576,\n",
              "        -31.84215286, -29.62109212, -28.15742602, -28.10404548,\n",
              "        -28.70598779, -29.46504233, -30.20753362, -30.8995722 ,\n",
              "        -31.53631348, -32.12066437, -32.65753492, -33.1520451 ,\n",
              "        -33.60895015]),\n",
              " 'split5_test_score': array([-19.83587796, -19.83587796, -19.83587794, -19.83347614,\n",
              "        -19.81205925, -18.62598134, -18.0781575 , -18.29283964,\n",
              "        -18.97987631, -19.68514125, -20.35201292, -20.97405925,\n",
              "        -21.55371084, -22.09519472, -22.60280015, -23.08042113,\n",
              "        -23.53146645]),\n",
              " 'split6_test_score': array([ -9.94726918,  -9.94726918,  -9.94726917,  -9.94591639,\n",
              "         -9.93390698,  -9.46641896,  -9.65122146,  -9.92956853,\n",
              "        -10.34639483, -10.67895494, -10.96502933, -11.21934994,\n",
              "        -11.44983027, -11.6614662 , -11.85772213, -12.04114805,\n",
              "        -12.21369774]),\n",
              " 'split7_test_score': array([-168.37537954, -168.37537954, -168.37537955, -168.37663573,\n",
              "        -168.38777717, -168.49831117, -163.78384514, -157.08135458,\n",
              "        -145.5202211 , -136.33119399, -128.94833839, -122.92242873,\n",
              "        -117.93051788, -113.74004454, -110.18095415, -107.12672494,\n",
              "        -104.48163311]),\n",
              " 'split8_test_score': array([-33.32974507, -33.32974507, -33.32974507, -33.33023038,\n",
              "        -33.33462783, -33.79749469, -34.01073538, -33.44266935,\n",
              "        -32.13086557, -30.98274379, -30.02669369, -29.23346011,\n",
              "        -28.57193526, -28.01613303, -27.54542903, -27.14364999,\n",
              "        -26.79810777]),\n",
              " 'split9_test_score': array([-10.96041068, -10.96041068, -10.96041068, -10.96072509,\n",
              "        -10.96361399, -11.43947255, -12.35474002, -12.72363197,\n",
              "        -13.05340991, -13.24838184, -13.39535862, -13.51634921,\n",
              "        -13.62009561, -13.71102976, -13.79178548, -13.86411175,\n",
              "        -13.92926568]),\n",
              " 'std_fit_time': array([1.91197948e-03, 1.35830737e-04, 2.04579257e-05, 5.49604678e-05,\n",
              "        3.80835080e-05, 2.31076807e-05, 2.73627364e-05, 7.69589950e-05,\n",
              "        2.21631326e-05, 2.17829657e-05, 6.20635618e-05, 1.16159910e-04,\n",
              "        3.16931266e-04, 1.59795374e-04, 1.45392107e-04, 3.12412866e-05,\n",
              "        1.33541275e-04]),\n",
              " 'std_score_time': array([1.05192431e-04, 5.66080672e-05, 3.99981471e-05, 5.30796011e-05,\n",
              "        3.81019147e-05, 2.22200488e-05, 1.82024427e-05, 2.55666104e-05,\n",
              "        1.64202564e-05, 2.11075861e-05, 1.78423933e-05, 3.43321181e-05,\n",
              "        1.23641082e-04, 1.22117140e-04, 6.02350703e-05, 8.10903928e-05,\n",
              "        4.47132672e-05]),\n",
              " 'std_test_score': array([45.5739992 , 45.5739992 , 45.57399921, 45.57506062, 45.58448981,\n",
              "        45.90003404, 44.59255596, 42.60325417, 39.16700523, 36.44675214,\n",
              "        34.27437131, 32.51411198, 31.06779642, 29.86448748, 28.85221075,\n",
              "        27.99225647, 27.25532914])}"
            ]
          },
          "metadata": {
            "tags": []
          },
          "execution_count": 38
        }
      ]
    },
    {
      "cell_type": "code",
      "metadata": {
        "id": "vey-tbfasj7C",
        "colab_type": "code",
        "colab": {
          "base_uri": "https://localhost:8080/",
          "height": 17
        },
        "outputId": "1c1bd4d1-a794-4cee-8200-c495f9f96c24"
      },
      "source": [
        "df2= pd.DataFrame(ridge_regressor.cv_results_)"
      ],
      "execution_count": 39,
      "outputs": [
        {
          "output_type": "display_data",
          "data": {
            "application/javascript": [
              "\n",
              "        if (window._pyforest_update_imports_cell) { window._pyforest_update_imports_cell('import numpy as np\\nimport statistics\\nimport sklearn\\nimport pydot\\nfrom sklearn import svm\\nimport re\\nimport pickle\\nimport sys\\nimport bokeh\\nimport matplotlib.pyplot as plt\\nimport altair as alt\\nfrom sklearn.ensemble import RandomForestClassifier\\nfrom sklearn.ensemble import RandomForestRegressor\\nimport pandas as pd\\nfrom sklearn.ensemble import GradientBoostingRegressor\\nimport plotly as py\\nfrom sklearn.ensemble import GradientBoostingClassifier\\nimport matplotlib as mpl\\nimport lightgbm as lgb\\nimport nltk\\nimport plotly.express as px\\nimport spacy\\nimport seaborn as sns\\nfrom openpyxl import load_workbook'); }\n",
              "    "
            ],
            "text/plain": [
              "<IPython.core.display.Javascript object>"
            ]
          },
          "metadata": {
            "tags": []
          }
        }
      ]
    },
    {
      "cell_type": "code",
      "metadata": {
        "id": "eu0KFHthsTtv",
        "colab_type": "code",
        "colab": {
          "base_uri": "https://localhost:8080/",
          "height": 885
        },
        "outputId": "7e15cde2-6e78-4fac-cb6e-2b5cfc51060a"
      },
      "source": [
        "df2"
      ],
      "execution_count": 40,
      "outputs": [
        {
          "output_type": "execute_result",
          "data": {
            "text/html": [
              "<div>\n",
              "<style scoped>\n",
              "    .dataframe tbody tr th:only-of-type {\n",
              "        vertical-align: middle;\n",
              "    }\n",
              "\n",
              "    .dataframe tbody tr th {\n",
              "        vertical-align: top;\n",
              "    }\n",
              "\n",
              "    .dataframe thead th {\n",
              "        text-align: right;\n",
              "    }\n",
              "</style>\n",
              "<table border=\"1\" class=\"dataframe\">\n",
              "  <thead>\n",
              "    <tr style=\"text-align: right;\">\n",
              "      <th></th>\n",
              "      <th>mean_fit_time</th>\n",
              "      <th>std_fit_time</th>\n",
              "      <th>mean_score_time</th>\n",
              "      <th>std_score_time</th>\n",
              "      <th>param_alpha</th>\n",
              "      <th>params</th>\n",
              "      <th>split0_test_score</th>\n",
              "      <th>split1_test_score</th>\n",
              "      <th>split2_test_score</th>\n",
              "      <th>split3_test_score</th>\n",
              "      <th>split4_test_score</th>\n",
              "      <th>split5_test_score</th>\n",
              "      <th>split6_test_score</th>\n",
              "      <th>split7_test_score</th>\n",
              "      <th>split8_test_score</th>\n",
              "      <th>split9_test_score</th>\n",
              "      <th>mean_test_score</th>\n",
              "      <th>std_test_score</th>\n",
              "      <th>rank_test_score</th>\n",
              "    </tr>\n",
              "  </thead>\n",
              "  <tbody>\n",
              "    <tr>\n",
              "      <th>0</th>\n",
              "      <td>0.002650</td>\n",
              "      <td>0.001912</td>\n",
              "      <td>0.000981</td>\n",
              "      <td>0.000105</td>\n",
              "      <td>1e-15</td>\n",
              "      <td>{'alpha': 1e-15}</td>\n",
              "      <td>-9.286947</td>\n",
              "      <td>-14.151283</td>\n",
              "      <td>-14.073606</td>\n",
              "      <td>-35.206924</td>\n",
              "      <td>-31.885117</td>\n",
              "      <td>-19.835878</td>\n",
              "      <td>-9.947269</td>\n",
              "      <td>-168.375380</td>\n",
              "      <td>-33.329745</td>\n",
              "      <td>-10.960411</td>\n",
              "      <td>-34.705256</td>\n",
              "      <td>45.573999</td>\n",
              "      <td>17</td>\n",
              "    </tr>\n",
              "    <tr>\n",
              "      <th>1</th>\n",
              "      <td>0.001954</td>\n",
              "      <td>0.000136</td>\n",
              "      <td>0.000951</td>\n",
              "      <td>0.000057</td>\n",
              "      <td>1e-10</td>\n",
              "      <td>{'alpha': 1e-10}</td>\n",
              "      <td>-9.286947</td>\n",
              "      <td>-14.151283</td>\n",
              "      <td>-14.073606</td>\n",
              "      <td>-35.206924</td>\n",
              "      <td>-31.885117</td>\n",
              "      <td>-19.835878</td>\n",
              "      <td>-9.947269</td>\n",
              "      <td>-168.375380</td>\n",
              "      <td>-33.329745</td>\n",
              "      <td>-10.960411</td>\n",
              "      <td>-34.705256</td>\n",
              "      <td>45.573999</td>\n",
              "      <td>16</td>\n",
              "    </tr>\n",
              "    <tr>\n",
              "      <th>2</th>\n",
              "      <td>0.001833</td>\n",
              "      <td>0.000020</td>\n",
              "      <td>0.000925</td>\n",
              "      <td>0.000040</td>\n",
              "      <td>1e-08</td>\n",
              "      <td>{'alpha': 1e-08}</td>\n",
              "      <td>-9.286947</td>\n",
              "      <td>-14.151283</td>\n",
              "      <td>-14.073606</td>\n",
              "      <td>-35.206924</td>\n",
              "      <td>-31.885117</td>\n",
              "      <td>-19.835878</td>\n",
              "      <td>-9.947269</td>\n",
              "      <td>-168.375380</td>\n",
              "      <td>-33.329745</td>\n",
              "      <td>-10.960411</td>\n",
              "      <td>-34.705256</td>\n",
              "      <td>45.573999</td>\n",
              "      <td>15</td>\n",
              "    </tr>\n",
              "    <tr>\n",
              "      <th>3</th>\n",
              "      <td>0.001894</td>\n",
              "      <td>0.000055</td>\n",
              "      <td>0.000936</td>\n",
              "      <td>0.000053</td>\n",
              "      <td>0.001</td>\n",
              "      <td>{'alpha': 0.001}</td>\n",
              "      <td>-9.286834</td>\n",
              "      <td>-14.148360</td>\n",
              "      <td>-14.064952</td>\n",
              "      <td>-35.208896</td>\n",
              "      <td>-31.880786</td>\n",
              "      <td>-19.833476</td>\n",
              "      <td>-9.945916</td>\n",
              "      <td>-168.376636</td>\n",
              "      <td>-33.330230</td>\n",
              "      <td>-10.960725</td>\n",
              "      <td>-34.703681</td>\n",
              "      <td>45.575061</td>\n",
              "      <td>14</td>\n",
              "    </tr>\n",
              "    <tr>\n",
              "      <th>4</th>\n",
              "      <td>0.001895</td>\n",
              "      <td>0.000038</td>\n",
              "      <td>0.000918</td>\n",
              "      <td>0.000038</td>\n",
              "      <td>0.01</td>\n",
              "      <td>{'alpha': 0.01}</td>\n",
              "      <td>-9.285851</td>\n",
              "      <td>-14.122273</td>\n",
              "      <td>-13.988177</td>\n",
              "      <td>-35.226578</td>\n",
              "      <td>-31.842153</td>\n",
              "      <td>-19.812059</td>\n",
              "      <td>-9.933907</td>\n",
              "      <td>-168.387777</td>\n",
              "      <td>-33.334628</td>\n",
              "      <td>-10.963614</td>\n",
              "      <td>-34.689702</td>\n",
              "      <td>45.584490</td>\n",
              "      <td>13</td>\n",
              "    </tr>\n",
              "    <tr>\n",
              "      <th>5</th>\n",
              "      <td>0.001886</td>\n",
              "      <td>0.000023</td>\n",
              "      <td>0.000933</td>\n",
              "      <td>0.000022</td>\n",
              "      <td>1</td>\n",
              "      <td>{'alpha': 1}</td>\n",
              "      <td>-9.317663</td>\n",
              "      <td>-12.608069</td>\n",
              "      <td>-10.798594</td>\n",
              "      <td>-36.609365</td>\n",
              "      <td>-29.621092</td>\n",
              "      <td>-18.625981</td>\n",
              "      <td>-9.466419</td>\n",
              "      <td>-168.498311</td>\n",
              "      <td>-33.797495</td>\n",
              "      <td>-11.439473</td>\n",
              "      <td>-34.078246</td>\n",
              "      <td>45.900034</td>\n",
              "      <td>12</td>\n",
              "    </tr>\n",
              "    <tr>\n",
              "      <th>6</th>\n",
              "      <td>0.001884</td>\n",
              "      <td>0.000027</td>\n",
              "      <td>0.000924</td>\n",
              "      <td>0.000018</td>\n",
              "      <td>5</td>\n",
              "      <td>{'alpha': 5}</td>\n",
              "      <td>-9.542136</td>\n",
              "      <td>-11.674306</td>\n",
              "      <td>-9.953827</td>\n",
              "      <td>-38.381479</td>\n",
              "      <td>-28.157426</td>\n",
              "      <td>-18.078158</td>\n",
              "      <td>-9.651221</td>\n",
              "      <td>-163.783845</td>\n",
              "      <td>-34.010735</td>\n",
              "      <td>-12.354740</td>\n",
              "      <td>-33.558787</td>\n",
              "      <td>44.592556</td>\n",
              "      <td>11</td>\n",
              "    </tr>\n",
              "    <tr>\n",
              "      <th>7</th>\n",
              "      <td>0.001946</td>\n",
              "      <td>0.000077</td>\n",
              "      <td>0.000931</td>\n",
              "      <td>0.000026</td>\n",
              "      <td>10</td>\n",
              "      <td>{'alpha': 10}</td>\n",
              "      <td>-9.674399</td>\n",
              "      <td>-11.671956</td>\n",
              "      <td>-9.919451</td>\n",
              "      <td>-39.218262</td>\n",
              "      <td>-28.104045</td>\n",
              "      <td>-18.292840</td>\n",
              "      <td>-9.929569</td>\n",
              "      <td>-157.081355</td>\n",
              "      <td>-33.442669</td>\n",
              "      <td>-12.723632</td>\n",
              "      <td>-33.005818</td>\n",
              "      <td>42.603254</td>\n",
              "      <td>10</td>\n",
              "    </tr>\n",
              "    <tr>\n",
              "      <th>8</th>\n",
              "      <td>0.001855</td>\n",
              "      <td>0.000022</td>\n",
              "      <td>0.000905</td>\n",
              "      <td>0.000016</td>\n",
              "      <td>20</td>\n",
              "      <td>{'alpha': 20}</td>\n",
              "      <td>-9.839248</td>\n",
              "      <td>-11.991213</td>\n",
              "      <td>-9.987773</td>\n",
              "      <td>-40.339704</td>\n",
              "      <td>-28.705988</td>\n",
              "      <td>-18.979876</td>\n",
              "      <td>-10.346395</td>\n",
              "      <td>-145.520221</td>\n",
              "      <td>-32.130866</td>\n",
              "      <td>-13.053410</td>\n",
              "      <td>-32.089469</td>\n",
              "      <td>39.167005</td>\n",
              "      <td>9</td>\n",
              "    </tr>\n",
              "    <tr>\n",
              "      <th>9</th>\n",
              "      <td>0.001856</td>\n",
              "      <td>0.000022</td>\n",
              "      <td>0.000913</td>\n",
              "      <td>0.000021</td>\n",
              "      <td>30</td>\n",
              "      <td>{'alpha': 30}</td>\n",
              "      <td>-9.966166</td>\n",
              "      <td>-12.349228</td>\n",
              "      <td>-10.109903</td>\n",
              "      <td>-41.273923</td>\n",
              "      <td>-29.465042</td>\n",
              "      <td>-19.685141</td>\n",
              "      <td>-10.678955</td>\n",
              "      <td>-136.331194</td>\n",
              "      <td>-30.982744</td>\n",
              "      <td>-13.248382</td>\n",
              "      <td>-31.409068</td>\n",
              "      <td>36.446752</td>\n",
              "      <td>8</td>\n",
              "    </tr>\n",
              "    <tr>\n",
              "      <th>10</th>\n",
              "      <td>0.001875</td>\n",
              "      <td>0.000062</td>\n",
              "      <td>0.000911</td>\n",
              "      <td>0.000018</td>\n",
              "      <td>40</td>\n",
              "      <td>{'alpha': 40}</td>\n",
              "      <td>-10.074726</td>\n",
              "      <td>-12.687645</td>\n",
              "      <td>-10.249100</td>\n",
              "      <td>-42.111127</td>\n",
              "      <td>-30.207534</td>\n",
              "      <td>-20.352013</td>\n",
              "      <td>-10.965029</td>\n",
              "      <td>-128.948338</td>\n",
              "      <td>-30.026694</td>\n",
              "      <td>-13.395359</td>\n",
              "      <td>-30.901756</td>\n",
              "      <td>34.274371</td>\n",
              "      <td>7</td>\n",
              "    </tr>\n",
              "    <tr>\n",
              "      <th>11</th>\n",
              "      <td>0.001956</td>\n",
              "      <td>0.000116</td>\n",
              "      <td>0.000937</td>\n",
              "      <td>0.000034</td>\n",
              "      <td>50</td>\n",
              "      <td>{'alpha': 50}</td>\n",
              "      <td>-10.170045</td>\n",
              "      <td>-12.999745</td>\n",
              "      <td>-10.389763</td>\n",
              "      <td>-42.872978</td>\n",
              "      <td>-30.899572</td>\n",
              "      <td>-20.974059</td>\n",
              "      <td>-11.219350</td>\n",
              "      <td>-122.922429</td>\n",
              "      <td>-29.233460</td>\n",
              "      <td>-13.516349</td>\n",
              "      <td>-30.519775</td>\n",
              "      <td>32.514112</td>\n",
              "      <td>6</td>\n",
              "    </tr>\n",
              "    <tr>\n",
              "      <th>12</th>\n",
              "      <td>0.002167</td>\n",
              "      <td>0.000317</td>\n",
              "      <td>0.001052</td>\n",
              "      <td>0.000124</td>\n",
              "      <td>60</td>\n",
              "      <td>{'alpha': 60}</td>\n",
              "      <td>-10.254670</td>\n",
              "      <td>-13.286422</td>\n",
              "      <td>-10.524746</td>\n",
              "      <td>-43.571136</td>\n",
              "      <td>-31.536313</td>\n",
              "      <td>-21.553711</td>\n",
              "      <td>-11.449830</td>\n",
              "      <td>-117.930518</td>\n",
              "      <td>-28.571935</td>\n",
              "      <td>-13.620096</td>\n",
              "      <td>-30.229938</td>\n",
              "      <td>31.067796</td>\n",
              "      <td>5</td>\n",
              "    </tr>\n",
              "    <tr>\n",
              "      <th>13</th>\n",
              "      <td>0.002248</td>\n",
              "      <td>0.000160</td>\n",
              "      <td>0.001095</td>\n",
              "      <td>0.000122</td>\n",
              "      <td>70</td>\n",
              "      <td>{'alpha': 70}</td>\n",
              "      <td>-10.330348</td>\n",
              "      <td>-13.550050</td>\n",
              "      <td>-10.650847</td>\n",
              "      <td>-44.214248</td>\n",
              "      <td>-32.120664</td>\n",
              "      <td>-22.095195</td>\n",
              "      <td>-11.661466</td>\n",
              "      <td>-113.740045</td>\n",
              "      <td>-28.016133</td>\n",
              "      <td>-13.711030</td>\n",
              "      <td>-30.009003</td>\n",
              "      <td>29.864487</td>\n",
              "      <td>4</td>\n",
              "    </tr>\n",
              "    <tr>\n",
              "      <th>14</th>\n",
              "      <td>0.002031</td>\n",
              "      <td>0.000145</td>\n",
              "      <td>0.000969</td>\n",
              "      <td>0.000060</td>\n",
              "      <td>80</td>\n",
              "      <td>{'alpha': 80}</td>\n",
              "      <td>-10.398449</td>\n",
              "      <td>-13.793144</td>\n",
              "      <td>-10.766815</td>\n",
              "      <td>-44.809359</td>\n",
              "      <td>-32.657535</td>\n",
              "      <td>-22.602800</td>\n",
              "      <td>-11.857722</td>\n",
              "      <td>-110.180954</td>\n",
              "      <td>-27.545429</td>\n",
              "      <td>-13.791785</td>\n",
              "      <td>-29.840399</td>\n",
              "      <td>28.852211</td>\n",
              "      <td>3</td>\n",
              "    </tr>\n",
              "    <tr>\n",
              "      <th>15</th>\n",
              "      <td>0.001875</td>\n",
              "      <td>0.000031</td>\n",
              "      <td>0.000935</td>\n",
              "      <td>0.000081</td>\n",
              "      <td>90</td>\n",
              "      <td>{'alpha': 90}</td>\n",
              "      <td>-10.460097</td>\n",
              "      <td>-14.018023</td>\n",
              "      <td>-10.872387</td>\n",
              "      <td>-45.362373</td>\n",
              "      <td>-33.152045</td>\n",
              "      <td>-23.080421</td>\n",
              "      <td>-12.041148</td>\n",
              "      <td>-107.126725</td>\n",
              "      <td>-27.143650</td>\n",
              "      <td>-13.864112</td>\n",
              "      <td>-29.712098</td>\n",
              "      <td>27.992256</td>\n",
              "      <td>2</td>\n",
              "    </tr>\n",
              "    <tr>\n",
              "      <th>16</th>\n",
              "      <td>0.001969</td>\n",
              "      <td>0.000134</td>\n",
              "      <td>0.000942</td>\n",
              "      <td>0.000045</td>\n",
              "      <td>100</td>\n",
              "      <td>{'alpha': 100}</td>\n",
              "      <td>-10.516240</td>\n",
              "      <td>-14.226738</td>\n",
              "      <td>-10.967812</td>\n",
              "      <td>-45.878290</td>\n",
              "      <td>-33.608950</td>\n",
              "      <td>-23.531466</td>\n",
              "      <td>-12.213698</td>\n",
              "      <td>-104.481633</td>\n",
              "      <td>-26.798108</td>\n",
              "      <td>-13.929266</td>\n",
              "      <td>-29.615220</td>\n",
              "      <td>27.255329</td>\n",
              "      <td>1</td>\n",
              "    </tr>\n",
              "  </tbody>\n",
              "</table>\n",
              "</div>"
            ],
            "text/plain": [
              "    mean_fit_time  std_fit_time  ...  std_test_score  rank_test_score\n",
              "0        0.002650      0.001912  ...       45.573999               17\n",
              "1        0.001954      0.000136  ...       45.573999               16\n",
              "2        0.001833      0.000020  ...       45.573999               15\n",
              "3        0.001894      0.000055  ...       45.575061               14\n",
              "4        0.001895      0.000038  ...       45.584490               13\n",
              "5        0.001886      0.000023  ...       45.900034               12\n",
              "6        0.001884      0.000027  ...       44.592556               11\n",
              "7        0.001946      0.000077  ...       42.603254               10\n",
              "8        0.001855      0.000022  ...       39.167005                9\n",
              "9        0.001856      0.000022  ...       36.446752                8\n",
              "10       0.001875      0.000062  ...       34.274371                7\n",
              "11       0.001956      0.000116  ...       32.514112                6\n",
              "12       0.002167      0.000317  ...       31.067796                5\n",
              "13       0.002248      0.000160  ...       29.864487                4\n",
              "14       0.002031      0.000145  ...       28.852211                3\n",
              "15       0.001875      0.000031  ...       27.992256                2\n",
              "16       0.001969      0.000134  ...       27.255329                1\n",
              "\n",
              "[17 rows x 19 columns]"
            ]
          },
          "metadata": {
            "tags": []
          },
          "execution_count": 40
        }
      ]
    },
    {
      "cell_type": "code",
      "metadata": {
        "id": "YkDDVZIHs3St",
        "colab_type": "code",
        "colab": {}
      },
      "source": [
        "lasso= Lasso()"
      ],
      "execution_count": 41,
      "outputs": []
    },
    {
      "cell_type": "code",
      "metadata": {
        "id": "S8h1RnauuBBb",
        "colab_type": "code",
        "colab": {
          "base_uri": "https://localhost:8080/",
          "height": 170
        },
        "outputId": "e8b29d10-9147-4832-f2c5-5dee738622a0"
      },
      "source": [
        "parameters= {\"alpha\":[1e-15,1e-10,1e-8,1e-3,1e-2,1,5,10,20,30,40,50,60,70,80,90,100]}\n",
        "\n",
        "lasso_regressor= GridSearchCV(ridge,parameters,scoring=\"neg_mean_squared_error\", cv=10)\n",
        "\n",
        "lasso_regressor.fit(X,y)"
      ],
      "execution_count": 42,
      "outputs": [
        {
          "output_type": "execute_result",
          "data": {
            "text/plain": [
              "GridSearchCV(cv=10, error_score=nan,\n",
              "             estimator=Ridge(alpha=1.0, copy_X=True, fit_intercept=True,\n",
              "                             max_iter=None, normalize=False, random_state=None,\n",
              "                             solver='auto', tol=0.001),\n",
              "             iid='deprecated', n_jobs=None,\n",
              "             param_grid={'alpha': [1e-15, 1e-10, 1e-08, 0.001, 0.01, 1, 5, 10,\n",
              "                                   20, 30, 40, 50, 60, 70, 80, 90, 100]},\n",
              "             pre_dispatch='2*n_jobs', refit=True, return_train_score=False,\n",
              "             scoring='neg_mean_squared_error', verbose=0)"
            ]
          },
          "metadata": {
            "tags": []
          },
          "execution_count": 42
        }
      ]
    },
    {
      "cell_type": "code",
      "metadata": {
        "id": "oUO0rE9lueVe",
        "colab_type": "code",
        "colab": {
          "base_uri": "https://localhost:8080/",
          "height": 85
        },
        "outputId": "04c5c3f5-7064-4784-b313-4a5f96530bba"
      },
      "source": [
        "lasso_regressor.best_estimator_, lasso_regressor.best_params_, lasso_regressor.best_score_"
      ],
      "execution_count": 43,
      "outputs": [
        {
          "output_type": "execute_result",
          "data": {
            "text/plain": [
              "(Ridge(alpha=100, copy_X=True, fit_intercept=True, max_iter=None,\n",
              "       normalize=False, random_state=None, solver='auto', tol=0.001),\n",
              " {'alpha': 100},\n",
              " -29.61522009733512)"
            ]
          },
          "metadata": {
            "tags": []
          },
          "execution_count": 43
        }
      ]
    },
    {
      "cell_type": "code",
      "metadata": {
        "id": "68WXZfU_urBE",
        "colab_type": "code",
        "colab": {}
      },
      "source": [
        "from sklearn.model_selection import train_test_split"
      ],
      "execution_count": 44,
      "outputs": []
    },
    {
      "cell_type": "code",
      "metadata": {
        "id": "eT7Jo82qvJMM",
        "colab_type": "code",
        "colab": {}
      },
      "source": [
        "X_train, X_test, y_train, y_test= train_test_split(X,y,test_size=0.3, random_state=0)"
      ],
      "execution_count": 45,
      "outputs": []
    },
    {
      "cell_type": "code",
      "metadata": {
        "id": "1YDe7_M4vbTr",
        "colab_type": "code",
        "colab": {}
      },
      "source": [
        "prediction_ridge= ridge_regressor.predict(X_test)\n",
        "\n",
        "prediction_lasso= lasso_regressor.predict(X_test)"
      ],
      "execution_count": 46,
      "outputs": []
    },
    {
      "cell_type": "code",
      "metadata": {
        "id": "lQHWgi2nv0PM",
        "colab_type": "code",
        "colab": {
          "base_uri": "https://localhost:8080/",
          "height": 544
        },
        "outputId": "83f356df-0791-48f9-8345-b26fdbd1b6bc"
      },
      "source": [
        "prediction_lasso"
      ],
      "execution_count": 47,
      "outputs": [
        {
          "output_type": "execute_result",
          "data": {
            "text/plain": [
              "array([23.96675946, 24.98996014, 27.5915891 , 14.26059397, 19.63842944,\n",
              "       21.33417836, 21.32039718, 23.27239931, 20.30837677, 19.48226179,\n",
              "        6.4578138 , 14.28838187, 18.59820449,  7.32675586, 36.99591747,\n",
              "       31.36360797, 22.27052891, 35.16096521, 30.99397818, 24.25137539,\n",
              "       25.40646048, 24.34913685, 20.21632652, 30.0992825 , 22.68378433,\n",
              "       13.94885033, 18.64684143, 21.48729544, 33.26170271, 19.79217513,\n",
              "       18.17155893, 19.9695722 , 20.42970393, 23.50528313, 28.90147149,\n",
              "       20.77821424, 11.23603614, 25.21197341, 16.33605596, 13.74459083,\n",
              "       24.96162953, 20.32082943, 21.56714797, 16.00431973, 22.631114  ,\n",
              "       24.95003631, 18.4770964 , 24.0302334 , 12.20742324, 24.00507962,\n",
              "       21.73290773, 17.56687132, 24.74921266, 28.65328508, 13.58721717,\n",
              "       21.3260628 , 20.50282091, 15.43442841, 15.56550274, 19.58519135,\n",
              "       18.94927305, 21.87657392, 31.86147714, 31.60936099, 18.30851646,\n",
              "       31.83190056, 19.49024654, 18.37266891, 17.08246064, 22.88948035,\n",
              "       21.00301604, 22.55678293, 30.73421263, 29.37650392, 25.53367669,\n",
              "        5.7995898 , 35.17839807, 23.37460756, 27.00341299, 20.13591331,\n",
              "       28.06232493, 18.88117326, 21.11353019, 36.04020731, 36.74340658,\n",
              "       24.78209291, 24.04604781, 15.52710124, 29.7803414 , 17.83214933,\n",
              "       15.4604182 , 13.13347479, 25.16449427, 30.31549689, 23.96534926,\n",
              "       20.87193789,  0.71580309, 26.43951143, 16.02687605, 19.1833081 ,\n",
              "       24.9114676 , 21.95652829, 30.03555032, 21.03060703, 26.00608781,\n",
              "       23.73601055,  7.02711255, 18.50019122, 23.62865397, 28.14458877,\n",
              "       32.59193539, 11.8245246 , 19.26158667, 19.9314325 , 10.6252303 ,\n",
              "       20.98683855,  4.11125268, 20.32868508, 10.89812732, 41.00738771,\n",
              "       30.039051  , 13.41140687, 17.4295325 , 21.995233  , 24.44313913,\n",
              "       20.13874836, 34.63982333, 13.71668115, 22.55123422, 32.52344902,\n",
              "       20.2056431 , 11.39313632, 11.71201068, 22.29405399, 13.66085973,\n",
              "       31.71375396, 25.52302938, 15.62048297, 24.30570951,  7.73259146,\n",
              "       14.56649923, 21.33537288, 32.73310552, 28.17889761, 24.30749533,\n",
              "       16.74476632, 30.35354483, 28.01253616, 13.75054992,  7.93410278,\n",
              "       29.32945793, 26.40131311])"
            ]
          },
          "metadata": {
            "tags": []
          },
          "execution_count": 47
        }
      ]
    },
    {
      "cell_type": "code",
      "metadata": {
        "id": "M0nvRP_2v3Rd",
        "colab_type": "code",
        "colab": {
          "base_uri": "https://localhost:8080/",
          "height": 544
        },
        "outputId": "04592453-bfe7-444a-a123-44ed9b26ba90"
      },
      "source": [
        "prediction_ridge"
      ],
      "execution_count": 48,
      "outputs": [
        {
          "output_type": "execute_result",
          "data": {
            "text/plain": [
              "array([23.96675946, 24.98996014, 27.5915891 , 14.26059397, 19.63842944,\n",
              "       21.33417836, 21.32039718, 23.27239931, 20.30837677, 19.48226179,\n",
              "        6.4578138 , 14.28838187, 18.59820449,  7.32675586, 36.99591747,\n",
              "       31.36360797, 22.27052891, 35.16096521, 30.99397818, 24.25137539,\n",
              "       25.40646048, 24.34913685, 20.21632652, 30.0992825 , 22.68378433,\n",
              "       13.94885033, 18.64684143, 21.48729544, 33.26170271, 19.79217513,\n",
              "       18.17155893, 19.9695722 , 20.42970393, 23.50528313, 28.90147149,\n",
              "       20.77821424, 11.23603614, 25.21197341, 16.33605596, 13.74459083,\n",
              "       24.96162953, 20.32082943, 21.56714797, 16.00431973, 22.631114  ,\n",
              "       24.95003631, 18.4770964 , 24.0302334 , 12.20742324, 24.00507962,\n",
              "       21.73290773, 17.56687132, 24.74921266, 28.65328508, 13.58721717,\n",
              "       21.3260628 , 20.50282091, 15.43442841, 15.56550274, 19.58519135,\n",
              "       18.94927305, 21.87657392, 31.86147714, 31.60936099, 18.30851646,\n",
              "       31.83190056, 19.49024654, 18.37266891, 17.08246064, 22.88948035,\n",
              "       21.00301604, 22.55678293, 30.73421263, 29.37650392, 25.53367669,\n",
              "        5.7995898 , 35.17839807, 23.37460756, 27.00341299, 20.13591331,\n",
              "       28.06232493, 18.88117326, 21.11353019, 36.04020731, 36.74340658,\n",
              "       24.78209291, 24.04604781, 15.52710124, 29.7803414 , 17.83214933,\n",
              "       15.4604182 , 13.13347479, 25.16449427, 30.31549689, 23.96534926,\n",
              "       20.87193789,  0.71580309, 26.43951143, 16.02687605, 19.1833081 ,\n",
              "       24.9114676 , 21.95652829, 30.03555032, 21.03060703, 26.00608781,\n",
              "       23.73601055,  7.02711255, 18.50019122, 23.62865397, 28.14458877,\n",
              "       32.59193539, 11.8245246 , 19.26158667, 19.9314325 , 10.6252303 ,\n",
              "       20.98683855,  4.11125268, 20.32868508, 10.89812732, 41.00738771,\n",
              "       30.039051  , 13.41140687, 17.4295325 , 21.995233  , 24.44313913,\n",
              "       20.13874836, 34.63982333, 13.71668115, 22.55123422, 32.52344902,\n",
              "       20.2056431 , 11.39313632, 11.71201068, 22.29405399, 13.66085973,\n",
              "       31.71375396, 25.52302938, 15.62048297, 24.30570951,  7.73259146,\n",
              "       14.56649923, 21.33537288, 32.73310552, 28.17889761, 24.30749533,\n",
              "       16.74476632, 30.35354483, 28.01253616, 13.75054992,  7.93410278,\n",
              "       29.32945793, 26.40131311])"
            ]
          },
          "metadata": {
            "tags": []
          },
          "execution_count": 48
        }
      ]
    },
    {
      "cell_type": "code",
      "metadata": {
        "id": "EYKLclpAv6HU",
        "colab_type": "code",
        "colab": {}
      },
      "source": [
        "import seaborn as sns"
      ],
      "execution_count": 50,
      "outputs": []
    },
    {
      "cell_type": "code",
      "metadata": {
        "id": "8DpRHuj7yPRH",
        "colab_type": "code",
        "colab": {
          "base_uri": "https://localhost:8080/",
          "height": 296
        },
        "outputId": "f4222ced-bcd4-4588-a664-47633e102a97"
      },
      "source": [
        "sns.distplot(y_test-prediction_lasso)"
      ],
      "execution_count": 52,
      "outputs": [
        {
          "output_type": "execute_result",
          "data": {
            "text/plain": [
              "<matplotlib.axes._subplots.AxesSubplot at 0x7fcd314ff978>"
            ]
          },
          "metadata": {
            "tags": []
          },
          "execution_count": 52
        },
        {
          "output_type": "display_data",
          "data": {
            "image/png": "[encoded data removed]",
            "text/plain": [
              "<Figure size 432x288 with 1 Axes>"
            ]
          },
          "metadata": {
            "tags": [],
            "needs_background": "light"
          }
        }
      ]
    },
    {
      "cell_type": "code",
      "metadata": {
        "id": "gVvE3Nfdv82P",
        "colab_type": "code",
        "colab": {
          "base_uri": "https://localhost:8080/",
          "height": 296
        },
        "outputId": "cfbedf78-08ab-417e-e78e-fe99bd6991ff"
      },
      "source": [
        "sns.distplot(y_test-prediction_ridge)"
      ],
      "execution_count": 53,
      "outputs": [
        {
          "output_type": "execute_result",
          "data": {
            "text/plain": [
              "<matplotlib.axes._subplots.AxesSubplot at 0x7fcd31061550>"
            ]
          },
          "metadata": {
            "tags": []
          },
          "execution_count": 53
        },
        {
          "output_type": "display_data",
          "data": {
            "image/png": "[encoded data removed]",
            "text/plain": [
              "<Figure size 432x288 with 1 Axes>"
            ]
          },
          "metadata": {
            "tags": [],
            "needs_background": "light"
          }
        }
      ]
    },
    {
      "cell_type": "code",
      "metadata": {
        "id": "Unqx6T_bv89R",
        "colab_type": "code",
        "colab": {}
      },
      "source": [
        ""
      ],
      "execution_count": null,
      "outputs": []
    },
    {
      "cell_type": "code",
      "metadata": {
        "id": "t4PNowJZv85n",
        "colab_type": "code",
        "colab": {}
      },
      "source": [
        ""
      ],
      "execution_count": null,
      "outputs": []
    }
  ]
}