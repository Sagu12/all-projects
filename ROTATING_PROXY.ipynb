{
  "nbformat": 4,
  "nbformat_minor": 0,
  "metadata": {
    "colab": {
      "name": "ROTATING_PROXY.ipynb",
      "provenance": [],
      "collapsed_sections": [],
      "authorship_tag": "ABX9TyPh3M8EoExW4vDbLUn1F1Bz",
      "include_colab_link": true
    },
    "kernelspec": {
      "name": "python3",
      "display_name": "Python 3"
    }
  },
  "cells": [
    {
      "cell_type": "markdown",
      "metadata": {
        "id": "view-in-github",
        "colab_type": "text"
      },
      "source": [
        "<a href=\"https://colab.research.google.com/github/Sagu12/all-projects/blob/master/ROTATING_PROXY.ipynb\" target=\"_parent\"><img src=\"https://colab.research.google.com/assets/colab-badge.svg\" alt=\"Open In Colab\"/></a>"
      ]
    },
    {
      "cell_type": "code",
      "metadata": {
        "colab": {
          "base_uri": "https://localhost:8080/"
        },
        "id": "o5jGvgHZi1eu",
        "outputId": "a6dba3e9-fd51-4749-afe9-dd1090b5fd20"
      },
      "source": [
        "pip install Proxy-List-Scrapper"
      ],
      "execution_count": 1,
      "outputs": [
        {
          "output_type": "stream",
          "text": [
            "Requirement already satisfied: Proxy-List-Scrapper in /usr/local/lib/python3.6/dist-packages (0.2.1)\n",
            "Requirement already satisfied: requests in /usr/local/lib/python3.6/dist-packages (from Proxy-List-Scrapper) (2.23.0)\n",
            "Requirement already satisfied: urllib3!=1.25.0,!=1.25.1,<1.26,>=1.21.1 in /usr/local/lib/python3.6/dist-packages (from requests->Proxy-List-Scrapper) (1.24.3)\n",
            "Requirement already satisfied: chardet<4,>=3.0.2 in /usr/local/lib/python3.6/dist-packages (from requests->Proxy-List-Scrapper) (3.0.4)\n",
            "Requirement already satisfied: certifi>=2017.4.17 in /usr/local/lib/python3.6/dist-packages (from requests->Proxy-List-Scrapper) (2020.12.5)\n",
            "Requirement already satisfied: idna<3,>=2.5 in /usr/local/lib/python3.6/dist-packages (from requests->Proxy-List-Scrapper) (2.10)\n"
          ],
          "name": "stdout"
        }
      ]
    },
    {
      "cell_type": "code",
      "metadata": {
        "id": "96A93BVrjBnN"
      },
      "source": [
        "from Proxy_List_Scrapper import Scrapper, Proxy, ScrapperException"
      ],
      "execution_count": 2,
      "outputs": []
    },
    {
      "cell_type": "code",
      "metadata": {
        "id": "TCfOqpe7jBs1"
      },
      "source": [
        "scrapper = Scrapper(category='SSL', print_err_trace=False)"
      ],
      "execution_count": 3,
      "outputs": []
    },
    {
      "cell_type": "code",
      "metadata": {
        "id": "9l6HmFrsjBvm"
      },
      "source": [
        "data = scrapper.getProxies()"
      ],
      "execution_count": 4,
      "outputs": []
    },
    {
      "cell_type": "code",
      "metadata": {
        "colab": {
          "base_uri": "https://localhost:8080/",
          "height": 35
        },
        "id": "6ujB1RzLlleR",
        "outputId": "bc8ca0a5-4f67-4d23-b410-432516156aa6"
      },
      "source": [
        "data.category"
      ],
      "execution_count": 14,
      "outputs": [
        {
          "output_type": "execute_result",
          "data": {
            "application/vnd.google.colaboratory.intrinsic+json": {
              "type": "string"
            },
            "text/plain": [
              "'SSL'"
            ]
          },
          "metadata": {
            "tags": []
          },
          "execution_count": 14
        }
      ]
    },
    {
      "cell_type": "markdown",
      "metadata": {
        "id": "XM_hTmfAslGx"
      },
      "source": [
        "#different types of categories include\r\n",
        "\r\n",
        "SSL = 'https://www.sslproxies.org/',\r\n",
        "\r\n",
        "GOOGLE = 'https://www.google-proxy.net/',\r\n",
        "\r\n",
        "ANANY = 'https://free-proxy-list.net/anonymous-proxy.html',\r\n",
        "\r\n",
        "UK = 'https://free-proxy-list.net/uk-proxy.html',\r\n",
        "\r\n",
        "US = 'https://www.us-proxy.org/',\r\n",
        "\r\n",
        "NEW = 'https://free-proxy-list.net/',\r\n",
        "\r\n",
        "SPYS_ME = 'http://spys.me/proxy.txt',\r\n",
        "\r\n",
        "PROXYSCRAPE = 'https://api.proxyscrape.com/?request=getproxies&proxytype=all&country=all&ssl=all&anonymity=all',\r\n",
        "\r\n",
        "PROXYNOVA = 'https://www.proxynova.com/proxy-server-list/'\r\n",
        "\r\n",
        "PROXYLIST_DOWNLOAD_HTTP = 'https://www.proxy-list.download/HTTP'\r\n",
        "\r\n",
        "PROXYLIST_DOWNLOAD_HTTPS = 'https://www.proxy-list.download/HTTPS'\r\n",
        "\r\n",
        "PROXYLIST_DOWNLOAD_SOCKS4 = 'https://www.proxy-list.download/SOCKS4'\r\n",
        "\r\n",
        "PROXYLIST_DOWNLOAD_SOCKS5 = 'https://www.proxy-list.download/SOCKS5'\r\n",
        "\r\n",
        "ALL = 'ALL'"
      ]
    },
    {
      "cell_type": "code",
      "metadata": {
        "colab": {
          "base_uri": "https://localhost:8080/"
        },
        "id": "TKaTeLm8jB1a",
        "outputId": "dec10a8a-70ae-4cb4-8dc0-f32817a7d764"
      },
      "source": [
        "print(\"Scrapped Proxies:\")\r\n",
        "for item in data.proxies:\r\n",
        "    print('{}:{}'.format(item.ip, item.port))\r\n",
        "\r\n",
        "# Print the size of proxies scrapped\r\n",
        "print(\"Total Proxies\")\r\n",
        "print(data.len)\r\n",
        "\r\n",
        "# Print the Category of proxy from which you scrapped\r\n",
        "print(\"Category of the Proxy\")\r\n",
        "print(data.category)"
      ],
      "execution_count": 8,
      "outputs": [
        {
          "output_type": "stream",
          "text": [
            "Scrapped Proxies:\n",
            "49.48.82.94:8080\n",
            "208.80.28.208:8080\n",
            "103.80.61.79:8080\n",
            "185.198.188.55:8080\n",
            "51.158.119.88:8811\n",
            "51.158.165.18:8811\n",
            "185.198.188.52:8080\n",
            "154.72.204.122:8080\n",
            "183.88.224.206:8080\n",
            "103.241.227.100:6666\n",
            "118.174.234.143:57844\n",
            "198.50.163.192:3129\n",
            "110.76.129.106:59570\n",
            "185.23.131.148:8080\n",
            "103.125.130.94:8080\n",
            "82.99.232.18:58689\n",
            "178.72.74.40:31372\n",
            "186.159.3.193:56861\n",
            "109.86.219.179:53438\n",
            "51.75.147.35:3128\n",
            "185.198.188.51:8080\n",
            "14.192.31.65:50838\n",
            "178.136.2.208:55443\n",
            "185.198.188.53:8080\n",
            "1.179.183.73:50178\n",
            "103.90.145.196:8080\n",
            "46.209.63.177:3128\n",
            "193.29.104.185:3128\n",
            "193.56.255.181:3128\n",
            "118.174.220.14:43473\n",
            "193.29.104.90:3128\n",
            "91.132.139.177:3128\n",
            "149.255.36.145:3128\n",
            "149.255.36.150:3128\n",
            "51.81.82.175:80\n",
            "106.104.151.142:58198\n",
            "89.45.4.138:3128\n",
            "89.249.67.57:3128\n",
            "149.100.165.85:8080\n",
            "161.202.226.194:80\n",
            "187.243.240.54:8080\n",
            "150.129.148.99:35101\n",
            "139.99.105.5:80\n",
            "119.82.249.4:60959\n",
            "103.150.239.25:8080\n",
            "51.158.186.242:8811\n",
            "103.11.106.69:8181\n",
            "51.158.68.133:8811\n",
            "185.198.188.48:8080\n",
            "51.158.172.165:8811\n",
            "36.90.37.60:8080\n",
            "81.95.226.138:3128\n",
            "59.153.17.186:53281\n",
            "67.43.239.169:3128\n",
            "79.110.52.252:3128\n",
            "185.245.84.131:3128\n",
            "195.206.106.186:3128\n",
            "104.238.81.186:56227\n",
            "185.236.203.209:3128\n",
            "193.239.86.137:3128\n",
            "89.249.65.191:3128\n",
            "91.108.136.130:8080\n",
            "128.199.115.226:3128\n",
            "193.56.255.131:3128\n",
            "36.79.21.219:80\n",
            "159.65.140.227:8080\n",
            "94.180.249.187:38051\n",
            "185.59.244.16:41258\n",
            "213.6.66.66:48687\n",
            "182.52.51.10:61124\n",
            "90.183.101.238:45277\n",
            "167.172.109.12:36457\n",
            "96.9.77.71:8080\n",
            "177.99.206.82:8080\n",
            "115.77.191.180:53281\n",
            "131.108.118.27:8080\n",
            "118.179.173.253:40836\n",
            "1.179.148.9:55636\n",
            "46.21.153.16:3128\n",
            "212.73.68.156:3128\n",
            "51.75.147.44:3128\n",
            "51.158.180.179:8811\n",
            "139.162.41.219:8889\n",
            "103.152.5.80:8080\n",
            "185.236.203.156:3128\n",
            "54.151.132.183:3128\n",
            "103.208.200.114:23500\n",
            "167.99.146.95:8888\n",
            "185.198.188.54:8080\n",
            "181.76.35.59:8080\n",
            "169.255.126.211:30640\n",
            "158.101.19.129:80\n",
            "150.129.54.111:6666\n",
            "103.250.68.10:8080\n",
            "103.146.176.124:80\n",
            "118.172.201.89:39818\n",
            "103.241.227.108:6666\n",
            "208.98.185.89:53630\n",
            "193.56.255.180:3128\n",
            "115.75.1.184:8118\n",
            "Total Proxies\n",
            "100\n",
            "Category of the Proxy\n",
            "SSL\n"
          ],
          "name": "stdout"
        }
      ]
    },
    {
      "cell_type": "code",
      "metadata": {
        "id": "_Ps_xeIpjCC7"
      },
      "source": [
        "dic= [\"59.153.17.186:53281\",\"195.206.106.186:3128\",\"104.238.81.186:56227\",\"103.146.176.124:80\"]"
      ],
      "execution_count": 11,
      "outputs": []
    },
    {
      "cell_type": "code",
      "metadata": {
        "colab": {
          "base_uri": "https://localhost:8080/"
        },
        "id": "I8GRqs2sjCJV",
        "outputId": "9913f0b4-2225-43be-b1f9-e56e672cf0a0"
      },
      "source": [
        "import requests\r\n",
        "from itertools import cycle\r\n",
        "\r\n",
        "\r\n",
        "proxies = dic\r\n",
        "proxy_pool = cycle(proxies)\r\n",
        "\r\n",
        "url = 'https://httpbin.org/ip'\r\n",
        "for i in range(1,11):\r\n",
        "    #Getting a proxy from the pool\r\n",
        "    proxy = next(proxy_pool)\r\n",
        "    print(\"Request #%d\"%i)\r\n",
        "    try:\r\n",
        "        response = requests.get(url,proxies={\"http\": proxy, \"https\": proxy})\r\n",
        "        print(response.json())\r\n",
        "    except:\r\n",
        "        print(\"Skipping. Connnection error\")"
      ],
      "execution_count": 13,
      "outputs": [
        {
          "output_type": "stream",
          "text": [
            "Request #1\n",
            "{'origin': '59.153.17.186'}\n",
            "Request #2\n",
            "Skipping. Connnection error\n",
            "Request #3\n",
            "Skipping. Connnection error\n",
            "Request #4\n",
            "Skipping. Connnection error\n",
            "Request #5\n",
            "Skipping. Connnection error\n",
            "Request #6\n",
            "Skipping. Connnection error\n",
            "Request #7\n",
            "Skipping. Connnection error\n",
            "Request #8\n",
            "Skipping. Connnection error\n",
            "Request #9\n",
            "Skipping. Connnection error\n",
            "Request #10\n",
            "Skipping. Connnection error\n"
          ],
          "name": "stdout"
        }
      ]
    }
  ]
}