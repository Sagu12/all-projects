{
  "nbformat": 4,
  "nbformat_minor": 0,
  "metadata": {
    "colab": {
      "name": "R SQUARE AND ADJUSTED R SQUARE.ipynb",
      "provenance": [],
      "collapsed_sections": [],
      "authorship_tag": "ABX9TyOUv4xiciISdG75o/IXPgrO",
      "include_colab_link": true
    },
    "kernelspec": {
      "name": "python3",
      "display_name": "Python 3"
    }
  },
  "cells": [
    {
      "cell_type": "markdown",
      "metadata": {
        "id": "view-in-github",
        "colab_type": "text"
      },
      "source": [
        "<a href=\"https://colab.research.google.com/github/Sagu12/all-projects/blob/master/R_SQUARE_AND_ADJUSTED_R_SQUARE.ipynb\" target=\"_parent\"><img src=\"https://colab.research.google.com/assets/colab-badge.svg\" alt=\"Open In Colab\"/></a>"
      ]
    },
    {
      "cell_type": "code",
      "metadata": {
        "id": "KwNHp36D_-uM",
        "colab_type": "code",
        "colab": {}
      },
      "source": [
        ""
      ],
      "execution_count": null,
      "outputs": []
    },
    {
      "cell_type": "markdown",
      "metadata": {
        "id": "7DnEn43OAR9D",
        "colab_type": "text"
      },
      "source": [
        "# What is R square?\n",
        "\n",
        "It is basically given by the formula \n",
        "\n",
        "(summation 1 - (yi - y^)**2 / summation(yi-y-)**2)\n",
        "\n",
        "here yi-y^**2 is called the sum of residuals or also called the error which needs to be minimised.\n",
        "\n",
        "and (yi - y-)**2 is called sum of average total which mainly indicates the best fit line which is drawn straight from the points.\n",
        "\n",
        "This value of R square should lie between 0 to 1\n",
        "\n",
        "Now this R square value may come below 0 as well, this only happens when the best fit line is worser than the average line or the sum of average total line. In such scenario the sum of residuals becomes more than the sum of average total and when subtracted by 1 then, the value of R square comes to be negative.\n",
        "\n",
        "This above case indicates the case of a waste model that is of no use... :-)\n",
        "\n",
        "So, we can conclude that R square is used to check the perfectness of the best fit line.\n",
        "\n",
        "#What is Adjusted R square?\n",
        "\n",
        "y= bo + b1.x1 + b2.x2\n",
        "\n",
        "When we keep on adding n number of independent features to our linear regression model then this value of R square keeps on increasing and tries to become closer to 1. But, here the thing to be noted is that the features that are not even correlated with the target are also taken into consideration and based on the same the target is decided so, it can be concluded that R square is not a perfect fit to check the goodness of a model because it fails to prioritize the major features rather than focussing on minor ones.\n",
        "\n",
        "So, in order to penalize the less important features that impact the R square value, we use the concept of Adjusted R square.\n",
        "\n",
        "The formula for adjusted r square is given by:\n",
        "\n",
        "1 - (1-R**2)(N-1) / N-p-1\n",
        "\n",
        "HERE R**2 is the R square value that we will find first\n",
        "\n",
        "p= no. of predictors or no. of independent features.\n",
        "\n",
        "N= total no. of features present that is both independent and dependent features.\n",
        "\n",
        "So adjusted r square helps in overcoming the problems which are associated with the r square and also this only happens when the correlation of independent features with one another is very less.\n",
        "\n",
        "The intuition behind the decrease of adjusted r square is that when we are subtracting the r square even if it is a bigger no. with 1 then automatically the result will become a smaller number and as a result any no. multiplied by a smaller no. is always smaller so by following this concept the desired target of minimizing the r square is achieved.\n",
        "\n",
        "\n",
        "Some key points to note just to summarize what we have discussed so far:\n",
        "\n",
        "every time you add an independent variable to a model, the r square increases even if the independent variable is insignificant and it never declines. whereas adjusted r square increases only when independent variable is significant and affects the dependent variable. adjusted r square value is always less than or equal to r square value.\n",
        "\n",
        "\n",
        "https://www.youtube.com/watch?v=M-4EpNdlSuY\n",
        "\n",
        "\n",
        "\n"
      ]
    },
    {
      "cell_type": "code",
      "metadata": {
        "id": "W3tre9fPmwsP",
        "colab_type": "code",
        "colab": {}
      },
      "source": [
        ""
      ],
      "execution_count": null,
      "outputs": []
    }
  ]
}