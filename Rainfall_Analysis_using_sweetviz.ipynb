{
  "nbformat": 4,
  "nbformat_minor": 0,
  "metadata": {
    "colab": {
      "name": "Rainfall Analysis using sweetviz.ipynb",
      "provenance": [],
      "collapsed_sections": [],
      "authorship_tag": "ABX9TyMqY9EUPbJRvvP4GJxedEXj",
      "include_colab_link": true
    },
    "kernelspec": {
      "name": "python3",
      "display_name": "Python 3"
    }
  },
  "cells": [
    {
      "cell_type": "markdown",
      "metadata": {
        "id": "view-in-github",
        "colab_type": "text"
      },
      "source": [
        "<a href=\"https://colab.research.google.com/github/Sagu12/all-projects/blob/master/Rainfall_Analysis_using_sweetviz.ipynb\" target=\"_parent\"><img src=\"https://colab.research.google.com/assets/colab-badge.svg\" alt=\"Open In Colab\"/></a>"
      ]
    },
    {
      "cell_type": "code",
      "metadata": {
        "id": "rjjxQzO-Mzwf",
        "colab_type": "code",
        "colab": {}
      },
      "source": [
        "!pip install pyforest\n"
      ],
      "execution_count": 0,
      "outputs": []
    },
    {
      "cell_type": "code",
      "metadata": {
        "id": "IE7Lq3K8N80a",
        "colab_type": "code",
        "colab": {}
      },
      "source": [
        "from pyforest import *"
      ],
      "execution_count": 0,
      "outputs": []
    },
    {
      "cell_type": "code",
      "metadata": {
        "id": "pYTqkM9rOFXG",
        "colab_type": "code",
        "outputId": "596bb261-b673-47a7-f8a8-57798f0abbe8",
        "colab": {
          "base_uri": "https://localhost:8080/",
          "height": 660
        }
      },
      "source": [
        "df= pd.read_csv(\"/content/Dynamic_2017_2_0.csv\")\n",
        "\n",
        "df"
      ],
      "execution_count": 0,
      "outputs": [
        {
          "output_type": "display_data",
          "data": {
            "application/javascript": [
              "\n",
              "        if (window._pyforest_update_imports_cell) { window._pyforest_update_imports_cell('import pandas as pd'); }\n",
              "    "
            ],
            "text/plain": [
              "<IPython.core.display.Javascript object>"
            ]
          },
          "metadata": {
            "tags": []
          }
        },
        {
          "output_type": "execute_result",
          "data": {
            "text/html": [
              "<div>\n",
              "<style scoped>\n",
              "    .dataframe tbody tr th:only-of-type {\n",
              "        vertical-align: middle;\n",
              "    }\n",
              "\n",
              "    .dataframe tbody tr th {\n",
              "        vertical-align: top;\n",
              "    }\n",
              "\n",
              "    .dataframe thead th {\n",
              "        text-align: right;\n",
              "    }\n",
              "</style>\n",
              "<table border=\"1\" class=\"dataframe\">\n",
              "  <thead>\n",
              "    <tr style=\"text-align: right;\">\n",
              "      <th></th>\n",
              "      <th>S.no.</th>\n",
              "      <th>Name of State</th>\n",
              "      <th>Name of District</th>\n",
              "      <th>Recharge from rainfall During Monsoon Season</th>\n",
              "      <th>Recharge from other sources During Monsoon Season</th>\n",
              "      <th>Recharge from rainfall During Non Monsoon Season</th>\n",
              "      <th>Recharge from other sources During Non Monsoon Season</th>\n",
              "      <th>Total Annual Ground Water Recharge</th>\n",
              "      <th>Total Natural Discharges</th>\n",
              "      <th>Annual Extractable Ground Water Resource</th>\n",
              "      <th>Current Annual Ground Water Extraction For Irrigation</th>\n",
              "      <th>Current Annual Ground Water Extraction For Domestic &amp; Industrial Use</th>\n",
              "      <th>Total Current Annual Ground Water Extraction</th>\n",
              "      <th>Annual GW Allocation for Domestic Use as on 2025</th>\n",
              "      <th>Net Ground Water Availability for future use</th>\n",
              "      <th>Stage of Ground Water Extraction (%)</th>\n",
              "    </tr>\n",
              "  </thead>\n",
              "  <tbody>\n",
              "    <tr>\n",
              "      <th>0</th>\n",
              "      <td>1</td>\n",
              "      <td>ANDHRA PRADESH</td>\n",
              "      <td>Anantapur</td>\n",
              "      <td>89200.23</td>\n",
              "      <td>46136.12</td>\n",
              "      <td>1013.97</td>\n",
              "      <td>50415.31</td>\n",
              "      <td>186765.62</td>\n",
              "      <td>9338.31</td>\n",
              "      <td>177427.31</td>\n",
              "      <td>142953.85</td>\n",
              "      <td>14884.94</td>\n",
              "      <td>157838.79</td>\n",
              "      <td>21623.75</td>\n",
              "      <td>59410.09</td>\n",
              "      <td>88.96</td>\n",
              "    </tr>\n",
              "    <tr>\n",
              "      <th>1</th>\n",
              "      <td>2</td>\n",
              "      <td>ANDHRA PRADESH</td>\n",
              "      <td>Chittoor</td>\n",
              "      <td>115718.55</td>\n",
              "      <td>32389.60</td>\n",
              "      <td>1204.19</td>\n",
              "      <td>38028.60</td>\n",
              "      <td>187340.94</td>\n",
              "      <td>9367.06</td>\n",
              "      <td>177973.88</td>\n",
              "      <td>95256.50</td>\n",
              "      <td>9597.29</td>\n",
              "      <td>104853.79</td>\n",
              "      <td>13528.83</td>\n",
              "      <td>80858.36</td>\n",
              "      <td>58.92</td>\n",
              "    </tr>\n",
              "    <tr>\n",
              "      <th>2</th>\n",
              "      <td>3</td>\n",
              "      <td>ANDHRA PRADESH</td>\n",
              "      <td>East Godavari</td>\n",
              "      <td>104140.05</td>\n",
              "      <td>95383.56</td>\n",
              "      <td>3714.55</td>\n",
              "      <td>50847.53</td>\n",
              "      <td>254085.69</td>\n",
              "      <td>12704.33</td>\n",
              "      <td>241381.36</td>\n",
              "      <td>41688.32</td>\n",
              "      <td>9418.15</td>\n",
              "      <td>51106.47</td>\n",
              "      <td>4226.85</td>\n",
              "      <td>193656.03</td>\n",
              "      <td>21.17</td>\n",
              "    </tr>\n",
              "    <tr>\n",
              "      <th>3</th>\n",
              "      <td>4</td>\n",
              "      <td>ANDHRA PRADESH</td>\n",
              "      <td>Guntur</td>\n",
              "      <td>52942.86</td>\n",
              "      <td>57011.90</td>\n",
              "      <td>2547.96</td>\n",
              "      <td>18800.39</td>\n",
              "      <td>131303.10</td>\n",
              "      <td>6565.15</td>\n",
              "      <td>124737.95</td>\n",
              "      <td>39174.72</td>\n",
              "      <td>8942.35</td>\n",
              "      <td>48117.07</td>\n",
              "      <td>14159.10</td>\n",
              "      <td>79051.91</td>\n",
              "      <td>38.57</td>\n",
              "    </tr>\n",
              "    <tr>\n",
              "      <th>4</th>\n",
              "      <td>5</td>\n",
              "      <td>ANDHRA PRADESH</td>\n",
              "      <td>Kadapa</td>\n",
              "      <td>93311.68</td>\n",
              "      <td>15869.52</td>\n",
              "      <td>2048.53</td>\n",
              "      <td>11177.61</td>\n",
              "      <td>122407.34</td>\n",
              "      <td>6120.40</td>\n",
              "      <td>116286.94</td>\n",
              "      <td>74888.06</td>\n",
              "      <td>4974.42</td>\n",
              "      <td>79862.47</td>\n",
              "      <td>6110.25</td>\n",
              "      <td>56568.63</td>\n",
              "      <td>68.68</td>\n",
              "    </tr>\n",
              "    <tr>\n",
              "      <th>...</th>\n",
              "      <td>...</td>\n",
              "      <td>...</td>\n",
              "      <td>...</td>\n",
              "      <td>...</td>\n",
              "      <td>...</td>\n",
              "      <td>...</td>\n",
              "      <td>...</td>\n",
              "      <td>...</td>\n",
              "      <td>...</td>\n",
              "      <td>...</td>\n",
              "      <td>...</td>\n",
              "      <td>...</td>\n",
              "      <td>...</td>\n",
              "      <td>...</td>\n",
              "      <td>...</td>\n",
              "      <td>...</td>\n",
              "    </tr>\n",
              "    <tr>\n",
              "      <th>684</th>\n",
              "      <td>685</td>\n",
              "      <td>LAKSHADWEEP</td>\n",
              "      <td>Kavaratti</td>\n",
              "      <td>124.90</td>\n",
              "      <td>0.00</td>\n",
              "      <td>22.70</td>\n",
              "      <td>0.00</td>\n",
              "      <td>147.60</td>\n",
              "      <td>97.30</td>\n",
              "      <td>50.30</td>\n",
              "      <td>0.00</td>\n",
              "      <td>41.80</td>\n",
              "      <td>41.80</td>\n",
              "      <td>41.80</td>\n",
              "      <td>8.50</td>\n",
              "      <td>83.10</td>\n",
              "    </tr>\n",
              "    <tr>\n",
              "      <th>685</th>\n",
              "      <td>686</td>\n",
              "      <td>LAKSHADWEEP</td>\n",
              "      <td>Minicoy</td>\n",
              "      <td>157.60</td>\n",
              "      <td>0.00</td>\n",
              "      <td>27.30</td>\n",
              "      <td>0.00</td>\n",
              "      <td>184.90</td>\n",
              "      <td>121.20</td>\n",
              "      <td>63.70</td>\n",
              "      <td>0.00</td>\n",
              "      <td>38.60</td>\n",
              "      <td>38.60</td>\n",
              "      <td>38.60</td>\n",
              "      <td>25.01</td>\n",
              "      <td>60.60</td>\n",
              "    </tr>\n",
              "    <tr>\n",
              "      <th>686</th>\n",
              "      <td>687</td>\n",
              "      <td>Puducherry</td>\n",
              "      <td>Puducherry</td>\n",
              "      <td>7035.00</td>\n",
              "      <td>2738.37</td>\n",
              "      <td>1775.58</td>\n",
              "      <td>3671.63</td>\n",
              "      <td>15220.58</td>\n",
              "      <td>1522.06</td>\n",
              "      <td>13698.52</td>\n",
              "      <td>10338.00</td>\n",
              "      <td>3632.50</td>\n",
              "      <td>13970.50</td>\n",
              "      <td>3652.00</td>\n",
              "      <td>0.00</td>\n",
              "      <td>101.99</td>\n",
              "    </tr>\n",
              "    <tr>\n",
              "      <th>687</th>\n",
              "      <td>688</td>\n",
              "      <td>Puducherry</td>\n",
              "      <td>Karaikal</td>\n",
              "      <td>1973.73</td>\n",
              "      <td>4080.47</td>\n",
              "      <td>209.22</td>\n",
              "      <td>880.62</td>\n",
              "      <td>7144.04</td>\n",
              "      <td>714.40</td>\n",
              "      <td>6429.64</td>\n",
              "      <td>616.65</td>\n",
              "      <td>387.67</td>\n",
              "      <td>1004.32</td>\n",
              "      <td>404.52</td>\n",
              "      <td>5408.47</td>\n",
              "      <td>15.62</td>\n",
              "    </tr>\n",
              "    <tr>\n",
              "      <th>688</th>\n",
              "      <td>689</td>\n",
              "      <td>Puducherry</td>\n",
              "      <td>Mahe</td>\n",
              "      <td>245.45</td>\n",
              "      <td>0.00</td>\n",
              "      <td>23.11</td>\n",
              "      <td>0.00</td>\n",
              "      <td>268.56</td>\n",
              "      <td>26.85</td>\n",
              "      <td>241.71</td>\n",
              "      <td>0.00</td>\n",
              "      <td>166.00</td>\n",
              "      <td>166.00</td>\n",
              "      <td>176.34</td>\n",
              "      <td>65.37</td>\n",
              "      <td>68.68</td>\n",
              "    </tr>\n",
              "  </tbody>\n",
              "</table>\n",
              "<p>689 rows × 16 columns</p>\n",
              "</div>"
            ],
            "text/plain": [
              "     S.no.  ... Stage of Ground Water Extraction (%)\n",
              "0        1  ...                                88.96\n",
              "1        2  ...                                58.92\n",
              "2        3  ...                                21.17\n",
              "3        4  ...                                38.57\n",
              "4        5  ...                                68.68\n",
              "..     ...  ...                                  ...\n",
              "684    685  ...                                83.10\n",
              "685    686  ...                                60.60\n",
              "686    687  ...                               101.99\n",
              "687    688  ...                                15.62\n",
              "688    689  ...                                68.68\n",
              "\n",
              "[689 rows x 16 columns]"
            ]
          },
          "metadata": {
            "tags": []
          },
          "execution_count": 2
        }
      ]
    },
    {
      "cell_type": "code",
      "metadata": {
        "id": "XLOk3HXeOOvL",
        "colab_type": "code",
        "outputId": "56aa9903-bf9d-46c0-b303-e638b56ffc5f",
        "colab": {
          "base_uri": "https://localhost:8080/",
          "height": 408
        }
      },
      "source": [
        "df.info()"
      ],
      "execution_count": 0,
      "outputs": [
        {
          "output_type": "stream",
          "text": [
            "<class 'pandas.core.frame.DataFrame'>\n",
            "RangeIndex: 689 entries, 0 to 688\n",
            "Data columns (total 16 columns):\n",
            " #   Column                                                                Non-Null Count  Dtype  \n",
            "---  ------                                                                --------------  -----  \n",
            " 0   S.no.                                                                 689 non-null    int64  \n",
            " 1   Name of State                                                         689 non-null    object \n",
            " 2   Name of District                                                      689 non-null    object \n",
            " 3   Recharge from rainfall During Monsoon Season                          684 non-null    float64\n",
            " 4   Recharge from other sources During Monsoon Season                     684 non-null    float64\n",
            " 5   Recharge from rainfall During Non Monsoon Season                      684 non-null    float64\n",
            " 6   Recharge from other sources During Non Monsoon Season                 684 non-null    float64\n",
            " 7   Total Annual Ground Water Recharge                                    684 non-null    float64\n",
            " 8   Total Natural Discharges                                              684 non-null    float64\n",
            " 9   Annual Extractable Ground Water Resource                              684 non-null    float64\n",
            " 10  Current Annual Ground Water Extraction For Irrigation                 684 non-null    float64\n",
            " 11  Current Annual Ground Water Extraction For Domestic & Industrial Use  689 non-null    float64\n",
            " 12  Total Current Annual Ground Water Extraction                          684 non-null    float64\n",
            " 13  Annual GW Allocation for Domestic Use as on 2025                      684 non-null    float64\n",
            " 14  Net Ground Water Availability for future use                          684 non-null    float64\n",
            " 15  Stage of Ground Water Extraction (%)                                  684 non-null    float64\n",
            "dtypes: float64(13), int64(1), object(2)\n",
            "memory usage: 86.2+ KB\n"
          ],
          "name": "stdout"
        }
      ]
    },
    {
      "cell_type": "code",
      "metadata": {
        "id": "TI-7BXOiOYvi",
        "colab_type": "code",
        "outputId": "9e1e652a-e085-4dee-909e-4e5e4be41471",
        "colab": {
          "base_uri": "https://localhost:8080/",
          "height": 408
        }
      },
      "source": [
        "df= df.dropna()\n",
        "df.info()"
      ],
      "execution_count": 0,
      "outputs": [
        {
          "output_type": "stream",
          "text": [
            "<class 'pandas.core.frame.DataFrame'>\n",
            "Int64Index: 684 entries, 0 to 688\n",
            "Data columns (total 16 columns):\n",
            " #   Column                                                                Non-Null Count  Dtype  \n",
            "---  ------                                                                --------------  -----  \n",
            " 0   S.no.                                                                 684 non-null    int64  \n",
            " 1   Name of State                                                         684 non-null    object \n",
            " 2   Name of District                                                      684 non-null    object \n",
            " 3   Recharge from rainfall During Monsoon Season                          684 non-null    float64\n",
            " 4   Recharge from other sources During Monsoon Season                     684 non-null    float64\n",
            " 5   Recharge from rainfall During Non Monsoon Season                      684 non-null    float64\n",
            " 6   Recharge from other sources During Non Monsoon Season                 684 non-null    float64\n",
            " 7   Total Annual Ground Water Recharge                                    684 non-null    float64\n",
            " 8   Total Natural Discharges                                              684 non-null    float64\n",
            " 9   Annual Extractable Ground Water Resource                              684 non-null    float64\n",
            " 10  Current Annual Ground Water Extraction For Irrigation                 684 non-null    float64\n",
            " 11  Current Annual Ground Water Extraction For Domestic & Industrial Use  684 non-null    float64\n",
            " 12  Total Current Annual Ground Water Extraction                          684 non-null    float64\n",
            " 13  Annual GW Allocation for Domestic Use as on 2025                      684 non-null    float64\n",
            " 14  Net Ground Water Availability for future use                          684 non-null    float64\n",
            " 15  Stage of Ground Water Extraction (%)                                  684 non-null    float64\n",
            "dtypes: float64(13), int64(1), object(2)\n",
            "memory usage: 90.8+ KB\n"
          ],
          "name": "stdout"
        }
      ]
    },
    {
      "cell_type": "code",
      "metadata": {
        "id": "DO1kwNN3Ogdp",
        "colab_type": "code",
        "colab": {}
      },
      "source": [
        "#!pip install sweetviz"
      ],
      "execution_count": 0,
      "outputs": []
    },
    {
      "cell_type": "code",
      "metadata": {
        "id": "AxWwLcr2Oz3e",
        "colab_type": "code",
        "colab": {}
      },
      "source": [
        "import sweetviz"
      ],
      "execution_count": 0,
      "outputs": []
    },
    {
      "cell_type": "code",
      "metadata": {
        "id": "nf6zJRMhPKc4",
        "colab_type": "code",
        "outputId": "a525925c-46e2-4dd0-d082-34e12187ef5c",
        "colab": {
          "base_uri": "https://localhost:8080/",
          "height": 68
        }
      },
      "source": [
        "my_report= sweetviz.analyze([df,\"df\"], target_feat=\"Net Ground Water Availability for future use\")"
      ],
      "execution_count": 0,
      "outputs": [
        {
          "output_type": "stream",
          "text": [
            ":FEATURES DONE:                    |█████████████████████| [100%]   00:12  -> (00:00 left)\n",
            ":PAIRWISE DONE:                    |█████████████████████| [100%]   00:00  -> (00:00 left)\n"
          ],
          "name": "stderr"
        },
        {
          "output_type": "stream",
          "text": [
            "Creating Associations graph... DONE!\n"
          ],
          "name": "stdout"
        }
      ]
    },
    {
      "cell_type": "code",
      "metadata": {
        "id": "8uV-1cjdPuyS",
        "colab_type": "code",
        "colab": {}
      },
      "source": [
        "my_report.show_html(\"Report.html\")"
      ],
      "execution_count": 0,
      "outputs": []
    },
    {
      "cell_type": "code",
      "metadata": {
        "id": "HnqMCKWFPg_3",
        "colab_type": "code",
        "colab": {}
      },
      "source": [
        ""
      ],
      "execution_count": 0,
      "outputs": []
    }
  ]
}