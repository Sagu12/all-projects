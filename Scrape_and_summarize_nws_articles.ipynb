{
  "nbformat": 4,
  "nbformat_minor": 0,
  "metadata": {
    "colab": {
      "name": "Scrape and summarize nws articles.ipynb",
      "provenance": [],
      "collapsed_sections": [],
      "authorship_tag": "ABX9TyOVHT9cOSG0d6Bn9uJGEp9+",
      "include_colab_link": true
    },
    "kernelspec": {
      "name": "python3",
      "display_name": "Python 3"
    }
  },
  "cells": [
    {
      "cell_type": "markdown",
      "metadata": {
        "id": "view-in-github",
        "colab_type": "text"
      },
      "source": [
        "<a href=\"https://colab.research.google.com/github/Sagu12/all-projects/blob/master/Scrape_and_summarize_nws_articles.ipynb\" target=\"_parent\"><img src=\"https://colab.research.google.com/assets/colab-badge.svg\" alt=\"Open In Colab\"/></a>"
      ]
    },
    {
      "cell_type": "code",
      "metadata": {
        "colab": {
          "base_uri": "https://localhost:8080/"
        },
        "id": "FNyOV1UoFskB",
        "outputId": "fa70aa5d-e135-4f8e-8956-7a3659571ce5"
      },
      "source": [
        "pip install newspaper3k"
      ],
      "execution_count": 76,
      "outputs": [
        {
          "output_type": "stream",
          "text": [
            "Requirement already satisfied: newspaper3k in /usr/local/lib/python3.6/dist-packages (0.2.8)\n",
            "Requirement already satisfied: lxml>=3.6.0 in /usr/local/lib/python3.6/dist-packages (from newspaper3k) (4.2.6)\n",
            "Requirement already satisfied: feedfinder2>=0.0.4 in /usr/local/lib/python3.6/dist-packages (from newspaper3k) (0.0.4)\n",
            "Requirement already satisfied: tinysegmenter==0.3 in /usr/local/lib/python3.6/dist-packages (from newspaper3k) (0.3)\n",
            "Requirement already satisfied: python-dateutil>=2.5.3 in /usr/local/lib/python3.6/dist-packages (from newspaper3k) (2.8.1)\n",
            "Requirement already satisfied: feedparser>=5.2.1 in /usr/local/lib/python3.6/dist-packages (from newspaper3k) (6.0.2)\n",
            "Requirement already satisfied: tldextract>=2.0.1 in /usr/local/lib/python3.6/dist-packages (from newspaper3k) (3.1.0)\n",
            "Requirement already satisfied: beautifulsoup4>=4.4.1 in /usr/local/lib/python3.6/dist-packages (from newspaper3k) (4.6.3)\n",
            "Requirement already satisfied: nltk>=3.2.1 in /usr/local/lib/python3.6/dist-packages (from newspaper3k) (3.2.5)\n",
            "Requirement already satisfied: requests>=2.10.0 in /usr/local/lib/python3.6/dist-packages (from newspaper3k) (2.23.0)\n",
            "Requirement already satisfied: jieba3k>=0.35.1 in /usr/local/lib/python3.6/dist-packages (from newspaper3k) (0.35.1)\n",
            "Requirement already satisfied: PyYAML>=3.11 in /usr/local/lib/python3.6/dist-packages (from newspaper3k) (3.13)\n",
            "Requirement already satisfied: Pillow>=3.3.0 in /usr/local/lib/python3.6/dist-packages (from newspaper3k) (7.0.0)\n",
            "Requirement already satisfied: cssselect>=0.9.2 in /usr/local/lib/python3.6/dist-packages (from newspaper3k) (1.1.0)\n",
            "Requirement already satisfied: six in /usr/local/lib/python3.6/dist-packages (from feedfinder2>=0.0.4->newspaper3k) (1.15.0)\n",
            "Requirement already satisfied: sgmllib3k in /usr/local/lib/python3.6/dist-packages (from feedparser>=5.2.1->newspaper3k) (1.0.0)\n",
            "Requirement already satisfied: requests-file>=1.4 in /usr/local/lib/python3.6/dist-packages (from tldextract>=2.0.1->newspaper3k) (1.5.1)\n",
            "Requirement already satisfied: filelock>=3.0.8 in /usr/local/lib/python3.6/dist-packages (from tldextract>=2.0.1->newspaper3k) (3.0.12)\n",
            "Requirement already satisfied: idna in /usr/local/lib/python3.6/dist-packages (from tldextract>=2.0.1->newspaper3k) (2.10)\n",
            "Requirement already satisfied: chardet<4,>=3.0.2 in /usr/local/lib/python3.6/dist-packages (from requests>=2.10.0->newspaper3k) (3.0.4)\n",
            "Requirement already satisfied: certifi>=2017.4.17 in /usr/local/lib/python3.6/dist-packages (from requests>=2.10.0->newspaper3k) (2020.12.5)\n",
            "Requirement already satisfied: urllib3!=1.25.0,!=1.25.1,<1.26,>=1.21.1 in /usr/local/lib/python3.6/dist-packages (from requests>=2.10.0->newspaper3k) (1.24.3)\n"
          ],
          "name": "stdout"
        }
      ]
    },
    {
      "cell_type": "code",
      "metadata": {
        "id": "yBNL8AS9GHJd"
      },
      "source": [
        "from newspaper import Article"
      ],
      "execution_count": 77,
      "outputs": []
    },
    {
      "cell_type": "code",
      "metadata": {
        "id": "snV94dvsGHMh"
      },
      "source": [
        "article= Article(\"https://www.aajtak.in/india/uttar-pradesh/story/muradnagar-cremation-accident-contractor-ajay-tyagi-arrested-ghaziabad-police-1187279-2021-01-05\")"
      ],
      "execution_count": 78,
      "outputs": []
    },
    {
      "cell_type": "code",
      "metadata": {
        "id": "LrnCjQ0jGHSO"
      },
      "source": [
        "article.download()"
      ],
      "execution_count": 79,
      "outputs": []
    },
    {
      "cell_type": "code",
      "metadata": {
        "id": "XI-R-qy0GHUw"
      },
      "source": [
        "article.parse()"
      ],
      "execution_count": 80,
      "outputs": []
    },
    {
      "cell_type": "code",
      "metadata": {
        "colab": {
          "base_uri": "https://localhost:8080/"
        },
        "id": "7YlrL6FVG_O6",
        "outputId": "7b47ace8-ce15-4d14-92f5-1545e525188f"
      },
      "source": [
        "import nltk\r\n",
        "nltk.download(\"punkt\")"
      ],
      "execution_count": 81,
      "outputs": [
        {
          "output_type": "stream",
          "text": [
            "[nltk_data] Downloading package punkt to /root/nltk_data...\n",
            "[nltk_data]   Package punkt is already up-to-date!\n"
          ],
          "name": "stdout"
        },
        {
          "output_type": "execute_result",
          "data": {
            "text/plain": [
              "True"
            ]
          },
          "metadata": {
            "tags": []
          },
          "execution_count": 81
        }
      ]
    },
    {
      "cell_type": "code",
      "metadata": {
        "id": "LrNePKRAGHYk"
      },
      "source": [
        "article.nlp()"
      ],
      "execution_count": 82,
      "outputs": []
    },
    {
      "cell_type": "code",
      "metadata": {
        "colab": {
          "base_uri": "https://localhost:8080/"
        },
        "id": "kmrJt_YuG8gF",
        "outputId": "271edc48-073d-4009-88a8-9b6372ecbf50"
      },
      "source": [
        "article.authors"
      ],
      "execution_count": 83,
      "outputs": [
        {
          "output_type": "execute_result",
          "data": {
            "text/plain": [
              "[]"
            ]
          },
          "metadata": {
            "tags": []
          },
          "execution_count": 83
        }
      ]
    },
    {
      "cell_type": "code",
      "metadata": {
        "colab": {
          "base_uri": "https://localhost:8080/"
        },
        "id": "E-Rqq7WoG8lk",
        "outputId": "1e72f7fd-a07c-4a27-a0fd-6767a3447d73"
      },
      "source": [
        "article.publish_date"
      ],
      "execution_count": 84,
      "outputs": [
        {
          "output_type": "execute_result",
          "data": {
            "text/plain": [
              "datetime.datetime(2021, 1, 5, 0, 0)"
            ]
          },
          "metadata": {
            "tags": []
          },
          "execution_count": 84
        }
      ]
    },
    {
      "cell_type": "code",
      "metadata": {
        "colab": {
          "base_uri": "https://localhost:8080/"
        },
        "id": "kHdfaf70G8rC",
        "outputId": "18c8f45c-5531-4a3a-8463-4c124166841c"
      },
      "source": [
        "article.keywords"
      ],
      "execution_count": 85,
      "outputs": [
        {
          "output_type": "execute_result",
          "data": {
            "text/plain": [
              "['हदस',\n",
              " 'पर',\n",
              " 'हजर',\n",
              " 'मत',\n",
              " 'और',\n",
              " 'ठकदर',\n",
              " 'अजय',\n",
              " 'फरर',\n",
              " 'क',\n",
              " 'मखय',\n",
              " 'मरदनगर',\n",
              " 'शमशन',\n",
              " 'म',\n",
              " 'ह',\n",
              " 'थ']"
            ]
          },
          "metadata": {
            "tags": []
          },
          "execution_count": 85
        }
      ]
    },
    {
      "cell_type": "code",
      "metadata": {
        "colab": {
          "base_uri": "https://localhost:8080/"
        },
        "id": "awQdQEsLHLSQ",
        "outputId": "3e89f286-7bd8-47b2-9603-79d32e42fa2f"
      },
      "source": [
        "print(article.text)"
      ],
      "execution_count": 86,
      "outputs": [
        {
          "output_type": "stream",
          "text": [
            "गाजियाबाद के मुरादनगर में श्मशान में हुए हादसे का मुख्य आरोपी अजय त्यागी को गिरफ्तार कर लिया गया है. हादसे के बाद से अजय त्यागी फरार था. गाजियाबाद पुलिस ने आरोपी अजय त्यागी पर 25 हजार रुपये का ईनाम घोषित किया था. हादसे में 25 लोगों की मौत हो गई थी. श्मशान घाट में घटिया निर्माण के चलते छत गिर गई थी जिसके चलते यह हादसा हुआ था.\n",
            "\n",
            "इस मामले में ठेकेदार, नगरपालिका की कार्यपालन अधिकारी समेत कई लोगों के खिलाफ एफआईआर दर्ज की गई थी. इस मामले में ईओ, इंजीनियर और सुपरवाइजर को गिरफ्तार कर लिया गया था, जबकि ठेकेदार फरार चल रहा था. आरोपी ठेकेदार अजय त्यागी को सोमवार देर रात गिरफ्तार किया गया.\n",
            "\n",
            "इस केस में मुरादनगर नगरपालिका की कार्यपालन अधिकारी निहारिका सिंह, जेई चंद्रपाल, सुपरवाइजर आशीष, ठेकेदार अजय त्यागी और अन्य अज्ञात के खिलाफ केस दर्ज किया गया था. इनके खिलाफ धारा 304, 337, 338, 427, 409 के तहत मुरादनगर थाने में मुकदमा दर्ज हुआ है. उत्तर प्रदेश के सीएम योगी आदित्यनाथ ने इस मामले में जांच और कार्रवाई के आदेश दिए थे, जबकि प्रधानमंत्री नरेंद्र मोदी ने हादसे पर दुख जताया था.\n",
            "\n",
            "पुलिस ने अपनी जांच में श्मशान घाट में छत बनाने वाले ठेकेदार, नगरपालिका के इंजीनियर और अफसरों को लापरवाह पाया था. हादसे के बाद की तस्वीरें और चश्मदीदों के बयानों से पता चलता है कि श्मशान घाट में लोगों को पानी और धूप से बचाने वाली छत मौत का कारण बन गई.\n",
            "\n",
            "मुख्य आरोपी अजय त्यागी\n",
            "\n",
            "देखें: आजतक LIVE TV\n",
            "\n",
            "बता दें कि रविवार को मुरादनगर में श्मशान की छत गिरने के कारण 25 लोगों की मौत हो गई थी. पुलिस के मुताबिक गाजियाबाद के थाना मुरादनगर क्षेत्र के उखलारसी गांव में एक व्यक्ति की मृत्यु हो जाने पर परिजन और सगे संबंधी मृत व्यक्ति को दाह संस्कार के लिए श्मशान घाट लेकर पहुंचे थे. परिजन मृत व्यक्ति का अंतिम संस्कार कर ही रहे थे तभी श्मशान घाट की छत भरभरा कर गिर गई.\n"
          ],
          "name": "stdout"
        }
      ]
    },
    {
      "cell_type": "code",
      "metadata": {
        "colab": {
          "base_uri": "https://localhost:8080/"
        },
        "id": "kCTNmgrkHLY_",
        "outputId": "3f3c17ac-f148-4ce4-843a-f06ba9d80a92"
      },
      "source": [
        "print(article.summary)"
      ],
      "execution_count": 87,
      "outputs": [
        {
          "output_type": "stream",
          "text": [
            "गाजियाबाद के मुरादनगर में श्मशान में हुए हादसे का मुख्य आरोपी अजय त्यागी को गिरफ्तार कर लिया गया है.\n",
            "हादसे में 25 लोगों की मौत हो गई थी.\n",
            "पुलिस ने अपनी जांच में श्मशान घाट में छत बनाने वाले ठेकेदार, नगरपालिका के इंजीनियर और अफसरों को लापरवाह पाया था.\n",
            "हादसे के बाद की तस्वीरें और चश्मदीदों के बयानों से पता चलता है कि श्मशान घाट में लोगों को पानी और धूप से बचाने वाली छत मौत का कारण बन गई.\n",
            "मुख्य आरोपी अजय त्यागीदेखें: आजतक LIVE TVबता दें कि रविवार को मुरादनगर में श्मशान की छत गिरने के कारण 25 लोगों की मौत हो गई थी.\n"
          ],
          "name": "stdout"
        }
      ]
    },
    {
      "cell_type": "code",
      "metadata": {
        "colab": {
          "base_uri": "https://localhost:8080/",
          "height": 35
        },
        "id": "oDqRLk3PJ5yP",
        "outputId": "d8e9772a-2386-4441-8831-41989a682e17"
      },
      "source": [
        "article.top_image"
      ],
      "execution_count": 88,
      "outputs": [
        {
          "output_type": "execute_result",
          "data": {
            "application/vnd.google.colaboratory.intrinsic+json": {
              "type": "string"
            },
            "text/plain": [
              "'https://akm-img-a-in.tosshub.com/aajtak/images/story/202101/muradnagar_0-sixteen_nine.jpg'"
            ]
          },
          "metadata": {
            "tags": []
          },
          "execution_count": 88
        }
      ]
    },
    {
      "cell_type": "code",
      "metadata": {
        "colab": {
          "base_uri": "https://localhost:8080/"
        },
        "id": "NKC091BSKOUG",
        "outputId": "034dca13-6794-4121-a843-9679c72b653d"
      },
      "source": [
        "article.movies"
      ],
      "execution_count": 89,
      "outputs": [
        {
          "output_type": "execute_result",
          "data": {
            "text/plain": [
              "[]"
            ]
          },
          "metadata": {
            "tags": []
          },
          "execution_count": 89
        }
      ]
    },
    {
      "cell_type": "code",
      "metadata": {
        "id": "MCqKgC7hKYIG"
      },
      "source": [
        "import newspaper"
      ],
      "execution_count": 90,
      "outputs": []
    },
    {
      "cell_type": "code",
      "metadata": {
        "id": "jhGG_Q6UH7na"
      },
      "source": [
        "cnn_paper = newspaper.build('https://www.indiatoday.in/')"
      ],
      "execution_count": 109,
      "outputs": []
    },
    {
      "cell_type": "code",
      "metadata": {
        "colab": {
          "base_uri": "https://localhost:8080/"
        },
        "id": "kqIQgP2zH7t3",
        "outputId": "6f505dbd-8d73-4bbe-fdae-a7aa1772b3e1"
      },
      "source": [
        "for article in cnn_paper.articles:\r\n",
        "  print(article.url)"
      ],
      "execution_count": 111,
      "outputs": [
        {
          "output_type": "stream",
          "text": [
            "https://www.indiatoday.in/sports/cricket/story/india-vs-australia-sydney-test-captain-ajinkya-rahane-upcoming-milestones-1755991-2021-01-05\n",
            "https://www.indiatoday.in/sports/cricket/story/ipl-player-reported-corrupt-approach-from-delhi-nurse-bcci-acu-says-matter-closed-now-1755986-2021-01-05\n",
            "https://www.indiatoday.in/news-analysis/story/why-farmers-protest-continues-1755985-2021-01-05\n",
            "https://www.indiatoday.in/elections/story/ajsu-jharkhand-west-bengal-assembly-election-1755989-2021-01-05\n"
          ],
          "name": "stdout"
        }
      ]
    },
    {
      "cell_type": "code",
      "metadata": {
        "colab": {
          "base_uri": "https://localhost:8080/"
        },
        "id": "NmZWUEltH7zf",
        "outputId": "9c7b3a85-3354-49fe-a10c-d88092ecd43f"
      },
      "source": [
        "for category in indtdy_paper.category_urls():\r\n",
        "  print(category)"
      ],
      "execution_count": 112,
      "outputs": [
        {
          "output_type": "stream",
          "text": [
            "https://www.indiatoday.in/\n",
            "https://www.indiatoday.in/fact-check\n",
            "https://www.indiatoday.in/livetv\n",
            "https://www.indiatoday.in/our-apps\n",
            "https://www.indiatoday.in/sports\n",
            "https://www.indiatoday.in/videos\n",
            "https://www.indiatoday.in/auto\n",
            "https://auth.indiatoday.in\n",
            "https://www.indiatoday.in/magazine\n",
            "https://www.indiatoday.in/lifestyle\n",
            "https://www.indiatoday.in/movies\n",
            "https://www.indiatoday.in\n",
            "https://www.indiatoday.in/foryou\n",
            "https://www.indiatoday.in/television\n",
            "https://www.indiatoday.in/news-analysis\n",
            "https://www.indiatoday.in/world\n",
            "https://www.indiatoday.in/science\n",
            "https://www.indiatoday.in/india\n",
            "https://www.indiatoday.in/programmes\n",
            "https://www.indiatoday.in/business\n",
            "https://malayalam.indiatoday.in\n",
            "https://www.indiatoday.in/newsmo\n",
            "https://www.indiatoday.in/cities\n",
            "https://www.indiatoday.in/photo\n",
            "https://www.indiatoday.in/binge-watch\n"
          ],
          "name": "stdout"
        }
      ]
    },
    {
      "cell_type": "code",
      "metadata": {
        "id": "qG5U9f42H79M"
      },
      "source": [
        "cnn_article = cnn_paper.articles[0]"
      ],
      "execution_count": 113,
      "outputs": []
    },
    {
      "cell_type": "code",
      "metadata": {
        "colab": {
          "base_uri": "https://localhost:8080/"
        },
        "id": "wpfugp31Mdhh",
        "outputId": "f096314d-513b-4b76-ebaf-b4826361b508"
      },
      "source": [
        "print(cnn_article)"
      ],
      "execution_count": 114,
      "outputs": [
        {
          "output_type": "stream",
          "text": [
            "<newspaper.article.Article object at 0x7fb073d20278>\n"
          ],
          "name": "stdout"
        }
      ]
    },
    {
      "cell_type": "code",
      "metadata": {
        "id": "GSSi6-KbK-DG"
      },
      "source": [
        "cnn_article.download()"
      ],
      "execution_count": 115,
      "outputs": []
    },
    {
      "cell_type": "code",
      "metadata": {
        "id": "TFFMHOWDK-IG"
      },
      "source": [
        "cnn_article.parse()"
      ],
      "execution_count": 116,
      "outputs": []
    },
    {
      "cell_type": "code",
      "metadata": {
        "id": "h5gSE0A_H8Bm"
      },
      "source": [
        "cnn_article.nlp()"
      ],
      "execution_count": 117,
      "outputs": []
    },
    {
      "cell_type": "code",
      "metadata": {
        "id": "KmYFtieNLILS"
      },
      "source": [
        "from newspaper import fulltext"
      ],
      "execution_count": 118,
      "outputs": []
    },
    {
      "cell_type": "code",
      "metadata": {
        "id": "0t0BAb1WMVYd"
      },
      "source": [
        "import requests"
      ],
      "execution_count": 119,
      "outputs": []
    },
    {
      "cell_type": "code",
      "metadata": {
        "id": "vyQmFtALLIPR"
      },
      "source": [
        "html = requests.get(\"https://www.indiatoday.in/sports/cricket/story/india-vs-australia-sydney-test-captain-ajinkya-rahane-upcoming-milestones-1755991-2021-01-05\").text"
      ],
      "execution_count": 120,
      "outputs": []
    },
    {
      "cell_type": "code",
      "metadata": {
        "id": "Z6cucS6wM9D5"
      },
      "source": [
        "text = fulltext(html)"
      ],
      "execution_count": 121,
      "outputs": []
    },
    {
      "cell_type": "code",
      "metadata": {
        "colab": {
          "base_uri": "https://localhost:8080/"
        },
        "id": "0lmBhUKnM-T1",
        "outputId": "a45baa45-23de-419b-b834-e54170ca1f66"
      },
      "source": [
        "print(text)"
      ],
      "execution_count": 122,
      "outputs": [
        {
          "output_type": "stream",
          "text": [
            "India's stand-in captain Ajinkya Rahane has a lot to look forward to as the visitors gear up for the 3rd Test against Australia in Sydney, starting January 7. Rahane will be keen on coming up with another gritty show as a captain as India have a good opportunity to take an unbeatable 2-1 lead in the 4-match series.\n",
            "\n",
            "\n",
            "\n",
            "It was Ajinkya Rahane who marshalled the troops wonderfully well in Melbourne as India recovered from a crushing defeat in Adelaide to bounce back and thrash Australia by 8 wickets in the 2nd Test. India were without Virat Kohli but Rahane stepped up and hit a match-winning hundred. India were without Mohammed Shami and Ishant Sharma but the bowling clicked as a unit to dismiss Australia for 195 and 200.\n",
            "\n",
            "\n",
            "\n",
            "Ajinkya Rahane is now eyeing a few milestones. The Mumbai batsman can become only the second India Test captain to win his first 4 Tests as skipper. MS Dhoni achieved the feat after taking over from Anil Kumble in 2008.\n",
            "\n",
            "\n",
            "\n",
            "Also, Ajinkya Rahane is bidding to become only the fifth India batsman to score 1000 or more runs in Australia. Rahane currently has 797 runs from 10 matches.\n",
            "\n",
            "Sachin Tendulkar is on top of the list with 1809 runs and Virat Kohli behind him with 1352 runs in 13 matches. Kohli though will take no further part in the ongoing series as he has headed back home on paternity leave.\n",
            "\n",
            "\n",
            "\n",
            "Most Test runs by Indian batsmen against Australia in Australia\n",
            "\n",
            "\n",
            "\n",
            "Sachin Tendulkar: 1809 runs in 20 matches, 6 hundreds\n",
            "\n",
            "\n",
            "\n",
            "Virat Kohli: 1352 runs in 13 matches, 6 hundreds\n",
            "\n",
            "\n",
            "\n",
            "VVS Laxman: 1236 runs in 15 matches, 4 hundreds\n",
            "\n",
            "\n",
            "\n",
            "Rahul Dravid: 1143 runs in 15 matches, 1 hundred\n",
            "\n",
            "\n",
            "\n",
            "Virender Sehwag: 948 in 10 matches, 2 hundreds\n",
            "\n",
            "\n",
            "\n",
            "Sunil Gavaskar: 920 runs in 11 matches, 5 hundreds\n",
            "\n",
            "\n",
            "\n",
            "Ajinkya Rahane: 797 runs in 10 matches, 2 hundreds\n",
            "\n",
            "Ajinkya Rahane is also closing in on becoming the 10th India batsman to score at least 3,000 runs in overseas Tests (AP Photo)\n",
            "\n",
            "Meanwhile, Ajinkya Rahane is also closing in on becoming the 10th India batsman to score at least 3,000 runs in overseas Tests. Rahane has 2891 runs in 40 matches away from home at an impressive average of 45.88. Sachin Tendulkar, as expected, is on top of the list with 8705 runs in 106 matches away from home.\n",
            "\n",
            "Most Test runs by an India batsman away from home\n",
            "\n",
            "\n",
            "\n",
            "Sachin Tendulkar - 8705 runs in 106 matches\n",
            "\n",
            "\n",
            "\n",
            "Rahul Dravid - 7667 runs in 93 matches\n",
            "\n",
            "\n",
            "\n",
            "Sunil Gavaskar - 5055 runs in 60 matches\n",
            "\n",
            "\n",
            "\n",
            "VVS Laxman - 5014 runs in 74 matches\n",
            "\n",
            "\n",
            "\n",
            "Sourav Ganguly - 4032 runs in 63 matches\n",
            "\n",
            "\n",
            "\n",
            "Virender Sehwag - 3847 runs in 51 matches\n",
            "\n",
            "\n",
            "\n",
            "Virat Kohli - 3760 runs in 48 matches\n",
            "\n",
            "\n",
            "\n",
            "Dilip Vengsarkar - 3143 runs in 62 matches\n",
            "\n",
            "\n",
            "\n",
            "Mohinder Amarnath - 3008 runs in 37 matches\n",
            "\n",
            "\n",
            "\n",
            "Rahane - 2891 runs in 40 matches\n",
            "\n",
            "INDIA LOOK TO END 42-YEAR WAIT\n",
            "\n",
            "Unlike Melbourne, Sydney hasn't been a happy hunting ground for India over the years. India have managed to win only 1 out of 12 matches played at the iconic venue and lost 6.\n",
            "\n",
            "India's last win at the SCG came in 1978 when a Bishan Bedi-led side thrashed Australia by an innings and 2 runs. India came close to inflicting another defeat against Australia at the SCG in the New Year's Test of 2019. Virat Kohli's men scored 622 and forced Australia, who were bowled out for 300, follow-on before rain played spoilsport and forced a draw.\n",
            "\n",
            "Only England, Pakistan and West Indies have managed more than 1 win as a visiting side in Sydney against Australia. Pakistan are the only Asian side to win at least 2 matches at the SCG.\n"
          ],
          "name": "stdout"
        }
      ]
    }
  ]
}