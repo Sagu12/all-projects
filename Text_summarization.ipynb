{
  "nbformat": 4,
  "nbformat_minor": 0,
  "metadata": {
    "colab": {
      "name": "Text_summarization.ipynb",
      "provenance": [],
      "collapsed_sections": [],
      "authorship_tag": "ABX9TyPR/RG1HMWBC7V71gQYzlJK",
      "include_colab_link": true
    },
    "kernelspec": {
      "name": "python3",
      "display_name": "Python 3"
    }
  },
  "cells": [
    {
      "cell_type": "markdown",
      "metadata": {
        "id": "view-in-github",
        "colab_type": "text"
      },
      "source": [
        "<a href=\"https://colab.research.google.com/github/Sagu12/all-projects/blob/master/Text_summarization.ipynb\" target=\"_parent\"><img src=\"https://colab.research.google.com/assets/colab-badge.svg\" alt=\"Open In Colab\"/></a>"
      ]
    },
    {
      "cell_type": "markdown",
      "metadata": {
        "id": "jh__vMbl-ChR"
      },
      "source": [
        "# Text Summarization\r\n",
        "\r\n",
        "<li> Text cleaning\r\n",
        "<li> sentence tokenization\r\n",
        "<li> word tokenization\r\n",
        "<li> word frequency table\r\n",
        "<li> summarization\r\n"
      ]
    },
    {
      "cell_type": "code",
      "metadata": {
        "id": "oIzX6QGFBKnb"
      },
      "source": [
        "text= '''Barcelona will take on Paris St Germain while Premier League champions Liverpool will play last year's semi-finalists RB Leipzig in the last 16 of the Champions League after UEFA's draw was held on Monday.\r\n",
        "\r\n",
        "Champions League title holders Bayern Munich are up against Italy's Lazio. Atletico Madrid will face Chelsea and Manchester City will take on Borussia Moenchengladbach. Italian champions Juventus will face Porto, Sevilla’s meeting with Borussia Dortmund and Real Madrid’s clash with Atalanta complete the fixture list for the first knockout round.\r\n",
        "\r\n",
        "Jurgen Klopp’s side reached back-to-back finals in 2018 and 2019, emerging victorious in the latter, and will have their sights set on more major silverware despite enduring injury struggles this term.\r\n",
        "\r\n",
        "Juventus, with five-time winner Ronaldo within their ranks, must also be considered among the favourites to go all the way.\r\n",
        "\r\n",
        "The two-legged ties will be played from Feb. 16.\r\n",
        "\r\n",
        "Round of 16 draw\r\n",
        "\r\n",
        "Which tie are you most excited for? #UCLdraw | #UCL pic.twitter.com/M6AqMYTygN\r\n",
        "\r\n",
        "— UEFA Champions League (@ChampionsLeague) December 14, 2020\r\n",
        "First Leg\r\n",
        "\r\n",
        "Feb. 16-17 or 23-24\r\n",
        "\r\n",
        "Borussia Mönchengladbach (Germany) vs. Manchester City (England)\r\n",
        "\r\n",
        "Lazio (Italy) vs. Bayern Munich (Germany)\r\n",
        "\r\n",
        "Atlético Madrid (Spain) vs. Chelsea (England)\r\n",
        "\r\n",
        "Leipzig (Germany) vs. Liverpool (England)\r\n",
        "\r\n",
        "Porto (Portugal) vs. Juventus (Italy)\r\n",
        "\r\n",
        "Barcelona (Spain) vs. Paris Saint-Germain (France)\r\n",
        "\r\n",
        "Sevilla (Spain) vs Borussia Dortmund (Germany)\r\n",
        "\r\n",
        "Atalanta (Italy) vs. Real Madrid (Spain)\r\n",
        "\r\n",
        "Second Leg\r\n",
        "\r\n",
        "March 9-10 or 16-17\r\n",
        "\r\n",
        "Manchester City (England) vs. Borussia Mönchengladbach (Germany)\r\n",
        "\r\n",
        "Bayern Munich (Germany) vs. Lazio (Italy)\r\n",
        "\r\n",
        "Chelsea (England) vs. Atlético Madrid (Spain)\r\n",
        "\r\n",
        "Liverpool (England) vs. Leipzig (Germany)\r\n",
        "\r\n",
        "'''\r\n"
      ],
      "execution_count": 27,
      "outputs": []
    },
    {
      "cell_type": "code",
      "metadata": {
        "colab": {
          "base_uri": "https://localhost:8080/"
        },
        "id": "0AmNTjloBKwB",
        "outputId": "f5339d48-6057-4f51-b485-1a0037325526"
      },
      "source": [
        "pip install spacy"
      ],
      "execution_count": 28,
      "outputs": [
        {
          "output_type": "stream",
          "text": [
            "Requirement already satisfied: spacy in /usr/local/lib/python3.6/dist-packages (2.2.4)\n",
            "Requirement already satisfied: srsly<1.1.0,>=1.0.2 in /usr/local/lib/python3.6/dist-packages (from spacy) (1.0.5)\n",
            "Requirement already satisfied: plac<1.2.0,>=0.9.6 in /usr/local/lib/python3.6/dist-packages (from spacy) (1.1.3)\n",
            "Requirement already satisfied: tqdm<5.0.0,>=4.38.0 in /usr/local/lib/python3.6/dist-packages (from spacy) (4.41.1)\n",
            "Requirement already satisfied: numpy>=1.15.0 in /usr/local/lib/python3.6/dist-packages (from spacy) (1.18.5)\n",
            "Requirement already satisfied: setuptools in /usr/local/lib/python3.6/dist-packages (from spacy) (50.3.2)\n",
            "Requirement already satisfied: wasabi<1.1.0,>=0.4.0 in /usr/local/lib/python3.6/dist-packages (from spacy) (0.8.0)\n",
            "Requirement already satisfied: preshed<3.1.0,>=3.0.2 in /usr/local/lib/python3.6/dist-packages (from spacy) (3.0.5)\n",
            "Requirement already satisfied: blis<0.5.0,>=0.4.0 in /usr/local/lib/python3.6/dist-packages (from spacy) (0.4.1)\n",
            "Requirement already satisfied: murmurhash<1.1.0,>=0.28.0 in /usr/local/lib/python3.6/dist-packages (from spacy) (1.0.5)\n",
            "Requirement already satisfied: cymem<2.1.0,>=2.0.2 in /usr/local/lib/python3.6/dist-packages (from spacy) (2.0.5)\n",
            "Requirement already satisfied: catalogue<1.1.0,>=0.0.7 in /usr/local/lib/python3.6/dist-packages (from spacy) (1.0.0)\n",
            "Requirement already satisfied: thinc==7.4.0 in /usr/local/lib/python3.6/dist-packages (from spacy) (7.4.0)\n",
            "Requirement already satisfied: requests<3.0.0,>=2.13.0 in /usr/local/lib/python3.6/dist-packages (from spacy) (2.23.0)\n",
            "Requirement already satisfied: importlib-metadata>=0.20; python_version < \"3.8\" in /usr/local/lib/python3.6/dist-packages (from catalogue<1.1.0,>=0.0.7->spacy) (3.1.1)\n",
            "Requirement already satisfied: idna<3,>=2.5 in /usr/local/lib/python3.6/dist-packages (from requests<3.0.0,>=2.13.0->spacy) (2.10)\n",
            "Requirement already satisfied: chardet<4,>=3.0.2 in /usr/local/lib/python3.6/dist-packages (from requests<3.0.0,>=2.13.0->spacy) (3.0.4)\n",
            "Requirement already satisfied: certifi>=2017.4.17 in /usr/local/lib/python3.6/dist-packages (from requests<3.0.0,>=2.13.0->spacy) (2020.12.5)\n",
            "Requirement already satisfied: urllib3!=1.25.0,!=1.25.1,<1.26,>=1.21.1 in /usr/local/lib/python3.6/dist-packages (from requests<3.0.0,>=2.13.0->spacy) (1.24.3)\n",
            "Requirement already satisfied: zipp>=0.5 in /usr/local/lib/python3.6/dist-packages (from importlib-metadata>=0.20; python_version < \"3.8\"->catalogue<1.1.0,>=0.0.7->spacy) (3.4.0)\n"
          ],
          "name": "stdout"
        }
      ]
    },
    {
      "cell_type": "code",
      "metadata": {
        "colab": {
          "base_uri": "https://localhost:8080/"
        },
        "id": "L7oP9mucBK0K",
        "outputId": "b06aec16-c234-46da-9b1b-a3b4996e5693"
      },
      "source": [
        "pip install spacy download en_core_web_sm"
      ],
      "execution_count": 29,
      "outputs": [
        {
          "output_type": "stream",
          "text": [
            "Requirement already satisfied: spacy in /usr/local/lib/python3.6/dist-packages (2.2.4)\n",
            "Requirement already satisfied: download in /usr/local/lib/python3.6/dist-packages (0.3.5)\n",
            "Requirement already satisfied: en_core_web_sm in /usr/local/lib/python3.6/dist-packages (2.2.5)\n",
            "Requirement already satisfied: blis<0.5.0,>=0.4.0 in /usr/local/lib/python3.6/dist-packages (from spacy) (0.4.1)\n",
            "Requirement already satisfied: tqdm<5.0.0,>=4.38.0 in /usr/local/lib/python3.6/dist-packages (from spacy) (4.41.1)\n",
            "Requirement already satisfied: catalogue<1.1.0,>=0.0.7 in /usr/local/lib/python3.6/dist-packages (from spacy) (1.0.0)\n",
            "Requirement already satisfied: srsly<1.1.0,>=1.0.2 in /usr/local/lib/python3.6/dist-packages (from spacy) (1.0.5)\n",
            "Requirement already satisfied: numpy>=1.15.0 in /usr/local/lib/python3.6/dist-packages (from spacy) (1.18.5)\n",
            "Requirement already satisfied: cymem<2.1.0,>=2.0.2 in /usr/local/lib/python3.6/dist-packages (from spacy) (2.0.5)\n",
            "Requirement already satisfied: setuptools in /usr/local/lib/python3.6/dist-packages (from spacy) (50.3.2)\n",
            "Requirement already satisfied: thinc==7.4.0 in /usr/local/lib/python3.6/dist-packages (from spacy) (7.4.0)\n",
            "Requirement already satisfied: wasabi<1.1.0,>=0.4.0 in /usr/local/lib/python3.6/dist-packages (from spacy) (0.8.0)\n",
            "Requirement already satisfied: murmurhash<1.1.0,>=0.28.0 in /usr/local/lib/python3.6/dist-packages (from spacy) (1.0.5)\n",
            "Requirement already satisfied: preshed<3.1.0,>=3.0.2 in /usr/local/lib/python3.6/dist-packages (from spacy) (3.0.5)\n",
            "Requirement already satisfied: requests<3.0.0,>=2.13.0 in /usr/local/lib/python3.6/dist-packages (from spacy) (2.23.0)\n",
            "Requirement already satisfied: plac<1.2.0,>=0.9.6 in /usr/local/lib/python3.6/dist-packages (from spacy) (1.1.3)\n",
            "Requirement already satisfied: six in /usr/local/lib/python3.6/dist-packages (from download) (1.15.0)\n",
            "Requirement already satisfied: importlib-metadata>=0.20; python_version < \"3.8\" in /usr/local/lib/python3.6/dist-packages (from catalogue<1.1.0,>=0.0.7->spacy) (3.1.1)\n",
            "Requirement already satisfied: urllib3!=1.25.0,!=1.25.1,<1.26,>=1.21.1 in /usr/local/lib/python3.6/dist-packages (from requests<3.0.0,>=2.13.0->spacy) (1.24.3)\n",
            "Requirement already satisfied: chardet<4,>=3.0.2 in /usr/local/lib/python3.6/dist-packages (from requests<3.0.0,>=2.13.0->spacy) (3.0.4)\n",
            "Requirement already satisfied: certifi>=2017.4.17 in /usr/local/lib/python3.6/dist-packages (from requests<3.0.0,>=2.13.0->spacy) (2020.12.5)\n",
            "Requirement already satisfied: idna<3,>=2.5 in /usr/local/lib/python3.6/dist-packages (from requests<3.0.0,>=2.13.0->spacy) (2.10)\n",
            "Requirement already satisfied: zipp>=0.5 in /usr/local/lib/python3.6/dist-packages (from importlib-metadata>=0.20; python_version < \"3.8\"->catalogue<1.1.0,>=0.0.7->spacy) (3.4.0)\n"
          ],
          "name": "stdout"
        }
      ]
    },
    {
      "cell_type": "code",
      "metadata": {
        "id": "vjwU8sz2BK6E"
      },
      "source": [
        "import spacy\r\n",
        "from spacy.lang.en.stop_words import STOP_WORDS\r\n",
        "from string import punctuation"
      ],
      "execution_count": 30,
      "outputs": []
    },
    {
      "cell_type": "code",
      "metadata": {
        "colab": {
          "base_uri": "https://localhost:8080/"
        },
        "id": "izhTbCmtB9wp",
        "outputId": "abf3ca18-8fab-4b5b-f998-80489371e8ad"
      },
      "source": [
        "stopwords= list(STOP_WORDS)\r\n",
        "\r\n",
        "print(stopwords)"
      ],
      "execution_count": 31,
      "outputs": [
        {
          "output_type": "stream",
          "text": [
            "['any', 'fifty', 'less', 'others', 'she', 'most', 'among', 'what', 'may', 'your', \"'d\", 'one', 'whereupon', 'ourselves', 'up', 'twelve', 'someone', 'upon', 'although', 'become', 'beforehand', 'could', 'out', 'their', 'i', 'keep', 'sixty', 'yourself', 'when', 'afterwards', '‘ve', 'an', 'anything', 'before', 'thereby', 'you', 'all', 'did', 'down', 'him', 'behind', 'this', 'everyone', 'moreover', 'whenever', 'who', 'n‘t', 'whatever', 'then', 'done', 'not', 'should', 'somewhere', 'every', 'whether', 'whoever', 'rather', 'well', 'below', 'using', 'whereby', 'hereupon', 'thereupon', 'amongst', '’ll', 'because', 'is', 'take', 'are', 'other', 'perhaps', 'sometime', 'that', 'of', 'a', 'here', 'and', 'third', 'wherever', 'would', 'hundred', 'put', 'myself', 'but', 'get', 'bottom', 'the', 'our', 'along', 'except', 'as', 'few', 'from', 'it', 'serious', 'anyway', 'front', 'whole', 'why', 'us', 'been', '’ve', 'indeed', 'more', 'really', 'forty', 'only', 'sometimes', 'her', 'once', 'thence', 'must', 'around', 'yet', \"'s\", 'nor', 'seem', 'next', 'two', 'me', 'between', 'hereafter', 'call', 'has', 'some', 'might', 'whence', 'none', 'due', 'see', 'elsewhere', 'such', 'however', 'namely', 'both', 'which', 'something', 'top', 'even', 'used', 'already', 'quite', 'whom', 'everything', 'least', 'whereas', 'to', 'am', 'thereafter', 'formerly', 'just', 'no', 'though', 'empty', 'neither', 'again', 'noone', 'still', 'thru', 'mine', 'anyhow', \"'m\", 'often', 'say', 'very', 'be', 'five', 'ever', 'last', 'became', 'enough', 'so', 'them', 'twenty', 'various', 'under', 'herself', 'almost', 'thus', 'always', 'several', 'without', 'at', 'name', \"'re\", '‘ll', 'onto', 'ours', 'off', 'otherwise', 'than', 'beyond', 'else', 'those', 'after', 'there', 'have', 'since', '‘d', 'where', 'we', 'were', 'can', 'within', 'everywhere', 'until', 'his', 'they', 'yours', 'himself', 'made', '‘re', 'never', 'while', 'cannot', 'unless', 'how', '‘s', 'another', 'show', 'six', 'by', 'please', 'about', 'together', 'these', 'many', 'had', 'being', 'regarding', 'besides', 'ten', 'or', 'latterly', 'amount', 'nevertheless', 'seeming', 'across', 'anywhere', 'do', 'full', 'its', 'move', \"'ll\", 'into', 'was', 'eleven', 'further', 'toward', 'first', '’m', 'therefore', 'mostly', 'each', 'part', 'meanwhile', 'herein', 'for', 'wherein', 'with', 'does', 'now', 'themselves', 'will', 'becoming', 'against', 'much', 'through', 'latter', 'back', 'fifteen', 'becomes', 'above', 'whereafter', 'hence', 'nobody', 'eight', 'whither', 'either', 'too', 'towards', 'doing', 'make', 'over', 'throughout', 'seemed', 'hereby', 'three', 're', 'same', 'nine', '’re', 'nothing', 'nowhere', 'he', \"'ve\", 'hers', 'on', 'anyone', 'seems', 'n’t', 'therein', 'four', 'also', 'during', 'ca', 'itself', 'in', 'go', 'my', 'side', 'via', 'give', 'whose', \"n't\", 'per', 'if', 'yourselves', 'beside', 'somehow', '‘m', 'alone', 'former', 'own', '’s', '’d']\n"
          ],
          "name": "stdout"
        }
      ]
    },
    {
      "cell_type": "code",
      "metadata": {
        "id": "4gHChF68B96U"
      },
      "source": [
        "nlp= spacy.load(\"en_core_web_sm\")"
      ],
      "execution_count": 32,
      "outputs": []
    },
    {
      "cell_type": "code",
      "metadata": {
        "id": "1Ne1r04BB9-v"
      },
      "source": [
        "doc= nlp(text)"
      ],
      "execution_count": 33,
      "outputs": []
    },
    {
      "cell_type": "code",
      "metadata": {
        "colab": {
          "base_uri": "https://localhost:8080/"
        },
        "id": "HlHlt5O1BK_5",
        "outputId": "25dd5b45-6827-4b4b-dab0-f605b8467b9a"
      },
      "source": [
        "tokens= [token.text for token in doc]\r\n",
        "print(tokens)"
      ],
      "execution_count": 34,
      "outputs": [
        {
          "output_type": "stream",
          "text": [
            "['Barcelona', 'will', 'take', 'on', 'Paris', 'St', 'Germain', 'while', 'Premier', 'League', 'champions', 'Liverpool', 'will', 'play', 'last', 'year', \"'s\", 'semi', '-', 'finalists', 'RB', 'Leipzig', 'in', 'the', 'last', '16', 'of', 'the', 'Champions', 'League', 'after', 'UEFA', \"'s\", 'draw', 'was', 'held', 'on', 'Monday', '.', '\\n\\n', 'Champions', 'League', 'title', 'holders', 'Bayern', 'Munich', 'are', 'up', 'against', 'Italy', \"'s\", 'Lazio', '.', 'Atletico', 'Madrid', 'will', 'face', 'Chelsea', 'and', 'Manchester', 'City', 'will', 'take', 'on', 'Borussia', 'Moenchengladbach', '.', 'Italian', 'champions', 'Juventus', 'will', 'face', 'Porto', ',', 'Sevilla', '’s', 'meeting', 'with', 'Borussia', 'Dortmund', 'and', 'Real', 'Madrid', '’s', 'clash', 'with', 'Atalanta', 'complete', 'the', 'fixture', 'list', 'for', 'the', 'first', 'knockout', 'round', '.', '\\n\\n', 'Jurgen', 'Klopp', '’s', 'side', 'reached', 'back', '-', 'to', '-', 'back', 'finals', 'in', '2018', 'and', '2019', ',', 'emerging', 'victorious', 'in', 'the', 'latter', ',', 'and', 'will', 'have', 'their', 'sights', 'set', 'on', 'more', 'major', 'silverware', 'despite', 'enduring', 'injury', 'struggles', 'this', 'term', '.', '\\n\\n', 'Juventus', ',', 'with', 'five', '-', 'time', 'winner', 'Ronaldo', 'within', 'their', 'ranks', ',', 'must', 'also', 'be', 'considered', 'among', 'the', 'favourites', 'to', 'go', 'all', 'the', 'way', '.', '\\n\\n', 'The', 'two', '-', 'legged', 'ties', 'will', 'be', 'played', 'from', 'Feb.', '16', '.', '\\n\\n', 'Round', 'of', '16', 'draw', '\\n\\n', 'Which', 'tie', 'are', 'you', 'most', 'excited', 'for', '?', '#', 'UCLdraw', '|', '#', 'UCL', 'pic.twitter.com/M6AqMYTygN', '\\n\\n', '—', 'UEFA', 'Champions', 'League', '(', '@ChampionsLeague', ')', 'December', '14', ',', '2020', '\\n', 'First', 'Leg', '\\n\\n', 'Feb.', '16', '-', '17', 'or', '23', '-', '24', '\\n\\n', 'Borussia', 'Mönchengladbach', '(', 'Germany', ')', 'vs.', 'Manchester', 'City', '(', 'England', ')', '\\n\\n', 'Lazio', '(', 'Italy', ')', 'vs.', 'Bayern', 'Munich', '(', 'Germany', ')', '\\n\\n', 'Atlético', 'Madrid', '(', 'Spain', ')', 'vs.', 'Chelsea', '(', 'England', ')', '\\n\\n', 'Leipzig', '(', 'Germany', ')', 'vs.', 'Liverpool', '(', 'England', ')', '\\n\\n', 'Porto', '(', 'Portugal', ')', 'vs.', 'Juventus', '(', 'Italy', ')', '\\n\\n', 'Barcelona', '(', 'Spain', ')', 'vs.', 'Paris', 'Saint', '-', 'Germain', '(', 'France', ')', '\\n\\n', 'Sevilla', '(', 'Spain', ')', 'vs', 'Borussia', 'Dortmund', '(', 'Germany', ')', '\\n\\n', 'Atalanta', '(', 'Italy', ')', 'vs.', 'Real', 'Madrid', '(', 'Spain', ')', '\\n\\n', 'Second', 'Leg', '\\n\\n', 'March', '9', '-', '10', 'or', '16', '-', '17', '\\n\\n', 'Manchester', 'City', '(', 'England', ')', 'vs.', 'Borussia', 'Mönchengladbach', '(', 'Germany', ')', '\\n\\n', 'Bayern', 'Munich', '(', 'Germany', ')', 'vs.', 'Lazio', '(', 'Italy', ')', '\\n\\n', 'Chelsea', '(', 'England', ')', 'vs.', 'Atlético', 'Madrid', '(', 'Spain', ')', '\\n\\n', 'Liverpool', '(', 'England', ')', 'vs.', 'Leipzig', '(', 'Germany', ')', '\\n\\n']\n"
          ],
          "name": "stdout"
        }
      ]
    },
    {
      "cell_type": "code",
      "metadata": {
        "colab": {
          "base_uri": "https://localhost:8080/",
          "height": 35
        },
        "id": "mQjVUCf8DVZu",
        "outputId": "d900c974-a971-4a39-d223-2a3a10ec07cb"
      },
      "source": [
        "punctuation= punctuation + \"\\n\"\r\n",
        "punctuation"
      ],
      "execution_count": 35,
      "outputs": [
        {
          "output_type": "execute_result",
          "data": {
            "application/vnd.google.colaboratory.intrinsic+json": {
              "type": "string"
            },
            "text/plain": [
              "'!\"#$%&\\'()*+,-./:;<=>?@[\\\\]^_`{|}~\\n'"
            ]
          },
          "metadata": {
            "tags": []
          },
          "execution_count": 35
        }
      ]
    },
    {
      "cell_type": "code",
      "metadata": {
        "id": "vCXMFUhHDVke"
      },
      "source": [
        "word_frequencies= {}\r\n",
        "for word in doc:\r\n",
        "  if word.text.lower() not in stopwords:\r\n",
        "    if word.text.lower() not in punctuation:\r\n",
        "      if word.text not in word_frequencies.keys():\r\n",
        "        word_frequencies[word.text] = 1\r\n",
        "      else:\r\n",
        "        word_frequencies[word.text] += 1"
      ],
      "execution_count": 36,
      "outputs": []
    },
    {
      "cell_type": "code",
      "metadata": {
        "colab": {
          "base_uri": "https://localhost:8080/"
        },
        "id": "aO8QuS0jDVpy",
        "outputId": "ca64757e-61ff-47c3-c77b-9dfe324c7214"
      },
      "source": [
        "print(word_frequencies)"
      ],
      "execution_count": 37,
      "outputs": [
        {
          "output_type": "stream",
          "text": [
            "{'Barcelona': 2, 'Paris': 2, 'St': 1, 'Germain': 2, 'Premier': 1, 'League': 4, 'champions': 2, 'Liverpool': 3, 'play': 1, 'year': 1, 'semi': 1, 'finalists': 1, 'RB': 1, 'Leipzig': 3, '16': 5, 'Champions': 3, 'UEFA': 2, 'draw': 2, 'held': 1, 'Monday': 1, '\\n\\n': 23, 'title': 1, 'holders': 1, 'Bayern': 3, 'Munich': 3, 'Italy': 5, 'Lazio': 3, 'Atletico': 1, 'Madrid': 5, 'face': 2, 'Chelsea': 3, 'Manchester': 3, 'City': 3, 'Borussia': 5, 'Moenchengladbach': 1, 'Italian': 1, 'Juventus': 3, 'Porto': 2, 'Sevilla': 2, 'meeting': 1, 'Dortmund': 2, 'Real': 2, 'clash': 1, 'Atalanta': 2, 'complete': 1, 'fixture': 1, 'list': 1, 'knockout': 1, 'round': 1, 'Jurgen': 1, 'Klopp': 1, 'reached': 1, 'finals': 1, '2018': 1, '2019': 1, 'emerging': 1, 'victorious': 1, 'sights': 1, 'set': 1, 'major': 1, 'silverware': 1, 'despite': 1, 'enduring': 1, 'injury': 1, 'struggles': 1, 'term': 1, 'time': 1, 'winner': 1, 'Ronaldo': 1, 'ranks': 1, 'considered': 1, 'favourites': 1, 'way': 1, 'legged': 1, 'ties': 1, 'played': 1, 'Feb.': 2, 'Round': 1, 'tie': 1, 'excited': 1, 'UCLdraw': 1, 'UCL': 1, 'pic.twitter.com/M6AqMYTygN': 1, '—': 1, '@ChampionsLeague': 1, 'December': 1, '14': 1, '2020': 1, 'Leg': 2, '17': 2, '23': 1, '24': 1, 'Mönchengladbach': 2, 'Germany': 7, 'vs.': 11, 'England': 6, 'Atlético': 2, 'Spain': 5, 'Portugal': 1, 'Saint': 1, 'France': 1, 'vs': 1, 'Second': 1, 'March': 1, '9': 1, '10': 1}\n"
          ],
          "name": "stdout"
        }
      ]
    },
    {
      "cell_type": "code",
      "metadata": {
        "id": "a5G3ntouDVtZ"
      },
      "source": [
        "max_frequency= max(word_frequencies.values())"
      ],
      "execution_count": 38,
      "outputs": []
    },
    {
      "cell_type": "code",
      "metadata": {
        "colab": {
          "base_uri": "https://localhost:8080/"
        },
        "id": "2QM1ayM8BLFn",
        "outputId": "430fee31-f3fb-4cf8-d47c-5cbd8ec70fb8"
      },
      "source": [
        "print(max_frequency)"
      ],
      "execution_count": 39,
      "outputs": [
        {
          "output_type": "stream",
          "text": [
            "23\n"
          ],
          "name": "stdout"
        }
      ]
    },
    {
      "cell_type": "code",
      "metadata": {
        "id": "yUTXk01jHYyA"
      },
      "source": [
        "for word in word_frequencies.keys():\r\n",
        "  word_frequencies[word]= word_frequencies[word]/max_frequency"
      ],
      "execution_count": 40,
      "outputs": []
    },
    {
      "cell_type": "code",
      "metadata": {
        "colab": {
          "base_uri": "https://localhost:8080/"
        },
        "id": "pNWFV9NJHY2k",
        "outputId": "ae2dc54d-dc5f-408f-f3e3-196b06ca358d"
      },
      "source": [
        "print(word_frequencies)"
      ],
      "execution_count": 41,
      "outputs": [
        {
          "output_type": "stream",
          "text": [
            "{'Barcelona': 0.08695652173913043, 'Paris': 0.08695652173913043, 'St': 0.043478260869565216, 'Germain': 0.08695652173913043, 'Premier': 0.043478260869565216, 'League': 0.17391304347826086, 'champions': 0.08695652173913043, 'Liverpool': 0.13043478260869565, 'play': 0.043478260869565216, 'year': 0.043478260869565216, 'semi': 0.043478260869565216, 'finalists': 0.043478260869565216, 'RB': 0.043478260869565216, 'Leipzig': 0.13043478260869565, '16': 0.21739130434782608, 'Champions': 0.13043478260869565, 'UEFA': 0.08695652173913043, 'draw': 0.08695652173913043, 'held': 0.043478260869565216, 'Monday': 0.043478260869565216, '\\n\\n': 1.0, 'title': 0.043478260869565216, 'holders': 0.043478260869565216, 'Bayern': 0.13043478260869565, 'Munich': 0.13043478260869565, 'Italy': 0.21739130434782608, 'Lazio': 0.13043478260869565, 'Atletico': 0.043478260869565216, 'Madrid': 0.21739130434782608, 'face': 0.08695652173913043, 'Chelsea': 0.13043478260869565, 'Manchester': 0.13043478260869565, 'City': 0.13043478260869565, 'Borussia': 0.21739130434782608, 'Moenchengladbach': 0.043478260869565216, 'Italian': 0.043478260869565216, 'Juventus': 0.13043478260869565, 'Porto': 0.08695652173913043, 'Sevilla': 0.08695652173913043, 'meeting': 0.043478260869565216, 'Dortmund': 0.08695652173913043, 'Real': 0.08695652173913043, 'clash': 0.043478260869565216, 'Atalanta': 0.08695652173913043, 'complete': 0.043478260869565216, 'fixture': 0.043478260869565216, 'list': 0.043478260869565216, 'knockout': 0.043478260869565216, 'round': 0.043478260869565216, 'Jurgen': 0.043478260869565216, 'Klopp': 0.043478260869565216, 'reached': 0.043478260869565216, 'finals': 0.043478260869565216, '2018': 0.043478260869565216, '2019': 0.043478260869565216, 'emerging': 0.043478260869565216, 'victorious': 0.043478260869565216, 'sights': 0.043478260869565216, 'set': 0.043478260869565216, 'major': 0.043478260869565216, 'silverware': 0.043478260869565216, 'despite': 0.043478260869565216, 'enduring': 0.043478260869565216, 'injury': 0.043478260869565216, 'struggles': 0.043478260869565216, 'term': 0.043478260869565216, 'time': 0.043478260869565216, 'winner': 0.043478260869565216, 'Ronaldo': 0.043478260869565216, 'ranks': 0.043478260869565216, 'considered': 0.043478260869565216, 'favourites': 0.043478260869565216, 'way': 0.043478260869565216, 'legged': 0.043478260869565216, 'ties': 0.043478260869565216, 'played': 0.043478260869565216, 'Feb.': 0.08695652173913043, 'Round': 0.043478260869565216, 'tie': 0.043478260869565216, 'excited': 0.043478260869565216, 'UCLdraw': 0.043478260869565216, 'UCL': 0.043478260869565216, 'pic.twitter.com/M6AqMYTygN': 0.043478260869565216, '—': 0.043478260869565216, '@ChampionsLeague': 0.043478260869565216, 'December': 0.043478260869565216, '14': 0.043478260869565216, '2020': 0.043478260869565216, 'Leg': 0.08695652173913043, '17': 0.08695652173913043, '23': 0.043478260869565216, '24': 0.043478260869565216, 'Mönchengladbach': 0.08695652173913043, 'Germany': 0.30434782608695654, 'vs.': 0.4782608695652174, 'England': 0.2608695652173913, 'Atlético': 0.08695652173913043, 'Spain': 0.21739130434782608, 'Portugal': 0.043478260869565216, 'Saint': 0.043478260869565216, 'France': 0.043478260869565216, 'vs': 0.043478260869565216, 'Second': 0.043478260869565216, 'March': 0.043478260869565216, '9': 0.043478260869565216, '10': 0.043478260869565216}\n"
          ],
          "name": "stdout"
        }
      ]
    },
    {
      "cell_type": "code",
      "metadata": {
        "colab": {
          "base_uri": "https://localhost:8080/"
        },
        "id": "-bHKT860HY-g",
        "outputId": "aeba521b-6266-470f-b06c-d2ef35e8d1f8"
      },
      "source": [
        "sentence_tokens= [sent for sent in doc.sents]\r\n",
        "sentence_tokens"
      ],
      "execution_count": 42,
      "outputs": [
        {
          "output_type": "execute_result",
          "data": {
            "text/plain": [
              "[Barcelona will take on Paris St Germain while Premier League champions Liverpool will play last year's semi-finalists RB Leipzig in the last 16 of the Champions League after UEFA's draw was held on Monday.\n",
              " ,\n",
              " Champions League title holders Bayern Munich are up against Italy's Lazio.,\n",
              " Atletico Madrid will face Chelsea and Manchester City will take on Borussia Moenchengladbach.,\n",
              " Italian champions Juventus will face Porto, Sevilla’s meeting with Borussia Dortmund and Real Madrid’s clash with Atalanta complete the fixture list for the first knockout round.\n",
              " ,\n",
              " Jurgen Klopp,\n",
              " ’s side reached back-to-back finals in 2018 and 2019, emerging victorious in the latter, and will have their sights set on more major silverware despite enduring injury struggles this term.\n",
              " ,\n",
              " Juventus, with five-time winner Ronaldo within their ranks, must also be considered among the favourites to go all the way.\n",
              " ,\n",
              " The two-legged ties will be played from Feb. 16.\n",
              " ,\n",
              " Round of 16 draw\n",
              " ,\n",
              " Which tie are you most excited for?,\n",
              " #,\n",
              " UCLdraw,\n",
              " |,\n",
              " #UCL pic.twitter.com/M6AqMYTygN\n",
              " \n",
              " — UEFA Champions League (@ChampionsLeague) December 14, 2020,\n",
              " First Leg\n",
              " \n",
              " Feb. 16-17 or 23-24\n",
              " \n",
              " Borussia Mönchengladbach (Germany) vs. Manchester City (England)\n",
              " ,\n",
              " Lazio (Italy) vs. Bayern Munich (Germany)\n",
              " ,\n",
              " Atlético Madrid (Spain) vs. Chelsea (England)\n",
              " ,\n",
              " Leipzig (Germany) vs.,\n",
              " Liverpool (England)\n",
              " \n",
              " Porto (Portugal) vs.,\n",
              " Juventus (Italy)\n",
              " \n",
              " Barcelona (Spain) vs. Paris Saint-Germain (France)\n",
              " ,\n",
              " Sevilla (Spain) vs Borussia Dortmund (Germany)\n",
              " \n",
              " Atalanta (Italy) vs. Real Madrid (Spain)\n",
              " ,\n",
              " Second Leg\n",
              " ,\n",
              " March 9-10 or 16-17\n",
              " \n",
              " Manchester City (England) vs. Borussia Mönchengladbach (Germany)\n",
              " ,\n",
              " Bayern Munich (Germany) vs.,\n",
              " Lazio (Italy)\n",
              " \n",
              " Chelsea (England) vs. Atlético Madrid (Spain)\n",
              " ,\n",
              " Liverpool (England) vs. Leipzig (Germany)\n",
              " ]"
            ]
          },
          "metadata": {
            "tags": []
          },
          "execution_count": 42
        }
      ]
    },
    {
      "cell_type": "code",
      "metadata": {
        "id": "rQISJqhUHZGI"
      },
      "source": [
        "sentence_scores= {}\r\n",
        "for sent in sentence_tokens:\r\n",
        "  for word in sent:\r\n",
        "    if word.text.lower() in word_frequencies.keys():\r\n",
        "      if sent not in sentence_scores.keys():\r\n",
        "        sentence_scores[sent]= word_frequencies[word.text.lower()]\r\n",
        "      else:\r\n",
        "        sentence_scores[sent] += word_frequencies[word.text.lower()]"
      ],
      "execution_count": 43,
      "outputs": []
    },
    {
      "cell_type": "code",
      "metadata": {
        "colab": {
          "base_uri": "https://localhost:8080/"
        },
        "id": "Eo5mm4tHBLIs",
        "outputId": "5b845119-d22c-4d2e-ff88-2dc35b9b593e"
      },
      "source": [
        "sentence_scores"
      ],
      "execution_count": 44,
      "outputs": [
        {
          "output_type": "execute_result",
          "data": {
            "text/plain": [
              "{Barcelona will take on Paris St Germain while Premier League champions Liverpool will play last year's semi-finalists RB Leipzig in the last 16 of the Champions League after UEFA's draw was held on Monday.\n",
              " : 1.6956521739130435,\n",
              " Champions League title holders Bayern Munich are up against Italy's Lazio.: 0.17391304347826086,\n",
              " Atletico Madrid will face Chelsea and Manchester City will take on Borussia Moenchengladbach.: 0.08695652173913043,\n",
              " Italian champions Juventus will face Porto, Sevilla’s meeting with Borussia Dortmund and Real Madrid’s clash with Atalanta complete the fixture list for the first knockout round.\n",
              " : 1.4782608695652173,\n",
              " ’s side reached back-to-back finals in 2018 and 2019, emerging victorious in the latter, and will have their sights set on more major silverware despite enduring injury struggles this term.\n",
              " : 1.652173913043478,\n",
              " Juventus, with five-time winner Ronaldo within their ranks, must also be considered among the favourites to go all the way.\n",
              " : 1.2608695652173914,\n",
              " The two-legged ties will be played from Feb. 16.\n",
              " : 1.3478260869565217,\n",
              " Round of 16 draw\n",
              " : 1.3478260869565217,\n",
              " Which tie are you most excited for?: 0.08695652173913043,\n",
              " #UCL pic.twitter.com/M6AqMYTygN\n",
              " \n",
              " — UEFA Champions League (@ChampionsLeague) December 14, 2020: 1.217391304347826,\n",
              " First Leg\n",
              " \n",
              " Feb. 16-17 or 23-24\n",
              " \n",
              " Borussia Mönchengladbach (Germany) vs. Manchester City (England)\n",
              " : 3.869565217391304,\n",
              " Lazio (Italy) vs. Bayern Munich (Germany)\n",
              " : 1.4782608695652173,\n",
              " Atlético Madrid (Spain) vs. Chelsea (England)\n",
              " : 1.4782608695652173,\n",
              " Leipzig (Germany) vs.: 0.4782608695652174,\n",
              " Liverpool (England)\n",
              " \n",
              " Porto (Portugal) vs.: 1.4782608695652173,\n",
              " Juventus (Italy)\n",
              " \n",
              " Barcelona (Spain) vs. Paris Saint-Germain (France)\n",
              " : 2.4782608695652173,\n",
              " Sevilla (Spain) vs Borussia Dortmund (Germany)\n",
              " \n",
              " Atalanta (Italy) vs. Real Madrid (Spain)\n",
              " : 2.5217391304347827,\n",
              " Second Leg\n",
              " : 1.0,\n",
              " March 9-10 or 16-17\n",
              " \n",
              " Manchester City (England) vs. Borussia Mönchengladbach (Germany)\n",
              " : 2.869565217391304,\n",
              " Bayern Munich (Germany) vs.: 0.4782608695652174,\n",
              " Lazio (Italy)\n",
              " \n",
              " Chelsea (England) vs. Atlético Madrid (Spain)\n",
              " : 2.4782608695652173,\n",
              " Liverpool (England) vs. Leipzig (Germany)\n",
              " : 1.4782608695652173}"
            ]
          },
          "metadata": {
            "tags": []
          },
          "execution_count": 44
        }
      ]
    },
    {
      "cell_type": "code",
      "metadata": {
        "id": "QlOXFom6MFOo"
      },
      "source": [
        "from heapq import nlargest"
      ],
      "execution_count": 45,
      "outputs": []
    },
    {
      "cell_type": "code",
      "metadata": {
        "id": "_lHo4RDNMFUe"
      },
      "source": [
        "select_length= int(len(sentence_tokens)*0.3)"
      ],
      "execution_count": 46,
      "outputs": []
    },
    {
      "cell_type": "code",
      "metadata": {
        "colab": {
          "base_uri": "https://localhost:8080/"
        },
        "id": "L_1OzbPNMFbM",
        "outputId": "b7345725-3d1b-4764-b5a0-e4fd29da3b58"
      },
      "source": [
        "select_length"
      ],
      "execution_count": 47,
      "outputs": [
        {
          "output_type": "execute_result",
          "data": {
            "text/plain": [
              "7"
            ]
          },
          "metadata": {
            "tags": []
          },
          "execution_count": 47
        }
      ]
    },
    {
      "cell_type": "code",
      "metadata": {
        "id": "63_fLHAnMdeX"
      },
      "source": [
        "summary= nlargest(2, sentence_scores, key= sentence_scores.get)"
      ],
      "execution_count": 48,
      "outputs": []
    },
    {
      "cell_type": "code",
      "metadata": {
        "colab": {
          "base_uri": "https://localhost:8080/"
        },
        "id": "JmvT14wBMdi6",
        "outputId": "f801ad06-cea5-4f6f-84ba-31ef769123c8"
      },
      "source": [
        "summary"
      ],
      "execution_count": 49,
      "outputs": [
        {
          "output_type": "execute_result",
          "data": {
            "text/plain": [
              "[First Leg\n",
              " \n",
              " Feb. 16-17 or 23-24\n",
              " \n",
              " Borussia Mönchengladbach (Germany) vs. Manchester City (England)\n",
              " , March 9-10 or 16-17\n",
              " \n",
              " Manchester City (England) vs. Borussia Mönchengladbach (Germany)\n",
              " ]"
            ]
          },
          "metadata": {
            "tags": []
          },
          "execution_count": 49
        }
      ]
    },
    {
      "cell_type": "code",
      "metadata": {
        "colab": {
          "base_uri": "https://localhost:8080/"
        },
        "id": "oRAnOGDhMdng",
        "outputId": "bb506579-2d7a-4e31-b47b-4d9490684b67"
      },
      "source": [
        "final_summary= [word.text for word in summary]\r\n",
        "final_summary"
      ],
      "execution_count": 50,
      "outputs": [
        {
          "output_type": "execute_result",
          "data": {
            "text/plain": [
              "['First Leg\\n\\nFeb. 16-17 or 23-24\\n\\nBorussia Mönchengladbach (Germany) vs. Manchester City (England)\\n\\n',\n",
              " 'March 9-10 or 16-17\\n\\nManchester City (England) vs. Borussia Mönchengladbach (Germany)\\n\\n']"
            ]
          },
          "metadata": {
            "tags": []
          },
          "execution_count": 50
        }
      ]
    },
    {
      "cell_type": "code",
      "metadata": {
        "id": "7jVSwE8SMFmJ"
      },
      "source": [
        "summary= \" \".join(final_summary)"
      ],
      "execution_count": 51,
      "outputs": []
    },
    {
      "cell_type": "code",
      "metadata": {
        "colab": {
          "base_uri": "https://localhost:8080/"
        },
        "id": "O_uYskUQNkt3",
        "outputId": "c61a6f46-7c88-43da-d534-d259e437ccb5"
      },
      "source": [
        "print(summary)"
      ],
      "execution_count": 52,
      "outputs": [
        {
          "output_type": "stream",
          "text": [
            "First Leg\n",
            "\n",
            "Feb. 16-17 or 23-24\n",
            "\n",
            "Borussia Mönchengladbach (Germany) vs. Manchester City (England)\n",
            "\n",
            " March 9-10 or 16-17\n",
            "\n",
            "Manchester City (England) vs. Borussia Mönchengladbach (Germany)\n",
            "\n",
            "\n"
          ],
          "name": "stdout"
        }
      ]
    }
  ]
}