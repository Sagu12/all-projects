{
  "nbformat": 4,
  "nbformat_minor": 0,
  "metadata": {
    "colab": {
      "name": "WORD2VEC.ipynb",
      "provenance": [],
      "collapsed_sections": [],
      "mount_file_id": "1MHJ3T5k42O8MeiKQgEKG3hQO3fDFIw57",
      "authorship_tag": "ABX9TyP7i8B8/xOaH4wItsmxHv9J",
      "include_colab_link": true
    },
    "kernelspec": {
      "name": "python3",
      "display_name": "Python 3"
    },
    "accelerator": "GPU"
  },
  "cells": [
    {
      "cell_type": "markdown",
      "metadata": {
        "id": "view-in-github",
        "colab_type": "text"
      },
      "source": [
        "<a href=\"https://colab.research.google.com/github/Sagu12/all-projects/blob/master/WORD2VEC.ipynb\" target=\"_parent\"><img src=\"https://colab.research.google.com/assets/colab-badge.svg\" alt=\"Open In Colab\"/></a>"
      ]
    },
    {
      "cell_type": "code",
      "metadata": {
        "id": "Ntab7LNgQQA2",
        "colab_type": "code",
        "colab": {}
      },
      "source": [
        ""
      ],
      "execution_count": 0,
      "outputs": []
    },
    {
      "cell_type": "markdown",
      "metadata": {
        "id": "aHBKKLqPSXSV",
        "colab_type": "text"
      },
      "source": [
        "#LIMITATIONS OF BAG OF WORDS (BOW) AND TF IDF \n",
        "\n",
        "1.   In both BOW and TF IDF semantic information is not stored. TF IDF gives   more importance to uncommon words.\n",
        "2.  There exist a chance of overfitting leading to low accuracy when using the same algorithms in test data set.\n",
        "\n",
        "\n",
        "#BENEFITS OF WORD2VEC AND DETAILS ABOUT THE SAME\n",
        "\n",
        "1.   Here each word is basically represented as a vector of 32 or more dimension instead of a single number.\n",
        "2.   The semantic information and relation between different words is also preserved.\n",
        "\n",
        "for eg. man and woman have some kind of similarity in between them so they can be termed as semantically similar whereas if we consider play as a word and try to find the semantic similarity between it then it is very much different from the other two viz. man and woman so it is semantically different.\n",
        "\n",
        "so basically in word2vec the semantically similar words lie close to each other in the vector dimension space whether 2d 3d or more than that...\n",
        "for eg. king + woman - man= queen is similar in vector representation...\n",
        "\n",
        "\n",
        "#steps to create word2vec\n",
        "\n",
        "\n",
        "\n",
        "1.   tokenization of the sentences. removing special characters...\n",
        "2.   create histograms.\n",
        "3.   take most frequent words.\n",
        "4.   create a matrix with all the unique words. it also represents the occurrence relation between the words.\n",
        "\n",
        "the library used to call the word2vec model is the gensim library \n",
        "\n"
      ]
    },
    {
      "cell_type": "code",
      "metadata": {
        "id": "l7FFXKCSedSt",
        "colab_type": "code",
        "colab": {}
      },
      "source": [
        "#http://www.devnetjobsindia.org/JobDescription.aspx?Job_Id=143920\n",
        "#http://www.devnetjobsindia.org/JobDescription.aspx?Job_Id=143907\n",
        "#http://www.devnetjobsindia.org/JobDescription.aspx?Job_Id=144007"
      ],
      "execution_count": 0,
      "outputs": []
    },
    {
      "cell_type": "code",
      "metadata": {
        "id": "s2eJVsu8yBVV",
        "colab_type": "code",
        "colab": {
          "base_uri": "https://localhost:8080/",
          "height": 833
        },
        "outputId": "2ee8238c-606f-4935-9fd1-3e20237c63b4"
      },
      "source": [
        "import nltk\n",
        "from gensim.models import Word2Vec\n",
        "nltk.download(\"popular\")\n",
        "from nltk.corpus import stopwords"
      ],
      "execution_count": 15,
      "outputs": [
        {
          "output_type": "stream",
          "text": [
            "[nltk_data] Downloading collection 'popular'\n",
            "[nltk_data]    | \n",
            "[nltk_data]    | Downloading package cmudict to /root/nltk_data...\n",
            "[nltk_data]    |   Package cmudict is already up-to-date!\n",
            "[nltk_data]    | Downloading package gazetteers to /root/nltk_data...\n",
            "[nltk_data]    |   Package gazetteers is already up-to-date!\n",
            "[nltk_data]    | Downloading package genesis to /root/nltk_data...\n",
            "[nltk_data]    |   Package genesis is already up-to-date!\n",
            "[nltk_data]    | Downloading package gutenberg to /root/nltk_data...\n",
            "[nltk_data]    |   Package gutenberg is already up-to-date!\n",
            "[nltk_data]    | Downloading package inaugural to /root/nltk_data...\n",
            "[nltk_data]    |   Package inaugural is already up-to-date!\n",
            "[nltk_data]    | Downloading package movie_reviews to\n",
            "[nltk_data]    |     /root/nltk_data...\n",
            "[nltk_data]    |   Package movie_reviews is already up-to-date!\n",
            "[nltk_data]    | Downloading package names to /root/nltk_data...\n",
            "[nltk_data]    |   Package names is already up-to-date!\n",
            "[nltk_data]    | Downloading package shakespeare to /root/nltk_data...\n",
            "[nltk_data]    |   Package shakespeare is already up-to-date!\n",
            "[nltk_data]    | Downloading package stopwords to /root/nltk_data...\n",
            "[nltk_data]    |   Package stopwords is already up-to-date!\n",
            "[nltk_data]    | Downloading package treebank to /root/nltk_data...\n",
            "[nltk_data]    |   Package treebank is already up-to-date!\n",
            "[nltk_data]    | Downloading package twitter_samples to\n",
            "[nltk_data]    |     /root/nltk_data...\n",
            "[nltk_data]    |   Package twitter_samples is already up-to-date!\n",
            "[nltk_data]    | Downloading package omw to /root/nltk_data...\n",
            "[nltk_data]    |   Package omw is already up-to-date!\n",
            "[nltk_data]    | Downloading package wordnet to /root/nltk_data...\n",
            "[nltk_data]    |   Package wordnet is already up-to-date!\n",
            "[nltk_data]    | Downloading package wordnet_ic to /root/nltk_data...\n",
            "[nltk_data]    |   Package wordnet_ic is already up-to-date!\n",
            "[nltk_data]    | Downloading package words to /root/nltk_data...\n",
            "[nltk_data]    |   Package words is already up-to-date!\n",
            "[nltk_data]    | Downloading package maxent_ne_chunker to\n",
            "[nltk_data]    |     /root/nltk_data...\n",
            "[nltk_data]    |   Package maxent_ne_chunker is already up-to-date!\n",
            "[nltk_data]    | Downloading package punkt to /root/nltk_data...\n",
            "[nltk_data]    |   Package punkt is already up-to-date!\n",
            "[nltk_data]    | Downloading package snowball_data to\n",
            "[nltk_data]    |     /root/nltk_data...\n",
            "[nltk_data]    |   Package snowball_data is already up-to-date!\n",
            "[nltk_data]    | Downloading package averaged_perceptron_tagger to\n",
            "[nltk_data]    |     /root/nltk_data...\n",
            "[nltk_data]    |   Package averaged_perceptron_tagger is already up-\n",
            "[nltk_data]    |       to-date!\n",
            "[nltk_data]    | \n",
            "[nltk_data]  Done downloading collection popular\n"
          ],
          "name": "stdout"
        }
      ]
    },
    {
      "cell_type": "code",
      "metadata": {
        "id": "0LY1-Hyn2jcu",
        "colab_type": "code",
        "colab": {}
      },
      "source": [
        "paragraph= \"\"\"I have three visions for India. In 3000 years of our history, people from all over \n",
        "               the world have come and invaded us, captured our lands, conquered our minds. \n",
        "               From Alexander onwards, the Greeks, the Turks, the Moguls, the Portuguese, the British,\n",
        "               the French, the Dutch, all of them came and looted us, took over what was ours. \n",
        "               Yet we have not done this to any other nation. We have not conquered anyone. \n",
        "               We have not grabbed their land, their culture, \n",
        "               their history and tried to enforce our way of life on them. \n",
        "               Why? Because we respect the freedom of others.That is why my \n",
        "               first vision is that of freedom. I believe that India got its first vision of \n",
        "               this in 1857, when we started the War of Independence. It is this freedom that\n",
        "               we must protect and nurture and build on. If we are not free, no one will respect us.\n",
        "               My second vision for India’s development. For fifty years we have been a developing nation.\n",
        "               It is time we see ourselves as a developed nation. We are among the top 5 nations of the world\n",
        "               in terms of GDP. We have a 10 percent growth rate in most areas. Our poverty levels are falling.\n",
        "               Our achievements are being globally recognised today. Yet we lack the self-confidence to\n",
        "               see ourselves as a developed nation, self-reliant and self-assured. Isn’t this incorrect?\n",
        "               I have a third vision. India must stand up to the world. Because I believe that unless India \n",
        "               stands up to the world, no one will respect us. Only strength respects strength. We must be \n",
        "               strong not only as a military power but also as an economic power. Both must go hand-in-hand. \n",
        "               My good fortune was to have worked with three great minds. Dr. Vikram Sarabhai of the Dept. of \n",
        "               space, Professor Satish Dhawan, who succeeded him and Dr. Brahm Prakash, father of nuclear material.\n",
        "               I was lucky to have worked with all three of them closely and consider this the great opportunity of my life. \n",
        "               I see four milestones in my career\"\"\""
      ],
      "execution_count": 0,
      "outputs": []
    },
    {
      "cell_type": "code",
      "metadata": {
        "id": "BIRQ5YBy22Wt",
        "colab_type": "code",
        "colab": {}
      },
      "source": [
        "import re"
      ],
      "execution_count": 0,
      "outputs": []
    },
    {
      "cell_type": "code",
      "metadata": {
        "id": "AkOoIyjp24eF",
        "colab_type": "code",
        "colab": {}
      },
      "source": [
        "#preprocessing the data that is removing the special characters and any numerical data\n"
      ],
      "execution_count": 0,
      "outputs": []
    },
    {
      "cell_type": "code",
      "metadata": {
        "id": "HrH4td2f4num",
        "colab_type": "code",
        "colab": {}
      },
      "source": [
        "text= re.sub(r\"\\[[0-9]*\\]\", \" \", paragraph)\n",
        "text= re.sub(r\"\\s+\", \" \", text)\n",
        "text= text.lower()\n",
        "text= re.sub(r\"\\d\", \" \", text)\n",
        "text= re.sub(r\"\\s+\", \" \", text)"
      ],
      "execution_count": 0,
      "outputs": []
    },
    {
      "cell_type": "code",
      "metadata": {
        "id": "Er5c0TLZGIJm",
        "colab_type": "code",
        "colab": {
          "base_uri": "https://localhost:8080/",
          "height": 54
        },
        "outputId": "8be806a9-7bfc-4d61-cd57-80d796382ad8"
      },
      "source": [
        "sentences= nltk.sent_tokenize(text)\n",
        "\n",
        "sentences= [nltk.word_tokenize(sentence) for sentence in sentences]\n",
        "\n",
        "for i in range(len(sentences)):\n",
        "  sentences[i]= [word for word in sentences[i] if word not in stopwords.words(\"english\")]\n",
        "\n",
        "print(sentences)\n",
        "\n",
        "\n",
        "#training the word2vec model \n"
      ],
      "execution_count": 12,
      "outputs": [
        {
          "output_type": "stream",
          "text": [
            "[['three', 'visions', 'india', '.'], ['years', 'history', ',', 'people', 'world', 'come', 'invaded', 'us', ',', 'captured', 'lands', ',', 'conquered', 'minds', '.'], ['alexander', 'onwards', ',', 'greeks', ',', 'turks', ',', 'moguls', ',', 'portuguese', ',', 'british', ',', 'french', ',', 'dutch', ',', 'came', 'looted', 'us', ',', 'took', '.'], ['yet', 'done', 'nation', '.'], ['conquered', 'anyone', '.'], ['grabbed', 'land', ',', 'culture', ',', 'history', 'tried', 'enforce', 'way', 'life', '.'], ['?'], ['respect', 'freedom', 'others.that', 'first', 'vision', 'freedom', '.'], ['believe', 'india', 'got', 'first', 'vision', ',', 'started', 'war', 'independence', '.'], ['freedom', 'must', 'protect', 'nurture', 'build', '.'], ['free', ',', 'one', 'respect', 'us', '.'], ['second', 'vision', 'india', '’', 'development', '.'], ['fifty', 'years', 'developing', 'nation', '.'], ['time', 'see', 'developed', 'nation', '.'], ['among', 'top', 'nations', 'world', 'terms', 'gdp', '.'], ['percent', 'growth', 'rate', 'areas', '.'], ['poverty', 'levels', 'falling', '.'], ['achievements', 'globally', 'recognised', 'today', '.'], ['yet', 'lack', 'self-confidence', 'see', 'developed', 'nation', ',', 'self-reliant', 'self-assured', '.'], ['’', 'incorrect', '?'], ['third', 'vision', '.'], ['india', 'must', 'stand', 'world', '.'], ['believe', 'unless', 'india', 'stands', 'world', ',', 'one', 'respect', 'us', '.'], ['strength', 'respects', 'strength', '.'], ['must', 'strong', 'military', 'power', 'also', 'economic', 'power', '.'], ['must', 'go', 'hand-in-hand', '.'], ['good', 'fortune', 'worked', 'three', 'great', 'minds', '.'], ['dr.', 'vikram', 'sarabhai', 'dept', '.'], ['space', ',', 'professor', 'satish', 'dhawan', ',', 'succeeded', 'dr.', 'brahm', 'prakash', ',', 'father', 'nuclear', 'material', '.'], ['lucky', 'worked', 'three', 'closely', 'consider', 'great', 'opportunity', 'life', '.'], ['see', 'four', 'milestones', 'career']]\n"
          ],
          "name": "stdout"
        }
      ]
    },
    {
      "cell_type": "code",
      "metadata": {
        "id": "rSpSIWeB7xb9",
        "colab_type": "code",
        "colab": {}
      },
      "source": [
        "model= Word2Vec(sentences, min_count=1)\n",
        "\n",
        "#HERE MIN COUNT DENOTES THAT IF A WORD IS PRESENT LESS THAN 1 TIME THEN REMOVE IT AND OTHERWISE KEEP IT"
      ],
      "execution_count": 0,
      "outputs": []
    },
    {
      "cell_type": "code",
      "metadata": {
        "id": "FfXgUv63N_5I",
        "colab_type": "code",
        "colab": {}
      },
      "source": [
        "#NOW FINDING THE WORD VECTORS AND THE SEMANTICALLY SIMILAR WORDS"
      ],
      "execution_count": 0,
      "outputs": []
    },
    {
      "cell_type": "code",
      "metadata": {
        "id": "FEQnvm4fQjG8",
        "colab_type": "code",
        "colab": {}
      },
      "source": [
        "words= model.wv.vocab"
      ],
      "execution_count": 0,
      "outputs": []
    },
    {
      "cell_type": "code",
      "metadata": {
        "id": "kvSsxUwBQvIn",
        "colab_type": "code",
        "colab": {
          "base_uri": "https://localhost:8080/",
          "height": 459
        },
        "outputId": "85959c4e-e1ad-4f45-de0b-bf4b0967ab7f"
      },
      "source": [
        "#finding word vectors\n",
        "\n",
        "vector= model.wv[\"war\"]\n",
        "vector"
      ],
      "execution_count": 21,
      "outputs": [
        {
          "output_type": "execute_result",
          "data": {
            "text/plain": [
              "array([-3.0603568e-04, -4.1745342e-03, -2.1653976e-03,  4.3320269e-03,\n",
              "       -3.3028780e-03,  1.9722849e-03, -1.1375309e-03,  4.1609476e-03,\n",
              "       -4.9910969e-03, -4.7680736e-03, -2.0456889e-03, -3.0176661e-03,\n",
              "        9.1383501e-04,  1.7164333e-03, -5.6481827e-04,  2.5867310e-03,\n",
              "        2.9839262e-05, -2.3057119e-03,  5.8876665e-04,  3.6005087e-03,\n",
              "        2.4928062e-03,  4.9368473e-04,  1.9598273e-03, -3.4069810e-05,\n",
              "       -3.9058754e-03,  6.1655580e-04,  4.4304631e-03, -4.1108811e-03,\n",
              "        7.6320581e-04, -4.3191616e-03,  4.5577148e-03,  2.9262016e-03,\n",
              "       -4.7824131e-03, -2.3797993e-03, -2.1257598e-03,  2.8832166e-03,\n",
              "       -1.9699433e-04, -2.9128273e-03, -3.3922417e-03,  3.3236042e-04,\n",
              "       -2.7826177e-03, -2.2395894e-05,  2.3090781e-03, -4.6897554e-03,\n",
              "        2.7640765e-03,  4.3302695e-03,  3.2565363e-03,  3.6275489e-04,\n",
              "        5.8952085e-04,  4.0973717e-04, -4.8382282e-03, -1.0668287e-03,\n",
              "       -5.3749076e-04, -2.0868797e-03, -1.2804304e-03, -3.2044356e-03,\n",
              "        5.6247762e-04,  2.3642863e-04,  4.2868615e-03, -3.5755325e-03,\n",
              "        1.9232120e-03,  2.8486059e-03,  2.5380820e-03,  3.7318780e-03,\n",
              "       -1.8985164e-03,  4.2508007e-03, -2.8142643e-03, -1.1341345e-03,\n",
              "        4.3360949e-03,  7.0507062e-04, -1.8579032e-03,  4.4446751e-03,\n",
              "       -2.6490374e-03,  2.1234327e-03, -3.9196741e-03, -3.6898779e-03,\n",
              "        2.8048605e-03, -3.9900364e-03, -4.5278762e-03,  4.5144963e-03,\n",
              "       -4.6317568e-03, -3.0801448e-03, -3.9347378e-03, -2.7295465e-03,\n",
              "       -2.8146200e-03,  1.2861999e-03, -3.7810579e-03,  4.1721738e-03,\n",
              "       -1.8149698e-03, -1.2864573e-03, -1.2817603e-03,  3.7167612e-03,\n",
              "       -2.2920065e-03,  4.4013476e-03, -1.5040928e-03,  3.2726827e-03,\n",
              "       -2.7650150e-03, -4.9676414e-04, -4.8338794e-03,  4.1756849e-03],\n",
              "      dtype=float32)"
            ]
          },
          "metadata": {
            "tags": []
          },
          "execution_count": 21
        }
      ]
    },
    {
      "cell_type": "code",
      "metadata": {
        "id": "DFvSXYs0ISf4",
        "colab_type": "code",
        "colab": {
          "base_uri": "https://localhost:8080/",
          "height": 71
        },
        "outputId": "c7c43129-5c4e-48cd-c316-1042dc89eae9"
      },
      "source": [
        "similar= model.wv.most_similar(\"war\")"
      ],
      "execution_count": 23,
      "outputs": [
        {
          "output_type": "stream",
          "text": [
            "/usr/local/lib/python3.6/dist-packages/gensim/matutils.py:737: FutureWarning: Conversion of the second argument of issubdtype from `int` to `np.signedinteger` is deprecated. In future, it will be treated as `np.int64 == np.dtype(int).type`.\n",
            "  if np.issubdtype(vec.dtype, np.int):\n"
          ],
          "name": "stderr"
        }
      ]
    },
    {
      "cell_type": "code",
      "metadata": {
        "id": "UwJnTCzAShIv",
        "colab_type": "code",
        "colab": {
          "base_uri": "https://localhost:8080/",
          "height": 187
        },
        "outputId": "be301d35-3ce1-414a-c129-0d19f0aa594d"
      },
      "source": [
        "similar"
      ],
      "execution_count": 25,
      "outputs": [
        {
          "output_type": "execute_result",
          "data": {
            "text/plain": [
              "[('believe', 0.2791200280189514),\n",
              " ('looted', 0.21538278460502625),\n",
              " ('done', 0.20729614794254303),\n",
              " ('time', 0.20242808759212494),\n",
              " ('got', 0.19203944504261017),\n",
              " ('protect', 0.18053928017616272),\n",
              " ('us', 0.17628376185894012),\n",
              " ('self-reliant', 0.15708449482917786),\n",
              " ('lands', 0.15262556076049805),\n",
              " ('hand-in-hand', 0.14575831592082977)]"
            ]
          },
          "metadata": {
            "tags": []
          },
          "execution_count": 25
        }
      ]
    },
    {
      "cell_type": "markdown",
      "metadata": {
        "id": "31WXyVoRdvzC",
        "colab_type": "text"
      },
      "source": [
        ""
      ]
    },
    {
      "cell_type": "code",
      "metadata": {
        "id": "XasbqKOEeNVt",
        "colab_type": "code",
        "colab": {}
      },
      "source": [
        ""
      ],
      "execution_count": 0,
      "outputs": []
    }
  ]
}