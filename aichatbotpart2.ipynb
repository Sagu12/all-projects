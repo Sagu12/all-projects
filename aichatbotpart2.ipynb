{
  "nbformat": 4,
  "nbformat_minor": 0,
  "metadata": {
    "colab": {
      "name": "aichatbotpart2.ipynb",
      "provenance": [],
      "collapsed_sections": [],
      "authorship_tag": "ABX9TyNWiBytPvmXmfj9NNT4gjUX",
      "include_colab_link": true
    },
    "kernelspec": {
      "name": "python3",
      "display_name": "Python 3"
    },
    "accelerator": "TPU"
  },
  "cells": [
    {
      "cell_type": "markdown",
      "metadata": {
        "id": "view-in-github",
        "colab_type": "text"
      },
      "source": [
        "<a href=\"https://colab.research.google.com/github/Sagu12/all-projects/blob/master/aichatbotpart2.ipynb\" target=\"_parent\"><img src=\"https://colab.research.google.com/assets/colab-badge.svg\" alt=\"Open In Colab\"/></a>"
      ]
    },
    {
      "cell_type": "code",
      "metadata": {
        "colab": {
          "base_uri": "https://localhost:8080/"
        },
        "id": "pDwgy-AjEmjZ",
        "outputId": "48c5a813-6faf-42a5-9c68-d5edfcc749e5"
      },
      "source": [
        "pip install nltk"
      ],
      "execution_count": 15,
      "outputs": [
        {
          "output_type": "stream",
          "text": [
            "Requirement already satisfied: nltk in /usr/local/lib/python3.6/dist-packages (3.2.5)\n",
            "Requirement already satisfied: six in /usr/local/lib/python3.6/dist-packages (from nltk) (1.15.0)\n"
          ],
          "name": "stdout"
        }
      ]
    },
    {
      "cell_type": "code",
      "metadata": {
        "colab": {
          "base_uri": "https://localhost:8080/"
        },
        "id": "sPZ8YlNPEvBY",
        "outputId": "f3d82f33-7ff1-4bbd-afb2-87a9316bab7a"
      },
      "source": [
        "pip install newspaper3k"
      ],
      "execution_count": 16,
      "outputs": [
        {
          "output_type": "stream",
          "text": [
            "Requirement already satisfied: newspaper3k in /usr/local/lib/python3.6/dist-packages (0.2.8)\n",
            "Requirement already satisfied: cssselect>=0.9.2 in /usr/local/lib/python3.6/dist-packages (from newspaper3k) (1.1.0)\n",
            "Requirement already satisfied: jieba3k>=0.35.1 in /usr/local/lib/python3.6/dist-packages (from newspaper3k) (0.35.1)\n",
            "Requirement already satisfied: tldextract>=2.0.1 in /usr/local/lib/python3.6/dist-packages (from newspaper3k) (3.0.2)\n",
            "Requirement already satisfied: Pillow>=3.3.0 in /usr/local/lib/python3.6/dist-packages (from newspaper3k) (7.0.0)\n",
            "Requirement already satisfied: nltk>=3.2.1 in /usr/local/lib/python3.6/dist-packages (from newspaper3k) (3.2.5)\n",
            "Requirement already satisfied: requests>=2.10.0 in /usr/local/lib/python3.6/dist-packages (from newspaper3k) (2.23.0)\n",
            "Requirement already satisfied: lxml>=3.6.0 in /usr/local/lib/python3.6/dist-packages (from newspaper3k) (4.2.6)\n",
            "Requirement already satisfied: feedparser>=5.2.1 in /usr/local/lib/python3.6/dist-packages (from newspaper3k) (6.0.2)\n",
            "Requirement already satisfied: PyYAML>=3.11 in /usr/local/lib/python3.6/dist-packages (from newspaper3k) (3.13)\n",
            "Requirement already satisfied: beautifulsoup4>=4.4.1 in /usr/local/lib/python3.6/dist-packages (from newspaper3k) (4.6.3)\n",
            "Requirement already satisfied: python-dateutil>=2.5.3 in /usr/local/lib/python3.6/dist-packages (from newspaper3k) (2.8.1)\n",
            "Requirement already satisfied: tinysegmenter==0.3 in /usr/local/lib/python3.6/dist-packages (from newspaper3k) (0.3)\n",
            "Requirement already satisfied: feedfinder2>=0.0.4 in /usr/local/lib/python3.6/dist-packages (from newspaper3k) (0.0.4)\n",
            "Requirement already satisfied: requests-file>=1.4 in /usr/local/lib/python3.6/dist-packages (from tldextract>=2.0.1->newspaper3k) (1.5.1)\n",
            "Requirement already satisfied: filelock>=3.0.8 in /usr/local/lib/python3.6/dist-packages (from tldextract>=2.0.1->newspaper3k) (3.0.12)\n",
            "Requirement already satisfied: idna in /usr/local/lib/python3.6/dist-packages (from tldextract>=2.0.1->newspaper3k) (2.10)\n",
            "Requirement already satisfied: six in /usr/local/lib/python3.6/dist-packages (from nltk>=3.2.1->newspaper3k) (1.15.0)\n",
            "Requirement already satisfied: urllib3!=1.25.0,!=1.25.1,<1.26,>=1.21.1 in /usr/local/lib/python3.6/dist-packages (from requests>=2.10.0->newspaper3k) (1.24.3)\n",
            "Requirement already satisfied: certifi>=2017.4.17 in /usr/local/lib/python3.6/dist-packages (from requests>=2.10.0->newspaper3k) (2020.6.20)\n",
            "Requirement already satisfied: chardet<4,>=3.0.2 in /usr/local/lib/python3.6/dist-packages (from requests>=2.10.0->newspaper3k) (3.0.4)\n",
            "Requirement already satisfied: sgmllib3k in /usr/local/lib/python3.6/dist-packages (from feedparser>=5.2.1->newspaper3k) (1.0.0)\n"
          ],
          "name": "stdout"
        }
      ]
    },
    {
      "cell_type": "code",
      "metadata": {
        "colab": {
          "base_uri": "https://localhost:8080/"
        },
        "id": "oVAPrNtcEvLN",
        "outputId": "71dcda06-ae46-401b-fb60-5901445723dd"
      },
      "source": [
        "from newspaper import Article\n",
        "import random\n",
        "import string\n",
        "import nltk\n",
        "nltk.download(\"popular\")"
      ],
      "execution_count": 17,
      "outputs": [
        {
          "output_type": "stream",
          "text": [
            "[nltk_data] Downloading collection 'popular'\n",
            "[nltk_data]    | \n",
            "[nltk_data]    | Downloading package cmudict to /root/nltk_data...\n",
            "[nltk_data]    |   Package cmudict is already up-to-date!\n",
            "[nltk_data]    | Downloading package gazetteers to /root/nltk_data...\n",
            "[nltk_data]    |   Package gazetteers is already up-to-date!\n",
            "[nltk_data]    | Downloading package genesis to /root/nltk_data...\n",
            "[nltk_data]    |   Package genesis is already up-to-date!\n",
            "[nltk_data]    | Downloading package gutenberg to /root/nltk_data...\n",
            "[nltk_data]    |   Package gutenberg is already up-to-date!\n",
            "[nltk_data]    | Downloading package inaugural to /root/nltk_data...\n",
            "[nltk_data]    |   Package inaugural is already up-to-date!\n",
            "[nltk_data]    | Downloading package movie_reviews to\n",
            "[nltk_data]    |     /root/nltk_data...\n",
            "[nltk_data]    |   Package movie_reviews is already up-to-date!\n",
            "[nltk_data]    | Downloading package names to /root/nltk_data...\n",
            "[nltk_data]    |   Package names is already up-to-date!\n",
            "[nltk_data]    | Downloading package shakespeare to /root/nltk_data...\n",
            "[nltk_data]    |   Package shakespeare is already up-to-date!\n",
            "[nltk_data]    | Downloading package stopwords to /root/nltk_data...\n",
            "[nltk_data]    |   Package stopwords is already up-to-date!\n",
            "[nltk_data]    | Downloading package treebank to /root/nltk_data...\n",
            "[nltk_data]    |   Package treebank is already up-to-date!\n",
            "[nltk_data]    | Downloading package twitter_samples to\n",
            "[nltk_data]    |     /root/nltk_data...\n",
            "[nltk_data]    |   Package twitter_samples is already up-to-date!\n",
            "[nltk_data]    | Downloading package omw to /root/nltk_data...\n",
            "[nltk_data]    |   Package omw is already up-to-date!\n",
            "[nltk_data]    | Downloading package wordnet to /root/nltk_data...\n",
            "[nltk_data]    |   Package wordnet is already up-to-date!\n",
            "[nltk_data]    | Downloading package wordnet_ic to /root/nltk_data...\n",
            "[nltk_data]    |   Package wordnet_ic is already up-to-date!\n",
            "[nltk_data]    | Downloading package words to /root/nltk_data...\n",
            "[nltk_data]    |   Package words is already up-to-date!\n",
            "[nltk_data]    | Downloading package maxent_ne_chunker to\n",
            "[nltk_data]    |     /root/nltk_data...\n",
            "[nltk_data]    |   Package maxent_ne_chunker is already up-to-date!\n",
            "[nltk_data]    | Downloading package punkt to /root/nltk_data...\n",
            "[nltk_data]    |   Package punkt is already up-to-date!\n",
            "[nltk_data]    | Downloading package snowball_data to\n",
            "[nltk_data]    |     /root/nltk_data...\n",
            "[nltk_data]    |   Package snowball_data is already up-to-date!\n",
            "[nltk_data]    | Downloading package averaged_perceptron_tagger to\n",
            "[nltk_data]    |     /root/nltk_data...\n",
            "[nltk_data]    |   Package averaged_perceptron_tagger is already up-\n",
            "[nltk_data]    |       to-date!\n",
            "[nltk_data]    | \n",
            "[nltk_data]  Done downloading collection popular\n"
          ],
          "name": "stdout"
        },
        {
          "output_type": "execute_result",
          "data": {
            "text/plain": [
              "True"
            ]
          },
          "metadata": {
            "tags": []
          },
          "execution_count": 17
        }
      ]
    },
    {
      "cell_type": "code",
      "metadata": {
        "id": "ZqjOWYdWEvcB"
      },
      "source": [
        "from sklearn.feature_extraction.text import CountVectorizer\n",
        "from sklearn.metrics.pairwise import cosine_similarity\n",
        "import numpy as np\n",
        "import warnings\n",
        "warnings.filterwarnings(\"ignore\")"
      ],
      "execution_count": 18,
      "outputs": []
    },
    {
      "cell_type": "code",
      "metadata": {
        "colab": {
          "base_uri": "https://localhost:8080/"
        },
        "id": "EXlArIN4EvaG",
        "outputId": "cd7a5bb8-0a0c-4dab-e73e-6a5e848b02ff"
      },
      "source": [
        "nltk.download(\"punkt\")"
      ],
      "execution_count": 19,
      "outputs": [
        {
          "output_type": "stream",
          "text": [
            "[nltk_data] Downloading package punkt to /root/nltk_data...\n",
            "[nltk_data]   Package punkt is already up-to-date!\n"
          ],
          "name": "stdout"
        },
        {
          "output_type": "execute_result",
          "data": {
            "text/plain": [
              "True"
            ]
          },
          "metadata": {
            "tags": []
          },
          "execution_count": 19
        }
      ]
    },
    {
      "cell_type": "code",
      "metadata": {
        "id": "cb4nJ6LgEvWk"
      },
      "source": [
        "article= Article(\"https://en.wikipedia.org/wiki/Car\")\n",
        "article.download()\n",
        "article.parse()\n",
        "article.nlp()\n",
        "corpus= article.text"
      ],
      "execution_count": 20,
      "outputs": []
    },
    {
      "cell_type": "code",
      "metadata": {
        "colab": {
          "base_uri": "https://localhost:8080/",
          "height": 132
        },
        "id": "2nJRqubIEvU0",
        "outputId": "8bd51ef0-a43c-48a1-9bc0-a11454f0f766"
      },
      "source": [
        "#print article text\n",
        "(corpus)"
      ],
      "execution_count": 21,
      "outputs": [
        {
          "output_type": "execute_result",
          "data": {
            "application/vnd.google.colaboratory.intrinsic+json": {
              "type": "string"
            },
            "text/plain": [
              "'Motorized passenger road vehicle\\n\\nA car (or automobile) is a wheeled motor vehicle used for transportation. Most definitions of cars say that they run primarily on roads, seat one to eight people, have four tires, and mainly transport people rather than goods.[2][3]\\n\\nCars came into global use during the 20th century, and developed economies depend on them. The year 1886 is regarded as the birth year of the modern car when German inventor Karl Benz patented his Benz Patent-Motorwagen. Cars became widely available in the early 20th century. One of the first cars accessible to the masses was the 1908 Model T, an American car manufactured by the Ford Motor Company. Cars were rapidly adopted in the US, where they replaced animal-drawn carriages and carts, but took much longer to be accepted in Western Europe and other parts of the world.[citation needed]\\n\\nCars have controls for driving, parking, passenger comfort, and a variety of lights. Over the decades, additional features and controls have been added to vehicles, making them progressively more complex, but also more reliable and easier to operate.[citation needed] These include rear-reversing cameras, air conditioning, navigation systems, and in-car entertainment. Most cars in use in the 2010s are propelled by an internal combustion engine, fueled by the combustion of fossil fuels. Electric cars, which were invented early in the history of the car, became commercially available in the 2000s and are predicted to cost less to buy than gasoline cars before 2025.[4][5] The transition from fossil fuels to electric cars features prominently in most climate change mitigation scenarios.[6]\\n\\nThere are costs and benefits to car use. The costs to the individual include acquiring the vehicle, interest payments (if the car is financed), repairs and maintenance, fuel, depreciation, driving time, parking fees, taxes, and insurance.[7] The costs to society include maintaining roads, land use, road congestion, air pollution, public health, healthcare, and disposing of the vehicle at the end of its life. Traffic collisions are the largest cause of injury-related deaths worldwide.[8]\\n\\nThe personal benefits include on-demand transportation, mobility, independence, and convenience.[9] The societal benefits include economic benefits, such as job and wealth creation from the automotive industry, transportation provision, societal well-being from leisure and travel opportunities, and revenue generation from the taxes. People\\'s ability to move flexibly from place to place has far-reaching implications for the nature of societies.[10] There are around 1 billion cars in use worldwide. The numbers are increasing rapidly, especially in China, India and other newly industrialized countries.[11]\\n\\nEtymology\\n\\nThe English word car is believed to originate from Latin carrus/carrum \"wheeled vehicle\" or (via Old North French) Middle English carre \"two-wheeled cart,\" both of which in turn derive from Gaulish karros \"chariot.\"[12][13] It originally referred to any wheeled horse-drawn vehicle, such as a cart, carriage, or wagon.[14][15]\\n\\n\"Motor car,\" attested from 1895, is the usual formal term in British English.[3] \"Autocar,\" a variant likewise attested from 1895 and literally meaning \"self-propelled car,\" is now considered archaic.[16] \"Horseless carriage\" is attested from 1895.[17]\\n\\n\"Automobile,\" a classical compound derived from Ancient Greek autós (αὐτός) \"self\" and Latin mobilis \"movable,\" entered English from French and was first adopted by the Automobile Club of Great Britain in 1897.[18] It fell out of favour in Britain and is now used chiefly in North America,[19] where the abbreviated form \"auto\" commonly appears as an adjective in compound formations like \"auto industry\" and \"auto mechanic\".[20][21] Both forms are still used in everyday Dutch (auto/automobiel) and German (Auto/Automobil).[citation needed]\\n\\nHistory\\n\\nThe first working steam-powered vehicle was designed—and quite possibly built—by Ferdinand Verbiest, a Flemish member of a Jesuit mission in China around 1672. It was a 65-centimetre (26 in)-long scale-model toy for the Kangxi Emperor that was unable to carry a driver or a passenger.[9][22][23] It is not known with certainty if Verbiest\\'s model was successfully built or run.[23]\\n\\nNicolas-Joseph Cugnot is widely credited with building the first full-scale, self-propelled mechanical vehicle or car in about 1769; he created a steam-powered tricycle.[24] He also constructed two steam tractors for the French Army, one of which is preserved in the French National Conservatory of Arts and Crafts.[25] His inventions were, however, handicapped by problems with water supply and maintaining steam pressure.[25] In 1801, Richard Trevithick built and demonstrated his Puffing Devil road locomotive, believed by many to be the first demonstration of a steam-powered road vehicle. It was unable to maintain sufficient steam pressure for long periods and was of little practical use.\\n\\nThe development of external combustion engines is detailed as part of the history of the car but often treated separately from the development of true cars. A variety of steam-powered road vehicles were used during the first part of the 19th century, including steam cars, steam buses, phaetons, and steam rollers. Sentiment against them led to the Locomotive Acts of 1865.\\n\\nIn 1807, Nicéphore Niépce and his brother Claude created what was probably the world\\'s first internal combustion engine (which they called a Pyréolophore), but they chose to install it in a boat on the river Saone in France.[26] Coincidentally, in 1807 the Swiss inventor François Isaac de Rivaz designed his own \\'de Rivaz internal combustion engine\\' and used it to develop the world\\'s first vehicle to be powered by such an engine. The Niépces\\' Pyréolophore was fuelled by a mixture of Lycopodium powder (dried spores of the Lycopodium plant), finely crushed coal dust and resin that were mixed with oil, whereas de Rivaz used a mixture of hydrogen and oxygen.[26] Neither design was very successful, as was the case with others, such as Samuel Brown, Samuel Morey, and Etienne Lenoir with his hippomobile, who each produced vehicles (usually adapted carriages or carts) powered by internal combustion engines.[1]\\n\\nGustave Trouvé \\'s tricycle, the first ever electric automobile to be shown in public\\n\\nIn November 1881, French inventor Gustave Trouvé demonstrated the first working (three-wheeled) car powered by electricity at the International Exposition of Electricity, Paris.[27] Although several other German engineers (including Gottlieb Daimler, Wilhelm Maybach, and Siegfried Marcus) were working on the problem at about the same time, Karl Benz generally is acknowledged as the inventor of the modern car.[1]\\n\\nThe original Benz Patent-Motorwagen , first built in 1885 and awarded the patent for the concept\\n\\nIn 1879, Benz was granted a patent for his first engine, which had been designed in 1878. Many of his other inventions made the use of the internal combustion engine feasible for powering a vehicle. His first Motorwagen was built in 1885 in Mannheim, Germany. He was awarded the patent for its invention as of his application on 29 January 1886 (under the auspices of his major company, Benz & Cie., which was founded in 1883). Benz began promotion of the vehicle on 3 July 1886, and about 25 Benz vehicles were sold between 1888 and 1893, when his first four-wheeler was introduced along with a cheaper model. They also were powered with four-stroke engines of his own design. Emile Roger of France, already producing Benz engines under license, now added the Benz car to his line of products. Because France was more open to the early cars, initially more were built and sold in France through Roger than Benz sold in Germany. In August 1888 Bertha Benz, the wife of Karl Benz, undertook the first road trip by car, to prove the road-worthiness of her husband\\'s invention.\\n\\nIn 1896, Benz designed and patented the first internal-combustion flat engine, called boxermotor. During the last years of the nineteenth century, Benz was the largest car company in the world with 572 units produced in 1899 and, because of its size, Benz & Cie., became a joint-stock company. The first motor car in central Europe and one of the first factory-made cars in the world, was produced by Czech company Nesselsdorfer Wagenbau (later renamed to Tatra) in 1897, the Präsident automobil.\\n\\nDaimler and Maybach founded Daimler Motoren Gesellschaft (DMG) in Cannstatt in 1890, and sold their first car in 1892 under the brand name Daimler. It was a horse-drawn stagecoach built by another manufacturer, which they retrofitted with an engine of their design. By 1895 about 30 vehicles had been built by Daimler and Maybach, either at the Daimler works or in the Hotel Hermann, where they set up shop after disputes with their backers. Benz, Maybach and the Daimler team seem to have been unaware of each other\\'s early work. They never worked together; by the time of the merger of the two companies, Daimler and Maybach were no longer part of DMG. Daimler died in 1900 and later that year, Maybach designed an engine named Daimler-Mercedes that was placed in a specially ordered model built to specifications set by Emil Jellinek. This was a production of a small number of vehicles for Jellinek to race and market in his country. Two years later, in 1902, a new model DMG car was produced and the model was named Mercedes after the Maybach engine, which generated 35 hp. Maybach quit DMG shortly thereafter and opened a business of his own. Rights to the Daimler brand name were sold to other manufacturers.\\n\\nKarl Benz proposed co-operation between DMG and Benz & Cie. when economic conditions began to deteriorate in Germany following the First World War, but the directors of DMG refused to consider it initially. Negotiations between the two companies resumed several years later when these conditions worsened and, in 1924 they signed an Agreement of Mutual Interest, valid until the year 2000. Both enterprises standardized design, production, purchasing, and sales and they advertised or marketed their car models jointly, although keeping their respective brands. On 28 June 1926, Benz & Cie. and DMG finally merged as the Daimler-Benz company, baptizing all of its cars Mercedes Benz, as a brand honoring the most important model of the DMG cars, the Maybach design later referred to as the 1902 Mercedes-35 hp, along with the Benz name. Karl Benz remained a member of the board of directors of Daimler-Benz until his death in 1929, and at times, his two sons also participated in the management of the company.\\n\\nÉmile Levassor\\n\\nArmand Peugeot\\n\\nIn 1890, Émile Levassor and Armand Peugeot of France began producing vehicles with Daimler engines, and so laid the foundation of the automotive industry in France. In 1891, Auguste Doriot and his Peugeot colleague Louis Rigoulot completed the longest trip by a gasoline-powered vehicle when their self-designed and built Daimler powered Peugeot Type 3 completed 2,100 km (1,300 miles) from Valentigney to Paris and Brest and back again. They were attached to the first Paris–Brest–Paris bicycle race, but finished 6 days after the winning cyclist, Charles Terront.\\n\\nThe first design for an American car with a gasoline internal combustion engine was made in 1877 by George Selden of Rochester, New York. Selden applied for a patent for a car in 1879, but the patent application expired because the vehicle was never built. After a delay of sixteen years and a series of attachments to his application, on 5 November 1895, Selden was granted a United States patent (U.S. Patent 549,160 ) for a two-stroke car engine, which hindered, more than encouraged, development of cars in the United States. His patent was challenged by Henry Ford and others, and overturned in 1911.\\n\\nIn 1893, the first running, gasoline-powered American car was built and road-tested by the Duryea brothers of Springfield, Massachusetts. The first public run of the Duryea Motor Wagon took place on 21 September 1893, on Taylor Street in Metro Center Springfield.[28][29] The Studebaker Automobile Company, subsidiary of a long-established wagon and coach manufacturer, started to build cars in 1897[30]:p.66 and commenced sales of electric vehicles in 1902 and gasoline vehicles in 1904.[31]\\n\\nIn Britain, there had been several attempts to build steam cars with varying degrees of success, with Thomas Rickett even attempting a production run in 1860.[32] Santler from Malvern is recognized by the Veteran Car Club of Great Britain as having made the first gasoline-powered car in the country in 1894,[33] followed by Frederick William Lanchester in 1895, but these were both one-offs.[33] The first production vehicles in Great Britain came from the Daimler Company, a company founded by Harry J. Lawson in 1896, after purchasing the right to use the name of the engines. Lawson\\'s company made its first car in 1897, and they bore the name Daimler.[33]\\n\\nIn 1892, German engineer Rudolf Diesel was granted a patent for a \"New Rational Combustion Engine\". In 1897, he built the first diesel engine.[1] Steam-, electric-, and gasoline-powered vehicles competed for decades, with gasoline internal combustion engines achieving dominance in the 1910s. Although various pistonless rotary engine designs have attempted to compete with the conventional piston and crankshaft design, only Mazda\\'s version of the Wankel engine has had more than very limited success.\\n\\nAll in all, it is estimated that over 100,000 patents created the modern automobile and motorcycle.[34]\\n\\nMass production\\n\\nMass production at a Toyota plant in the 1950s\\n\\nLarge-scale, production-line manufacturing of affordable cars was started by Ransom Olds in 1901 at his Oldsmobile factory in Lansing, Michigan and based upon stationary assembly line techniques pioneered by Marc Isambard Brunel at the Portsmouth Block Mills, England, in 1802. The assembly line style of mass production and interchangeable parts had been pioneered in the U.S. by Thomas Blanchard in 1821, at the Springfield Armory in Springfield, Massachusetts.[35] This concept was greatly expanded by Henry Ford, beginning in 1913 with the world\\'s first moving assembly line for cars at the Highland Park Ford Plant.\\n\\nAs a result, Ford\\'s cars came off the line in fifteen-minute intervals, much faster than previous methods, increasing productivity eightfold, while using less manpower (from 12.5-man-hours to 1 hour 33 minutes).[36] It was so successful, paint became a bottleneck. Only Japan black would dry fast enough, forcing the company to drop the variety of colors available before 1913, until fast-drying Duco lacquer was developed in 1926. This is the source of Ford\\'s apocryphal remark, \"any color as long as it\\'s black\".[36] In 1914, an assembly line worker could buy a Model T with four months\\' pay.[36]\\n\\nFord\\'s complex safety procedures—especially assigning each worker to a specific location instead of allowing them to roam about—dramatically reduced the rate of injury.[citation needed] The combination of high wages and high efficiency is called \"Fordism,\" and was copied by most major industries. The efficiency gains from the assembly line also coincided with the economic rise of the United States. The assembly line forced workers to work at a certain pace with very repetitive motions which led to more output per worker while other countries were using less productive methods.\\n\\nIn the automotive industry, its success was dominating, and quickly spread worldwide seeing the founding of Ford France and Ford Britain in 1911, Ford Denmark 1923, Ford Germany 1925; in 1921, Citroen was the first native European manufacturer to adopt the production method. Soon, companies had to have assembly lines, or risk going broke; by 1930, 250 companies which did not, had disappeared.[36]\\n\\nDevelopment of automotive technology was rapid, due in part to the hundreds of small manufacturers competing to gain the world\\'s attention. Key developments included electric ignition and the electric self-starter (both by Charles Kettering, for the Cadillac Motor Company in 1910–1911), independent suspension, and four-wheel brakes.\\n\\nSince the 1920s, nearly all cars have been mass-produced to meet market needs, so marketing plans often have heavily influenced car design. It was Alfred P. Sloan who established the idea of different makes of cars produced by one company, called the General Motors Companion Make Program, so that buyers could \"move up\" as their fortunes improved.\\n\\nReflecting the rapid pace of change, makes shared parts with one another so larger production volume resulted in lower costs for each price range. For example, in the 1930s, LaSalles, sold by Cadillac, used cheaper mechanical parts made by Oldsmobile; in the 1950s, Chevrolet shared hood, doors, roof, and windows with Pontiac; by the 1990s, corporate powertrains and shared platforms (with interchangeable brakes, suspension, and other parts) were common. Even so, only major makers could afford high costs, and even companies with decades of production, such as Apperson, Cole, Dorris, Haynes, or Premier, could not manage: of some two hundred American car makers in existence in 1920, only 43 survived in 1930, and with the Great Depression, by 1940, only 17 of those were left.[36]\\n\\nIn Europe, much the same would happen. Morris set up its production line at Cowley in 1924, and soon outsold Ford, while beginning in 1923 to follow Ford\\'s practice of vertical integration, buying Hotchkiss (engines), Wrigley (gearboxes), and Osberton (radiators), for instance, as well as competitors, such as Wolseley: in 1925, Morris had 41% of total British car production. Most British small-car assemblers, from Abbey to Xtra, had gone under. Citroen did the same in France, coming to cars in 1919; between them and other cheap cars in reply such as Renault\\'s 10CV and Peugeot\\'s 5CV, they produced 550,000 cars in 1925, and Mors, Hurtu, and others could not compete.[36] Germany\\'s first mass-manufactured car, the Opel 4PS Laubfrosch (Tree Frog), came off the line at Russelsheim in 1924, soon making Opel the top car builder in Germany, with 37.5% of the market.[36]\\n\\nIn Japan, car production was very limited before World War II. Only a handful of companies were producing vehicles in limited numbers, and these were small, three-wheeled for commercial uses, like Daihatsu, or were the result of partnering with European companies, like Isuzu building the Wolseley A-9 in 1922. Mitsubishi was also partnered with Fiat and built the Mitsubishi Model A based on a Fiat vehicle. Toyota, Nissan, Suzuki, Mazda, and Honda began as companies producing non-automotive products before the war, switching to car production during the 1950s. Kiichiro Toyoda\\'s decision to take Toyoda Loom Works into automobile manufacturing would create what would eventually become Toyota Motor Corporation, the largest automobile manufacturer in the world. Subaru, meanwhile, was formed from a conglomerate of six companies who banded together as Fuji Heavy Industries, as a result of having been broken up under keiretsu legislation.\\n\\nFuel and propulsion technologies\\n\\nAccording to the European Environment Agency, the transport sector is a major contributor to air pollution, noise pollution and climate change.[37]\\n\\nMost cars in use in the 2010s run on gasoline burnt in an internal combustion engine (ICE). The International Organization of Motor Vehicle Manufacturers says that, in countries that mandate low sulfur gasoline, gasoline-fuelled cars built to late 2010s standards (such as Euro-6) emit very little local air pollution.[38][39] Some cities ban older gasoline-fuelled cars and some countries plan to ban sales in future. However some environmental groups say this phase-out of fossil fuel vehicles must be brought forward to limit climate change. Production of gasoline fueled cars peaked in 2017.[40][41]\\n\\nOther hydrocarbon fossil fuels also burnt by deflagration (rather than detonation) in ICE cars include diesel, Autogas and CNG. Removal of fossil fuel subsidies,[42][43] concerns about oil dependence, tightening environmental laws and restrictions on greenhouse gas emissions are propelling work on alternative power systems for cars. This includes hybrid vehicles, plug-in electric vehicles and hydrogen vehicles. 2.1 million light electric vehicles (of all types but mainly cars) were sold in 2018, over half in China: this was an increase of 64% on the previous year, giving a global total on the road of 5.4 million.[44] Vehicles using alternative fuels such as ethanol flexible-fuel vehicles and natural gas vehicles[clarification needed] are also gaining popularity in some countries.[citation needed] Cars for racing or speed records have sometimes employed jet or rocket engines, but these are impractical for common use.\\n\\nOil consumption has increased rapidly in the 20th and 21st centuries because there are more cars; the 1985–2003 oil glut even fuelled the sales of low-economy vehicles in OECD countries. The BRIC countries are adding to this consumption.\\n\\nUser interface\\n\\nIn the Ford Model T the left-side hand lever sets the rear wheel parking brakes and puts the transmission in neutral. The lever to the right controls the throttle. The lever on the left of the steering column is for ignition timing. The left foot pedal changes the two forward gears while the centre pedal controls reverse. The right pedal is the brake.\\n\\nCars are equipped with controls used for driving, passenger comfort, and safety, normally operated by a combination of the use of feet and hands, and occasionally by voice on 21st-century cars. These controls include a steering wheel, pedals for operating the brakes and controlling the car\\'s speed (and, in a manual transmission car, a clutch pedal), a shift lever or stick for changing gears, and a number of buttons and dials for turning on lights, ventilation, and other functions. Modern cars\\' controls are now standardized, such as the location for the accelerator and brake, but this was not always the case. Controls are evolving in response to new technologies, for example, the electric car and the integration of mobile communications.\\n\\nSome of the original controls are no longer required. For example, all cars once had controls for the choke valve, clutch, ignition timing, and a crank instead of an electric starter. However new controls have also been added to vehicles, making them more complex. These include air conditioning, navigation systems, and in car entertainment. Another trend is the replacement of physical knobs and switches by secondary controls with touchscreen controls such as BMW\\'s iDrive and Ford\\'s MyFord Touch. Another change is that while early cars\\' pedals were physically linked to the brake mechanism and throttle, in the 2010s, cars have increasingly replaced these physical linkages with electronic controls.\\n\\nLighting\\n\\nCars are typically fitted with multiple types of lights. These include headlights, which are used to illuminate the way ahead and make the car visible to other users, so that the vehicle can be used at night; in some jurisdictions, daytime running lights; red brake lights to indicate when the brakes are applied; amber turn signal lights to indicate the turn intentions of the driver; white-colored reverse lights to illuminate the area behind the car (and indicate that the driver will be or is reversing); and on some vehicles, additional lights (e.g., side marker lights) to increase the visibility of the car. Interior lights on the ceiling of the car are usually fitted for the driver and passengers. Some vehicles also have a trunk light and, more rarely, an engine compartment light.\\n\\nWeight\\n\\nDuring the late 20th and early 21st century cars increased in weight due to batteries,[46] modern steel safety cages, anti-lock brakes, airbags, and \"more-powerful—if more-efficient—engines\"[47] and, as of 2019 , typically weigh between 1 and 3 tonnes.[48] Heavier cars are safer for the driver from a crash perspective, but more dangerous for other vehicles and road users.[47] The weight of a car influences fuel consumption and performance, with more weight resulting in increased fuel consumption and decreased performance. The SmartFortwo, a small city car, weighs 750–795 kg (1,655–1,755 lb). Heavier cars include full-size cars, SUVs and extended-length SUVs like the Suburban.\\n\\nAccording to research conducted by Julian Allwood of the University of Cambridge, global energy use could be greatly reduced by using lighter cars, and an average weight of 500 kg (1,100 lb) has been said to be well achievable.[49][better source needed] In some competitions such as the Shell Eco Marathon, average car weights of 45 kg (99 lb) have also been achieved.[50] These cars are only single-seaters (still falling within the definition of a car, although 4-seater cars are more common), but they nevertheless demonstrate the amount by which car weights could still be reduced, and the subsequent lower fuel use (i.e. up to a fuel use of 2560 km/l).[51]\\n\\nSeating and body style\\n\\nMost cars are designed to carry multiple occupants, often with four or five seats. Cars with five seats typically seat two passengers in the front and three in the rear. Full-size cars and large sport utility vehicles can often carry six, seven, or more occupants depending on the arrangement of the seats. On the other hand, sports cars are most often designed with only two seats. The differing needs for passenger capacity and their luggage or cargo space has resulted in the availability of a large variety of body styles to meet individual consumer requirements that include, among others, the sedan/saloon, hatchback, station wagon/estate, and minivan.\\n\\nSafety\\n\\nResult of a serious car collision\\n\\nTraffic collisions are the largest cause of injury-related deaths worldwide.[8] Mary Ward became one of the first documented car fatalities in 1869 in Parsonstown, Ireland,[52] and Henry Bliss one of the United States\\' first pedestrian car casualties in 1899 in New York City.[53] There are now standard tests for safety in new cars, such as the EuroNCAP and the US NCAP tests,[54] and insurance-industry-backed tests by the Insurance Institute for Highway Safety (IIHS).[55]\\n\\nCosts and benefits\\n\\nThe costs of car usage, which may include the cost of: acquiring the vehicle, repairs and auto maintenance, fuel, depreciation, driving time, parking fees, taxes, and insurance,[7] are weighed against the cost of the alternatives, and the value of the benefits – perceived and real – of vehicle usage. The benefits may include on-demand transportation, mobility, independence and convenience.[9] During the 1920s, cars had another benefit: \"[c]ouples finally had a way to head off on unchaperoned dates, plus they had a private space to snuggle up close at the end of the night.\"[57]\\n\\nSimilarly the costs to society of car use may include; maintaining roads, land use, air pollution, road congestion, public health, health care, and of disposing of the vehicle at the end of its life; and can be balanced against the value of the benefits to society that car use generates. Societal benefits may include: economy benefits, such as job and wealth creation, of car production and maintenance, transportation provision, society wellbeing derived from leisure and travel opportunities, and revenue generation from the tax opportunities. The ability of humans to move flexibly from place to place has far-reaching implications for the nature of societies.[10]\\n\\nEnvironmental impact\\n\\nVehicles in use per country from 2001 to 2007. It shows the significant growth in BRIC\\n\\nCars are a major cause of urban air pollution,[58] with all types of cars producing dust from brakes, tyres and road wear.[59] As of 2018 the average diesel car has a worse effect on air quality than the average gasoline car[60] But both gasoline and diesel cars pollute more than electric cars.[61] While there are different ways to power cars most rely on gasoline or diesel, and they consume almost a quarter of world oil production as of 2019 .[40] In 2018 passenger road vehicles emitted 3.6 gigatonnes of carbon dioxide.[62] As of 2019 , due to greenhouse gases emitted during battery production, electric cars must be driven tens of thousands of kilometers before their lifecycle carbon emissions are less than fossil fuel cars:[63] but this is expected to improve in future due to longer lasting[64] batteries being produced in larger factories,[65] and lower carbon electricity. Many governments are using fiscal policies, such as road tax, to discourage the purchase and use of more polluting cars;[66] and many cities are doing the same with low-emission zones.[67] Fuel taxes may act as an incentive for the production of more efficient, hence less polluting, car designs (e.g. hybrid vehicles) and the development of alternative fuels. High fuel taxes or cultural change may provide a strong incentive for consumers to purchase lighter, smaller, more fuel-efficient cars, or to not drive.[67]\\n\\nThe lifetime of a car built in the 2020s is expected to be about 16 years, or about 2 million kilometres (1.2 million miles) if driven a lot.[68] According to the International Energy Agency fuel economy improved 0.7% in 2017, but an annual improvement of 3.7% is needed to meet the Global Fuel Economy Initiative 2030 target.[69] The increase in sales of SUVs is bad for fuel economy.[40] Many cities in Europe, have banned older fossil fuel cars and all fossil fuel vehicles will be banned in Amsterdam from 2030.[70] Many Chinese cities limit licensing of fossil fuel cars,[71] and many countries plan to stop selling them between 2025 and 2050.[72]\\n\\nThe manufacture of vehicles is resource intensive, and many manufacturers now report on the environmental performance of their factories, including energy usage, waste and water consumption.[73] Manufacturing each kWh of battery emits a similar amount of carbon as burning through one full tank of gasoline.[74] The growth in popularity of the car allowed cities to sprawl, therefore encouraging more travel by car resulting in inactivity and obesity, which in turn can lead to increased risk of a variety of diseases.[75]\\n\\nAnimals and plants are often negatively impacted by cars via habitat destruction and pollution. Over the lifetime of the average car the \"loss of habitat potential\" may be over 50,000 m2 (540,000 sq ft) based on primary production correlations.[76] Animals are also killed every year on roads by cars, referred to as roadkill. More recent road developments are including significant environmental mitigation in their designs, such as green bridges (designed to allow wildlife crossings) and creating wildlife corridors.\\n\\nGrowth in the popularity of vehicles and commuting has led to traffic congestion. Moscow, Istanbul, Bogota, Mexico City and Sao Paulo were the world\\'s most congested cities in 2018 according to INRIX, a data analytics company.[77]\\n\\nEmerging car technologies\\n\\nAlthough intensive development of conventional battery electric vehicles is continuing into the 2020s,[78] other car propulsion technologies that are under development include wheel hub motors,[79] wireless charging,[80] hydrogen cars,[81] and hydrogen/electric hybrids.[82] Research into alternative forms of power includes using ammonia instead of hydrogen in fuel cells.[83]\\n\\nNew materials[84] which may replace steel car bodies include duralumin, fiberglass, carbon fiber, biocomposites, and carbon nanotubes. Telematics technology is allowing more and more people to share cars, on a pay-as-you-go basis, through car share and carpool schemes. Communication is also evolving due to connected car systems.[85]\\n\\nAutonomous car\\n\\nFully autonomous vehicles, also known as driverless cars, already exist in prototype (such as the Google driverless car), but have a long way to go before they are in general use.\\n\\nOpen source development\\n\\nThere have been several projects aiming to develop a car on the principles of open design, an approach to designing in which the plans for the machinery and systems are publicly shared, often without monetary compensation. The projects include OScar, Riversimple (through 40fires.org)[86] and c,mm,n.[87] None of the projects have reached significant success in terms of developing a car as a whole both from hardware and software perspective and no mass production ready open-source based design have been introduced as of late 2009. Some car hacking through on-board diagnostics (OBD) has been done so far.[88]\\n\\nCar sharing\\n\\nCar-share arrangements and carpooling are also increasingly popular, in the US and Europe.[89] For example, in the US, some car-sharing services have experienced double-digit growth in revenue and membership growth between 2006 and 2007. Services like car sharing offering a residents to \"share\" a vehicle rather than own a car in already congested neighborhoods.[90]\\n\\nIndustry\\n\\nA car being assembled in a factory\\n\\nThe automotive industry designs, develops, manufactures, markets, and sells the world\\'s motor vehicles, more than three-quarters of which are cars. In 2018 there were 70 million cars manufactured worldwide,[91] down 2 million from the previous year.[92]\\n\\nThe automotive industry in China produces by far the most (24 million in 2018), followed by Japan (8 million), Germany (5 million) and India (4 million).[91] The largest market is China, followed by the USA.\\n\\nAround the world there are about a billion cars on the road;[93] they burn over a trillion liters of gasoline and diesel fuel yearly, consuming about 50 EJ (nearly 300 terawatt-hours) of energy.[94] The numbers of cars are increasing rapidly in China and India.[11] In the opinion of some, urban transport systems based around the car have proved unsustainable, consuming excessive energy, affecting the health of populations, and delivering a declining level of service despite increasing investment. Many of these negative impacts fall disproportionately on those social groups who are also least likely to own and drive cars.[95][96] The sustainable transport movement focuses on solutions to these problems. The car industry is also facing increasing competition from the public transport sector, as some people re-evaluate their private vehicle usage.\\n\\nAlternatives\\n\\n[97] The Vélib\\' in Paris, France is the largest bikesharing system outside China\\n\\nEstablished alternatives for some aspects of car use include public transport such as buses, trolleybuses, trains, subways, tramways, light rail, cycling, and walking. Bicycle sharing systems have been established in China and many European cities, including Copenhagen and Amsterdam. Similar programs have been developed in large US cities.[98][99] Additional individual modes of transport, such as personal rapid transit could serve as an alternative to cars if they prove to be socially accepted.[100]\\n\\nOther meanings\\n\\nThe term motorcar was formerly also used in the context of electrified rail systems to denote a car which functions as a small locomotive but also provides space for passengers and baggage. These locomotive cars were often used on suburban routes by both interurban and intercity railroad systems.[101]\\n\\nSee also\\n\\nReferences'"
            ]
          },
          "metadata": {
            "tags": []
          },
          "execution_count": 21
        }
      ]
    },
    {
      "cell_type": "code",
      "metadata": {
        "id": "hWow2l0KEvSw"
      },
      "source": [
        "#tokenization\n",
        "text= corpus\n",
        "sentence_list= nltk.sent_tokenize(text)\n"
      ],
      "execution_count": 22,
      "outputs": []
    },
    {
      "cell_type": "code",
      "metadata": {
        "colab": {
          "base_uri": "https://localhost:8080/"
        },
        "id": "9p7M9pPyEvQq",
        "outputId": "1565502e-8573-43ba-8aac-399ed1bfac3c"
      },
      "source": [
        "sentence_list"
      ],
      "execution_count": 23,
      "outputs": [
        {
          "output_type": "execute_result",
          "data": {
            "text/plain": [
              "['Motorized passenger road vehicle\\n\\nA car (or automobile) is a wheeled motor vehicle used for transportation.',\n",
              " 'Most definitions of cars say that they run primarily on roads, seat one to eight people, have four tires, and mainly transport people rather than goods.',\n",
              " '[2][3]\\n\\nCars came into global use during the 20th century, and developed economies depend on them.',\n",
              " 'The year 1886 is regarded as the birth year of the modern car when German inventor Karl Benz patented his Benz Patent-Motorwagen.',\n",
              " 'Cars became widely available in the early 20th century.',\n",
              " 'One of the first cars accessible to the masses was the 1908 Model T, an American car manufactured by the Ford Motor Company.',\n",
              " 'Cars were rapidly adopted in the US, where they replaced animal-drawn carriages and carts, but took much longer to be accepted in Western Europe and other parts of the world.',\n",
              " '[citation needed]\\n\\nCars have controls for driving, parking, passenger comfort, and a variety of lights.',\n",
              " 'Over the decades, additional features and controls have been added to vehicles, making them progressively more complex, but also more reliable and easier to operate.',\n",
              " '[citation needed] These include rear-reversing cameras, air conditioning, navigation systems, and in-car entertainment.',\n",
              " 'Most cars in use in the 2010s are propelled by an internal combustion engine, fueled by the combustion of fossil fuels.',\n",
              " 'Electric cars, which were invented early in the history of the car, became commercially available in the 2000s and are predicted to cost less to buy than gasoline cars before 2025.',\n",
              " '[4][5] The transition from fossil fuels to electric cars features prominently in most climate change mitigation scenarios.',\n",
              " '[6]\\n\\nThere are costs and benefits to car use.',\n",
              " 'The costs to the individual include acquiring the vehicle, interest payments (if the car is financed), repairs and maintenance, fuel, depreciation, driving time, parking fees, taxes, and insurance.',\n",
              " '[7] The costs to society include maintaining roads, land use, road congestion, air pollution, public health, healthcare, and disposing of the vehicle at the end of its life.',\n",
              " 'Traffic collisions are the largest cause of injury-related deaths worldwide.',\n",
              " '[8]\\n\\nThe personal benefits include on-demand transportation, mobility, independence, and convenience.',\n",
              " '[9] The societal benefits include economic benefits, such as job and wealth creation from the automotive industry, transportation provision, societal well-being from leisure and travel opportunities, and revenue generation from the taxes.',\n",
              " \"People's ability to move flexibly from place to place has far-reaching implications for the nature of societies.\",\n",
              " '[10] There are around 1 billion cars in use worldwide.',\n",
              " 'The numbers are increasing rapidly, especially in China, India and other newly industrialized countries.',\n",
              " '[11]\\n\\nEtymology\\n\\nThe English word car is believed to originate from Latin carrus/carrum \"wheeled vehicle\" or (via Old North French) Middle English carre \"two-wheeled cart,\" both of which in turn derive from Gaulish karros \"chariot.',\n",
              " '\"[12][13] It originally referred to any wheeled horse-drawn vehicle, such as a cart, carriage, or wagon.',\n",
              " '[14][15]\\n\\n\"Motor car,\" attested from 1895, is the usual formal term in British English.',\n",
              " '[3] \"Autocar,\" a variant likewise attested from 1895 and literally meaning \"self-propelled car,\" is now considered archaic.',\n",
              " '[16] \"Horseless carriage\" is attested from 1895.',\n",
              " '[17]\\n\\n\"Automobile,\" a classical compound derived from Ancient Greek autós (αὐτός) \"self\" and Latin mobilis \"movable,\" entered English from French and was first adopted by the Automobile Club of Great Britain in 1897.',\n",
              " '[18] It fell out of favour in Britain and is now used chiefly in North America,[19] where the abbreviated form \"auto\" commonly appears as an adjective in compound formations like \"auto industry\" and \"auto mechanic\".',\n",
              " '[20][21] Both forms are still used in everyday Dutch (auto/automobiel) and German (Auto/Automobil).',\n",
              " '[citation needed]\\n\\nHistory\\n\\nThe first working steam-powered vehicle was designed—and quite possibly built—by Ferdinand Verbiest, a Flemish member of a Jesuit mission in China around 1672.',\n",
              " 'It was a 65-centimetre (26 in)-long scale-model toy for the Kangxi Emperor that was unable to carry a driver or a passenger.',\n",
              " \"[9][22][23] It is not known with certainty if Verbiest's model was successfully built or run.\",\n",
              " '[23]\\n\\nNicolas-Joseph Cugnot is widely credited with building the first full-scale, self-propelled mechanical vehicle or car in about 1769; he created a steam-powered tricycle.',\n",
              " '[24] He also constructed two steam tractors for the French Army, one of which is preserved in the French National Conservatory of Arts and Crafts.',\n",
              " '[25] His inventions were, however, handicapped by problems with water supply and maintaining steam pressure.',\n",
              " '[25] In 1801, Richard Trevithick built and demonstrated his Puffing Devil road locomotive, believed by many to be the first demonstration of a steam-powered road vehicle.',\n",
              " 'It was unable to maintain sufficient steam pressure for long periods and was of little practical use.',\n",
              " 'The development of external combustion engines is detailed as part of the history of the car but often treated separately from the development of true cars.',\n",
              " 'A variety of steam-powered road vehicles were used during the first part of the 19th century, including steam cars, steam buses, phaetons, and steam rollers.',\n",
              " 'Sentiment against them led to the Locomotive Acts of 1865.',\n",
              " \"In 1807, Nicéphore Niépce and his brother Claude created what was probably the world's first internal combustion engine (which they called a Pyréolophore), but they chose to install it in a boat on the river Saone in France.\",\n",
              " \"[26] Coincidentally, in 1807 the Swiss inventor François Isaac de Rivaz designed his own 'de Rivaz internal combustion engine' and used it to develop the world's first vehicle to be powered by such an engine.\",\n",
              " \"The Niépces' Pyréolophore was fuelled by a mixture of Lycopodium powder (dried spores of the Lycopodium plant), finely crushed coal dust and resin that were mixed with oil, whereas de Rivaz used a mixture of hydrogen and oxygen.\",\n",
              " '[26] Neither design was very successful, as was the case with others, such as Samuel Brown, Samuel Morey, and Etienne Lenoir with his hippomobile, who each produced vehicles (usually adapted carriages or carts) powered by internal combustion engines.',\n",
              " \"[1]\\n\\nGustave Trouvé 's tricycle, the first ever electric automobile to be shown in public\\n\\nIn November 1881, French inventor Gustave Trouvé demonstrated the first working (three-wheeled) car powered by electricity at the International Exposition of Electricity, Paris.\",\n",
              " '[27] Although several other German engineers (including Gottlieb Daimler, Wilhelm Maybach, and Siegfried Marcus) were working on the problem at about the same time, Karl Benz generally is acknowledged as the inventor of the modern car.',\n",
              " '[1]\\n\\nThe original Benz Patent-Motorwagen , first built in 1885 and awarded the patent for the concept\\n\\nIn 1879, Benz was granted a patent for his first engine, which had been designed in 1878.',\n",
              " 'Many of his other inventions made the use of the internal combustion engine feasible for powering a vehicle.',\n",
              " 'His first Motorwagen was built in 1885 in Mannheim, Germany.',\n",
              " 'He was awarded the patent for its invention as of his application on 29 January 1886 (under the auspices of his major company, Benz & Cie., which was founded in 1883).',\n",
              " 'Benz began promotion of the vehicle on 3 July 1886, and about 25 Benz vehicles were sold between 1888 and 1893, when his first four-wheeler was introduced along with a cheaper model.',\n",
              " 'They also were powered with four-stroke engines of his own design.',\n",
              " 'Emile Roger of France, already producing Benz engines under license, now added the Benz car to his line of products.',\n",
              " 'Because France was more open to the early cars, initially more were built and sold in France through Roger than Benz sold in Germany.',\n",
              " \"In August 1888 Bertha Benz, the wife of Karl Benz, undertook the first road trip by car, to prove the road-worthiness of her husband's invention.\",\n",
              " 'In 1896, Benz designed and patented the first internal-combustion flat engine, called boxermotor.',\n",
              " 'During the last years of the nineteenth century, Benz was the largest car company in the world with 572 units produced in 1899 and, because of its size, Benz & Cie., became a joint-stock company.',\n",
              " 'The first motor car in central Europe and one of the first factory-made cars in the world, was produced by Czech company Nesselsdorfer Wagenbau (later renamed to Tatra) in 1897, the Präsident automobil.',\n",
              " 'Daimler and Maybach founded Daimler Motoren Gesellschaft (DMG) in Cannstatt in 1890, and sold their first car in 1892 under the brand name Daimler.',\n",
              " 'It was a horse-drawn stagecoach built by another manufacturer, which they retrofitted with an engine of their design.',\n",
              " 'By 1895 about 30 vehicles had been built by Daimler and Maybach, either at the Daimler works or in the Hotel Hermann, where they set up shop after disputes with their backers.',\n",
              " \"Benz, Maybach and the Daimler team seem to have been unaware of each other's early work.\",\n",
              " 'They never worked together; by the time of the merger of the two companies, Daimler and Maybach were no longer part of DMG.',\n",
              " 'Daimler died in 1900 and later that year, Maybach designed an engine named Daimler-Mercedes that was placed in a specially ordered model built to specifications set by Emil Jellinek.',\n",
              " 'This was a production of a small number of vehicles for Jellinek to race and market in his country.',\n",
              " 'Two years later, in 1902, a new model DMG car was produced and the model was named Mercedes after the Maybach engine, which generated 35 hp.',\n",
              " 'Maybach quit DMG shortly thereafter and opened a business of his own.',\n",
              " 'Rights to the Daimler brand name were sold to other manufacturers.',\n",
              " 'Karl Benz proposed co-operation between DMG and Benz & Cie. when economic conditions began to deteriorate in Germany following the First World War, but the directors of DMG refused to consider it initially.',\n",
              " 'Negotiations between the two companies resumed several years later when these conditions worsened and, in 1924 they signed an Agreement of Mutual Interest, valid until the year 2000.',\n",
              " 'Both enterprises standardized design, production, purchasing, and sales and they advertised or marketed their car models jointly, although keeping their respective brands.',\n",
              " 'On 28 June 1926, Benz & Cie. and DMG finally merged as the Daimler-Benz company, baptizing all of its cars Mercedes Benz, as a brand honoring the most important model of the DMG cars, the Maybach design later referred to as the 1902 Mercedes-35 hp, along with the Benz name.',\n",
              " 'Karl Benz remained a member of the board of directors of Daimler-Benz until his death in 1929, and at times, his two sons also participated in the management of the company.',\n",
              " 'Émile Levassor\\n\\nArmand Peugeot\\n\\nIn 1890, Émile Levassor and Armand Peugeot of France began producing vehicles with Daimler engines, and so laid the foundation of the automotive industry in France.',\n",
              " 'In 1891, Auguste Doriot and his Peugeot colleague Louis Rigoulot completed the longest trip by a gasoline-powered vehicle when their self-designed and built Daimler powered Peugeot Type 3 completed 2,100 km (1,300 miles) from Valentigney to Paris and Brest and back again.',\n",
              " 'They were attached to the first Paris–Brest–Paris bicycle race, but finished 6 days after the winning cyclist, Charles Terront.',\n",
              " 'The first design for an American car with a gasoline internal combustion engine was made in 1877 by George Selden of Rochester, New York.',\n",
              " 'Selden applied for a patent for a car in 1879, but the patent application expired because the vehicle was never built.',\n",
              " 'After a delay of sixteen years and a series of attachments to his application, on 5 November 1895, Selden was granted a United States patent (U.S. Patent 549,160 ) for a two-stroke car engine, which hindered, more than encouraged, development of cars in the United States.',\n",
              " 'His patent was challenged by Henry Ford and others, and overturned in 1911.',\n",
              " 'In 1893, the first running, gasoline-powered American car was built and road-tested by the Duryea brothers of Springfield, Massachusetts.',\n",
              " 'The first public run of the Duryea Motor Wagon took place on 21 September 1893, on Taylor Street in Metro Center Springfield.',\n",
              " '[28][29] The Studebaker Automobile Company, subsidiary of a long-established wagon and coach manufacturer, started to build cars in 1897[30]:p.66 and commenced sales of electric vehicles in 1902 and gasoline vehicles in 1904.',\n",
              " '[31]\\n\\nIn Britain, there had been several attempts to build steam cars with varying degrees of success, with Thomas Rickett even attempting a production run in 1860.',\n",
              " '[32] Santler from Malvern is recognized by the Veteran Car Club of Great Britain as having made the first gasoline-powered car in the country in 1894,[33] followed by Frederick William Lanchester in 1895, but these were both one-offs.',\n",
              " '[33] The first production vehicles in Great Britain came from the Daimler Company, a company founded by Harry J. Lawson in 1896, after purchasing the right to use the name of the engines.',\n",
              " \"Lawson's company made its first car in 1897, and they bore the name Daimler.\",\n",
              " '[33]\\n\\nIn 1892, German engineer Rudolf Diesel was granted a patent for a \"New Rational Combustion Engine\".',\n",
              " 'In 1897, he built the first diesel engine.',\n",
              " '[1] Steam-, electric-, and gasoline-powered vehicles competed for decades, with gasoline internal combustion engines achieving dominance in the 1910s.',\n",
              " \"Although various pistonless rotary engine designs have attempted to compete with the conventional piston and crankshaft design, only Mazda's version of the Wankel engine has had more than very limited success.\",\n",
              " 'All in all, it is estimated that over 100,000 patents created the modern automobile and motorcycle.',\n",
              " '[34]\\n\\nMass production\\n\\nMass production at a Toyota plant in the 1950s\\n\\nLarge-scale, production-line manufacturing of affordable cars was started by Ransom Olds in 1901 at his Oldsmobile factory in Lansing, Michigan and based upon stationary assembly line techniques pioneered by Marc Isambard Brunel at the Portsmouth Block Mills, England, in 1802.',\n",
              " 'The assembly line style of mass production and interchangeable parts had been pioneered in the U.S. by Thomas Blanchard in 1821, at the Springfield Armory in Springfield, Massachusetts.',\n",
              " \"[35] This concept was greatly expanded by Henry Ford, beginning in 1913 with the world's first moving assembly line for cars at the Highland Park Ford Plant.\",\n",
              " \"As a result, Ford's cars came off the line in fifteen-minute intervals, much faster than previous methods, increasing productivity eightfold, while using less manpower (from 12.5-man-hours to 1 hour 33 minutes).\",\n",
              " '[36] It was so successful, paint became a bottleneck.',\n",
              " 'Only Japan black would dry fast enough, forcing the company to drop the variety of colors available before 1913, until fast-drying Duco lacquer was developed in 1926.',\n",
              " 'This is the source of Ford\\'s apocryphal remark, \"any color as long as it\\'s black\".',\n",
              " \"[36] In 1914, an assembly line worker could buy a Model T with four months' pay.\",\n",
              " \"[36]\\n\\nFord's complex safety procedures—especially assigning each worker to a specific location instead of allowing them to roam about—dramatically reduced the rate of injury.\",\n",
              " '[citation needed] The combination of high wages and high efficiency is called \"Fordism,\" and was copied by most major industries.',\n",
              " 'The efficiency gains from the assembly line also coincided with the economic rise of the United States.',\n",
              " 'The assembly line forced workers to work at a certain pace with very repetitive motions which led to more output per worker while other countries were using less productive methods.',\n",
              " 'In the automotive industry, its success was dominating, and quickly spread worldwide seeing the founding of Ford France and Ford Britain in 1911, Ford Denmark 1923, Ford Germany 1925; in 1921, Citroen was the first native European manufacturer to adopt the production method.',\n",
              " 'Soon, companies had to have assembly lines, or risk going broke; by 1930, 250 companies which did not, had disappeared.',\n",
              " \"[36]\\n\\nDevelopment of automotive technology was rapid, due in part to the hundreds of small manufacturers competing to gain the world's attention.\",\n",
              " 'Key developments included electric ignition and the electric self-starter (both by Charles Kettering, for the Cadillac Motor Company in 1910–1911), independent suspension, and four-wheel brakes.',\n",
              " 'Since the 1920s, nearly all cars have been mass-produced to meet market needs, so marketing plans often have heavily influenced car design.',\n",
              " 'It was Alfred P. Sloan who established the idea of different makes of cars produced by one company, called the General Motors Companion Make Program, so that buyers could \"move up\" as their fortunes improved.',\n",
              " 'Reflecting the rapid pace of change, makes shared parts with one another so larger production volume resulted in lower costs for each price range.',\n",
              " 'For example, in the 1930s, LaSalles, sold by Cadillac, used cheaper mechanical parts made by Oldsmobile; in the 1950s, Chevrolet shared hood, doors, roof, and windows with Pontiac; by the 1990s, corporate powertrains and shared platforms (with interchangeable brakes, suspension, and other parts) were common.',\n",
              " 'Even so, only major makers could afford high costs, and even companies with decades of production, such as Apperson, Cole, Dorris, Haynes, or Premier, could not manage: of some two hundred American car makers in existence in 1920, only 43 survived in 1930, and with the Great Depression, by 1940, only 17 of those were left.',\n",
              " '[36]\\n\\nIn Europe, much the same would happen.',\n",
              " \"Morris set up its production line at Cowley in 1924, and soon outsold Ford, while beginning in 1923 to follow Ford's practice of vertical integration, buying Hotchkiss (engines), Wrigley (gearboxes), and Osberton (radiators), for instance, as well as competitors, such as Wolseley: in 1925, Morris had 41% of total British car production.\",\n",
              " 'Most British small-car assemblers, from Abbey to Xtra, had gone under.',\n",
              " \"Citroen did the same in France, coming to cars in 1919; between them and other cheap cars in reply such as Renault's 10CV and Peugeot's 5CV, they produced 550,000 cars in 1925, and Mors, Hurtu, and others could not compete.\",\n",
              " \"[36] Germany's first mass-manufactured car, the Opel 4PS Laubfrosch (Tree Frog), came off the line at Russelsheim in 1924, soon making Opel the top car builder in Germany, with 37.5% of the market.\",\n",
              " '[36]\\n\\nIn Japan, car production was very limited before World War II.',\n",
              " 'Only a handful of companies were producing vehicles in limited numbers, and these were small, three-wheeled for commercial uses, like Daihatsu, or were the result of partnering with European companies, like Isuzu building the Wolseley A-9 in 1922.',\n",
              " 'Mitsubishi was also partnered with Fiat and built the Mitsubishi Model A based on a Fiat vehicle.',\n",
              " 'Toyota, Nissan, Suzuki, Mazda, and Honda began as companies producing non-automotive products before the war, switching to car production during the 1950s.',\n",
              " \"Kiichiro Toyoda's decision to take Toyoda Loom Works into automobile manufacturing would create what would eventually become Toyota Motor Corporation, the largest automobile manufacturer in the world.\",\n",
              " 'Subaru, meanwhile, was formed from a conglomerate of six companies who banded together as Fuji Heavy Industries, as a result of having been broken up under keiretsu legislation.',\n",
              " 'Fuel and propulsion technologies\\n\\nAccording to the European Environment Agency, the transport sector is a major contributor to air pollution, noise pollution and climate change.',\n",
              " '[37]\\n\\nMost cars in use in the 2010s run on gasoline burnt in an internal combustion engine (ICE).',\n",
              " 'The International Organization of Motor Vehicle Manufacturers says that, in countries that mandate low sulfur gasoline, gasoline-fuelled cars built to late 2010s standards (such as Euro-6) emit very little local air pollution.',\n",
              " '[38][39] Some cities ban older gasoline-fuelled cars and some countries plan to ban sales in future.',\n",
              " 'However some environmental groups say this phase-out of fossil fuel vehicles must be brought forward to limit climate change.',\n",
              " 'Production of gasoline fueled cars peaked in 2017.',\n",
              " '[40][41]\\n\\nOther hydrocarbon fossil fuels also burnt by deflagration (rather than detonation) in ICE cars include diesel, Autogas and CNG.',\n",
              " 'Removal of fossil fuel subsidies,[42][43] concerns about oil dependence, tightening environmental laws and restrictions on greenhouse gas emissions are propelling work on alternative power systems for cars.',\n",
              " 'This includes hybrid vehicles, plug-in electric vehicles and hydrogen vehicles.',\n",
              " '2.1 million light electric vehicles (of all types but mainly cars) were sold in 2018, over half in China: this was an increase of 64% on the previous year, giving a global total on the road of 5.4 million.',\n",
              " '[44] Vehicles using alternative fuels such as ethanol flexible-fuel vehicles and natural gas vehicles[clarification needed] are also gaining popularity in some countries.',\n",
              " '[citation needed] Cars for racing or speed records have sometimes employed jet or rocket engines, but these are impractical for common use.',\n",
              " 'Oil consumption has increased rapidly in the 20th and 21st centuries because there are more cars; the 1985–2003 oil glut even fuelled the sales of low-economy vehicles in OECD countries.',\n",
              " 'The BRIC countries are adding to this consumption.',\n",
              " 'User interface\\n\\nIn the Ford Model T the left-side hand lever sets the rear wheel parking brakes and puts the transmission in neutral.',\n",
              " 'The lever to the right controls the throttle.',\n",
              " 'The lever on the left of the steering column is for ignition timing.',\n",
              " 'The left foot pedal changes the two forward gears while the centre pedal controls reverse.',\n",
              " 'The right pedal is the brake.',\n",
              " 'Cars are equipped with controls used for driving, passenger comfort, and safety, normally operated by a combination of the use of feet and hands, and occasionally by voice on 21st-century cars.',\n",
              " \"These controls include a steering wheel, pedals for operating the brakes and controlling the car's speed (and, in a manual transmission car, a clutch pedal), a shift lever or stick for changing gears, and a number of buttons and dials for turning on lights, ventilation, and other functions.\",\n",
              " \"Modern cars' controls are now standardized, such as the location for the accelerator and brake, but this was not always the case.\",\n",
              " 'Controls are evolving in response to new technologies, for example, the electric car and the integration of mobile communications.',\n",
              " 'Some of the original controls are no longer required.',\n",
              " 'For example, all cars once had controls for the choke valve, clutch, ignition timing, and a crank instead of an electric starter.',\n",
              " 'However new controls have also been added to vehicles, making them more complex.',\n",
              " 'These include air conditioning, navigation systems, and in car entertainment.',\n",
              " \"Another trend is the replacement of physical knobs and switches by secondary controls with touchscreen controls such as BMW's iDrive and Ford's MyFord Touch.\",\n",
              " \"Another change is that while early cars' pedals were physically linked to the brake mechanism and throttle, in the 2010s, cars have increasingly replaced these physical linkages with electronic controls.\",\n",
              " 'Lighting\\n\\nCars are typically fitted with multiple types of lights.',\n",
              " 'These include headlights, which are used to illuminate the way ahead and make the car visible to other users, so that the vehicle can be used at night; in some jurisdictions, daytime running lights; red brake lights to indicate when the brakes are applied; amber turn signal lights to indicate the turn intentions of the driver; white-colored reverse lights to illuminate the area behind the car (and indicate that the driver will be or is reversing); and on some vehicles, additional lights (e.g., side marker lights) to increase the visibility of the car.',\n",
              " 'Interior lights on the ceiling of the car are usually fitted for the driver and passengers.',\n",
              " 'Some vehicles also have a trunk light and, more rarely, an engine compartment light.',\n",
              " 'Weight\\n\\nDuring the late 20th and early 21st century cars increased in weight due to batteries,[46] modern steel safety cages, anti-lock brakes, airbags, and \"more-powerful—if more-efficient—engines\"[47] and, as of 2019 , typically weigh between 1 and 3 tonnes.',\n",
              " '[48] Heavier cars are safer for the driver from a crash perspective, but more dangerous for other vehicles and road users.',\n",
              " '[47] The weight of a car influences fuel consumption and performance, with more weight resulting in increased fuel consumption and decreased performance.',\n",
              " 'The SmartFortwo, a small city car, weighs 750–795 kg (1,655–1,755 lb).',\n",
              " 'Heavier cars include full-size cars, SUVs and extended-length SUVs like the Suburban.',\n",
              " 'According to research conducted by Julian Allwood of the University of Cambridge, global energy use could be greatly reduced by using lighter cars, and an average weight of 500 kg (1,100 lb) has been said to be well achievable.',\n",
              " '[49][better source needed] In some competitions such as the Shell Eco Marathon, average car weights of 45 kg (99 lb) have also been achieved.',\n",
              " '[50] These cars are only single-seaters (still falling within the definition of a car, although 4-seater cars are more common), but they nevertheless demonstrate the amount by which car weights could still be reduced, and the subsequent lower fuel use (i.e.',\n",
              " 'up to a fuel use of 2560 km/l).',\n",
              " '[51]\\n\\nSeating and body style\\n\\nMost cars are designed to carry multiple occupants, often with four or five seats.',\n",
              " 'Cars with five seats typically seat two passengers in the front and three in the rear.',\n",
              " 'Full-size cars and large sport utility vehicles can often carry six, seven, or more occupants depending on the arrangement of the seats.',\n",
              " 'On the other hand, sports cars are most often designed with only two seats.',\n",
              " 'The differing needs for passenger capacity and their luggage or cargo space has resulted in the availability of a large variety of body styles to meet individual consumer requirements that include, among others, the sedan/saloon, hatchback, station wagon/estate, and minivan.',\n",
              " 'Safety\\n\\nResult of a serious car collision\\n\\nTraffic collisions are the largest cause of injury-related deaths worldwide.',\n",
              " \"[8] Mary Ward became one of the first documented car fatalities in 1869 in Parsonstown, Ireland,[52] and Henry Bliss one of the United States' first pedestrian car casualties in 1899 in New York City.\",\n",
              " '[53] There are now standard tests for safety in new cars, such as the EuroNCAP and the US NCAP tests,[54] and insurance-industry-backed tests by the Insurance Institute for Highway Safety (IIHS).',\n",
              " '[55]\\n\\nCosts and benefits\\n\\nThe costs of car usage, which may include the cost of: acquiring the vehicle, repairs and auto maintenance, fuel, depreciation, driving time, parking fees, taxes, and insurance,[7] are weighed against the cost of the alternatives, and the value of the benefits – perceived and real – of vehicle usage.',\n",
              " 'The benefits may include on-demand transportation, mobility, independence and convenience.',\n",
              " '[9] During the 1920s, cars had another benefit: \"[c]ouples finally had a way to head off on unchaperoned dates, plus they had a private space to snuggle up close at the end of the night.',\n",
              " '\"[57]\\n\\nSimilarly the costs to society of car use may include; maintaining roads, land use, air pollution, road congestion, public health, health care, and of disposing of the vehicle at the end of its life; and can be balanced against the value of the benefits to society that car use generates.',\n",
              " 'Societal benefits may include: economy benefits, such as job and wealth creation, of car production and maintenance, transportation provision, society wellbeing derived from leisure and travel opportunities, and revenue generation from the tax opportunities.',\n",
              " 'The ability of humans to move flexibly from place to place has far-reaching implications for the nature of societies.',\n",
              " '[10]\\n\\nEnvironmental impact\\n\\nVehicles in use per country from 2001 to 2007.',\n",
              " 'It shows the significant growth in BRIC\\n\\nCars are a major cause of urban air pollution,[58] with all types of cars producing dust from brakes, tyres and road wear.',\n",
              " '[59] As of 2018 the average diesel car has a worse effect on air quality than the average gasoline car[60] But both gasoline and diesel cars pollute more than electric cars.',\n",
              " '[61] While there are different ways to power cars most rely on gasoline or diesel, and they consume almost a quarter of world oil production as of 2019 .',\n",
              " '[40] In 2018 passenger road vehicles emitted 3.6 gigatonnes of carbon dioxide.',\n",
              " '[62] As of 2019 , due to greenhouse gases emitted during battery production, electric cars must be driven tens of thousands of kilometers before their lifecycle carbon emissions are less than fossil fuel cars:[63] but this is expected to improve in future due to longer lasting[64] batteries being produced in larger factories,[65] and lower carbon electricity.',\n",
              " 'Many governments are using fiscal policies, such as road tax, to discourage the purchase and use of more polluting cars;[66] and many cities are doing the same with low-emission zones.',\n",
              " '[67] Fuel taxes may act as an incentive for the production of more efficient, hence less polluting, car designs (e.g.',\n",
              " 'hybrid vehicles) and the development of alternative fuels.',\n",
              " 'High fuel taxes or cultural change may provide a strong incentive for consumers to purchase lighter, smaller, more fuel-efficient cars, or to not drive.',\n",
              " '[67]\\n\\nThe lifetime of a car built in the 2020s is expected to be about 16 years, or about 2 million kilometres (1.2 million miles) if driven a lot.',\n",
              " '[68] According to the International Energy Agency fuel economy improved 0.7% in 2017, but an annual improvement of 3.7% is needed to meet the Global Fuel Economy Initiative 2030 target.',\n",
              " '[69] The increase in sales of SUVs is bad for fuel economy.',\n",
              " '[40] Many cities in Europe, have banned older fossil fuel cars and all fossil fuel vehicles will be banned in Amsterdam from 2030.',\n",
              " '[70] Many Chinese cities limit licensing of fossil fuel cars,[71] and many countries plan to stop selling them between 2025 and 2050.',\n",
              " '[72]\\n\\nThe manufacture of vehicles is resource intensive, and many manufacturers now report on the environmental performance of their factories, including energy usage, waste and water consumption.',\n",
              " '[73] Manufacturing each kWh of battery emits a similar amount of carbon as burning through one full tank of gasoline.',\n",
              " '[74] The growth in popularity of the car allowed cities to sprawl, therefore encouraging more travel by car resulting in inactivity and obesity, which in turn can lead to increased risk of a variety of diseases.',\n",
              " '[75]\\n\\nAnimals and plants are often negatively impacted by cars via habitat destruction and pollution.',\n",
              " 'Over the lifetime of the average car the \"loss of habitat potential\" may be over 50,000 m2 (540,000 sq ft) based on primary production correlations.',\n",
              " '[76] Animals are also killed every year on roads by cars, referred to as roadkill.',\n",
              " 'More recent road developments are including significant environmental mitigation in their designs, such as green bridges (designed to allow wildlife crossings) and creating wildlife corridors.',\n",
              " 'Growth in the popularity of vehicles and commuting has led to traffic congestion.',\n",
              " \"Moscow, Istanbul, Bogota, Mexico City and Sao Paulo were the world's most congested cities in 2018 according to INRIX, a data analytics company.\",\n",
              " '[77]\\n\\nEmerging car technologies\\n\\nAlthough intensive development of conventional battery electric vehicles is continuing into the 2020s,[78] other car propulsion technologies that are under development include wheel hub motors,[79] wireless charging,[80] hydrogen cars,[81] and hydrogen/electric hybrids.',\n",
              " '[82] Research into alternative forms of power includes using ammonia instead of hydrogen in fuel cells.',\n",
              " '[83]\\n\\nNew materials[84] which may replace steel car bodies include duralumin, fiberglass, carbon fiber, biocomposites, and carbon nanotubes.',\n",
              " 'Telematics technology is allowing more and more people to share cars, on a pay-as-you-go basis, through car share and carpool schemes.',\n",
              " 'Communication is also evolving due to connected car systems.',\n",
              " '[85]\\n\\nAutonomous car\\n\\nFully autonomous vehicles, also known as driverless cars, already exist in prototype (such as the Google driverless car), but have a long way to go before they are in general use.',\n",
              " 'Open source development\\n\\nThere have been several projects aiming to develop a car on the principles of open design, an approach to designing in which the plans for the machinery and systems are publicly shared, often without monetary compensation.',\n",
              " 'The projects include OScar, Riversimple (through 40fires.org)[86] and c,mm,n.',\n",
              " '[87] None of the projects have reached significant success in terms of developing a car as a whole both from hardware and software perspective and no mass production ready open-source based design have been introduced as of late 2009.',\n",
              " 'Some car hacking through on-board diagnostics (OBD) has been done so far.',\n",
              " '[88]\\n\\nCar sharing\\n\\nCar-share arrangements and carpooling are also increasingly popular, in the US and Europe.',\n",
              " '[89] For example, in the US, some car-sharing services have experienced double-digit growth in revenue and membership growth between 2006 and 2007.',\n",
              " 'Services like car sharing offering a residents to \"share\" a vehicle rather than own a car in already congested neighborhoods.',\n",
              " \"[90]\\n\\nIndustry\\n\\nA car being assembled in a factory\\n\\nThe automotive industry designs, develops, manufactures, markets, and sells the world's motor vehicles, more than three-quarters of which are cars.\",\n",
              " 'In 2018 there were 70 million cars manufactured worldwide,[91] down 2 million from the previous year.',\n",
              " '[92]\\n\\nThe automotive industry in China produces by far the most (24 million in 2018), followed by Japan (8 million), Germany (5 million) and India (4 million).',\n",
              " '[91] The largest market is China, followed by the USA.',\n",
              " 'Around the world there are about a billion cars on the road;[93] they burn over a trillion liters of gasoline and diesel fuel yearly, consuming about 50 EJ (nearly 300 terawatt-hours) of energy.',\n",
              " '[94] The numbers of cars are increasing rapidly in China and India.',\n",
              " '[11] In the opinion of some, urban transport systems based around the car have proved unsustainable, consuming excessive energy, affecting the health of populations, and delivering a declining level of service despite increasing investment.',\n",
              " 'Many of these negative impacts fall disproportionately on those social groups who are also least likely to own and drive cars.',\n",
              " '[95][96] The sustainable transport movement focuses on solutions to these problems.',\n",
              " 'The car industry is also facing increasing competition from the public transport sector, as some people re-evaluate their private vehicle usage.',\n",
              " \"Alternatives\\n\\n[97] The Vélib' in Paris, France is the largest bikesharing system outside China\\n\\nEstablished alternatives for some aspects of car use include public transport such as buses, trolleybuses, trains, subways, tramways, light rail, cycling, and walking.\",\n",
              " 'Bicycle sharing systems have been established in China and many European cities, including Copenhagen and Amsterdam.',\n",
              " 'Similar programs have been developed in large US cities.',\n",
              " '[98][99] Additional individual modes of transport, such as personal rapid transit could serve as an alternative to cars if they prove to be socially accepted.',\n",
              " '[100]\\n\\nOther meanings\\n\\nThe term motorcar was formerly also used in the context of electrified rail systems to denote a car which functions as a small locomotive but also provides space for passengers and baggage.',\n",
              " 'These locomotive cars were often used on suburban routes by both interurban and intercity railroad systems.',\n",
              " '[101]\\n\\nSee also\\n\\nReferences']"
            ]
          },
          "metadata": {
            "tags": []
          },
          "execution_count": 23
        }
      ]
    },
    {
      "cell_type": "code",
      "metadata": {
        "id": "KWPUAx1ZEvIm"
      },
      "source": [
        "#a function to return a random greeting to the user\n",
        "def greeting_response(text):\n",
        "  text= text.lower()\n",
        "  #bots greeting\n",
        "  bot_greetings= [\"hi\", \"hey\", \"howdy\", \"hello\", \"hola\"]\n",
        "  #users greeting\n",
        "  user_greetings= [\"hi\",\"hey\",\"hello\",\"hola\",\"greetings\",\"wassup\"]\n",
        "\n",
        "  for word in text.split():\n",
        "    if word in user_greetings:\n",
        "      return random.choice(bot_greetings)"
      ],
      "execution_count": 24,
      "outputs": []
    },
    {
      "cell_type": "code",
      "metadata": {
        "id": "qXSWmmU1XKDT"
      },
      "source": [
        "def index_sort(list_var):\n",
        "  length= len(list_var)\n",
        "  list_index= list(range(0,length))\n",
        "\n",
        "  x= list_var\n",
        "  for i in range(length):\n",
        "    for j in range(length):\n",
        "      if x[list_index[i]] > x[list_index[j]]:\n",
        "      #swap\n",
        "        temp= list_index[i]\n",
        "        list_index[i]= list_index[j]\n",
        "        list_index[j]= temp\n",
        "\n",
        "  return list_index\n"
      ],
      "execution_count": 25,
      "outputs": []
    },
    {
      "cell_type": "code",
      "metadata": {
        "id": "ftTLS0nfEvF7"
      },
      "source": [
        "#creating bot response\n",
        "def bot_response(user_input):\n",
        "  user_input= user_input.lower()\n",
        "  sentence_list.append(user_input)\n",
        "  bot_response= \"\"\n",
        "  cm= CountVectorizer().fit_transform(sentence_list)\n",
        "  similarity_scores= cosine_similarity(cm[-1], cm)\n",
        "  similarity_scores_list= similarity_scores.flatten()\n",
        "  index= index_sort(similarity_scores_list)\n",
        "  index= index[1:]\n",
        "  response_flag= 0\n",
        "\n",
        "  j=0\n",
        "  for i in range(len(index)):\n",
        "    if similarity_scores_list[index[i]]> 0.0:\n",
        "      bot_response= bot_response + \" \" + sentence_list[index[i]]\n",
        "      response_flag=1\n",
        "\n",
        "      j= j+1\n",
        "    if j > 2:\n",
        "      break\n",
        "\n",
        "  if response_flag==0:\n",
        "    bot_response= bot_response + \" \" + \"I apologize as I don't understand what you are saying\"\n",
        "\n",
        "  sentence_list.remove(user_input)\n",
        "\n",
        "  return bot_response"
      ],
      "execution_count": 26,
      "outputs": []
    },
    {
      "cell_type": "code",
      "metadata": {
        "colab": {
          "base_uri": "https://localhost:8080/"
        },
        "id": "q5-JHq0VZjSJ",
        "outputId": "515e6b0a-e844-47e9-97c2-feae0cc745bd"
      },
      "source": [
        "#initiate the chat\n",
        "print(\"Alex: Hey how can I help you. I am here to help you resolve your queries.\")\n",
        "\n",
        "exit_list= [\"exit\", \"see you later\", \"bye\", \"quit\",\"break\"]\n",
        "\n",
        "while (True):\n",
        "  user_input= input()\n",
        "  if user_input.lower() in exit_list:\n",
        "    print(\"Alex: Good Bye\")\n",
        "    break\n",
        "  else:\n",
        "    if greeting_response(user_input) != None:\n",
        "      print(\"Alex:\"+ greeting_response(user_input))\n",
        "\n",
        "    else:\n",
        "      print(\"Alex:\"+bot_response(user_input))\n",
        "\n",
        "hi"
      ],
      "execution_count": 31,
      "outputs": [
        {
          "output_type": "stream",
          "text": [
            "Alex: Hey how can I help you. I am here to help you resolve your queries.\n",
            "how are you\n",
            "Alex: The BRIC countries are adding to this consumption. [6]\n",
            "\n",
            "There are costs and benefits to car use. Some of the original controls are no longer required.\n",
            "garage\n",
            "Alex: I apologize as I don't understand what you are saying\n",
            "give me water\n",
            "Alex: [25] His inventions were, however, handicapped by problems with water supply and maintaining steam pressure. [72]\n",
            "\n",
            "The manufacture of vehicles is resource intensive, and many manufacturers now report on the environmental performance of their factories, including energy usage, waste and water consumption.\n",
            "hiu\n",
            "Alex: I apologize as I don't understand what you are saying\n",
            "hi\n",
            "Alex:hello\n",
            "hi\n",
            "Alex:hola\n",
            "hi\n",
            "Alex:hey\n",
            "hola\n",
            "Alex:hey\n",
            "good\n",
            "Alex: I apologize as I don't understand what you are saying\n",
            "bye\n",
            "Alex: Good Bye\n"
          ],
          "name": "stdout"
        }
      ]
    },
    {
      "cell_type": "code",
      "metadata": {
        "id": "PLXaEeiFnHqi"
      },
      "source": [
        "#https://www.youtube.com/watch?v=fN225DZKk-c"
      ],
      "execution_count": null,
      "outputs": []
    }
  ]
}