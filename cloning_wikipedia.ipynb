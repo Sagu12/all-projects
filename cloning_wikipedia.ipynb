{
  "nbformat": 4,
  "nbformat_minor": 0,
  "metadata": {
    "colab": {
      "name": "cloning wikipedia.ipynb",
      "provenance": [],
      "collapsed_sections": [],
      "authorship_tag": "ABX9TyMDAipUNs4vHH3FkCEauGAX",
      "include_colab_link": true
    },
    "kernelspec": {
      "name": "python3",
      "display_name": "Python 3"
    }
  },
  "cells": [
    {
      "cell_type": "markdown",
      "metadata": {
        "id": "view-in-github",
        "colab_type": "text"
      },
      "source": [
        "<a href=\"https://colab.research.google.com/github/Sagu12/all-projects/blob/master/cloning_wikipedia.ipynb\" target=\"_parent\"><img src=\"https://colab.research.google.com/assets/colab-badge.svg\" alt=\"Open In Colab\"/></a>"
      ]
    },
    {
      "cell_type": "code",
      "metadata": {
        "id": "J-_Aiu1a1DxO",
        "colab_type": "code",
        "colab": {
          "base_uri": "https://localhost:8080/",
          "height": 283
        },
        "outputId": "3c871705-9a0a-4497-f89b-6366932e0c40"
      },
      "source": [
        "!pip install wikipedia"
      ],
      "execution_count": 1,
      "outputs": [
        {
          "output_type": "stream",
          "text": [
            "Collecting wikipedia\n",
            "  Downloading https://files.pythonhosted.org/packages/67/35/25e68fbc99e672127cc6fbb14b8ec1ba3dfef035bf1e4c90f78f24a80b7d/wikipedia-1.4.0.tar.gz\n",
            "Requirement already satisfied: beautifulsoup4 in /usr/local/lib/python3.6/dist-packages (from wikipedia) (4.6.3)\n",
            "Requirement already satisfied: requests<3.0.0,>=2.0.0 in /usr/local/lib/python3.6/dist-packages (from wikipedia) (2.23.0)\n",
            "Requirement already satisfied: idna<3,>=2.5 in /usr/local/lib/python3.6/dist-packages (from requests<3.0.0,>=2.0.0->wikipedia) (2.10)\n",
            "Requirement already satisfied: certifi>=2017.4.17 in /usr/local/lib/python3.6/dist-packages (from requests<3.0.0,>=2.0.0->wikipedia) (2020.6.20)\n",
            "Requirement already satisfied: chardet<4,>=3.0.2 in /usr/local/lib/python3.6/dist-packages (from requests<3.0.0,>=2.0.0->wikipedia) (3.0.4)\n",
            "Requirement already satisfied: urllib3!=1.25.0,!=1.25.1,<1.26,>=1.21.1 in /usr/local/lib/python3.6/dist-packages (from requests<3.0.0,>=2.0.0->wikipedia) (1.24.3)\n",
            "Building wheels for collected packages: wikipedia\n",
            "  Building wheel for wikipedia (setup.py) ... \u001b[?25l\u001b[?25hdone\n",
            "  Created wheel for wikipedia: filename=wikipedia-1.4.0-cp36-none-any.whl size=11686 sha256=699738144de4821445694601868ec8882cfe3cff9239bb568156aa6c52054ce0\n",
            "  Stored in directory: /root/.cache/pip/wheels/87/2a/18/4e471fd96d12114d16fe4a446d00c3b38fb9efcb744bd31f4a\n",
            "Successfully built wikipedia\n",
            "Installing collected packages: wikipedia\n",
            "Successfully installed wikipedia-1.4.0\n"
          ],
          "name": "stdout"
        }
      ]
    },
    {
      "cell_type": "code",
      "metadata": {
        "id": "eWfwzan62RKM",
        "colab_type": "code",
        "colab": {}
      },
      "source": [
        "import wikipedia"
      ],
      "execution_count": 3,
      "outputs": []
    },
    {
      "cell_type": "code",
      "metadata": {
        "id": "GJedgBrI1IJ0",
        "colab_type": "code",
        "colab": {
          "base_uri": "https://localhost:8080/",
          "height": 1000
        },
        "outputId": "1ea42541-b54a-4e0f-bbff-88abbeda7e0d"
      },
      "source": [
        "text_input= input(\"Enter your input\")\n",
        "read_input= wikipedia.page(text_input)\n",
        "print(read_input.content)"
      ],
      "execution_count": 4,
      "outputs": [
        {
          "output_type": "stream",
          "text": [
            "Enter your inputKalpana Chawla\n",
            "Kalpana Chawla (March 17, 1962  – February 1, 2003) was an American astronaut, engineer, and the first woman of Indian origin to go to space. She first flew on Space Shuttle Columbia in 1997 as a mission specialist and primary robotic arm operator. In 2003, Chawla was one of the seven crew members who died in the Space Shuttle Columbia disaster when the spacecraft disintegrated during its re-entry into the Earth's atmosphere. Chawla was posthumously awarded the Congressional Space Medal of Honor, and several streets, universities and institutions have been named in her honor. She is regarded as a national hero in India.\n",
            "\n",
            "\n",
            "== Early life ==\n",
            "Chawla was born on March 17, 1962, in Karnal, Haryana. Her family originally hails from Multan District (now in Pakistan), who settled in Karnal following the Partition of India. Kalpana’s official date of birth was altered to July 1, 1961, to allow her to become eligible for the matriculation exam. As a child, Kalpana was fascinated by aeroplanes and flying. She went to local flying clubs and watched planes with her father. Chawla said \"Every once in a while we'd ask my dad if we could get a ride in one of these planes. And, he did take us to the flying club and we had a joyride in the Pushpak and a glider that the flying club had.\"In 1976, Chawla graduated from the Tagore School, where she was a high-performing student. After getting a Bachelor of Engineering degree in Aeronautical Engineering from Punjab Engineering College, India, she moved to the United States in 1982 and obtained a Master of Science degree in Aerospace Engineering from the University of Texas at Arlington in 1984. Chawla went on to earn a second Masters in 1986 and a PhD in aerospace engineering in 1988 from the University of Colorado Boulder.\n",
            "\n",
            "\n",
            "== Career ==\n",
            "In 1988, she began working at NASA Ames Research Center, where she did computational fluid dynamics (CFD) research on vertical and/or short take-off and landing (V/STOL) concepts. Much of Chawla's research is included in technical journals and conference papers. In 1993, she joined Overset Methods, Inc. as Vice President and Research Scientist specializing in simulation of moving multiple body problems. Chawla held a Certificated Flight Instructor rating for airplanes, gliders and Commercial Pilot licenses for single and multi-engine airplanes, seaplanes and gliders. After becoming a naturalized U.S. citizen in April 1991, Chawla applied for the NASA Astronaut Corps. She joined the corps in March 1995 and was selected for her first flight in 1996.\n",
            "\n",
            "\n",
            "=== First space mission ===\n",
            "Her first space mission began on November 19, 1997, as part of the six-astronaut crew that flew the Space Shuttle Columbia flight STS-87. Chawla was the first Indian woman to fly in space. She spoke the following words while traveling in the weightlessness of space, \"You are just your intelligence.\" On her first mission, Chawla traveled over 10.4 million miles (16737177.6 km) in 252 orbits of the earth, logging more than 372 hours (15 days and 12 hours) in space. During STS-87, she was responsible for deploying the Spartan Satellite which malfunctioned, necessitating a spacewalk by Winston Scott and Takao Doi to capture the satellite. A five-month NASA investigation fully exonerated Chawla by identifying errors in software interfaces and the defined procedures of the flight crew and ground control. After the completion of STS-87 post-flight activities, Chawla was assigned to technical positions in the astronaut office to work on the space station.\n",
            "\n",
            "\n",
            "=== Second space mission ===\n",
            "In 2001, Chawla was selected for her second flight as part of the crew of STS-107. This mission was repeatedly delayed due to scheduling conflicts and technical problems such as the July 2002 discovery of cracks in the shuttle engine flow liners. On January 16, 2003, Chawla finally returned to space aboard Space Shuttle Columbia on the ill-fated STS-107 mission. The crew performed nearly 80 experiments studying Earth and space science, advanced technology development, and astronaut health and safety. During the launch of STS-107, Columbia's 28th mission, a piece of foam insulation broke off from the Space Shuttle external tank and struck the left-wing of the orbiter. Previous shuttle launches had seen minor damage from foam shedding, but some engineers suspected that the damage to Columbia was more serious. NASA managers limited the investigation, reasoning that the crew could not have fixed the problem if it had been confirmed. When Columbia re-entered the atmosphere of Earth, the damage allowed hot atmospheric gases to penetrate and destroy the internal wing structure, which caused the spacecraft to become unstable and break apart. After the disaster, Space Shuttle flight operations were suspended for more than two years, similar to the aftermath of the Challenger disaster. Construction of the International Space Station (ISS) was put on hold; the station relied entirely on the Russian Roscosmos State Corporation for resupply for 29 months until Shuttle flights resumed with STS-114 and 41 months for crew rotation.\n",
            "\n",
            "\n",
            "== Death ==\n",
            "\n",
            "Chawla died on February 1, 2003, in the Space Shuttle Columbia disaster, along with the other six crew members, when the Columbia disintegrated over Texas during re-entry into the Earth's atmosphere, shortly before it was scheduled to conclude its 28th mission, STS-107. \n",
            "Chawla's remains were identified along with those of the rest of the crew members and were cremated and scattered at Zion National Park in Utah in accordance with her wishes.\n",
            "\n",
            "\n",
            "== Honors and recognition ==\n",
            "Asteroid 51826 Kalpana chawla, one of seven named after the Columbia's crew.\n",
            "On February 5, 2003, the Prime Minister of India, Atal Bihari Vajpayee announced that the meteorological series of satellites, MetSat, was to be renamed \"Kalpana\". The first satellite of the series, \"MetSat-1\", launched by India on September 12, 2002 was renamed \"Kalpana-1\".\n",
            "74th Street in the \"Little India\" of Jackson Heights, Queens, New York City, New York, United States has been renamed \"Kalpana Chawla Way\" in her honor.\n",
            "The Kalpana Chawla Award was instituted by the Government of Karnataka in 2004 to recognize young women scientists.\n",
            "NASA has dedicated a supercomputer to Chawla.\n",
            "One of Florida Institute of Technology's student apartment complexes, Columbia Village Suites, has halls named after each of the astronauts, including Chawla.\n",
            "The NASA Mars Exploration Rover mission has named seven peaks in a chain of hills, named the Columbia Hills, after each of the seven astronauts lost in the Columbia shuttle disaster. One of them is Chawla Hill, named after Chawla.\n",
            "Steve Morse from the band Deep Purple created the song \"Contact Lost\" in memory of the Columbia tragedy along with her interest in the band. The song can be found on the album Bananas.\n",
            "Novelist Peter David named a shuttlecraft, the Chawla, after the astronaut in his 2007 Star Trek novel, Star Trek: The Next Generation: Before Dishonor.\n",
            "The Kalpana Chawla ISU Scholarship fund was founded by alumni of the International Space University (ISU) in 2010 to support Indian women's participation in international space education programs.\n",
            "The Kalpana Chawla Memorial Scholarship program was instituted by the Indian Students Association (ISA) at the University of Texas at El Paso (UTEP) in 2005 for meritorious graduate students.\n",
            "The Kalpana Chawla Outstanding Recent Alumni Award at the University of Colorado, given since 1983, was renamed after Chawla.\n",
            "The University of Texas at Arlington, where Chawla obtained a Master of Science degree in aerospace engineering in 1984, opened a dormitory named Kalpana Chawla Hall in 2004. In addition, the university dedicated the Kalpana Chawla Memorial on May 3, 2010, in Nedderman Hall, one of the primary buildings in the College of Engineering.\n",
            "The girls' hostel at Punjab Engineering College is named after Chawla. In addition, an award of INR twenty-five thousand, a medal, and a certificate is instituted for the best student in the Aeronautical Engineering department.\n",
            "The Government of Haryana established the Kalpana Chawla Planetarium in Jyotisar, Kurukshetra.\n",
            "The Indian Institute of Technology, Kharagpur, named the Kalpana Chawla Space Technology Cell in her honor.\n",
            "Delhi Technological University named a girls' hostel block after Chawla.\n",
            "A military housing development at Naval Air Station Patuxent River, Maryland, has been named Columbia Colony and includes a street named Chawla Way.\n",
            "Hostel block in Pondicherry University have been named after Chawla.\n",
            "Kalpana Chawla Government Medical College (KCGMC) is a Medical College located in Karnal, Haryana, India named after Chawla.\n",
            "The Kalpana One Space Settlement is named in her honor.\n",
            "\n",
            "\n",
            "== See also ==\n",
            "\n",
            "List of Asian Americans § Space\n",
            "List of female spacefarers\n",
            "\n",
            "\n",
            "== References ==\n",
            "\n",
            "\n",
            "== Further reading ==\n",
            "Among the Stars!: Life and Dreams of Kalpana Chawla by Gurdeep Pandher\n",
            "India's 50 Most Illustrious Women (ISBN 81-88086-19-3) by Indra Gupta\n",
            "Kalpana Chawla: A Life (ISBN 0-14-333586-3) by Anil Padmanabhan\n",
            "The Edge of Time: The Authoritative Biography of Kalpana Chawla (ISBN 978-0976827917) by Jean-Pierre Harrison\n",
            "\n",
            "\n",
            "== External links ==\n",
            "\"KALPANA CHAWLA (PH.D.)\". NASA. February 2003. Retrieved 7 May 2019.\n",
            "NASA biography\n"
          ],
          "name": "stdout"
        }
      ]
    },
    {
      "cell_type": "code",
      "metadata": {
        "id": "zmi_MtNp1IPM",
        "colab_type": "code",
        "colab": {}
      },
      "source": [
        ""
      ],
      "execution_count": null,
      "outputs": []
    },
    {
      "cell_type": "code",
      "metadata": {
        "id": "yZk0tX_h1IWp",
        "colab_type": "code",
        "colab": {}
      },
      "source": [
        ""
      ],
      "execution_count": null,
      "outputs": []
    },
    {
      "cell_type": "code",
      "metadata": {
        "id": "KI2r_4kC1IT0",
        "colab_type": "code",
        "colab": {}
      },
      "source": [
        ""
      ],
      "execution_count": null,
      "outputs": []
    },
    {
      "cell_type": "code",
      "metadata": {
        "id": "Th1Qf8u-1IM3",
        "colab_type": "code",
        "colab": {}
      },
      "source": [
        ""
      ],
      "execution_count": null,
      "outputs": []
    }
  ]
}