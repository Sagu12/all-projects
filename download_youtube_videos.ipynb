{
  "nbformat": 4,
  "nbformat_minor": 0,
  "metadata": {
    "colab": {
      "name": "download youtube videos.ipynb",
      "provenance": [],
      "collapsed_sections": [],
      "authorship_tag": "ABX9TyNtpieef990elu1mL7+fxfH",
      "include_colab_link": true
    },
    "kernelspec": {
      "name": "python3",
      "display_name": "Python 3"
    }
  },
  "cells": [
    {
      "cell_type": "markdown",
      "metadata": {
        "id": "view-in-github",
        "colab_type": "text"
      },
      "source": [
        "<a href=\"https://colab.research.google.com/github/Sagu12/all-projects/blob/master/download_youtube_videos.ipynb\" target=\"_parent\"><img src=\"https://colab.research.google.com/assets/colab-badge.svg\" alt=\"Open In Colab\"/></a>"
      ]
    },
    {
      "cell_type": "code",
      "metadata": {
        "id": "9J-b54P4eVkX",
        "colab_type": "code",
        "colab": {
          "base_uri": "https://localhost:8080/",
          "height": 125
        },
        "outputId": "5f6c2288-7e61-408a-ee94-8d0a1a5eb031"
      },
      "source": [
        "!pip install youtube_dl"
      ],
      "execution_count": 1,
      "outputs": [
        {
          "output_type": "stream",
          "text": [
            "Collecting youtube_dl\n",
            "\u001b[?25l  Downloading https://files.pythonhosted.org/packages/11/0e/ece03f76aeb5d705e2698f08deed3a5bb3ccaa9c65b1a89c4f4e11b69ffe/youtube_dl-2020.9.14-py2.py3-none-any.whl (1.8MB)\n",
            "\u001b[K     |████████████████████████████████| 1.8MB 2.9MB/s \n",
            "\u001b[?25hInstalling collected packages: youtube-dl\n",
            "Successfully installed youtube-dl-2020.9.14\n"
          ],
          "name": "stdout"
        }
      ]
    },
    {
      "cell_type": "code",
      "metadata": {
        "id": "-5NXbHQMe5qv",
        "colab_type": "code",
        "colab": {
          "base_uri": "https://localhost:8080/",
          "height": 34
        },
        "outputId": "d1995413-f909-4192-d23d-358b9c6bb4a0"
      },
      "source": [
        "!pip install future"
      ],
      "execution_count": 3,
      "outputs": [
        {
          "output_type": "stream",
          "text": [
            "Requirement already satisfied: future in /usr/local/lib/python3.6/dist-packages (0.16.0)\n"
          ],
          "name": "stdout"
        }
      ]
    },
    {
      "cell_type": "code",
      "metadata": {
        "id": "1RLIeQlEfNiE",
        "colab_type": "code",
        "colab": {}
      },
      "source": [
        "import future"
      ],
      "execution_count": 5,
      "outputs": []
    },
    {
      "cell_type": "code",
      "metadata": {
        "id": "iOazZIGMf5WY",
        "colab_type": "code",
        "colab": {}
      },
      "source": [
        "from __future__ import unicode_literals\n",
        "\n",
        "import youtube_dl"
      ],
      "execution_count": 10,
      "outputs": []
    },
    {
      "cell_type": "code",
      "metadata": {
        "id": "yUWlQrVeepOF",
        "colab_type": "code",
        "colab": {
          "base_uri": "https://localhost:8080/",
          "height": 230
        },
        "outputId": "78a7e4d5-7e01-4949-f264-96dc28196ae1"
      },
      "source": [
        "ydl_opts= {}\n",
        "with youtube_dl.YoutubeDL(ydl_opts) as yld:\n",
        "  yld.download([\"https://www.youtube.com/watch?v=_pp4Anpx6eo\"])"
      ],
      "execution_count": 12,
      "outputs": [
        {
          "output_type": "stream",
          "text": [
            "[youtube] _pp4Anpx6eo: Downloading webpage\n",
            "[youtube] _pp4Anpx6eo: Downloading MPD manifest\n",
            "[dashsegments] Total fragments: 60\n",
            "[download] Destination: Download Youtube videos using Python PyTube-_pp4Anpx6eo.f248.webm\n",
            "[download]  90.0% of ~12.41MiB at  2.60MiB/s ETA 00:03[download] Skipping fragment 55...\n",
            "[download] 100% of 11.96MiB in 00:36\n",
            "[dashsegments] Total fragments: 33\n",
            "[download] Destination: Download Youtube videos using Python PyTube-_pp4Anpx6eo.f251.webm\n",
            "[download] 100% of 4.59MiB in 00:03\n",
            "[ffmpeg] Merging formats into \"Download Youtube videos using Python PyTube-_pp4Anpx6eo.webm\"\n",
            "Deleting original file Download Youtube videos using Python PyTube-_pp4Anpx6eo.f248.webm (pass -k to keep)\n",
            "Deleting original file Download Youtube videos using Python PyTube-_pp4Anpx6eo.f251.webm (pass -k to keep)\n"
          ],
          "name": "stdout"
        }
      ]
    }
  ]
}