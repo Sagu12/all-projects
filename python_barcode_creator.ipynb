{
  "nbformat": 4,
  "nbformat_minor": 0,
  "metadata": {
    "colab": {
      "name": "python barcode creator.ipynb",
      "provenance": [],
      "collapsed_sections": [],
      "authorship_tag": "ABX9TyMnAgicy0y5OyrCfxU1R3YT",
      "include_colab_link": true
    },
    "kernelspec": {
      "name": "python3",
      "display_name": "Python 3"
    }
  },
  "cells": [
    {
      "cell_type": "markdown",
      "metadata": {
        "id": "view-in-github",
        "colab_type": "text"
      },
      "source": [
        "<a href=\"https://colab.research.google.com/github/Sagu12/all-projects/blob/master/python_barcode_creator.ipynb\" target=\"_parent\"><img src=\"https://colab.research.google.com/assets/colab-badge.svg\" alt=\"Open In Colab\"/></a>"
      ]
    },
    {
      "cell_type": "code",
      "metadata": {
        "id": "KRyCPt_rh5bI",
        "colab_type": "code",
        "colab": {
          "base_uri": "https://localhost:8080/",
          "height": 125
        },
        "outputId": "f5e43f48-80ba-4f18-c74a-eeeb082a27bd"
      },
      "source": [
        "pip install python-barcode"
      ],
      "execution_count": 1,
      "outputs": [
        {
          "output_type": "stream",
          "text": [
            "Collecting python-barcode\n",
            "\u001b[?25l  Downloading https://files.pythonhosted.org/packages/4e/aa/90966e1caf4d630b2bb420084c9eaa14a7d2ddc8e8a4311cd55ac90753a8/python_barcode-0.13.1-py3-none-any.whl (217kB)\n",
            "\u001b[K     |████████████████████████████████| 225kB 2.8MB/s \n",
            "\u001b[?25hInstalling collected packages: python-barcode\n",
            "Successfully installed python-barcode-0.13.1\n"
          ],
          "name": "stdout"
        }
      ]
    },
    {
      "cell_type": "code",
      "metadata": {
        "id": "nzoUCR_JiOd-",
        "colab_type": "code",
        "colab": {}
      },
      "source": [
        "import barcode\n",
        "\n",
        "from barcode.writer import ImageWriter"
      ],
      "execution_count": 2,
      "outputs": []
    },
    {
      "cell_type": "code",
      "metadata": {
        "id": "J8me27VNiOmQ",
        "colab_type": "code",
        "colab": {}
      },
      "source": [
        "data= \"Sagnik\"\n",
        "\n",
        "data1= str(data)\n",
        "a= barcode.get_barcode_class(\"code128\")\n",
        "b= a(data,writer=ImageWriter())\n",
        "\n",
        "c= b.save(\"barcode\")"
      ],
      "execution_count": 4,
      "outputs": []
    },
    {
      "cell_type": "code",
      "metadata": {
        "id": "p74MrSiVkXn1",
        "colab_type": "code",
        "colab": {}
      },
      "source": [
        "data2= \"1234568\"\n",
        "\n",
        "data3= str(data2)\n",
        "a= barcode.get_barcode_class(\"ean8\")\n",
        "b= a(data2,writer=ImageWriter())\n",
        "\n",
        "c= b.save(\"new\")"
      ],
      "execution_count": 11,
      "outputs": []
    }
  ]
}