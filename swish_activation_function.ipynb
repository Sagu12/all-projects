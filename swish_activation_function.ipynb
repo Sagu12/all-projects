{
  "nbformat": 4,
  "nbformat_minor": 0,
  "metadata": {
    "colab": {
      "name": "swish activation function.ipynb",
      "provenance": [],
      "collapsed_sections": [],
      "authorship_tag": "ABX9TyNZVeZKXUa9u5WLt7PeqAP7",
      "include_colab_link": true
    },
    "kernelspec": {
      "name": "python3",
      "display_name": "Python 3"
    }
  },
  "cells": [
    {
      "cell_type": "markdown",
      "metadata": {
        "id": "view-in-github",
        "colab_type": "text"
      },
      "source": [
        "<a href=\"https://colab.research.google.com/github/Sagu12/all-projects/blob/master/swish_activation_function.ipynb\" target=\"_parent\"><img src=\"https://colab.research.google.com/assets/colab-badge.svg\" alt=\"Open In Colab\"/></a>"
      ]
    },
    {
      "cell_type": "code",
      "metadata": {
        "id": "OgtekCWHGUf4",
        "colab_type": "code",
        "colab": {}
      },
      "source": [
        "from keras.backend import sigmoid \n",
        "from keras.utils.generic_utils import get_custom_objects \n",
        "from keras.layers import Activation\n",
        "\n",
        "from keras.layers import Dense\n",
        "\n",
        "from keras.models import Sequential"
      ],
      "execution_count": 20,
      "outputs": []
    },
    {
      "cell_type": "code",
      "metadata": {
        "id": "W7PtRZoiG-fv",
        "colab_type": "code",
        "colab": {}
      },
      "source": [
        "model=Sequential()"
      ],
      "execution_count": 21,
      "outputs": []
    },
    {
      "cell_type": "code",
      "metadata": {
        "id": "mTMD2k0iGH5j",
        "colab_type": "code",
        "colab": {}
      },
      "source": [
        "def swish(x, beta = 1): \n",
        "    get_custom_objects().update({'swish': Activation(swish)})\n",
        "    return (x * sigmoid(beta * x))"
      ],
      "execution_count": 5,
      "outputs": []
    },
    {
      "cell_type": "code",
      "metadata": {
        "id": "64_s4w3iGH83",
        "colab_type": "code",
        "colab": {}
      },
      "source": [
        "model.add(Dense(64, activation = \"swish\"))"
      ],
      "execution_count": 24,
      "outputs": []
    },
    {
      "cell_type": "markdown",
      "metadata": {
        "id": "DWlpREzMGXZO",
        "colab_type": "text"
      },
      "source": [
        "## https://www.youtube.com/watch?v=1SnPKhCdlsU"
      ]
    }
  ]
}