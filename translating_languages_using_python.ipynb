{
  "nbformat": 4,
  "nbformat_minor": 0,
  "metadata": {
    "colab": {
      "name": "translating languages using python.ipynb",
      "provenance": [],
      "authorship_tag": "ABX9TyP55GA9vMum/aAyFVOqSFbX",
      "include_colab_link": true
    },
    "kernelspec": {
      "name": "python3",
      "display_name": "Python 3"
    }
  },
  "cells": [
    {
      "cell_type": "markdown",
      "metadata": {
        "id": "view-in-github",
        "colab_type": "text"
      },
      "source": [
        "<a href=\"https://colab.research.google.com/github/Sagu12/all-projects/blob/master/translating_languages_using_python.ipynb\" target=\"_parent\"><img src=\"https://colab.research.google.com/assets/colab-badge.svg\" alt=\"Open In Colab\"/></a>"
      ]
    },
    {
      "cell_type": "code",
      "metadata": {
        "id": "S2eD_Wcu_1aY",
        "colab_type": "code",
        "colab": {}
      },
      "source": [
        "#!pip install googletrans"
      ],
      "execution_count": 10,
      "outputs": []
    },
    {
      "cell_type": "code",
      "metadata": {
        "id": "eIytKulaIFoO",
        "colab_type": "code",
        "colab": {}
      },
      "source": [
        "from googletrans import Translator"
      ],
      "execution_count": 11,
      "outputs": []
    },
    {
      "cell_type": "code",
      "metadata": {
        "id": "Tfa5SenZLsim",
        "colab_type": "code",
        "colab": {
          "base_uri": "https://localhost:8080/",
          "height": 34
        },
        "outputId": "03d31b73-8857-4b2e-c987-54c1229b29ee"
      },
      "source": [
        "sentence= str(input(\"say.....\"))"
      ],
      "execution_count": 12,
      "outputs": [
        {
          "output_type": "stream",
          "text": [
            "say.....hello\n"
          ],
          "name": "stdout"
        }
      ]
    },
    {
      "cell_type": "code",
      "metadata": {
        "id": "LyxbH9ILLzqW",
        "colab_type": "code",
        "colab": {}
      },
      "source": [
        "translator= Translator()"
      ],
      "execution_count": 13,
      "outputs": []
    },
    {
      "cell_type": "code",
      "metadata": {
        "id": "BNn_QYWtMDy2",
        "colab_type": "code",
        "colab": {
          "base_uri": "https://localhost:8080/",
          "height": 34
        },
        "outputId": "780cedab-add7-49d3-ea59-3d399757a3ec"
      },
      "source": [
        "translated= translator.translate(sentence, dest=\"ta\", src=\"en\")\n",
        "\n",
        "translated.text"
      ],
      "execution_count": 14,
      "outputs": [
        {
          "output_type": "execute_result",
          "data": {
            "text/plain": [
              "'வணக்கம்'"
            ]
          },
          "metadata": {
            "tags": []
          },
          "execution_count": 14
        }
      ]
    },
    {
      "cell_type": "code",
      "metadata": {
        "id": "Q9NFPO21O4Su",
        "colab_type": "code",
        "colab": {}
      },
      "source": [
        "sentences= [\"hello\", \"good bye\", \"come\", \"go\"]"
      ],
      "execution_count": 51,
      "outputs": []
    },
    {
      "cell_type": "code",
      "metadata": {
        "id": "temBXcyPSZMY",
        "colab_type": "code",
        "colab": {
          "base_uri": "https://localhost:8080/",
          "height": 34
        },
        "outputId": "e7945d2c-6471-4b7e-8377-11773b45b102"
      },
      "source": [
        "len(sentences)"
      ],
      "execution_count": 47,
      "outputs": [
        {
          "output_type": "execute_result",
          "data": {
            "text/plain": [
              "2"
            ]
          },
          "metadata": {
            "tags": []
          },
          "execution_count": 47
        }
      ]
    },
    {
      "cell_type": "code",
      "metadata": {
        "id": "RdcSs5LSPLe9",
        "colab_type": "code",
        "colab": {
          "base_uri": "https://localhost:8080/",
          "height": 85
        },
        "outputId": "0adfdbea-457d-41ba-ca6a-1210cf715607"
      },
      "source": [
        "for i in sentences:\n",
        "\n",
        "\n",
        "  trans= translator.translate(i, dest=\"ta\", src=\"en\")\n",
        "\n",
        "  print(trans.text)"
      ],
      "execution_count": 52,
      "outputs": [
        {
          "output_type": "stream",
          "text": [
            "வணக்கம்\n",
            "பிரியாவிடை\n",
            "வாருங்கள்\n",
            "போ\n"
          ],
          "name": "stdout"
        }
      ]
    },
    {
      "cell_type": "code",
      "metadata": {
        "id": "z2brpoGPPjes",
        "colab_type": "code",
        "colab": {}
      },
      "source": [
        ""
      ],
      "execution_count": null,
      "outputs": []
    },
    {
      "cell_type": "code",
      "metadata": {
        "id": "58LVCMtQPhgc",
        "colab_type": "code",
        "colab": {}
      },
      "source": [
        "\n",
        "sent= [[\"hello\",\"how\"],[\"why\",\"are\"]]"
      ],
      "execution_count": 100,
      "outputs": []
    },
    {
      "cell_type": "code",
      "metadata": {
        "id": "v9IWq0wsWzRe",
        "colab_type": "code",
        "colab": {
          "base_uri": "https://localhost:8080/",
          "height": 102
        },
        "outputId": "97b3da1f-7df0-4cd4-c75b-5f08c42da67a"
      },
      "source": [
        "corpus=[]\n",
        "for i in sent:\n",
        "  transl= translator.translate(i, dest=\"ta\")\n",
        "\n",
        "  for t in transl:\n",
        "    #print(t.text)\n",
        "\n",
        "    corpus.append(t.text)\n",
        "\n",
        "print(corpus)"
      ],
      "execution_count": 114,
      "outputs": [
        {
          "output_type": "stream",
          "text": [
            "வணக்கம்\n",
            "எப்படி\n",
            "ஏன்\n",
            "உள்ளன\n",
            "['வணக்கம்', 'எப்படி', 'ஏன்', 'உள்ளன']\n"
          ],
          "name": "stdout"
        }
      ]
    },
    {
      "cell_type": "code",
      "metadata": {
        "id": "p3oSeVk9Tp4K",
        "colab_type": "code",
        "colab": {}
      },
      "source": [
        "def hi():\n",
        "  for i in sent:\n",
        "    return i[:][0]\n",
        "  "
      ],
      "execution_count": 96,
      "outputs": []
    },
    {
      "cell_type": "code",
      "metadata": {
        "id": "Xxe4d5gRVTRD",
        "colab_type": "code",
        "colab": {
          "base_uri": "https://localhost:8080/",
          "height": 34
        },
        "outputId": "a29c89ef-4593-4a20-b142-eabddded810e"
      },
      "source": [
        "hi()"
      ],
      "execution_count": 97,
      "outputs": [
        {
          "output_type": "execute_result",
          "data": {
            "text/plain": [
              "'hello'"
            ]
          },
          "metadata": {
            "tags": []
          },
          "execution_count": 97
        }
      ]
    },
    {
      "cell_type": "code",
      "metadata": {
        "id": "xeLmu0uhVxa3",
        "colab_type": "code",
        "colab": {}
      },
      "source": [
        "s= hi()"
      ],
      "execution_count": 98,
      "outputs": []
    },
    {
      "cell_type": "code",
      "metadata": {
        "id": "WERlT_JuV59G",
        "colab_type": "code",
        "colab": {
          "base_uri": "https://localhost:8080/",
          "height": 34
        },
        "outputId": "0180fee9-6906-4306-fe62-8f1a5ec56d1a"
      },
      "source": [
        "s"
      ],
      "execution_count": 99,
      "outputs": [
        {
          "output_type": "execute_result",
          "data": {
            "text/plain": [
              "'hello'"
            ]
          },
          "metadata": {
            "tags": []
          },
          "execution_count": 99
        }
      ]
    }
  ]
}