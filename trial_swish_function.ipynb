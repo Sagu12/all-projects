{
  "nbformat": 4,
  "nbformat_minor": 0,
  "metadata": {
    "colab": {
      "name": "trial_swish_function.ipynb",
      "provenance": [],
      "collapsed_sections": [],
      "authorship_tag": "ABX9TyOY7jTYZOxjSuKdLHmAMdJe",
      "include_colab_link": true
    },
    "kernelspec": {
      "name": "python3",
      "display_name": "Python 3"
    }
  },
  "cells": [
    {
      "cell_type": "markdown",
      "metadata": {
        "id": "view-in-github",
        "colab_type": "text"
      },
      "source": [
        "<a href=\"https://colab.research.google.com/github/Sagu12/all-projects/blob/master/trial_swish_function.ipynb\" target=\"_parent\"><img src=\"https://colab.research.google.com/assets/colab-badge.svg\" alt=\"Open In Colab\"/></a>"
      ]
    },
    {
      "cell_type": "code",
      "metadata": {
        "id": "JfpuWtTESOlH",
        "colab_type": "code",
        "colab": {}
      },
      "source": [
        "import numpy as np"
      ],
      "execution_count": 52,
      "outputs": []
    },
    {
      "cell_type": "code",
      "metadata": {
        "id": "xZiw9cGSSRw_",
        "colab_type": "code",
        "colab": {}
      },
      "source": [
        "np.random.seed(42)"
      ],
      "execution_count": 53,
      "outputs": []
    },
    {
      "cell_type": "code",
      "metadata": {
        "id": "gKXaKheaSkhp",
        "colab_type": "code",
        "colab": {}
      },
      "source": [
        "x= np.linspace(0,10,20)"
      ],
      "execution_count": 54,
      "outputs": []
    },
    {
      "cell_type": "code",
      "metadata": {
        "id": "70yyZ8AWS034",
        "colab_type": "code",
        "colab": {
          "base_uri": "https://localhost:8080/",
          "height": 34
        },
        "outputId": "af7ca820-d36e-497e-ad37-9b8ffd693838"
      },
      "source": [
        "type(x)"
      ],
      "execution_count": 55,
      "outputs": [
        {
          "output_type": "execute_result",
          "data": {
            "text/plain": [
              "numpy.ndarray"
            ]
          },
          "metadata": {
            "tags": []
          },
          "execution_count": 55
        }
      ]
    },
    {
      "cell_type": "code",
      "metadata": {
        "id": "Q-BQiVYuS6wy",
        "colab_type": "code",
        "colab": {}
      },
      "source": [
        "x=x.reshape(-1,1)"
      ],
      "execution_count": 56,
      "outputs": []
    },
    {
      "cell_type": "code",
      "metadata": {
        "id": "jfDlpbJXTEDy",
        "colab_type": "code",
        "colab": {
          "base_uri": "https://localhost:8080/",
          "height": 34
        },
        "outputId": "689a6cd5-bbf6-45ea-a7df-1aaf3acd0482"
      },
      "source": [
        "x.shape"
      ],
      "execution_count": 57,
      "outputs": [
        {
          "output_type": "execute_result",
          "data": {
            "text/plain": [
              "(20, 1)"
            ]
          },
          "metadata": {
            "tags": []
          },
          "execution_count": 57
        }
      ]
    },
    {
      "cell_type": "code",
      "metadata": {
        "id": "zqXq9b6wSqir",
        "colab_type": "code",
        "colab": {}
      },
      "source": [
        "y= np.linspace(0,5,20)"
      ],
      "execution_count": 58,
      "outputs": []
    },
    {
      "cell_type": "code",
      "metadata": {
        "id": "msT9JshuTK5a",
        "colab_type": "code",
        "colab": {
          "base_uri": "https://localhost:8080/",
          "height": 34
        },
        "outputId": "eb6d5ed1-84ae-40d7-b183-2fc5fb8a1ce9"
      },
      "source": [
        "y.shape"
      ],
      "execution_count": 59,
      "outputs": [
        {
          "output_type": "execute_result",
          "data": {
            "text/plain": [
              "(20,)"
            ]
          },
          "metadata": {
            "tags": []
          },
          "execution_count": 59
        }
      ]
    },
    {
      "cell_type": "code",
      "metadata": {
        "id": "XqbLIkGXV5vS",
        "colab_type": "code",
        "colab": {}
      },
      "source": [
        "from sklearn.model_selection import train_test_split"
      ],
      "execution_count": 60,
      "outputs": []
    },
    {
      "cell_type": "code",
      "metadata": {
        "id": "-FIhcVqsV_zj",
        "colab_type": "code",
        "colab": {}
      },
      "source": [
        "x_train,x_test,y_train,y_test= train_test_split(x,y,test_size=0.2)"
      ],
      "execution_count": 61,
      "outputs": []
    },
    {
      "cell_type": "code",
      "metadata": {
        "id": "WuXn121MWMRY",
        "colab_type": "code",
        "colab": {
          "base_uri": "https://localhost:8080/",
          "height": 34
        },
        "outputId": "6666526b-9567-4c6e-93cf-e7669eac55cb"
      },
      "source": [
        "x_train.shape"
      ],
      "execution_count": 62,
      "outputs": [
        {
          "output_type": "execute_result",
          "data": {
            "text/plain": [
              "(16, 1)"
            ]
          },
          "metadata": {
            "tags": []
          },
          "execution_count": 62
        }
      ]
    },
    {
      "cell_type": "code",
      "metadata": {
        "id": "9DAZq0YtTQTb",
        "colab_type": "code",
        "colab": {
          "base_uri": "https://localhost:8080/",
          "height": 34
        },
        "outputId": "023cbe67-7f46-4b45-c52d-5530ead1ec51"
      },
      "source": [
        "!pip install swish-activation"
      ],
      "execution_count": 63,
      "outputs": [
        {
          "output_type": "stream",
          "text": [
            "Requirement already satisfied: swish-activation in /usr/local/lib/python3.6/dist-packages (0.0.1)\n"
          ],
          "name": "stdout"
        }
      ]
    },
    {
      "cell_type": "code",
      "metadata": {
        "id": "mowVI0boTcf2",
        "colab_type": "code",
        "colab": {}
      },
      "source": [
        "from keras.backend import sigmoid \n",
        "from keras.utils.generic_utils import get_custom_objects \n",
        "from keras.layers import Activation\n",
        "\n",
        "from keras.layers import Dense\n",
        "\n",
        "from keras.models import Sequential\n",
        "\n",
        "import tensorflow as tf\n"
      ],
      "execution_count": 64,
      "outputs": []
    },
    {
      "cell_type": "code",
      "metadata": {
        "id": "JjdF3Yj6TeA5",
        "colab_type": "code",
        "colab": {}
      },
      "source": [
        "import swish_package\n",
        "\n",
        "from swish_package import swish"
      ],
      "execution_count": 65,
      "outputs": []
    },
    {
      "cell_type": "code",
      "metadata": {
        "id": "-yThgbhiVexa",
        "colab_type": "code",
        "colab": {}
      },
      "source": [
        ""
      ],
      "execution_count": 65,
      "outputs": []
    },
    {
      "cell_type": "code",
      "metadata": {
        "id": "-NvONye5ThsP",
        "colab_type": "code",
        "colab": {}
      },
      "source": [
        "input_size= 20\n",
        "output_size= 20\n",
        "hidden_layer_size= 50\n",
        "\n",
        "model= tf.keras.Sequential([tf.keras.layers.Dense(hidden_layer_size, activation=\"relu\", input_shape=x.shape),\n",
        "tf.keras.layers.Dense(hidden_layer_size, activation=swish),\n",
        "\n",
        "tf.keras.layers.Dense(output_size, activation=\"softmax\")\n",
        "\n",
        "])\n"
      ],
      "execution_count": 66,
      "outputs": []
    },
    {
      "cell_type": "code",
      "metadata": {
        "id": "qbxBrzT6USkS",
        "colab_type": "code",
        "colab": {}
      },
      "source": [
        "model.compile(optimizer='adam', loss=\"sparse_categorical_crossentropy\", metrics=[\"accuracy\"])\n"
      ],
      "execution_count": 67,
      "outputs": []
    },
    {
      "cell_type": "code",
      "metadata": {
        "id": "O9oTfUcXW47J",
        "colab_type": "code",
        "colab": {
          "base_uri": "https://localhost:8080/",
          "height": 255
        },
        "outputId": "923f21f0-8ccb-46b9-831b-91e369b9cc7c"
      },
      "source": [
        "model.summary()"
      ],
      "execution_count": 68,
      "outputs": [
        {
          "output_type": "stream",
          "text": [
            "Model: \"sequential_2\"\n",
            "_________________________________________________________________\n",
            "Layer (type)                 Output Shape              Param #   \n",
            "=================================================================\n",
            "dense_7 (Dense)              (None, 20, 50)            100       \n",
            "_________________________________________________________________\n",
            "dense_8 (Dense)              (None, 20, 50)            2550      \n",
            "_________________________________________________________________\n",
            "dense_9 (Dense)              (None, 20, 20)            1020      \n",
            "=================================================================\n",
            "Total params: 3,670\n",
            "Trainable params: 3,670\n",
            "Non-trainable params: 0\n",
            "_________________________________________________________________\n"
          ],
          "name": "stdout"
        }
      ]
    },
    {
      "cell_type": "markdown",
      "metadata": {
        "id": "jYAHsaj2YFTA",
        "colab_type": "text"
      },
      "source": [
        "#here we can see swish function is working"
      ]
    }
  ]
}