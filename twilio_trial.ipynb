{
  "nbformat": 4,
  "nbformat_minor": 0,
  "metadata": {
    "colab": {
      "name": "twilio trial.ipynb",
      "provenance": [],
      "collapsed_sections": [],
      "authorship_tag": "ABX9TyPEdUV3ofI5pae69JvD4pBQ",
      "include_colab_link": true
    },
    "kernelspec": {
      "name": "python3",
      "display_name": "Python 3"
    }
  },
  "cells": [
    {
      "cell_type": "markdown",
      "metadata": {
        "id": "view-in-github",
        "colab_type": "text"
      },
      "source": [
        "<a href=\"https://colab.research.google.com/github/Sagu12/all-projects/blob/master/twilio_trial.ipynb\" target=\"_parent\"><img src=\"https://colab.research.google.com/assets/colab-badge.svg\" alt=\"Open In Colab\"/></a>"
      ]
    },
    {
      "cell_type": "code",
      "metadata": {
        "id": "77s542Gw4H9R",
        "colab_type": "code",
        "colab": {
          "base_uri": "https://localhost:8080/",
          "height": 354
        },
        "outputId": "de377d91-644b-4fdf-8c50-bd4d5ab4dab0"
      },
      "source": [
        "!pip install twilio"
      ],
      "execution_count": 1,
      "outputs": [
        {
          "output_type": "stream",
          "text": [
            "Collecting twilio\n",
            "\u001b[?25l  Downloading https://files.pythonhosted.org/packages/20/3a/5c17dc8fd4feee1853dc394bc84b109350b64cf95c7d4ad3e484c916cc04/twilio-6.45.1.tar.gz (438kB)\n",
            "\r\u001b[K     |▊                               | 10kB 13.3MB/s eta 0:00:01\r\u001b[K     |█▌                              | 20kB 1.5MB/s eta 0:00:01\r\u001b[K     |██▎                             | 30kB 2.2MB/s eta 0:00:01\r\u001b[K     |███                             | 40kB 2.5MB/s eta 0:00:01\r\u001b[K     |███▊                            | 51kB 1.9MB/s eta 0:00:01\r\u001b[K     |████▌                           | 61kB 2.2MB/s eta 0:00:01\r\u001b[K     |█████▎                          | 71kB 2.4MB/s eta 0:00:01\r\u001b[K     |██████                          | 81kB 2.6MB/s eta 0:00:01\r\u001b[K     |██████▊                         | 92kB 2.8MB/s eta 0:00:01\r\u001b[K     |███████▌                        | 102kB 2.7MB/s eta 0:00:01\r\u001b[K     |████████▏                       | 112kB 2.7MB/s eta 0:00:01\r\u001b[K     |█████████                       | 122kB 2.7MB/s eta 0:00:01\r\u001b[K     |█████████▊                      | 133kB 2.7MB/s eta 0:00:01\r\u001b[K     |██████████▌                     | 143kB 2.7MB/s eta 0:00:01\r\u001b[K     |███████████▏                    | 153kB 2.7MB/s eta 0:00:01\r\u001b[K     |████████████                    | 163kB 2.7MB/s eta 0:00:01\r\u001b[K     |████████████▊                   | 174kB 2.7MB/s eta 0:00:01\r\u001b[K     |█████████████▌                  | 184kB 2.7MB/s eta 0:00:01\r\u001b[K     |██████████████▏                 | 194kB 2.7MB/s eta 0:00:01\r\u001b[K     |███████████████                 | 204kB 2.7MB/s eta 0:00:01\r\u001b[K     |███████████████▊                | 215kB 2.7MB/s eta 0:00:01\r\u001b[K     |████████████████▍               | 225kB 2.7MB/s eta 0:00:01\r\u001b[K     |█████████████████▏              | 235kB 2.7MB/s eta 0:00:01\r\u001b[K     |██████████████████              | 245kB 2.7MB/s eta 0:00:01\r\u001b[K     |██████████████████▊             | 256kB 2.7MB/s eta 0:00:01\r\u001b[K     |███████████████████▍            | 266kB 2.7MB/s eta 0:00:01\r\u001b[K     |████████████████████▏           | 276kB 2.7MB/s eta 0:00:01\r\u001b[K     |█████████████████████           | 286kB 2.7MB/s eta 0:00:01\r\u001b[K     |█████████████████████▊          | 296kB 2.7MB/s eta 0:00:01\r\u001b[K     |██████████████████████▍         | 307kB 2.7MB/s eta 0:00:01\r\u001b[K     |███████████████████████▏        | 317kB 2.7MB/s eta 0:00:01\r\u001b[K     |████████████████████████        | 327kB 2.7MB/s eta 0:00:01\r\u001b[K     |████████████████████████▋       | 337kB 2.7MB/s eta 0:00:01\r\u001b[K     |█████████████████████████▍      | 348kB 2.7MB/s eta 0:00:01\r\u001b[K     |██████████████████████████▏     | 358kB 2.7MB/s eta 0:00:01\r\u001b[K     |███████████████████████████     | 368kB 2.7MB/s eta 0:00:01\r\u001b[K     |███████████████████████████▋    | 378kB 2.7MB/s eta 0:00:01\r\u001b[K     |████████████████████████████▍   | 389kB 2.7MB/s eta 0:00:01\r\u001b[K     |█████████████████████████████▏  | 399kB 2.7MB/s eta 0:00:01\r\u001b[K     |██████████████████████████████  | 409kB 2.7MB/s eta 0:00:01\r\u001b[K     |██████████████████████████████▋ | 419kB 2.7MB/s eta 0:00:01\r\u001b[K     |███████████████████████████████▍| 430kB 2.7MB/s eta 0:00:01\r\u001b[K     |████████████████████████████████| 440kB 2.7MB/s \n",
            "\u001b[?25hRequirement already satisfied: six in /usr/local/lib/python3.6/dist-packages (from twilio) (1.15.0)\n",
            "Requirement already satisfied: pytz in /usr/local/lib/python3.6/dist-packages (from twilio) (2018.9)\n",
            "Collecting PyJWT>=1.4.2\n",
            "  Downloading https://files.pythonhosted.org/packages/87/8b/6a9f14b5f781697e51259d81657e6048fd31a113229cf346880bb7545565/PyJWT-1.7.1-py2.py3-none-any.whl\n",
            "Requirement already satisfied: requests>=2.0.0 in /usr/local/lib/python3.6/dist-packages (from twilio) (2.23.0)\n",
            "Requirement already satisfied: idna<3,>=2.5 in /usr/local/lib/python3.6/dist-packages (from requests>=2.0.0->twilio) (2.10)\n",
            "Requirement already satisfied: certifi>=2017.4.17 in /usr/local/lib/python3.6/dist-packages (from requests>=2.0.0->twilio) (2020.6.20)\n",
            "Requirement already satisfied: chardet<4,>=3.0.2 in /usr/local/lib/python3.6/dist-packages (from requests>=2.0.0->twilio) (3.0.4)\n",
            "Requirement already satisfied: urllib3!=1.25.0,!=1.25.1,<1.26,>=1.21.1 in /usr/local/lib/python3.6/dist-packages (from requests>=2.0.0->twilio) (1.24.3)\n",
            "Building wheels for collected packages: twilio\n",
            "  Building wheel for twilio (setup.py) ... \u001b[?25l\u001b[?25hdone\n",
            "  Created wheel for twilio: filename=twilio-6.45.1-py2.py3-none-any.whl size=1158115 sha256=7617b4277203b54585310887716a4b19e33d38bda0e524fc1ef7b15ac2a11b47\n",
            "  Stored in directory: /root/.cache/pip/wheels/b7/2c/e0/eca1ecc36d8ed397cea02238aab8ed3b8fdd861fc94a55dc53\n",
            "Successfully built twilio\n",
            "Installing collected packages: PyJWT, twilio\n",
            "Successfully installed PyJWT-1.7.1 twilio-6.45.1\n"
          ],
          "name": "stdout"
        }
      ]
    },
    {
      "cell_type": "code",
      "metadata": {
        "id": "QxdYQyJT4NSU",
        "colab_type": "code",
        "colab": {}
      },
      "source": [
        "import twilio"
      ],
      "execution_count": 2,
      "outputs": []
    },
    {
      "cell_type": "code",
      "metadata": {
        "id": "L4oFYs-E4NXs",
        "colab_type": "code",
        "colab": {}
      },
      "source": [
        "#Your new Phone Number is +12012989537\n",
        "\n",
        "#ACa7630b95bd1bf75374ef01c34dffdd9c\n",
        "\n",
        "#8583e581f7a64bedf163f9f1e55b215b"
      ],
      "execution_count": null,
      "outputs": []
    },
    {
      "cell_type": "code",
      "metadata": {
        "id": "vtP300eE4NfH",
        "colab_type": "code",
        "colab": {
          "base_uri": "https://localhost:8080/",
          "height": 34
        },
        "outputId": "a07b30c9-7ea6-47ee-b2a7-7b55831304e4"
      },
      "source": [
        "# Download the helper library from https://www.twilio.com/docs/python/install\n",
        "from twilio.rest import Client\n",
        "\n",
        "\n",
        "# Your Account Sid and Auth Token from twilio.com/console\n",
        "# DANGER! This is insecure. See http://twil.io/secure\n",
        "account_sid = 'ACa7630b95bd1bf75374ef01c34dffdd9c'\n",
        "auth_token = '8583e581f7a64bedf163f9f1e55b215b'\n",
        "client = Client(account_sid, auth_token)\n",
        "\n",
        "message = client.messages \\\n",
        "    .create(\n",
        "         body='test message from Sagnik',\n",
        "         from_='+12012989537',\n",
        "         to='+918178335377'\n",
        "     )\n",
        "\n",
        "print(message.sid)"
      ],
      "execution_count": 3,
      "outputs": [
        {
          "output_type": "stream",
          "text": [
            "SMcf0ccced18294c139a54983f58a40839\n"
          ],
          "name": "stdout"
        }
      ]
    },
    {
      "cell_type": "code",
      "metadata": {
        "id": "tl-5SBkO4Nm-",
        "colab_type": "code",
        "colab": {
          "base_uri": "https://localhost:8080/",
          "height": 52
        },
        "outputId": "c81a4a08-2fa1-4a03-a13a-641eed051cd1"
      },
      "source": [
        "import random\n",
        "\n",
        "otp= random.randint(1000, 9999)\n",
        "\n",
        "account_sid = 'ACa7630b95bd1bf75374ef01c34dffdd9c'\n",
        "auth_token = '8583e581f7a64bedf163f9f1e55b215b'\n",
        "client = Client(account_sid, auth_token)\n",
        "\n",
        "message = client.messages \\\n",
        "    .create(\n",
        "         body='your otp is'+ str(otp),\n",
        "         from_='+12012989537',\n",
        "         to='+918178335377'\n",
        "     )\n",
        "\n",
        "print(message.sid)\n",
        "\n",
        "print(otp)"
      ],
      "execution_count": 5,
      "outputs": [
        {
          "output_type": "stream",
          "text": [
            "SM49d99498d4c54ad0b5a3577253d03f24\n",
            "7907\n"
          ],
          "name": "stdout"
        }
      ]
    },
    {
      "cell_type": "code",
      "metadata": {
        "id": "iMZrCZv34NlL",
        "colab_type": "code",
        "colab": {}
      },
      "source": [
        ""
      ],
      "execution_count": null,
      "outputs": []
    }
  ]
}